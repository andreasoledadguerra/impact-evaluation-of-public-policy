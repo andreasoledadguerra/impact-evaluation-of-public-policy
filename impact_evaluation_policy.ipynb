{
 "cells": [
  {
   "cell_type": "code",
   "execution_count": null,
   "id": "6e43eab9",
   "metadata": {},
   "outputs": [],
   "source": [
    "import pandas as pd\n",
    "import numpy as np\n",
    "import matplotlib.pyplot as plt\n",
    "import seaborn as sns\n",
    "import matplotlib.colors as mcolors\n",
    "from scipy.stats import gaussian_kde"
   ]
  },
  {
   "cell_type": "markdown",
   "id": "daf5d474",
   "metadata": {},
   "source": [
    "#### ETAPA 1 : EDA"
   ]
  },
  {
   "cell_type": "code",
   "execution_count": null,
   "id": "3df53343",
   "metadata": {},
   "outputs": [],
   "source": [
    "# Descargamos el dataframe con información de los municipios\n",
    "df_muni = pd.read_excel(\"base_municipios.xlsx\")\n",
    "df_muni.head(5)"
   ]
  },
  {
   "cell_type": "code",
   "execution_count": null,
   "id": "f78857fc",
   "metadata": {},
   "outputs": [],
   "source": [
    "# Descargamos el dataframe con información de los inscriptos al programa\n",
    "df_insc = pd.read_excel(\"ficha_inscriptos.xlsx\")\n",
    "df_insc.head(5)"
   ]
  },
  {
   "cell_type": "code",
   "execution_count": null,
   "id": "4c2585dd",
   "metadata": {},
   "outputs": [],
   "source": [
    "# Descargamos el dataframe con información de los formularios completados por los inscriptos\n",
    "df_form = pd.read_excel(\"formularios_curso.xlsx\")\n",
    "df_form.head(5)"
   ]
  },
  {
   "cell_type": "code",
   "execution_count": null,
   "id": "cdff41f4",
   "metadata": {},
   "outputs": [],
   "source": [
    "# Concatenamos dataframes por columna\n",
    "df_evaluate = pd.concat([df_muni, df_insc, df_form], axis=1)"
   ]
  },
  {
   "cell_type": "code",
   "execution_count": null,
   "id": "b07d80cd",
   "metadata": {},
   "outputs": [],
   "source": [
    "# Chequeamos los nombres de todas las columnas del dataframe concatenado\n",
    "df_evaluate.columns.tolist()"
   ]
  },
  {
   "cell_type": "code",
   "execution_count": null,
   "id": "b0f66959",
   "metadata": {},
   "outputs": [],
   "source": [
    "# Eliminamos columnas prescindibles, como 'municipio'\n",
    "df_evaluate.drop(['municipio'], axis=1, inplace=True)"
   ]
  },
  {
   "cell_type": "markdown",
   "id": "06b9e579",
   "metadata": {},
   "source": [
    "#### ETAPA 2 : Criterio de selección inicial"
   ]
  },
  {
   "cell_type": "code",
   "execution_count": null,
   "id": "b1feb1ed",
   "metadata": {},
   "outputs": [],
   "source": [
    "# Chequeamos los valores únicos que clasifica etapas de inscripción\n",
    "df_evaluate['etapa_inscripcion'].unique()"
   ]
  },
  {
   "cell_type": "code",
   "execution_count": null,
   "id": "3fb74272",
   "metadata": {},
   "outputs": [],
   "source": [
    "# Chequeamos los valores únicos que clasifica estado de la solicitud \n",
    "df_evaluate['state'].unique()"
   ]
  },
  {
   "cell_type": "code",
   "execution_count": null,
   "id": "0af16af9",
   "metadata": {},
   "outputs": [],
   "source": [
    "# Filtramos solo los inscriptos en etapa 1\n",
    "formularios_estudio = df_evaluate[df_evaluate['etapa_inscripcion'] == 1 ]"
   ]
  },
  {
   "cell_type": "code",
   "execution_count": null,
   "id": "5f9702d7",
   "metadata": {},
   "outputs": [],
   "source": [
    "#Filtramos solo los inscriptos en estado solicitud_adjudicada ó solicitud_elegible_rechazadas_por_excedente \n",
    "formularios_estudio[formularios_estudio['state'] == 'solicitud_adjudicada']\n",
    "formularios_estudio[formularios_estudio['state'] =='solicitud_elegible_rechazadas_por_excedente']"
   ]
  },
  {
   "cell_type": "code",
   "execution_count": null,
   "id": "a3fac3bc",
   "metadata": {},
   "outputs": [],
   "source": [
    "# Asignamos variable al filtro de los inscriptos en estado solicitud_adjudicada ó solicitud_elegible_rechazadas_por_excedente\n",
    "filtro = (formularios_estudio['state'] == 'solicitud_adjudicada') | \\\n",
    "         (formularios_estudio['state'] == 'solicitud_elegible_rechazadas_por_excedente')\n",
    "\n",
    "# Creamos el nuevo dataframe aplicando el filtro\n",
    "formularios_estudio = formularios_estudio[filtro]"
   ]
  },
  {
   "cell_type": "code",
   "execution_count": null,
   "id": "f70da429",
   "metadata": {},
   "outputs": [],
   "source": [
    "formularios_estudio"
   ]
  },
  {
   "cell_type": "markdown",
   "id": "bb1fe29c",
   "metadata": {},
   "source": [
    "### ETAPA 3: Cálculo de atributos faltantes (edad)"
   ]
  },
  {
   "cell_type": "code",
   "execution_count": null,
   "id": "c0c8efc7",
   "metadata": {},
   "outputs": [],
   "source": [
    "# Cálculo de edad\n",
    "\n",
    "# Chequeamos la columna 'fecha_carga'\n",
    "formularios_estudio['fecha_carga']"
   ]
  },
  {
   "cell_type": "code",
   "execution_count": null,
   "id": "ba7687cc",
   "metadata": {},
   "outputs": [],
   "source": [
    "#Chequeamos la columna 'fecha_de_nacimiento'\n",
    "formularios_estudio['fecha_de_nacimiento']"
   ]
  },
  {
   "cell_type": "code",
   "execution_count": null,
   "id": "b78fdb61",
   "metadata": {},
   "outputs": [],
   "source": [
    "# Como los valores de cada columna son de distinto tipo de dato, transformamos 'fecha_de_nacimiento' para poder operar \n",
    "formularios_estudio['fecha_de_nacimiento'] = pd.to_datetime(\n",
    "    formularios_estudio['fecha_de_nacimiento'], \n",
    "    errors='coerce'\n",
    ")"
   ]
  },
  {
   "cell_type": "code",
   "execution_count": null,
   "id": "3822c4ae",
   "metadata": {},
   "outputs": [],
   "source": [
    "# Normalizamos quitando hora/minutos/segundo\n",
    "formularios_estudio['fecha_de_nacimiento'] = formularios_estudio['fecha_de_nacimiento'].dt.normalize()"
   ]
  },
  {
   "cell_type": "code",
   "execution_count": null,
   "id": "7f0ad39d",
   "metadata": {},
   "outputs": [],
   "source": [
    "# Obtenemos la diferencia entre 'fecha_de_nacimiento' y 'fecha_carga'\n",
    "edad =  (formularios_estudio['fecha_carga'] - formularios_estudio['fecha_de_nacimiento']).dt.days\n",
    "edad\n"
   ]
  },
  {
   "cell_type": "code",
   "execution_count": null,
   "id": "417c3779",
   "metadata": {},
   "outputs": [],
   "source": [
    "#df_inscriptos_etapa_1['edad'] = edad // 365.25\n",
    "formularios_estudio['edad'] = (edad // 365.25)\n",
    "\n",
    "# Convertir la columna 'edad' a tipo entero y mantiene valores NA\n",
    "formularios_estudio['edad'] = pd.to_numeric(formularios_estudio['edad'], errors='coerce').astype('Int64')"
   ]
  },
  {
   "cell_type": "code",
   "execution_count": null,
   "id": "a83ea901",
   "metadata": {},
   "outputs": [],
   "source": [
    "formularios_estudio['edad']"
   ]
  },
  {
   "cell_type": "markdown",
   "id": "37ee681e",
   "metadata": {},
   "source": [
    "#### ETAPA 4 : Renombramiento"
   ]
  },
  {
   "cell_type": "markdown",
   "id": "3804c103",
   "metadata": {},
   "source": [
    "##### Crear una fila nueva cuyos elementos organice la columna 'state' en dos condiciones: si el valor es 'solicitud_adjudicada', se llamará \"Tratamiento\", de lo contrario, se llamará \"Control\" (es decir, los valores 'desestimado', 'no_admisible', 'admisible_fuera_de_cupo''para_enviar_a_use', 'presentado','solicitud_rechazada_por_falta_de_elegibilidad', 'enviada_a_use','admisible' 'solicitud_elegible_rechazada_por_excedente','solicitud_con_adjudicacion_iniciada' 'solicitud_elegible''solicitud_elegible_rechazadas_por_excedente', estarán en este último grupo)."
   ]
  },
  {
   "cell_type": "code",
   "execution_count": null,
   "id": "d6c749bd",
   "metadata": {},
   "outputs": [],
   "source": [
    "# Hacemos cálculos estadísticos básicos sobre la columna 'ingreso_anual_hogar'\n",
    "ejemplo_agrupaciones_2 = formularios_estudio['ingreso_anual_hogar'].agg(\n",
    "    cantidad='count',\n",
    "    media_ing='mean',\n",
    "    max_ing='max',\n",
    "    min_ing='min',\n",
    "    desvio_ing='std'\n",
    ").to_frame().T"
   ]
  },
  {
   "cell_type": "code",
   "execution_count": null,
   "id": "9036d961",
   "metadata": {},
   "outputs": [],
   "source": [
    "ejemplo_agrupaciones_2"
   ]
  },
  {
   "cell_type": "code",
   "execution_count": null,
   "id": "24a88dda",
   "metadata": {},
   "outputs": [],
   "source": [
    "# Calculamos el coeficiente de variación\n",
    "ejemplo_agrupaciones_3 = formularios_estudio['ingreso_anual_hogar'].agg(\n",
    "    cantidad='count',\n",
    "    media_ing='mean',\n",
    "    desvio_ing='std',\n",
    ").to_frame().T"
   ]
  },
  {
   "cell_type": "code",
   "execution_count": null,
   "id": "0d09a644",
   "metadata": {},
   "outputs": [],
   "source": [
    "ejemplo_agrupaciones_3['%desv_ing'] = (ejemplo_agrupaciones_3['desvio_ing'] / ejemplo_agrupaciones_3['media_ing'] * 100).round(1)"
   ]
  },
  {
   "cell_type": "code",
   "execution_count": null,
   "id": "620dab76",
   "metadata": {},
   "outputs": [],
   "source": [
    "ejemplo_agrupaciones_3"
   ]
  },
  {
   "cell_type": "code",
   "execution_count": null,
   "id": "7a35376e",
   "metadata": {},
   "outputs": [],
   "source": [
    "# el desvío estándar es mucho mayor que la media."
   ]
  },
  {
   "cell_type": "code",
   "execution_count": null,
   "id": "a4a932b0",
   "metadata": {},
   "outputs": [],
   "source": [
    "# Calcula la proporción de género femenino\n",
    "ejemplo_agrupaciones_4 = pd.DataFrame({\n",
    "    '%sexo_f': [(formularios_estudio['sexo_dni'] == 'F').mean()]\n",
    "})"
   ]
  },
  {
   "cell_type": "code",
   "execution_count": null,
   "id": "9ff24c78",
   "metadata": {},
   "outputs": [],
   "source": [
    "ejemplo_agrupaciones_4"
   ]
  },
  {
   "cell_type": "code",
   "execution_count": null,
   "id": "878aaf12",
   "metadata": {},
   "outputs": [],
   "source": [
    "#Análisis total\n",
    "\n",
    "# Implementamos una función para el cálculo de media y desviación estándar\n",
    "def calcular_media_std(df:pd.DataFrame, columna:str):\n",
    "    return (\n",
    "        f'La media de {columna} es {float(round(df[columna].mean(skipna=True), 1))} ',\n",
    "        f'La desviación estándar de {columna} es {float(round((df[columna].std(skipna=True)), 1))}'\n",
    "    )"
   ]
  },
  {
   "cell_type": "code",
   "execution_count": null,
   "id": "7c02cb82",
   "metadata": {},
   "outputs": [],
   "source": [
    "calcular_media_std(formularios_estudio, 'ingreso_anual_hogar')"
   ]
  },
  {
   "cell_type": "code",
   "execution_count": null,
   "id": "6960d755",
   "metadata": {},
   "outputs": [],
   "source": [
    "calcular_media_std(formularios_estudio, 'edad')"
   ]
  },
  {
   "cell_type": "code",
   "execution_count": null,
   "id": "4d810c16",
   "metadata": {},
   "outputs": [],
   "source": [
    "calcular_media_std(formularios_estudio, 'personas_por_ambiente')"
   ]
  },
  {
   "cell_type": "code",
   "execution_count": null,
   "id": "452ffc59",
   "metadata": {},
   "outputs": [],
   "source": [
    "# Implementamos una función para el cálculo de media bajo una condición\n",
    "\n",
    "def calcular_media_condicion(df: pd.DataFrame, columna: str, condicion: str):\n",
    "    proporcion = (df[columna] == condicion).mean(skipna=True)\n",
    "    print(f\" La proporción de la media de {condicion} en {columna} es {round(proporcion, 1)}\")\n",
    "    return round(float(proporcion), 1)"
   ]
  },
  {
   "cell_type": "code",
   "execution_count": null,
   "id": "305ad20b",
   "metadata": {},
   "outputs": [],
   "source": [
    "calcular_media_condicion(formularios_estudio,'sexo_dni', 'F')\n",
    "calcular_media_condicion(formularios_estudio, 'sexo_dni', 'M')\n",
    "calcular_media_condicion(formularios_estudio, 'relacion_de_parentezco_con_jefe_del_hogar', 'Soy jefa(e)')\n",
    "calcular_media_condicion(formularios_estudio, 'conurbano_interior', 'Conurbano')"
   ]
  },
  {
   "cell_type": "code",
   "execution_count": null,
   "id": "881ace3d",
   "metadata": {},
   "outputs": [],
   "source": [
    "#Chequeamos el motivo que de la proporción de la media en 'conurbano_interior'es 0.0\n",
    "(formularios_estudio['conurbano_interior'] == 'Conurbano').value_counts()\n"
   ]
  },
  {
   "cell_type": "code",
   "execution_count": null,
   "id": "9bd82439",
   "metadata": {},
   "outputs": [],
   "source": [
    "vuln = float(round(formularios_estudio['escenario_vulnerabilidad_social'].mean(skipna=True), 1))\n",
    "vuln"
   ]
  },
  {
   "cell_type": "code",
   "execution_count": null,
   "id": "58a330f4",
   "metadata": {},
   "outputs": [],
   "source": [
    "# Se agrupa en 'Tratamiento' si se cumple 'solicitud_adjudicada', y 'control', en caso contrario\n",
    "formularios_estudio['grupo'] = np.where( formularios_estudio['state'] == 'solicitud_adjudicada','Tratamiento', 'Control')\n",
    "\n",
    "formularios_estudio['grupo']"
   ]
  },
  {
   "cell_type": "code",
   "execution_count": null,
   "id": "5baa929c",
   "metadata": {},
   "outputs": [],
   "source": [
    "# Guardar extracción de datos en \"Control\" o \"Tratamiento\"\n",
    "grupo_control = (formularios_estudio['grupo']) == 'Control' # es una serie que devuelve booleanos\n",
    "grupo_tratamiento = (formularios_estudio['grupo']) == 'Tratamiento' # idem"
   ]
  },
  {
   "cell_type": "code",
   "execution_count": null,
   "id": "09627d01",
   "metadata": {},
   "outputs": [],
   "source": [
    "# A cada grupo le damos estructura de dataframe nuevo\n",
    "df_control = formularios_estudio[grupo_control]\n",
    "df_tratamiento = formularios_estudio[grupo_tratamiento]"
   ]
  },
  {
   "cell_type": "code",
   "execution_count": null,
   "id": "5804f3a7",
   "metadata": {},
   "outputs": [],
   "source": [
    "# Se eliminan columnas innecesarias en ambos dataframes\n",
    "df_control_clean = df_control.drop(columns=[\n",
    "    'codigo_municipio', 'codigo_region', 'nombre_region', 'codigo_area',\n",
    "    'nombre_area', 'conurbano_interior', 'seccion_electoral',\n",
    "    'superficie(km2)', 'intendente', 'partido_politico_actual', \n",
    "    'poblacion_censo_2010', 'poblacion_censo_2022'\n",
    "])\n"
   ]
  },
  {
   "cell_type": "code",
   "execution_count": null,
   "id": "c1188115",
   "metadata": {},
   "outputs": [],
   "source": [
    "df_tratamiento_clean = df_tratamiento.drop(columns=[\n",
    "    'codigo_municipio', 'codigo_region', 'nombre_region', 'codigo_area',\n",
    "    'nombre_area', 'conurbano_interior', 'seccion_electoral',\n",
    "    'superficie(km2)', 'intendente', 'partido_politico_actual', \n",
    "    'poblacion_censo_2010', 'poblacion_censo_2022'\n",
    "])"
   ]
  },
  {
   "cell_type": "code",
   "execution_count": null,
   "id": "641ee930",
   "metadata": {},
   "outputs": [],
   "source": [
    "# Creamos nueva función que calcula media y desviación estándar\n",
    "\n",
    "def calcular_media_std_1(df: pd.DataFrame, columna:str):\n",
    "    media = round(df[columna].mean(skipna=True),1)\n",
    "    std = round(df[columna].std(skipna=True),1)\n",
    "    return media, std"
   ]
  },
  {
   "cell_type": "code",
   "execution_count": null,
   "id": "efa355d7",
   "metadata": {},
   "outputs": [],
   "source": [
    "# Creamos una función que utiliza el cálculo anterior, y transformaciones a dataframe\n",
    "def calcular_media_std_lista(df: pd.DataFrame, lista: list):\n",
    "    resultados = {}\n",
    "    for columna in lista:\n",
    "        media, std = calcular_media_std_1(df, columna)\n",
    "        resultados[f'media_{columna}'] = media\n",
    "        resultados[f'desv_{columna}'] = std\n",
    "    return pd.DataFrame([resultados]) # pandas necesita lista de diccionarios\n"
   ]
  },
  {
   "cell_type": "code",
   "execution_count": null,
   "id": "12a6d90a",
   "metadata": {},
   "outputs": [],
   "source": [
    "lista = ['ingreso_anual_hogar', 'edad', 'personas_por_ambiente']\n",
    "calcular_media_std_lista(df_tratamiento_clean, lista)"
   ]
  },
  {
   "cell_type": "code",
   "execution_count": null,
   "id": "f6615c02",
   "metadata": {},
   "outputs": [],
   "source": [
    "lista = ['ingreso_anual_hogar', 'edad', 'personas_por_ambiente']\n",
    "calcular_media_std_lista(df_control_clean, lista)"
   ]
  },
  {
   "cell_type": "code",
   "execution_count": null,
   "id": "828be0db",
   "metadata": {},
   "outputs": [],
   "source": [
    "def calcular_media_condicion(df: pd.DataFrame, dict_condiciones: dict):\n",
    "    resultado = {}\n",
    "    for columna, lista_condiciones in dict_condiciones.items():\n",
    "        for condicion in lista_condiciones:\n",
    "            proporcion = (df[columna] == condicion).mean(skipna=True)\n",
    "            resultado[f'media_{columna}_{condicion}'] = round(proporcion,1)\n",
    "    return pd.DataFrame([resultado])"
   ]
  },
  {
   "cell_type": "code",
   "execution_count": null,
   "id": "175cbc55",
   "metadata": {},
   "outputs": [],
   "source": [
    "dict_condiciones = {\n",
    "    'sexo_dni': ['F','M'],\n",
    "    'relacion_de_parentezco_con_jefe_del_hogar': ['Soy jefa(e)']\n",
    "}\n",
    "\n",
    "calcular_media_condicion(df_tratamiento_clean, dict_condiciones)"
   ]
  },
  {
   "cell_type": "code",
   "execution_count": null,
   "id": "84ef51ff",
   "metadata": {},
   "outputs": [],
   "source": [
    "calcular_media_condicion(df_control_clean, dict_condiciones)"
   ]
  },
  {
   "cell_type": "code",
   "execution_count": null,
   "id": "635d9bd2",
   "metadata": {},
   "outputs": [],
   "source": [
    "# Resetear los índices de cada dataframe por muestra"
   ]
  },
  {
   "cell_type": "code",
   "execution_count": null,
   "id": "bced7f96",
   "metadata": {},
   "outputs": [],
   "source": [
    "# Grupo tratamiento\n",
    "\n",
    "df_media_tratamiento = calcular_media_condicion(df_tratamiento_clean, dict_condiciones)\n",
    "df_media_std_tratamiento = calcular_media_std_lista(df_tratamiento_clean,lista)\n",
    "\n",
    "df1 = df_media_tratamiento.reset_index(drop=True)\n",
    "df2 = df_media_std_tratamiento.reset_index(drop=True)"
   ]
  },
  {
   "cell_type": "code",
   "execution_count": null,
   "id": "8baa4324",
   "metadata": {},
   "outputs": [],
   "source": [
    "df_tratamiento_total = pd.concat([df1, df2], axis=1)"
   ]
  },
  {
   "cell_type": "code",
   "execution_count": null,
   "id": "00f3f2f7",
   "metadata": {},
   "outputs": [],
   "source": [
    "df_tratamiento_total"
   ]
  },
  {
   "cell_type": "code",
   "execution_count": null,
   "id": "b03345d4",
   "metadata": {},
   "outputs": [],
   "source": [
    "# Grupo control\n",
    "\n",
    "df_media_control = calcular_media_condicion(df_control_clean, dict_condiciones)\n",
    "df_media_std_control = calcular_media_std_lista(df_control_clean,lista)\n",
    "\n",
    "df3 = df_media_control.reset_index(drop=True)\n",
    "df4 = df_media_std_control.reset_index(drop=True)\n"
   ]
  },
  {
   "cell_type": "code",
   "execution_count": null,
   "id": "3117b82d",
   "metadata": {},
   "outputs": [],
   "source": [
    "df_control_total = pd.concat([df3, df4], axis=1)\n",
    "df_control_total"
   ]
  },
  {
   "cell_type": "code",
   "execution_count": null,
   "id": "43db88f5",
   "metadata": {},
   "outputs": [],
   "source": [
    "df_analisis = pd.concat([df_tratamiento_total, df_control_total], axis=0)\n",
    "df_analisis\n"
   ]
  },
  {
   "cell_type": "code",
   "execution_count": null,
   "id": "467c7d0e",
   "metadata": {},
   "outputs": [],
   "source": [
    "vuln_control = float(round(df_control_clean['escenario_vulnerabilidad_social'].mean(skipna=True), 1))\n",
    "vuln_control"
   ]
  },
  {
   "cell_type": "code",
   "execution_count": null,
   "id": "ebeb0f71",
   "metadata": {},
   "outputs": [],
   "source": [
    "fila_vuln_c = pd.DataFrame({'escenario_vulnerabilidad_social': [vuln_control]}, index= [1])\n",
    "fila_vuln_c"
   ]
  },
  {
   "cell_type": "code",
   "execution_count": null,
   "id": "7a82c7e1",
   "metadata": {},
   "outputs": [],
   "source": [
    "vuln_tratamiento = float(round(df_tratamiento_clean['escenario_vulnerabilidad_social'].mean(skipna=True), 1))\n",
    "vuln_tratamiento"
   ]
  },
  {
   "cell_type": "code",
   "execution_count": null,
   "id": "93c6c48b",
   "metadata": {},
   "outputs": [],
   "source": [
    "fila_vuln_t = pd.DataFrame({'escenario_vulnerabilidad_social': [vuln_tratamiento]}, index= [1])\n",
    "fila_vuln_t"
   ]
  },
  {
   "cell_type": "code",
   "execution_count": null,
   "id": "51476055",
   "metadata": {},
   "outputs": [],
   "source": [
    "df_vuln = pd.concat([fila_vuln_t, fila_vuln_c], axis=0)"
   ]
  },
  {
   "cell_type": "code",
   "execution_count": null,
   "id": "0e1f9f1a",
   "metadata": {},
   "outputs": [],
   "source": [
    "df_analisis = df_analisis.reset_index(drop=True)"
   ]
  },
  {
   "cell_type": "code",
   "execution_count": null,
   "id": "0e987331",
   "metadata": {},
   "outputs": [],
   "source": [
    "df_vuln = df_vuln.reset_index(drop=True)"
   ]
  },
  {
   "cell_type": "code",
   "execution_count": null,
   "id": "c0e31a75",
   "metadata": {},
   "outputs": [],
   "source": [
    "df_analisis_total = pd.concat([df_analisis, df_vuln], axis= 1)"
   ]
  },
  {
   "cell_type": "code",
   "execution_count": null,
   "id": "c45a4267",
   "metadata": {},
   "outputs": [],
   "source": [
    "df_analisis_total"
   ]
  },
  {
   "cell_type": "code",
   "execution_count": null,
   "id": "8430eb0e",
   "metadata": {},
   "outputs": [],
   "source": [
    "# Agregamos una columna nueva para aclarar las muestras\n",
    "df_analisis_total.insert(loc=0, column='Grupo', value=['Tratamiento', 'Control'])"
   ]
  },
  {
   "cell_type": "code",
   "execution_count": null,
   "id": "c23ba6fd",
   "metadata": {},
   "outputs": [],
   "source": [
    "df_analisis_total"
   ]
  },
  {
   "cell_type": "code",
   "execution_count": null,
   "id": "0e846d8c",
   "metadata": {},
   "outputs": [],
   "source": [
    "# Crear vector de identificadores\n",
    "\n"
   ]
  },
  {
   "cell_type": "markdown",
   "id": "fce29640",
   "metadata": {},
   "source": [
    "#### ETAPA 5: PLOT de Distribución de edad por estado\""
   ]
  },
  {
   "cell_type": "code",
   "execution_count": null,
   "id": "745f90c0",
   "metadata": {},
   "outputs": [],
   "source": [
    "# Configurar bins\n",
    "bins = np.arange(0, 95, 5)\n",
    "bin_labels = [f'{i}-{i+5}' for i in bins[:-1]]\n",
    "\n",
    "# Paleta categórica apta para daltónicos\n",
    "palette = sns.color_palette(\"colorblind\", len(bins) - 1)\n",
    "\n",
    "# Crear figura\n",
    "fig, axes = plt.subplots(1, 2, figsize=(14, 6), sharey=True)\n",
    "grupos = ['Control', 'Tratamiento']\n",
    "\n",
    "# Limpiar valores fuera del rango lógico (0 a 100)\n",
    "formularios_estudio = formularios_estudio[(formularios_estudio['edad'] >= 0) & (formularios_estudio['edad'] <= 100)]\n",
    "\n",
    "for i, grupo in enumerate(grupos):\n",
    "    ax = axes[i]\n",
    "    subset = formularios_estudio[formularios_estudio['grupo'] == grupo]\n",
    "    edades = subset['edad']\n",
    "\n",
    "    # Asignar edades a bins\n",
    "    bin_indices = np.digitize(edades, bins) - 1\n",
    "    bin_indices = np.clip(bin_indices, 0, len(palette) - 1)  # Evitar out of range\n",
    "    \n",
    "    # Contar frecuencias por bin\n",
    "    counts = np.zeros(len(bins) - 1)\n",
    "    for idx in bin_indices:\n",
    "        counts[idx] += 1\n",
    "    \n",
    "    # Dibujar barras para asignar color categórico\n",
    "    for j, count in enumerate(counts):\n",
    "        ax.bar(bins[j], count, width=5, align='edge',\n",
    "               color=palette[j], edgecolor='white', linewidth=1.2)\n",
    "    \n",
    "    # mediana\n",
    "    mediana = np.median(edades)\n",
    "    ax.axvline(mediana, color='black', linestyle='--', linewidth=2, label=f'Mediana: {mediana:.1f}')\n",
    "    \n",
    "    # Estética\n",
    "    ax.set_title(f'Distribución de Edad - {grupo}', fontsize=14)\n",
    "    ax.set_xlabel('Edad', fontsize=12)\n",
    "    ax.set_xlim(0, 90)\n",
    "    ax.set_xticks(np.arange(0, 95, 10))\n",
    "    ax.grid(axis='y', linestyle='--', alpha=0.6)\n",
    "    if i == 0:\n",
    "        ax.set_ylabel('Frecuencia', fontsize=12)\n",
    "    ax.legend(frameon=True)\n",
    "\n",
    "# Crear leyenda de colores por bin\n",
    "handles = [plt.Rectangle((0,0),1,1, color=palette[i]) for i in range(len(bin_labels))]\n",
    "fig.legend(handles, bin_labels, title='Rango Etario', bbox_to_anchor=(1.05, 0.5), loc='center left')\n",
    "\n",
    "# Título\n",
    "plt.suptitle('Distribución de Edad por Grupo', fontsize=16, y=1.03)\n",
    "plt.tight_layout()\n",
    "plt.subplots_adjust(right=0.85)\n",
    "\n",
    "plt.show()"
   ]
  },
  {
   "cell_type": "code",
   "execution_count": null,
   "id": "9c2c7a54",
   "metadata": {},
   "outputs": [],
   "source": [
    "# Configurar bins\n",
    "bins = np.arange(0, 95, 5)\n",
    "bin_labels = [f'{i}-{i+5}' for i in bins[:-1]]\n",
    "\n",
    "# Paleta categórica apta para daltónicos\n",
    "palette = sns.color_palette(\"colorblind\", len(bins) - 1)\n",
    "\n",
    "# Crear figura\n",
    "fig, axes = plt.subplots(1, 2, figsize=(14, 6), sharey=True)\n",
    "grupos = ['Control', 'Tratamiento']\n",
    "\n",
    "# Limpiar valores fuera del rango lógico (0 a 100)\n",
    "formularios_estudio = formularios_estudio[(formularios_estudio['edad'] >= 0) & (formularios_estudio['edad'] <= 100)]\n",
    "\n",
    "for i, grupo in enumerate(grupos):\n",
    "    ax = axes[i]\n",
    "    subset = formularios_estudio[formularios_estudio['grupo'] == grupo]\n",
    "    edades = subset['edad']\n",
    "\n",
    "    \n",
    "    # Asignar edades a bins\n",
    "    bin_indices = np.digitize(edades, bins) - 1\n",
    "    bin_indices = np.clip(bin_indices, 0, len(palette) - 1)  # Evitar out of range\n",
    "    \n",
    "    # Contar frecuencias por bin\n",
    "    counts = np.zeros(len(bins) - 1)\n",
    "    for idx in bin_indices:\n",
    "        counts[idx] += 1\n",
    "    \n",
    "\n",
    "    # Dibujar barras para asignar color categórico\n",
    "    for j, count in enumerate(counts):\n",
    "        ax.bar(bins[j], count, width=5, align='edge',\n",
    "               color=palette[j], edgecolor='white', linewidth=1.2)\n",
    "\n",
    "\n",
    "\n",
    "    # KDE suavizada \n",
    "    kde = gaussian_kde(edades, bw_method='scott')  \n",
    "    x_vals = np.linspace(min(edades), max(edades), 200)\n",
    "    y_vals = kde(x_vals)\n",
    "\n",
    "    # Escalar la KDE a frecuencia absoluta\n",
    "    bin_width = bins[1] - bins[0]\n",
    "    y_vals *= len(edades) * bin_width\n",
    "\n",
    "    ax.plot(x_vals, y_vals, color='deeppink', linewidth=2, label='KDE')\n",
    "\n",
    "\n",
    "    # mediana\n",
    "    mediana = np.median(edades)\n",
    "    ax.axvline(mediana, color='black', linestyle='--', linewidth=2, label=f'Mediana: {mediana:.1f}')\n",
    "    \n",
    "    # Estética\n",
    "    ax.set_title(f'Distribución de Edad - {grupo}', fontsize=14)\n",
    "    ax.set_xlabel('Edad', fontsize=12)\n",
    "    ax.set_xlim(0, 90)\n",
    "    ax.set_xticks(np.arange(0, 95, 10))\n",
    "    ax.grid(axis='y', linestyle='--', alpha=0.6)\n",
    "    if i == 0:\n",
    "        ax.set_ylabel('Frecuencia', fontsize=12)\n",
    "    ax.legend(frameon=True)\n",
    "\n",
    "# Crear leyenda de colores por bin\n",
    "handles = [plt.Rectangle((0,0),1,1, color=palette[i]) for i in range(len(bin_labels))]\n",
    "fig.legend(handles, bin_labels, title='Rango Etario', bbox_to_anchor=(1.05, 0.5), loc='center left')\n",
    "\n",
    "# Título\n",
    "plt.suptitle('Distribución de Edad por Grupo', fontsize=16, y=1.03)\n",
    "plt.tight_layout()\n",
    "plt.subplots_adjust(right=0.85)\n",
    "\n",
    "plt.show()"
   ]
  },
  {
   "cell_type": "code",
   "execution_count": null,
   "id": "810037f2",
   "metadata": {},
   "outputs": [],
   "source": [
    "# Configurar bins\n",
    "bins = np.arange(0, 95, 5)\n",
    "bin_labels = [f'{i}-{i+5}' for i in bins[:-1]]\n",
    "\n",
    "# Paleta categórica apta para daltónicos\n",
    "palette = sns.color_palette(\"colorblind\", len(bins) - 1)\n",
    "\n",
    "# Crear figura\n",
    "fig, axes = plt.subplots(1, 2, figsize=(14, 6), sharey=True)\n",
    "grupos = ['Control', 'Tratamiento']\n",
    "\n",
    "# Limpiar valores fuera del rango lógico (0 a 100)\n",
    "formularios_estudio = formularios_estudio[(formularios_estudio['edad'] >= 0) & (formularios_estudio['edad'] <= 100)]\n",
    "\n",
    "colores_kde = ['#FF7F50', '#6A5ACD']\n",
    "\n",
    "for i, grupo in enumerate(grupos):\n",
    "    ax = axes[i]\n",
    "    subset = formularios_estudio[formularios_estudio['grupo'] == grupo]\n",
    "    edades = subset['edad']\n",
    "         \n",
    "    # Asignar edades a bins\n",
    "    bin_indices = np.digitize(edades, bins) - 1\n",
    "    bin_indices = np.clip(bin_indices, 0, len(palette) - 1)  # Evitar out of range\n",
    "    \n",
    "    # Contar frecuencias por bin\n",
    "    counts = np.zeros(len(bins) - 1)\n",
    "    for idx in bin_indices:\n",
    "        counts[idx] += 1\n",
    "    \n",
    "    # Dibujar barras para asignar color categórico\n",
    "    for j, count in enumerate(counts):\n",
    "        ax.bar(bins[j], count, width=5, align='edge',\n",
    "               color=palette[j], edgecolor='white', linewidth=1.2)\n",
    "\n",
    "\n",
    "    # KDE suavizada \n",
    "    kde = gaussian_kde(edades, bw_method='scott')  \n",
    "    x_vals = np.linspace(min(edades), max(edades), 200)\n",
    "    y_vals = kde(x_vals)\n",
    "\n",
    "    # Escalar la KDE a frecuencia absoluta\n",
    "    bin_width = bins[1] - bins[0]\n",
    "    y_vals *= len(edades) * bin_width\n",
    "\n",
    "    ax.plot(x_vals, y_vals, color='deeppink', linewidth=2, label='KDE')\n",
    "\n",
    "    #KDE área\n",
    "    ax.fill_between(x_vals, y_vals, color=colores_kde[i], alpha=0.8, label='Área KDE')\n",
    "\n",
    "\n",
    "    # mediana\n",
    "    mediana = np.median(edades)\n",
    "    ax.axvline(mediana, color='black', linestyle='--', linewidth=2, label=f'Mediana: {mediana:.1f}')\n",
    "    \n",
    "    # Estética\n",
    "    ax.set_title(f'Distribución de Edad - {grupo}', fontsize=14)\n",
    "    ax.set_xlabel('Edad', fontsize=12)\n",
    "    ax.set_xlim(0, 90)\n",
    "    ax.set_xticks(np.arange(0, 95, 10))\n",
    "    ax.grid(axis='y', linestyle='--', alpha=0.6)\n",
    "    if i == 0:\n",
    "        ax.set_ylabel('Frecuencia', fontsize=12)\n",
    "    ax.legend(frameon=True)\n",
    "\n",
    "# Crear leyenda de colores por bin\n",
    "handles = [plt.Rectangle((0,0),1,1, color=palette[i]) for i in range(len(bin_labels))]\n",
    "fig.legend(handles, bin_labels, title='Rango Etario', bbox_to_anchor=(1.05, 0.5), loc='center left')\n",
    "\n",
    "# Título\n",
    "plt.suptitle('Distribución de Edad por Grupo', fontsize=16, y=1.03)\n",
    "plt.tight_layout()\n",
    "plt.subplots_adjust(right=0.85)\n",
    "\n",
    "plt.show()"
   ]
  },
  {
   "cell_type": "code",
   "execution_count": null,
   "id": "e8dab11d",
   "metadata": {},
   "outputs": [],
   "source": [
    "# mostrar plot de áreas KDE superpuestas"
   ]
  },
  {
   "cell_type": "markdown",
   "id": "358e246d",
   "metadata": {},
   "source": [
    "#### ETAPA 6 : MUESTRAS ALEATORIAS SIMPLES"
   ]
  },
  {
   "cell_type": "code",
   "execution_count": null,
   "id": "b224543c",
   "metadata": {},
   "outputs": [],
   "source": [
    "# Crear una función para calcular muestra\n",
    "def muestra_aleatoria_simple(df= pd.DataFrame, n=int, seed=42 ):\n",
    "    return df.sample(n=n,random_state=seed)"
   ]
  },
  {
   "cell_type": "code",
   "execution_count": null,
   "id": "473d80fe",
   "metadata": {},
   "outputs": [],
   "source": [
    "# Generar muestras aleatorias del grupo control y tratamiento \n",
    "mas_control = muestra_aleatoria_simple(df_control_clean, 1000)\n",
    "mas_tratamiento = muestra_aleatoria_simple (df_tratamiento_clean,1000)"
   ]
  },
  {
   "cell_type": "code",
   "execution_count": null,
   "id": "23e40358",
   "metadata": {},
   "outputs": [],
   "source": [
    "#Se combinan los resultados de las 1000 muestras del grupo Tratamiento con las del grupo Control\n",
    "muestra_combinada = pd.concat([mas_control, mas_tratamiento], ignore_index=True)\n",
    "muestra_combinada"
   ]
  },
  {
   "cell_type": "code",
   "execution_count": null,
   "id": "55cf7340",
   "metadata": {},
   "outputs": [],
   "source": [
    "#Evaluar qué tan representativa es cada muestra usando bootstrapping\n",
    "# Grupo Control\n",
    "bootstrap_meds_c = []\n",
    "for i in range(10000):\n",
    "    sample = df_control_clean.sample(n=len(mas_control), replace=True)\n",
    "    bootstrap_meds_c.append(sample['ingreso_anual_hogar'].mean())"
   ]
  },
  {
   "cell_type": "code",
   "execution_count": null,
   "id": "b4d9cd54",
   "metadata": {},
   "outputs": [],
   "source": [
    "bootstrap_meds_c"
   ]
  },
  {
   "cell_type": "code",
   "execution_count": null,
   "id": "7e201bc9",
   "metadata": {},
   "outputs": [],
   "source": [
    " # Grupo Tratamiento\n",
    "bootstrap_meds_t = []\n",
    "for i in range(10000):\n",
    "    sample = df_tratamiento_clean.sample(n=len(mas_tratamiento), replace=True)\n",
    "    bootstrap_meds_t.append(sample['ingreso_anual_hogar'].mean())"
   ]
  },
  {
   "cell_type": "code",
   "execution_count": null,
   "id": "7b2a3990",
   "metadata": {},
   "outputs": [],
   "source": [
    "bootstrap_meds_t"
   ]
  },
  {
   "cell_type": "code",
   "execution_count": null,
   "id": "5fd6482c",
   "metadata": {},
   "outputs": [],
   "source": [
    "#Calcular la media poblacional\n",
    "media_poblacional = formularios_estudio['ingreso_anual_hogar'].mean()\n",
    "media_poblacional"
   ]
  },
  {
   "cell_type": "code",
   "execution_count": null,
   "id": "66edf2b6",
   "metadata": {},
   "outputs": [],
   "source": [
    "# Coeficiente de representatividad de la muestra\n",
    "    #Calcular la media del bootstrap_meds_c y el error relativo\n",
    "\n",
    "media_bootstrap_c = np.mean(bootstrap_meds_c)"
   ]
  },
  {
   "cell_type": "code",
   "execution_count": null,
   "id": "36ba0161",
   "metadata": {},
   "outputs": [],
   "source": [
    "# Error absoluto\n",
    "error_absoluto_c = abs(media_bootstrap_c - media_poblacional)"
   ]
  },
  {
   "cell_type": "code",
   "execution_count": null,
   "id": "4bb51148",
   "metadata": {},
   "outputs": [],
   "source": [
    "# Error relativo\n",
    "error_relativo_c = error_absoluto_c / media_poblacional\n",
    "error_relativo_c"
   ]
  },
  {
   "cell_type": "code",
   "execution_count": null,
   "id": "d27795f8",
   "metadata": {},
   "outputs": [],
   "source": [
    "#Calcular la media del bootstrap_meds_t y el error relativo\n",
    "media_bootstrap_t = np.mean(bootstrap_meds_t)"
   ]
  },
  {
   "cell_type": "code",
   "execution_count": null,
   "id": "dd830b56",
   "metadata": {},
   "outputs": [],
   "source": [
    "# Error absoluto\n",
    "error_absoluto_t = abs(media_bootstrap_t - media_poblacional)"
   ]
  },
  {
   "cell_type": "code",
   "execution_count": null,
   "id": "9dd7b067",
   "metadata": {},
   "outputs": [],
   "source": [
    "# Error relativo\n",
    "error_relativo_t = error_absoluto_t / media_poblacional\n",
    "error_relativo_t"
   ]
  },
  {
   "cell_type": "code",
   "execution_count": null,
   "id": "cdd991fe",
   "metadata": {},
   "outputs": [],
   "source": [
    "resultados_totales = pd.concat([bootstrap_meds_c, bootstrap_meds_t], ignore_index=True)"
   ]
  },
  {
   "cell_type": "code",
   "execution_count": null,
   "id": "44d2a3e4",
   "metadata": {},
   "outputs": [],
   "source": [
    "# Elegir la muestra más representativa por grupo\n",
    "\n",
    "#mejores_resultados = resultados_totales.loc[\n",
    "#    resultados_totales.groupby(\"grupo\")[\"ev_med_ingreso\"].idxmin()\n",
    "#].reset_index(drop=True)\n"
   ]
  },
  {
   "cell_type": "code",
   "execution_count": null,
   "id": "31ae735e",
   "metadata": {},
   "outputs": [],
   "source": [
    "# Unir al análisis total para comparar\n",
    "\n",
    "#analisis_total[\"grupo\"] = \"Total\"\n",
    "\n",
    "#total_optimizado = pd.concat([analisis_total, mejores_resultados], ignore_index=True)\n",
    "#total_optimizado = total_optimizado[[\"grupo\", \"cantidad\", \"med_ing\", \"ev_med_ingreso\"]]"
   ]
  },
  {
   "cell_type": "code",
   "execution_count": null,
   "id": "59cd0fe2",
   "metadata": {},
   "outputs": [],
   "source": [
    "# Mostrar tabla resumida\n",
    "\n",
    "#print(total_optimizado.round(6).to_markdown(index=False))"
   ]
  },
  {
   "cell_type": "code",
   "execution_count": null,
   "id": "9877736c",
   "metadata": {},
   "outputs": [],
   "source": [
    "# Convertir la lista de identificadores en texto plano"
   ]
  },
  {
   "cell_type": "code",
   "execution_count": null,
   "id": "a87013cd",
   "metadata": {},
   "outputs": [],
   "source": [
    "# Descargamos el dataframe con información de los mejores resultados\n",
    "df_mejores_resultados = pd.read_excel(\"mejores_resultados.xlsx\")\n",
    "df_mejores_resultados.head(5)"
   ]
  },
  {
   "cell_type": "code",
   "execution_count": null,
   "id": "3085aa83",
   "metadata": {},
   "outputs": [],
   "source": [
    "# Descargamos el archivo de la nueva encuesta a hogares\n",
    "df_nueva_encuesta = pd.read_excel(\"nueva_encuesta_situacion_hogar.xlsx\")\n",
    "df_nueva_encuesta.head(5)"
   ]
  },
  {
   "cell_type": "code",
   "execution_count": null,
   "id": "b3fc0e15",
   "metadata": {},
   "outputs": [],
   "source": []
  },
  {
   "cell_type": "code",
   "execution_count": null,
   "id": "fa3ad340",
   "metadata": {},
   "outputs": [],
   "source": []
  }
 ],
 "metadata": {
  "kernelspec": {
   "display_name": "env",
   "language": "python",
   "name": "python3"
  },
  "language_info": {
   "codemirror_mode": {
    "name": "ipython",
    "version": 3
   },
   "file_extension": ".py",
   "mimetype": "text/x-python",
   "name": "python",
   "nbconvert_exporter": "python",
   "pygments_lexer": "ipython3",
   "version": "3.10.12"
  }
 },
 "nbformat": 4,
 "nbformat_minor": 5
}
