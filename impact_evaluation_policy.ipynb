{
 "cells": [
  {
   "cell_type": "code",
   "execution_count": 3,
   "id": "6e43eab9",
   "metadata": {},
   "outputs": [],
   "source": [
    "import pandas as pd\n",
    "import numpy as np\n",
    "import matplotlib.pyplot as plt\n",
    "import seaborn as sns\n",
    "import matplotlib.colors as mcolors\n",
    "\n",
    "from matplotlib import colors\n",
    "from matplotlib.ticker import PercentFormatter"
   ]
  },
  {
   "cell_type": "markdown",
   "id": "daf5d474",
   "metadata": {},
   "source": [
    "ETAPA 1 : EDA"
   ]
  },
  {
   "cell_type": "code",
   "execution_count": 4,
   "id": "3df53343",
   "metadata": {},
   "outputs": [
    {
     "data": {
      "text/html": [
       "<div>\n",
       "<style scoped>\n",
       "    .dataframe tbody tr th:only-of-type {\n",
       "        vertical-align: middle;\n",
       "    }\n",
       "\n",
       "    .dataframe tbody tr th {\n",
       "        vertical-align: top;\n",
       "    }\n",
       "\n",
       "    .dataframe thead th {\n",
       "        text-align: right;\n",
       "    }\n",
       "</style>\n",
       "<table border=\"1\" class=\"dataframe\">\n",
       "  <thead>\n",
       "    <tr style=\"text-align: right;\">\n",
       "      <th></th>\n",
       "      <th>codigo_municipio</th>\n",
       "      <th>municipio</th>\n",
       "      <th>codigo_region</th>\n",
       "      <th>nombre_region</th>\n",
       "      <th>codigo_area</th>\n",
       "      <th>nombre_area</th>\n",
       "      <th>conurbano_interior</th>\n",
       "      <th>seccion_electoral</th>\n",
       "      <th>superficie(km2)</th>\n",
       "      <th>intendente</th>\n",
       "      <th>partido_politico_actual</th>\n",
       "      <th>poblacion_censo_2010</th>\n",
       "      <th>poblacion_censo_2022</th>\n",
       "    </tr>\n",
       "  </thead>\n",
       "  <tbody>\n",
       "    <tr>\n",
       "      <th>0</th>\n",
       "      <td>1</td>\n",
       "      <td>Adolfo Alsina</td>\n",
       "      <td>3</td>\n",
       "      <td>NOROESTE</td>\n",
       "      <td>3</td>\n",
       "      <td>NOROESTE</td>\n",
       "      <td>Interior</td>\n",
       "      <td>6</td>\n",
       "      <td>5881.6</td>\n",
       "      <td>Javier Andrés</td>\n",
       "      <td>Juntos por el Cambio</td>\n",
       "      <td>17072.0</td>\n",
       "      <td>17552</td>\n",
       "    </tr>\n",
       "    <tr>\n",
       "      <th>1</th>\n",
       "      <td>51</td>\n",
       "      <td>Adolfo Gonzáles Cháves</td>\n",
       "      <td>9</td>\n",
       "      <td>SURESTE</td>\n",
       "      <td>8</td>\n",
       "      <td>CENTRO SUR</td>\n",
       "      <td>Interior</td>\n",
       "      <td>6</td>\n",
       "      <td>3788.7</td>\n",
       "      <td>Miriam Lucía Gomez</td>\n",
       "      <td>Juntos por el Cambio</td>\n",
       "      <td>12047.0</td>\n",
       "      <td>12914</td>\n",
       "    </tr>\n",
       "    <tr>\n",
       "      <th>2</th>\n",
       "      <td>2</td>\n",
       "      <td>Alberti</td>\n",
       "      <td>2</td>\n",
       "      <td>NORTE</td>\n",
       "      <td>5</td>\n",
       "      <td>CENTRO NORTE</td>\n",
       "      <td>Interior</td>\n",
       "      <td>4</td>\n",
       "      <td>1122.6</td>\n",
       "      <td>Germán Lago</td>\n",
       "      <td>Unión por la Patria</td>\n",
       "      <td>10654.0</td>\n",
       "      <td>12982</td>\n",
       "    </tr>\n",
       "    <tr>\n",
       "      <th>3</th>\n",
       "      <td>3</td>\n",
       "      <td>Alte. Brown</td>\n",
       "      <td>5</td>\n",
       "      <td>RMBA</td>\n",
       "      <td>15</td>\n",
       "      <td>RMBA SUR</td>\n",
       "      <td>Conurbano</td>\n",
       "      <td>3</td>\n",
       "      <td>129.3</td>\n",
       "      <td>Mariano Cascallares</td>\n",
       "      <td>Unión por la Patria</td>\n",
       "      <td>552902.0</td>\n",
       "      <td>584827</td>\n",
       "    </tr>\n",
       "    <tr>\n",
       "      <th>4</th>\n",
       "      <td>10</td>\n",
       "      <td>Arrecifes</td>\n",
       "      <td>2</td>\n",
       "      <td>NORTE</td>\n",
       "      <td>2</td>\n",
       "      <td>NORTE</td>\n",
       "      <td>Interior</td>\n",
       "      <td>2</td>\n",
       "      <td>1243.8</td>\n",
       "      <td>Juan Fernando Bouvier</td>\n",
       "      <td>Juntos por el Cambio</td>\n",
       "      <td>29044.0</td>\n",
       "      <td>32215</td>\n",
       "    </tr>\n",
       "  </tbody>\n",
       "</table>\n",
       "</div>"
      ],
      "text/plain": [
       "   codigo_municipio               municipio  codigo_region nombre_region  \\\n",
       "0                 1           Adolfo Alsina              3      NOROESTE   \n",
       "1                51  Adolfo Gonzáles Cháves              9       SURESTE   \n",
       "2                 2                 Alberti              2         NORTE   \n",
       "3                 3             Alte. Brown              5          RMBA   \n",
       "4                10               Arrecifes              2         NORTE   \n",
       "\n",
       "   codigo_area   nombre_area conurbano_interior  seccion_electoral  \\\n",
       "0            3      NOROESTE           Interior                  6   \n",
       "1            8    CENTRO SUR           Interior                  6   \n",
       "2            5  CENTRO NORTE           Interior                  4   \n",
       "3           15      RMBA SUR          Conurbano                  3   \n",
       "4            2         NORTE           Interior                  2   \n",
       "\n",
       "   superficie(km2)             intendente partido_politico_actual  \\\n",
       "0           5881.6          Javier Andrés    Juntos por el Cambio   \n",
       "1           3788.7     Miriam Lucía Gomez    Juntos por el Cambio   \n",
       "2           1122.6            Germán Lago     Unión por la Patria   \n",
       "3            129.3    Mariano Cascallares     Unión por la Patria   \n",
       "4           1243.8  Juan Fernando Bouvier    Juntos por el Cambio   \n",
       "\n",
       "   poblacion_censo_2010  poblacion_censo_2022  \n",
       "0               17072.0                 17552  \n",
       "1               12047.0                 12914  \n",
       "2               10654.0                 12982  \n",
       "3              552902.0                584827  \n",
       "4               29044.0                 32215  "
      ]
     },
     "execution_count": 4,
     "metadata": {},
     "output_type": "execute_result"
    }
   ],
   "source": [
    "# Descargamos el dataframe con información de los municipios\n",
    "df_muni = pd.read_excel(\"base_municipios.xlsx\")\n",
    "df_muni.head(5)"
   ]
  },
  {
   "cell_type": "code",
   "execution_count": 8,
   "id": "f78857fc",
   "metadata": {},
   "outputs": [
    {
     "data": {
      "text/html": [
       "<div>\n",
       "<style scoped>\n",
       "    .dataframe tbody tr th:only-of-type {\n",
       "        vertical-align: middle;\n",
       "    }\n",
       "\n",
       "    .dataframe tbody tr th {\n",
       "        vertical-align: top;\n",
       "    }\n",
       "\n",
       "    .dataframe thead th {\n",
       "        text-align: right;\n",
       "    }\n",
       "</style>\n",
       "<table border=\"1\" class=\"dataframe\">\n",
       "  <thead>\n",
       "    <tr style=\"text-align: right;\">\n",
       "      <th></th>\n",
       "      <th>id</th>\n",
       "      <th>activo</th>\n",
       "      <th>state</th>\n",
       "      <th>criterios_priorizacion</th>\n",
       "      <th>created_at</th>\n",
       "      <th>updated_at</th>\n",
       "      <th>es_duplicado</th>\n",
       "      <th>fecha_solicitud</th>\n",
       "      <th>estado_priorizacion</th>\n",
       "      <th>criterios_aceptacion</th>\n",
       "      <th>...</th>\n",
       "      <th>q_sorteo</th>\n",
       "      <th>etapa_inscripcion</th>\n",
       "      <th>fuente_financiamiento</th>\n",
       "      <th>nro_documentacion_ee</th>\n",
       "      <th>nro_adjudicacion_ee</th>\n",
       "      <th>nro_resolucion_adjudicacion</th>\n",
       "      <th>etapa_cupo_procesamiento</th>\n",
       "      <th>etapa_cupo_liquidacion</th>\n",
       "      <th>external_service_state</th>\n",
       "      <th>nro_respuesta</th>\n",
       "    </tr>\n",
       "  </thead>\n",
       "  <tbody>\n",
       "    <tr>\n",
       "      <th>0</th>\n",
       "      <td>207513</td>\n",
       "      <td>False</td>\n",
       "      <td>desestimado</td>\n",
       "      <td>NaN</td>\n",
       "      <td>2022-10-11 15:32:47</td>\n",
       "      <td>2022-11-04 14:46:50</td>\n",
       "      <td>True</td>\n",
       "      <td>NaN</td>\n",
       "      <td>0</td>\n",
       "      <td>NaN</td>\n",
       "      <td>...</td>\n",
       "      <td>0</td>\n",
       "      <td>2</td>\n",
       "      <td>NaN</td>\n",
       "      <td>NaN</td>\n",
       "      <td>NaN</td>\n",
       "      <td>NaN</td>\n",
       "      <td>0.0</td>\n",
       "      <td>0</td>\n",
       "      <td>0</td>\n",
       "      <td>503280</td>\n",
       "    </tr>\n",
       "    <tr>\n",
       "      <th>1</th>\n",
       "      <td>207649</td>\n",
       "      <td>False</td>\n",
       "      <td>desestimado</td>\n",
       "      <td>NaN</td>\n",
       "      <td>2022-10-11 15:32:51</td>\n",
       "      <td>2022-11-04 14:46:50</td>\n",
       "      <td>True</td>\n",
       "      <td>NaN</td>\n",
       "      <td>0</td>\n",
       "      <td>NaN</td>\n",
       "      <td>...</td>\n",
       "      <td>0</td>\n",
       "      <td>2</td>\n",
       "      <td>NaN</td>\n",
       "      <td>NaN</td>\n",
       "      <td>NaN</td>\n",
       "      <td>NaN</td>\n",
       "      <td>0.0</td>\n",
       "      <td>0</td>\n",
       "      <td>0</td>\n",
       "      <td>501340</td>\n",
       "    </tr>\n",
       "    <tr>\n",
       "      <th>2</th>\n",
       "      <td>208175</td>\n",
       "      <td>False</td>\n",
       "      <td>desestimado</td>\n",
       "      <td>NaN</td>\n",
       "      <td>2022-10-11 15:33:07</td>\n",
       "      <td>2022-11-04 14:46:50</td>\n",
       "      <td>True</td>\n",
       "      <td>NaN</td>\n",
       "      <td>0</td>\n",
       "      <td>NaN</td>\n",
       "      <td>...</td>\n",
       "      <td>0</td>\n",
       "      <td>2</td>\n",
       "      <td>NaN</td>\n",
       "      <td>NaN</td>\n",
       "      <td>NaN</td>\n",
       "      <td>NaN</td>\n",
       "      <td>0.0</td>\n",
       "      <td>0</td>\n",
       "      <td>0</td>\n",
       "      <td>496204</td>\n",
       "    </tr>\n",
       "    <tr>\n",
       "      <th>3</th>\n",
       "      <td>5372</td>\n",
       "      <td>True</td>\n",
       "      <td>no_admisible</td>\n",
       "      <td>NaN</td>\n",
       "      <td>2022-08-31 16:28:43</td>\n",
       "      <td>2023-07-19 10:28:14</td>\n",
       "      <td>False</td>\n",
       "      <td>NaN</td>\n",
       "      <td>0</td>\n",
       "      <td>--- '[{\"valor\":true,\"clave\":\"Empleado o funcio...</td>\n",
       "      <td>...</td>\n",
       "      <td>0</td>\n",
       "      <td>1</td>\n",
       "      <td>NaN</td>\n",
       "      <td>NaN</td>\n",
       "      <td>NaN</td>\n",
       "      <td>NaN</td>\n",
       "      <td>0.0</td>\n",
       "      <td>0</td>\n",
       "      <td>0</td>\n",
       "      <td>482049</td>\n",
       "    </tr>\n",
       "    <tr>\n",
       "      <th>4</th>\n",
       "      <td>5352</td>\n",
       "      <td>True</td>\n",
       "      <td>no_admisible</td>\n",
       "      <td>NaN</td>\n",
       "      <td>2022-08-31 16:28:43</td>\n",
       "      <td>2023-07-19 10:28:14</td>\n",
       "      <td>False</td>\n",
       "      <td>NaN</td>\n",
       "      <td>0</td>\n",
       "      <td>--- '[{\"valor\":true,\"clave\":\"Empleado o funcio...</td>\n",
       "      <td>...</td>\n",
       "      <td>0</td>\n",
       "      <td>1</td>\n",
       "      <td>NaN</td>\n",
       "      <td>NaN</td>\n",
       "      <td>NaN</td>\n",
       "      <td>NaN</td>\n",
       "      <td>0.0</td>\n",
       "      <td>0</td>\n",
       "      <td>0</td>\n",
       "      <td>482432</td>\n",
       "    </tr>\n",
       "  </tbody>\n",
       "</table>\n",
       "<p>5 rows × 28 columns</p>\n",
       "</div>"
      ],
      "text/plain": [
       "       id  activo         state criterios_priorizacion           created_at  \\\n",
       "0  207513   False   desestimado                    NaN  2022-10-11 15:32:47   \n",
       "1  207649   False   desestimado                    NaN  2022-10-11 15:32:51   \n",
       "2  208175   False   desestimado                    NaN  2022-10-11 15:33:07   \n",
       "3    5372    True  no_admisible                    NaN  2022-08-31 16:28:43   \n",
       "4    5352    True  no_admisible                    NaN  2022-08-31 16:28:43   \n",
       "\n",
       "            updated_at  es_duplicado fecha_solicitud  estado_priorizacion  \\\n",
       "0  2022-11-04 14:46:50          True             NaN                    0   \n",
       "1  2022-11-04 14:46:50          True             NaN                    0   \n",
       "2  2022-11-04 14:46:50          True             NaN                    0   \n",
       "3  2023-07-19 10:28:14         False             NaN                    0   \n",
       "4  2023-07-19 10:28:14         False             NaN                    0   \n",
       "\n",
       "                                criterios_aceptacion  ...  q_sorteo  \\\n",
       "0                                                NaN  ...         0   \n",
       "1                                                NaN  ...         0   \n",
       "2                                                NaN  ...         0   \n",
       "3  --- '[{\"valor\":true,\"clave\":\"Empleado o funcio...  ...         0   \n",
       "4  --- '[{\"valor\":true,\"clave\":\"Empleado o funcio...  ...         0   \n",
       "\n",
       "   etapa_inscripcion fuente_financiamiento  nro_documentacion_ee  \\\n",
       "0                  2                   NaN                   NaN   \n",
       "1                  2                   NaN                   NaN   \n",
       "2                  2                   NaN                   NaN   \n",
       "3                  1                   NaN                   NaN   \n",
       "4                  1                   NaN                   NaN   \n",
       "\n",
       "   nro_adjudicacion_ee nro_resolucion_adjudicacion  etapa_cupo_procesamiento  \\\n",
       "0                  NaN                         NaN                       0.0   \n",
       "1                  NaN                         NaN                       0.0   \n",
       "2                  NaN                         NaN                       0.0   \n",
       "3                  NaN                         NaN                       0.0   \n",
       "4                  NaN                         NaN                       0.0   \n",
       "\n",
       "   etapa_cupo_liquidacion  external_service_state  nro_respuesta  \n",
       "0                       0                       0         503280  \n",
       "1                       0                       0         501340  \n",
       "2                       0                       0         496204  \n",
       "3                       0                       0         482049  \n",
       "4                       0                       0         482432  \n",
       "\n",
       "[5 rows x 28 columns]"
      ]
     },
     "execution_count": 8,
     "metadata": {},
     "output_type": "execute_result"
    }
   ],
   "source": [
    "# Descargamos el dataframe con información de los inscriptos al programa\n",
    "df_insc = pd.read_excel(\"ficha_inscriptos.xlsx\")\n",
    "df_insc.head(5)"
   ]
  },
  {
   "cell_type": "code",
   "execution_count": 5,
   "id": "4c2585dd",
   "metadata": {},
   "outputs": [
    {
     "data": {
      "text/html": [
       "<div>\n",
       "<style scoped>\n",
       "    .dataframe tbody tr th:only-of-type {\n",
       "        vertical-align: middle;\n",
       "    }\n",
       "\n",
       "    .dataframe tbody tr th {\n",
       "        vertical-align: top;\n",
       "    }\n",
       "\n",
       "    .dataframe thead th {\n",
       "        text-align: right;\n",
       "    }\n",
       "</style>\n",
       "<table border=\"1\" class=\"dataframe\">\n",
       "  <thead>\n",
       "    <tr style=\"text-align: right;\">\n",
       "      <th></th>\n",
       "      <th>fecha_carga</th>\n",
       "      <th>nro_respuesta</th>\n",
       "      <th>version_formulario</th>\n",
       "      <th>sexo_dni</th>\n",
       "      <th>genero</th>\n",
       "      <th>fecha_de_nacimiento</th>\n",
       "      <th>empleado_ivba</th>\n",
       "      <th>beneficiario_procrear</th>\n",
       "      <th>relacion_de_parentezco_con_jefe_del_hogar</th>\n",
       "      <th>municipio</th>\n",
       "      <th>...</th>\n",
       "      <th>obra_a_realizar</th>\n",
       "      <th>trabara_en_la_obra</th>\n",
       "      <th>tenes_ingresos</th>\n",
       "      <th>principal_fuente_ingresos</th>\n",
       "      <th>ingreso_anual</th>\n",
       "      <th>linea_optada</th>\n",
       "      <th>created_at</th>\n",
       "      <th>updated_at</th>\n",
       "      <th>ingreso_anual_hogar</th>\n",
       "      <th>personas_por_ambiente</th>\n",
       "    </tr>\n",
       "  </thead>\n",
       "  <tbody>\n",
       "    <tr>\n",
       "      <th>0</th>\n",
       "      <td>2022-08-15</td>\n",
       "      <td>473438</td>\n",
       "      <td>Propietarios/as sin cotitulares</td>\n",
       "      <td>F</td>\n",
       "      <td>Mujer</td>\n",
       "      <td>1966-10-30 00:00:00</td>\n",
       "      <td>False</td>\n",
       "      <td>False</td>\n",
       "      <td>Soy jefa(e)</td>\n",
       "      <td>Moreno</td>\n",
       "      <td>...</td>\n",
       "      <td>Construcción de habitación adicional, Construc...</td>\n",
       "      <td>True</td>\n",
       "      <td>False</td>\n",
       "      <td>Otro</td>\n",
       "      <td>50</td>\n",
       "      <td>Ampliaciones  -  6.240 UVIs  -  $ 740.813</td>\n",
       "      <td>2022-08-31 16:56:32</td>\n",
       "      <td>2022-08-31 16:56:32</td>\n",
       "      <td>50</td>\n",
       "      <td>2.0</td>\n",
       "    </tr>\n",
       "    <tr>\n",
       "      <th>1</th>\n",
       "      <td>2022-08-15</td>\n",
       "      <td>473436</td>\n",
       "      <td>Propietarios/as sin cotitulares</td>\n",
       "      <td>F</td>\n",
       "      <td>Mujer</td>\n",
       "      <td>1982-02-27 00:00:00</td>\n",
       "      <td>False</td>\n",
       "      <td>False</td>\n",
       "      <td>Hija(o)</td>\n",
       "      <td>Lanús</td>\n",
       "      <td>...</td>\n",
       "      <td>Reforma de baño, Construcción y/o reemplazo ab...</td>\n",
       "      <td>False</td>\n",
       "      <td>False</td>\n",
       "      <td>Trabajo independiente</td>\n",
       "      <td>60</td>\n",
       "      <td>Refacciones Mayores  -  2.730 UVIs  -  $ 324.106</td>\n",
       "      <td>2022-08-31 16:56:32</td>\n",
       "      <td>2022-08-31 16:56:32</td>\n",
       "      <td>60</td>\n",
       "      <td>32.0</td>\n",
       "    </tr>\n",
       "    <tr>\n",
       "      <th>2</th>\n",
       "      <td>2022-08-15</td>\n",
       "      <td>473435</td>\n",
       "      <td>Propietarios/as sin cotitulares</td>\n",
       "      <td>F</td>\n",
       "      <td>Mujer</td>\n",
       "      <td>1987-08-19 00:00:00</td>\n",
       "      <td>False</td>\n",
       "      <td>False</td>\n",
       "      <td>Hija(o)</td>\n",
       "      <td>Alte. Brown</td>\n",
       "      <td>...</td>\n",
       "      <td>Construcción y/o reforma de cocina, Construcci...</td>\n",
       "      <td>False</td>\n",
       "      <td>False</td>\n",
       "      <td>Otro</td>\n",
       "      <td>25</td>\n",
       "      <td>Ampliaciones  -  6.240 UVIs  -  $ 740.813</td>\n",
       "      <td>2022-08-31 16:56:32</td>\n",
       "      <td>2022-08-31 16:56:32</td>\n",
       "      <td>25</td>\n",
       "      <td>1.5</td>\n",
       "    </tr>\n",
       "    <tr>\n",
       "      <th>3</th>\n",
       "      <td>2022-08-15</td>\n",
       "      <td>473434</td>\n",
       "      <td>Propietarios/as sin cotitulares</td>\n",
       "      <td>F</td>\n",
       "      <td>Mujer</td>\n",
       "      <td>1986-03-20 00:00:00</td>\n",
       "      <td>False</td>\n",
       "      <td>False</td>\n",
       "      <td>Soy jefa(e)</td>\n",
       "      <td>San Pedro</td>\n",
       "      <td>...</td>\n",
       "      <td>Reforma de baño, Mejoramiento y/o terminacione...</td>\n",
       "      <td>False</td>\n",
       "      <td>True</td>\n",
       "      <td>Otro</td>\n",
       "      <td>80000</td>\n",
       "      <td>Ampliaciones  -  6.240 UVIs  -  $ 740.813</td>\n",
       "      <td>2022-08-31 16:56:32</td>\n",
       "      <td>2022-08-31 16:56:32</td>\n",
       "      <td>80000</td>\n",
       "      <td>3.5</td>\n",
       "    </tr>\n",
       "    <tr>\n",
       "      <th>4</th>\n",
       "      <td>2022-08-15</td>\n",
       "      <td>473433</td>\n",
       "      <td>Propietarios/as sin cotitulares</td>\n",
       "      <td>F</td>\n",
       "      <td>Mujer</td>\n",
       "      <td>1992-09-01 00:00:00</td>\n",
       "      <td>False</td>\n",
       "      <td>False</td>\n",
       "      <td>Soy jefa(e)</td>\n",
       "      <td>Gral. Alvarado</td>\n",
       "      <td>...</td>\n",
       "      <td>Mejoramiento y/o terminaciones en piso, Mejora...</td>\n",
       "      <td>True</td>\n",
       "      <td>True</td>\n",
       "      <td>Trabajo independiente</td>\n",
       "      <td>500000</td>\n",
       "      <td>Refacciones Menores  -  1.560 UVIs  -  $ 185.203</td>\n",
       "      <td>2022-08-31 16:56:32</td>\n",
       "      <td>2022-08-31 16:56:32</td>\n",
       "      <td>500000</td>\n",
       "      <td>3.0</td>\n",
       "    </tr>\n",
       "  </tbody>\n",
       "</table>\n",
       "<p>5 rows × 27 columns</p>\n",
       "</div>"
      ],
      "text/plain": [
       "  fecha_carga  nro_respuesta               version_formulario sexo_dni genero  \\\n",
       "0  2022-08-15         473438  Propietarios/as sin cotitulares        F  Mujer   \n",
       "1  2022-08-15         473436  Propietarios/as sin cotitulares        F  Mujer   \n",
       "2  2022-08-15         473435  Propietarios/as sin cotitulares        F  Mujer   \n",
       "3  2022-08-15         473434  Propietarios/as sin cotitulares        F  Mujer   \n",
       "4  2022-08-15         473433  Propietarios/as sin cotitulares        F  Mujer   \n",
       "\n",
       "   fecha_de_nacimiento  empleado_ivba  beneficiario_procrear  \\\n",
       "0  1966-10-30 00:00:00          False                  False   \n",
       "1  1982-02-27 00:00:00          False                  False   \n",
       "2  1987-08-19 00:00:00          False                  False   \n",
       "3  1986-03-20 00:00:00          False                  False   \n",
       "4  1992-09-01 00:00:00          False                  False   \n",
       "\n",
       "  relacion_de_parentezco_con_jefe_del_hogar       municipio  ...  \\\n",
       "0                               Soy jefa(e)          Moreno  ...   \n",
       "1                                  Hija(o)            Lanús  ...   \n",
       "2                                  Hija(o)      Alte. Brown  ...   \n",
       "3                               Soy jefa(e)       San Pedro  ...   \n",
       "4                               Soy jefa(e)  Gral. Alvarado  ...   \n",
       "\n",
       "                                     obra_a_realizar  trabara_en_la_obra  \\\n",
       "0  Construcción de habitación adicional, Construc...                True   \n",
       "1  Reforma de baño, Construcción y/o reemplazo ab...               False   \n",
       "2  Construcción y/o reforma de cocina, Construcci...               False   \n",
       "3  Reforma de baño, Mejoramiento y/o terminacione...               False   \n",
       "4  Mejoramiento y/o terminaciones en piso, Mejora...                True   \n",
       "\n",
       "   tenes_ingresos  principal_fuente_ingresos ingreso_anual  \\\n",
       "0           False                       Otro            50   \n",
       "1           False      Trabajo independiente            60   \n",
       "2           False                       Otro            25   \n",
       "3            True                       Otro         80000   \n",
       "4            True      Trabajo independiente        500000   \n",
       "\n",
       "                                       linea_optada           created_at  \\\n",
       "0         Ampliaciones  -  6.240 UVIs  -  $ 740.813  2022-08-31 16:56:32   \n",
       "1  Refacciones Mayores  -  2.730 UVIs  -  $ 324.106  2022-08-31 16:56:32   \n",
       "2         Ampliaciones  -  6.240 UVIs  -  $ 740.813  2022-08-31 16:56:32   \n",
       "3         Ampliaciones  -  6.240 UVIs  -  $ 740.813  2022-08-31 16:56:32   \n",
       "4  Refacciones Menores  -  1.560 UVIs  -  $ 185.203  2022-08-31 16:56:32   \n",
       "\n",
       "            updated_at  ingreso_anual_hogar  personas_por_ambiente  \n",
       "0  2022-08-31 16:56:32                   50                    2.0  \n",
       "1  2022-08-31 16:56:32                   60                   32.0  \n",
       "2  2022-08-31 16:56:32                   25                    1.5  \n",
       "3  2022-08-31 16:56:32                80000                    3.5  \n",
       "4  2022-08-31 16:56:32               500000                    3.0  \n",
       "\n",
       "[5 rows x 27 columns]"
      ]
     },
     "execution_count": 5,
     "metadata": {},
     "output_type": "execute_result"
    }
   ],
   "source": [
    "# Descargamos el dataframe con información de los formularios completados por los inscriptos\n",
    "df_form = pd.read_excel(\"formularios_curso.xlsx\")\n",
    "df_form.head(5)"
   ]
  },
  {
   "cell_type": "code",
   "execution_count": 9,
   "id": "cdff41f4",
   "metadata": {},
   "outputs": [],
   "source": [
    "# Concatenamos dataframes por columna\n",
    "df_evaluate = pd.concat([df_muni, df_insc, df_form], axis=1)"
   ]
  },
  {
   "cell_type": "code",
   "execution_count": 10,
   "id": "b07d80cd",
   "metadata": {},
   "outputs": [
    {
     "data": {
      "text/plain": [
       "['codigo_municipio',\n",
       " 'municipio',\n",
       " 'codigo_region',\n",
       " 'nombre_region',\n",
       " 'codigo_area',\n",
       " 'nombre_area',\n",
       " 'conurbano_interior',\n",
       " 'seccion_electoral',\n",
       " 'superficie(km2)',\n",
       " 'intendente',\n",
       " 'partido_politico_actual',\n",
       " 'poblacion_censo_2010',\n",
       " 'poblacion_censo_2022',\n",
       " 'id',\n",
       " 'activo',\n",
       " 'state',\n",
       " 'criterios_priorizacion',\n",
       " 'created_at',\n",
       " 'updated_at',\n",
       " 'es_duplicado',\n",
       " 'fecha_solicitud',\n",
       " 'estado_priorizacion',\n",
       " 'criterios_aceptacion',\n",
       " 'control_municipio',\n",
       " 'control_dcryaiv',\n",
       " 'fecha_adjudicacion',\n",
       " 'valor_uvis_adjudicacion',\n",
       " 'monto_otorgado',\n",
       " 'fecha_procesamiento',\n",
       " 'valor_uvis_procesamiento',\n",
       " 'monto_procesamiento',\n",
       " 'q_sorteo',\n",
       " 'etapa_inscripcion',\n",
       " 'fuente_financiamiento',\n",
       " 'nro_documentacion_ee',\n",
       " 'nro_adjudicacion_ee',\n",
       " 'nro_resolucion_adjudicacion',\n",
       " 'etapa_cupo_procesamiento',\n",
       " 'etapa_cupo_liquidacion',\n",
       " 'external_service_state',\n",
       " 'nro_respuesta',\n",
       " 'fecha_carga',\n",
       " 'nro_respuesta',\n",
       " 'version_formulario',\n",
       " 'sexo_dni',\n",
       " 'genero',\n",
       " 'fecha_de_nacimiento',\n",
       " 'empleado_ivba',\n",
       " 'beneficiario_procrear',\n",
       " 'relacion_de_parentezco_con_jefe_del_hogar',\n",
       " 'municipio',\n",
       " 'personas_incluidas',\n",
       " 'persona_con_discapacidad',\n",
       " 'escenario_violencia_de_genero',\n",
       " 'escenario_vulnerabilidad_social',\n",
       " 'tipo_vivienda',\n",
       " 'ambientes',\n",
       " 'documentacion_acreditacion_propiedad',\n",
       " 'obra_a_realizar',\n",
       " 'trabara_en_la_obra',\n",
       " 'tenes_ingresos',\n",
       " 'principal_fuente_ingresos',\n",
       " 'ingreso_anual',\n",
       " 'linea_optada',\n",
       " 'created_at',\n",
       " 'updated_at',\n",
       " 'ingreso_anual_hogar',\n",
       " 'personas_por_ambiente']"
      ]
     },
     "execution_count": 10,
     "metadata": {},
     "output_type": "execute_result"
    }
   ],
   "source": [
    "# Chequeamos los nombres de todas las columnas del dataframe concatenado\n",
    "df_evaluate.columns.tolist()"
   ]
  },
  {
   "cell_type": "code",
   "execution_count": 11,
   "id": "b0f66959",
   "metadata": {},
   "outputs": [],
   "source": [
    "# Eliminamos columnas prescindibles, como 'municipio'\n",
    "df_evaluate.drop(['municipio'], axis=1, inplace=True)"
   ]
  },
  {
   "cell_type": "markdown",
   "id": "06b9e579",
   "metadata": {},
   "source": [
    "### ETAPA 2 : Criterio de selección inicial"
   ]
  },
  {
   "cell_type": "code",
   "execution_count": 12,
   "id": "b1feb1ed",
   "metadata": {},
   "outputs": [
    {
     "data": {
      "text/plain": [
       "array([2, 1, 3, 4, 5, 6])"
      ]
     },
     "execution_count": 12,
     "metadata": {},
     "output_type": "execute_result"
    }
   ],
   "source": [
    "# Chequeamos los valores únicos que clasifica etapas de inscripción\n",
    "df_evaluate['etapa_inscripcion'].unique()"
   ]
  },
  {
   "cell_type": "code",
   "execution_count": 13,
   "id": "3fb74272",
   "metadata": {},
   "outputs": [
    {
     "data": {
      "text/plain": [
       "array(['desestimado', 'no_admisible', 'admisible_fuera_de_cupo',\n",
       "       'para_enviar_a_use', 'presentado',\n",
       "       'solicitud_rechazada_por_falta_de_elegibilidad', 'enviada_a_use',\n",
       "       'admisible', 'solicitud_adjudicada',\n",
       "       'solicitud_elegible_rechazada_por_excedente',\n",
       "       'solicitud_con_adjudicacion_iniciada', 'solicitud_elegible',\n",
       "       'solicitud_elegible_rechazadas_por_excedente'], dtype=object)"
      ]
     },
     "execution_count": 13,
     "metadata": {},
     "output_type": "execute_result"
    }
   ],
   "source": [
    "# Chequeamos los valores únicos que clasifica estado de la solicitud \n",
    "df_evaluate['state'].unique()"
   ]
  },
  {
   "cell_type": "code",
   "execution_count": 14,
   "id": "0af16af9",
   "metadata": {},
   "outputs": [],
   "source": [
    "# Filtramos solo los inscriptos en etapa 1\n",
    "formularios_estudio = df_evaluate[df_evaluate['etapa_inscripcion'] == 1 ]"
   ]
  },
  {
   "cell_type": "code",
   "execution_count": 15,
   "id": "5f9702d7",
   "metadata": {},
   "outputs": [
    {
     "data": {
      "text/html": [
       "<div>\n",
       "<style scoped>\n",
       "    .dataframe tbody tr th:only-of-type {\n",
       "        vertical-align: middle;\n",
       "    }\n",
       "\n",
       "    .dataframe tbody tr th {\n",
       "        vertical-align: top;\n",
       "    }\n",
       "\n",
       "    .dataframe thead th {\n",
       "        text-align: right;\n",
       "    }\n",
       "</style>\n",
       "<table border=\"1\" class=\"dataframe\">\n",
       "  <thead>\n",
       "    <tr style=\"text-align: right;\">\n",
       "      <th></th>\n",
       "      <th>codigo_municipio</th>\n",
       "      <th>codigo_region</th>\n",
       "      <th>nombre_region</th>\n",
       "      <th>codigo_area</th>\n",
       "      <th>nombre_area</th>\n",
       "      <th>conurbano_interior</th>\n",
       "      <th>seccion_electoral</th>\n",
       "      <th>superficie(km2)</th>\n",
       "      <th>intendente</th>\n",
       "      <th>partido_politico_actual</th>\n",
       "      <th>...</th>\n",
       "      <th>obra_a_realizar</th>\n",
       "      <th>trabara_en_la_obra</th>\n",
       "      <th>tenes_ingresos</th>\n",
       "      <th>principal_fuente_ingresos</th>\n",
       "      <th>ingreso_anual</th>\n",
       "      <th>linea_optada</th>\n",
       "      <th>created_at</th>\n",
       "      <th>updated_at</th>\n",
       "      <th>ingreso_anual_hogar</th>\n",
       "      <th>personas_por_ambiente</th>\n",
       "    </tr>\n",
       "  </thead>\n",
       "  <tbody>\n",
       "    <tr>\n",
       "      <th>249169</th>\n",
       "      <td>NaN</td>\n",
       "      <td>NaN</td>\n",
       "      <td>NaN</td>\n",
       "      <td>NaN</td>\n",
       "      <td>NaN</td>\n",
       "      <td>NaN</td>\n",
       "      <td>NaN</td>\n",
       "      <td>NaN</td>\n",
       "      <td>NaN</td>\n",
       "      <td>NaN</td>\n",
       "      <td>...</td>\n",
       "      <td>Construcción de baño adicional, Construcción d...</td>\n",
       "      <td>True</td>\n",
       "      <td>True</td>\n",
       "      <td>Otro</td>\n",
       "      <td>1000000</td>\n",
       "      <td>Ampliaciones  -  6.240 UVIs  -     $ 1.851.033...</td>\n",
       "      <td>2023-11-21 12:59:08</td>\n",
       "      <td>2023-11-21 12:59:08</td>\n",
       "      <td>1000000</td>\n",
       "      <td>6.000000</td>\n",
       "    </tr>\n",
       "    <tr>\n",
       "      <th>249170</th>\n",
       "      <td>NaN</td>\n",
       "      <td>NaN</td>\n",
       "      <td>NaN</td>\n",
       "      <td>NaN</td>\n",
       "      <td>NaN</td>\n",
       "      <td>NaN</td>\n",
       "      <td>NaN</td>\n",
       "      <td>NaN</td>\n",
       "      <td>NaN</td>\n",
       "      <td>NaN</td>\n",
       "      <td>...</td>\n",
       "      <td>Refacción menor de plomería o electricidad, Me...</td>\n",
       "      <td>True</td>\n",
       "      <td>True</td>\n",
       "      <td>Jubilación / Pensión</td>\n",
       "      <td>600</td>\n",
       "      <td>Ampliaciones  -  6.240 UVIs  -     $ 1.851.033...</td>\n",
       "      <td>2023-11-21 12:59:08</td>\n",
       "      <td>2023-11-21 12:59:08</td>\n",
       "      <td>600</td>\n",
       "      <td>2.500000</td>\n",
       "    </tr>\n",
       "    <tr>\n",
       "      <th>249171</th>\n",
       "      <td>NaN</td>\n",
       "      <td>NaN</td>\n",
       "      <td>NaN</td>\n",
       "      <td>NaN</td>\n",
       "      <td>NaN</td>\n",
       "      <td>NaN</td>\n",
       "      <td>NaN</td>\n",
       "      <td>NaN</td>\n",
       "      <td>NaN</td>\n",
       "      <td>NaN</td>\n",
       "      <td>...</td>\n",
       "      <td>Rampas y/o aberturas para mejoramiento de acce...</td>\n",
       "      <td>True</td>\n",
       "      <td>True</td>\n",
       "      <td>Trabajo en relación de dependencia</td>\n",
       "      <td>2850000</td>\n",
       "      <td>Refacciones Mayores  -  3.120 UVIs  -     $ 92...</td>\n",
       "      <td>2023-11-21 12:59:08</td>\n",
       "      <td>2023-11-21 12:59:08</td>\n",
       "      <td>2850000</td>\n",
       "      <td>2.000000</td>\n",
       "    </tr>\n",
       "    <tr>\n",
       "      <th>249172</th>\n",
       "      <td>NaN</td>\n",
       "      <td>NaN</td>\n",
       "      <td>NaN</td>\n",
       "      <td>NaN</td>\n",
       "      <td>NaN</td>\n",
       "      <td>NaN</td>\n",
       "      <td>NaN</td>\n",
       "      <td>NaN</td>\n",
       "      <td>NaN</td>\n",
       "      <td>NaN</td>\n",
       "      <td>...</td>\n",
       "      <td>Construcción de baño adicional, Construcción d...</td>\n",
       "      <td>False</td>\n",
       "      <td>True</td>\n",
       "      <td>Trabajo independiente</td>\n",
       "      <td>2112000</td>\n",
       "      <td>Ampliaciones  -  3.510 UVIs  -     $ 1.041.206...</td>\n",
       "      <td>2023-11-21 12:59:08</td>\n",
       "      <td>2023-11-21 12:59:08</td>\n",
       "      <td>2112000</td>\n",
       "      <td>2.500000</td>\n",
       "    </tr>\n",
       "    <tr>\n",
       "      <th>249173</th>\n",
       "      <td>NaN</td>\n",
       "      <td>NaN</td>\n",
       "      <td>NaN</td>\n",
       "      <td>NaN</td>\n",
       "      <td>NaN</td>\n",
       "      <td>NaN</td>\n",
       "      <td>NaN</td>\n",
       "      <td>NaN</td>\n",
       "      <td>NaN</td>\n",
       "      <td>NaN</td>\n",
       "      <td>...</td>\n",
       "      <td>Mejoramiento y/o terminaciones en piso, Mejora...</td>\n",
       "      <td>False</td>\n",
       "      <td>True</td>\n",
       "      <td>Trabajo independiente</td>\n",
       "      <td>6000000</td>\n",
       "      <td>Ampliaciones  -  6.240 UVIs  -     $ 1.851.033,60</td>\n",
       "      <td>2023-11-22 13:52:59</td>\n",
       "      <td>2023-11-22 13:52:59</td>\n",
       "      <td>6000000</td>\n",
       "      <td>1.333333</td>\n",
       "    </tr>\n",
       "    <tr>\n",
       "      <th>...</th>\n",
       "      <td>...</td>\n",
       "      <td>...</td>\n",
       "      <td>...</td>\n",
       "      <td>...</td>\n",
       "      <td>...</td>\n",
       "      <td>...</td>\n",
       "      <td>...</td>\n",
       "      <td>...</td>\n",
       "      <td>...</td>\n",
       "      <td>...</td>\n",
       "      <td>...</td>\n",
       "      <td>...</td>\n",
       "      <td>...</td>\n",
       "      <td>...</td>\n",
       "      <td>...</td>\n",
       "      <td>...</td>\n",
       "      <td>...</td>\n",
       "      <td>...</td>\n",
       "      <td>...</td>\n",
       "      <td>...</td>\n",
       "      <td>...</td>\n",
       "    </tr>\n",
       "    <tr>\n",
       "      <th>250636</th>\n",
       "      <td>NaN</td>\n",
       "      <td>NaN</td>\n",
       "      <td>NaN</td>\n",
       "      <td>NaN</td>\n",
       "      <td>NaN</td>\n",
       "      <td>NaN</td>\n",
       "      <td>NaN</td>\n",
       "      <td>NaN</td>\n",
       "      <td>NaN</td>\n",
       "      <td>NaN</td>\n",
       "      <td>...</td>\n",
       "      <td>Garage, Construcción de habitación adicional</td>\n",
       "      <td>False</td>\n",
       "      <td>True</td>\n",
       "      <td>Trabajo en relación de dependencia</td>\n",
       "      <td>2400000</td>\n",
       "      <td>Ampliaciones  -  6.240 UVIs  -  $ 947.793</td>\n",
       "      <td>2022-12-28 11:14:36</td>\n",
       "      <td>2025-01-07 10:28:02</td>\n",
       "      <td>2400000</td>\n",
       "      <td>0.666667</td>\n",
       "    </tr>\n",
       "    <tr>\n",
       "      <th>250637</th>\n",
       "      <td>NaN</td>\n",
       "      <td>NaN</td>\n",
       "      <td>NaN</td>\n",
       "      <td>NaN</td>\n",
       "      <td>NaN</td>\n",
       "      <td>NaN</td>\n",
       "      <td>NaN</td>\n",
       "      <td>NaN</td>\n",
       "      <td>NaN</td>\n",
       "      <td>NaN</td>\n",
       "      <td>...</td>\n",
       "      <td>Construcción y/o reforma de cocina, Construcci...</td>\n",
       "      <td>True</td>\n",
       "      <td>True</td>\n",
       "      <td>Trabajo en relación de dependencia</td>\n",
       "      <td>1650000</td>\n",
       "      <td>Ampliaciones  -  6.240 UVIs  -  $ 835.286</td>\n",
       "      <td>2022-10-11 15:36:06</td>\n",
       "      <td>2025-01-23 15:23:04</td>\n",
       "      <td>2076000</td>\n",
       "      <td>1.000000</td>\n",
       "    </tr>\n",
       "    <tr>\n",
       "      <th>250638</th>\n",
       "      <td>NaN</td>\n",
       "      <td>NaN</td>\n",
       "      <td>NaN</td>\n",
       "      <td>NaN</td>\n",
       "      <td>NaN</td>\n",
       "      <td>NaN</td>\n",
       "      <td>NaN</td>\n",
       "      <td>NaN</td>\n",
       "      <td>NaN</td>\n",
       "      <td>NaN</td>\n",
       "      <td>...</td>\n",
       "      <td>Construcción y/o reforma de cocina, Construcci...</td>\n",
       "      <td>True</td>\n",
       "      <td>True</td>\n",
       "      <td>Trabajo en relación de dependencia</td>\n",
       "      <td>800000</td>\n",
       "      <td>Ampliaciones  -  6.240 UVIs  -  $ 740.813</td>\n",
       "      <td>2022-08-31 17:31:00</td>\n",
       "      <td>2025-02-11 09:20:09</td>\n",
       "      <td>800000</td>\n",
       "      <td>2.000000</td>\n",
       "    </tr>\n",
       "    <tr>\n",
       "      <th>250639</th>\n",
       "      <td>NaN</td>\n",
       "      <td>NaN</td>\n",
       "      <td>NaN</td>\n",
       "      <td>NaN</td>\n",
       "      <td>NaN</td>\n",
       "      <td>NaN</td>\n",
       "      <td>NaN</td>\n",
       "      <td>NaN</td>\n",
       "      <td>NaN</td>\n",
       "      <td>NaN</td>\n",
       "      <td>...</td>\n",
       "      <td>Construcción de losa para futura ampliación, R...</td>\n",
       "      <td>True</td>\n",
       "      <td>True</td>\n",
       "      <td>Trabajo en relación de dependencia</td>\n",
       "      <td>800000</td>\n",
       "      <td>Ampliaciones  -  6.240 UVIs  -  $ 835.286</td>\n",
       "      <td>2022-10-11 15:06:23</td>\n",
       "      <td>2025-02-12 12:17:35</td>\n",
       "      <td>800000</td>\n",
       "      <td>3.000000</td>\n",
       "    </tr>\n",
       "    <tr>\n",
       "      <th>250640</th>\n",
       "      <td>NaN</td>\n",
       "      <td>NaN</td>\n",
       "      <td>NaN</td>\n",
       "      <td>NaN</td>\n",
       "      <td>NaN</td>\n",
       "      <td>NaN</td>\n",
       "      <td>NaN</td>\n",
       "      <td>NaN</td>\n",
       "      <td>NaN</td>\n",
       "      <td>NaN</td>\n",
       "      <td>...</td>\n",
       "      <td>Construcción de habitación adicional</td>\n",
       "      <td>True</td>\n",
       "      <td>True</td>\n",
       "      <td>Trabajo en relación de dependencia</td>\n",
       "      <td>1900000</td>\n",
       "      <td>Ampliaciones  -  6.240 UVIs  -  $ 835.286</td>\n",
       "      <td>2022-10-18 13:35:06</td>\n",
       "      <td>2025-02-24 10:42:28</td>\n",
       "      <td>1900000</td>\n",
       "      <td>3.000000</td>\n",
       "    </tr>\n",
       "  </tbody>\n",
       "</table>\n",
       "<p>1472 rows × 66 columns</p>\n",
       "</div>"
      ],
      "text/plain": [
       "        codigo_municipio  codigo_region nombre_region  codigo_area  \\\n",
       "249169               NaN            NaN           NaN          NaN   \n",
       "249170               NaN            NaN           NaN          NaN   \n",
       "249171               NaN            NaN           NaN          NaN   \n",
       "249172               NaN            NaN           NaN          NaN   \n",
       "249173               NaN            NaN           NaN          NaN   \n",
       "...                  ...            ...           ...          ...   \n",
       "250636               NaN            NaN           NaN          NaN   \n",
       "250637               NaN            NaN           NaN          NaN   \n",
       "250638               NaN            NaN           NaN          NaN   \n",
       "250639               NaN            NaN           NaN          NaN   \n",
       "250640               NaN            NaN           NaN          NaN   \n",
       "\n",
       "       nombre_area conurbano_interior  seccion_electoral  superficie(km2)  \\\n",
       "249169         NaN                NaN                NaN              NaN   \n",
       "249170         NaN                NaN                NaN              NaN   \n",
       "249171         NaN                NaN                NaN              NaN   \n",
       "249172         NaN                NaN                NaN              NaN   \n",
       "249173         NaN                NaN                NaN              NaN   \n",
       "...            ...                ...                ...              ...   \n",
       "250636         NaN                NaN                NaN              NaN   \n",
       "250637         NaN                NaN                NaN              NaN   \n",
       "250638         NaN                NaN                NaN              NaN   \n",
       "250639         NaN                NaN                NaN              NaN   \n",
       "250640         NaN                NaN                NaN              NaN   \n",
       "\n",
       "       intendente partido_politico_actual  ...  \\\n",
       "249169        NaN                     NaN  ...   \n",
       "249170        NaN                     NaN  ...   \n",
       "249171        NaN                     NaN  ...   \n",
       "249172        NaN                     NaN  ...   \n",
       "249173        NaN                     NaN  ...   \n",
       "...           ...                     ...  ...   \n",
       "250636        NaN                     NaN  ...   \n",
       "250637        NaN                     NaN  ...   \n",
       "250638        NaN                     NaN  ...   \n",
       "250639        NaN                     NaN  ...   \n",
       "250640        NaN                     NaN  ...   \n",
       "\n",
       "                                          obra_a_realizar  trabara_en_la_obra  \\\n",
       "249169  Construcción de baño adicional, Construcción d...                True   \n",
       "249170  Refacción menor de plomería o electricidad, Me...                True   \n",
       "249171  Rampas y/o aberturas para mejoramiento de acce...                True   \n",
       "249172  Construcción de baño adicional, Construcción d...               False   \n",
       "249173  Mejoramiento y/o terminaciones en piso, Mejora...               False   \n",
       "...                                                   ...                 ...   \n",
       "250636       Garage, Construcción de habitación adicional               False   \n",
       "250637  Construcción y/o reforma de cocina, Construcci...                True   \n",
       "250638  Construcción y/o reforma de cocina, Construcci...                True   \n",
       "250639  Construcción de losa para futura ampliación, R...                True   \n",
       "250640               Construcción de habitación adicional                True   \n",
       "\n",
       "        tenes_ingresos           principal_fuente_ingresos ingreso_anual  \\\n",
       "249169            True                                Otro       1000000   \n",
       "249170            True                Jubilación / Pensión           600   \n",
       "249171            True  Trabajo en relación de dependencia       2850000   \n",
       "249172            True               Trabajo independiente       2112000   \n",
       "249173            True               Trabajo independiente       6000000   \n",
       "...                ...                                 ...           ...   \n",
       "250636            True  Trabajo en relación de dependencia       2400000   \n",
       "250637            True  Trabajo en relación de dependencia       1650000   \n",
       "250638            True  Trabajo en relación de dependencia        800000   \n",
       "250639            True  Trabajo en relación de dependencia        800000   \n",
       "250640            True  Trabajo en relación de dependencia       1900000   \n",
       "\n",
       "                                             linea_optada  \\\n",
       "249169  Ampliaciones  -  6.240 UVIs  -     $ 1.851.033...   \n",
       "249170  Ampliaciones  -  6.240 UVIs  -     $ 1.851.033...   \n",
       "249171  Refacciones Mayores  -  3.120 UVIs  -     $ 92...   \n",
       "249172  Ampliaciones  -  3.510 UVIs  -     $ 1.041.206...   \n",
       "249173  Ampliaciones  -  6.240 UVIs  -     $ 1.851.033,60   \n",
       "...                                                   ...   \n",
       "250636          Ampliaciones  -  6.240 UVIs  -  $ 947.793   \n",
       "250637          Ampliaciones  -  6.240 UVIs  -  $ 835.286   \n",
       "250638          Ampliaciones  -  6.240 UVIs  -  $ 740.813   \n",
       "250639          Ampliaciones  -  6.240 UVIs  -  $ 835.286   \n",
       "250640          Ampliaciones  -  6.240 UVIs  -  $ 835.286   \n",
       "\n",
       "                 created_at           updated_at  ingreso_anual_hogar  \\\n",
       "249169  2023-11-21 12:59:08  2023-11-21 12:59:08              1000000   \n",
       "249170  2023-11-21 12:59:08  2023-11-21 12:59:08                  600   \n",
       "249171  2023-11-21 12:59:08  2023-11-21 12:59:08              2850000   \n",
       "249172  2023-11-21 12:59:08  2023-11-21 12:59:08              2112000   \n",
       "249173  2023-11-22 13:52:59  2023-11-22 13:52:59              6000000   \n",
       "...                     ...                  ...                  ...   \n",
       "250636  2022-12-28 11:14:36  2025-01-07 10:28:02              2400000   \n",
       "250637  2022-10-11 15:36:06  2025-01-23 15:23:04              2076000   \n",
       "250638  2022-08-31 17:31:00  2025-02-11 09:20:09               800000   \n",
       "250639  2022-10-11 15:06:23  2025-02-12 12:17:35               800000   \n",
       "250640  2022-10-18 13:35:06  2025-02-24 10:42:28              1900000   \n",
       "\n",
       "       personas_por_ambiente  \n",
       "249169              6.000000  \n",
       "249170              2.500000  \n",
       "249171              2.000000  \n",
       "249172              2.500000  \n",
       "249173              1.333333  \n",
       "...                      ...  \n",
       "250636              0.666667  \n",
       "250637              1.000000  \n",
       "250638              2.000000  \n",
       "250639              3.000000  \n",
       "250640              3.000000  \n",
       "\n",
       "[1472 rows x 66 columns]"
      ]
     },
     "execution_count": 15,
     "metadata": {},
     "output_type": "execute_result"
    }
   ],
   "source": [
    "#Filtramos solo los inscriptos en estado solicitud_adjudicada ó solicitud_elegible_rechazadas_por_excedente \n",
    "formularios_estudio[formularios_estudio['state'] == 'solicitud_adjudicada']\n",
    "formularios_estudio[formularios_estudio['state'] =='solicitud_elegible_rechazadas_por_excedente']"
   ]
  },
  {
   "cell_type": "code",
   "execution_count": 16,
   "id": "a3fac3bc",
   "metadata": {},
   "outputs": [],
   "source": [
    "# Asignamos variable al filtro de los inscriptos en estado solicitud_adjudicada ó solicitud_elegible_rechazadas_por_excedente\n",
    "filtro = (formularios_estudio['state'] == 'solicitud_adjudicada') | \\\n",
    "         (formularios_estudio['state'] == 'solicitud_elegible_rechazadas_por_excedente')\n",
    "\n",
    "# Creamos el nuevo dataframe aplicando el filtro\n",
    "formularios_estudio = formularios_estudio[filtro]"
   ]
  },
  {
   "cell_type": "code",
   "execution_count": 17,
   "id": "f70da429",
   "metadata": {},
   "outputs": [
    {
     "data": {
      "text/html": [
       "<div>\n",
       "<style scoped>\n",
       "    .dataframe tbody tr th:only-of-type {\n",
       "        vertical-align: middle;\n",
       "    }\n",
       "\n",
       "    .dataframe tbody tr th {\n",
       "        vertical-align: top;\n",
       "    }\n",
       "\n",
       "    .dataframe thead th {\n",
       "        text-align: right;\n",
       "    }\n",
       "</style>\n",
       "<table border=\"1\" class=\"dataframe\">\n",
       "  <thead>\n",
       "    <tr style=\"text-align: right;\">\n",
       "      <th></th>\n",
       "      <th>codigo_municipio</th>\n",
       "      <th>codigo_region</th>\n",
       "      <th>nombre_region</th>\n",
       "      <th>codigo_area</th>\n",
       "      <th>nombre_area</th>\n",
       "      <th>conurbano_interior</th>\n",
       "      <th>seccion_electoral</th>\n",
       "      <th>superficie(km2)</th>\n",
       "      <th>intendente</th>\n",
       "      <th>partido_politico_actual</th>\n",
       "      <th>...</th>\n",
       "      <th>obra_a_realizar</th>\n",
       "      <th>trabara_en_la_obra</th>\n",
       "      <th>tenes_ingresos</th>\n",
       "      <th>principal_fuente_ingresos</th>\n",
       "      <th>ingreso_anual</th>\n",
       "      <th>linea_optada</th>\n",
       "      <th>created_at</th>\n",
       "      <th>updated_at</th>\n",
       "      <th>ingreso_anual_hogar</th>\n",
       "      <th>personas_por_ambiente</th>\n",
       "    </tr>\n",
       "  </thead>\n",
       "  <tbody>\n",
       "    <tr>\n",
       "      <th>58583</th>\n",
       "      <td>NaN</td>\n",
       "      <td>NaN</td>\n",
       "      <td>NaN</td>\n",
       "      <td>NaN</td>\n",
       "      <td>NaN</td>\n",
       "      <td>NaN</td>\n",
       "      <td>NaN</td>\n",
       "      <td>NaN</td>\n",
       "      <td>NaN</td>\n",
       "      <td>NaN</td>\n",
       "      <td>...</td>\n",
       "      <td>Construcción de habitación adicional, Construc...</td>\n",
       "      <td>False</td>\n",
       "      <td>True</td>\n",
       "      <td>Trabajo en relación de dependencia</td>\n",
       "      <td>1610000</td>\n",
       "      <td>Ampliaciones  -  6.240 UVIs  -  $ 740.813</td>\n",
       "      <td>2022-08-31 17:23:44</td>\n",
       "      <td>2022-08-31 17:23:44</td>\n",
       "      <td>1610000</td>\n",
       "      <td>2.000000</td>\n",
       "    </tr>\n",
       "    <tr>\n",
       "      <th>77090</th>\n",
       "      <td>NaN</td>\n",
       "      <td>NaN</td>\n",
       "      <td>NaN</td>\n",
       "      <td>NaN</td>\n",
       "      <td>NaN</td>\n",
       "      <td>NaN</td>\n",
       "      <td>NaN</td>\n",
       "      <td>NaN</td>\n",
       "      <td>NaN</td>\n",
       "      <td>NaN</td>\n",
       "      <td>...</td>\n",
       "      <td>Construcción de losa para futura ampliación, C...</td>\n",
       "      <td>True</td>\n",
       "      <td>False</td>\n",
       "      <td>Otro</td>\n",
       "      <td>45000</td>\n",
       "      <td>Ampliaciones  -  5.460 UVIs  -  $ 648.211</td>\n",
       "      <td>2022-08-31 17:30:59</td>\n",
       "      <td>2022-08-31 17:30:59</td>\n",
       "      <td>45000</td>\n",
       "      <td>1.000000</td>\n",
       "    </tr>\n",
       "    <tr>\n",
       "      <th>81009</th>\n",
       "      <td>NaN</td>\n",
       "      <td>NaN</td>\n",
       "      <td>NaN</td>\n",
       "      <td>NaN</td>\n",
       "      <td>NaN</td>\n",
       "      <td>NaN</td>\n",
       "      <td>NaN</td>\n",
       "      <td>NaN</td>\n",
       "      <td>NaN</td>\n",
       "      <td>NaN</td>\n",
       "      <td>...</td>\n",
       "      <td>Adaptación de instalaciones sanitarias para me...</td>\n",
       "      <td>True</td>\n",
       "      <td>False</td>\n",
       "      <td>Otro</td>\n",
       "      <td>50</td>\n",
       "      <td>Ampliaciones  -  6.240 UVIs  -  $ 740.813</td>\n",
       "      <td>2022-08-31 17:32:22</td>\n",
       "      <td>2022-08-31 17:32:22</td>\n",
       "      <td>50</td>\n",
       "      <td>3.000000</td>\n",
       "    </tr>\n",
       "    <tr>\n",
       "      <th>110671</th>\n",
       "      <td>NaN</td>\n",
       "      <td>NaN</td>\n",
       "      <td>NaN</td>\n",
       "      <td>NaN</td>\n",
       "      <td>NaN</td>\n",
       "      <td>NaN</td>\n",
       "      <td>NaN</td>\n",
       "      <td>NaN</td>\n",
       "      <td>NaN</td>\n",
       "      <td>NaN</td>\n",
       "      <td>...</td>\n",
       "      <td>Reforma de baño, Construcción de habitación ad...</td>\n",
       "      <td>True</td>\n",
       "      <td>True</td>\n",
       "      <td>Otro</td>\n",
       "      <td>55000</td>\n",
       "      <td>Refacciones Mayores  -  3.120 UVIs  -  $ 417.643</td>\n",
       "      <td>2022-10-11 15:09:29</td>\n",
       "      <td>2022-10-11 15:09:29</td>\n",
       "      <td>55000</td>\n",
       "      <td>4.000000</td>\n",
       "    </tr>\n",
       "    <tr>\n",
       "      <th>130628</th>\n",
       "      <td>NaN</td>\n",
       "      <td>NaN</td>\n",
       "      <td>NaN</td>\n",
       "      <td>NaN</td>\n",
       "      <td>NaN</td>\n",
       "      <td>NaN</td>\n",
       "      <td>NaN</td>\n",
       "      <td>NaN</td>\n",
       "      <td>NaN</td>\n",
       "      <td>NaN</td>\n",
       "      <td>...</td>\n",
       "      <td>Construcción de divisiones interiores</td>\n",
       "      <td>False</td>\n",
       "      <td>True</td>\n",
       "      <td>Trabajo en relación de dependencia</td>\n",
       "      <td>1200000</td>\n",
       "      <td>Ampliaciones  -  6.240 UVIs  -  $ 835.286</td>\n",
       "      <td>2022-10-12 19:28:11</td>\n",
       "      <td>2022-10-12 19:28:11</td>\n",
       "      <td>1200000</td>\n",
       "      <td>1.500000</td>\n",
       "    </tr>\n",
       "    <tr>\n",
       "      <th>...</th>\n",
       "      <td>...</td>\n",
       "      <td>...</td>\n",
       "      <td>...</td>\n",
       "      <td>...</td>\n",
       "      <td>...</td>\n",
       "      <td>...</td>\n",
       "      <td>...</td>\n",
       "      <td>...</td>\n",
       "      <td>...</td>\n",
       "      <td>...</td>\n",
       "      <td>...</td>\n",
       "      <td>...</td>\n",
       "      <td>...</td>\n",
       "      <td>...</td>\n",
       "      <td>...</td>\n",
       "      <td>...</td>\n",
       "      <td>...</td>\n",
       "      <td>...</td>\n",
       "      <td>...</td>\n",
       "      <td>...</td>\n",
       "      <td>...</td>\n",
       "    </tr>\n",
       "    <tr>\n",
       "      <th>250636</th>\n",
       "      <td>NaN</td>\n",
       "      <td>NaN</td>\n",
       "      <td>NaN</td>\n",
       "      <td>NaN</td>\n",
       "      <td>NaN</td>\n",
       "      <td>NaN</td>\n",
       "      <td>NaN</td>\n",
       "      <td>NaN</td>\n",
       "      <td>NaN</td>\n",
       "      <td>NaN</td>\n",
       "      <td>...</td>\n",
       "      <td>Garage, Construcción de habitación adicional</td>\n",
       "      <td>False</td>\n",
       "      <td>True</td>\n",
       "      <td>Trabajo en relación de dependencia</td>\n",
       "      <td>2400000</td>\n",
       "      <td>Ampliaciones  -  6.240 UVIs  -  $ 947.793</td>\n",
       "      <td>2022-12-28 11:14:36</td>\n",
       "      <td>2025-01-07 10:28:02</td>\n",
       "      <td>2400000</td>\n",
       "      <td>0.666667</td>\n",
       "    </tr>\n",
       "    <tr>\n",
       "      <th>250637</th>\n",
       "      <td>NaN</td>\n",
       "      <td>NaN</td>\n",
       "      <td>NaN</td>\n",
       "      <td>NaN</td>\n",
       "      <td>NaN</td>\n",
       "      <td>NaN</td>\n",
       "      <td>NaN</td>\n",
       "      <td>NaN</td>\n",
       "      <td>NaN</td>\n",
       "      <td>NaN</td>\n",
       "      <td>...</td>\n",
       "      <td>Construcción y/o reforma de cocina, Construcci...</td>\n",
       "      <td>True</td>\n",
       "      <td>True</td>\n",
       "      <td>Trabajo en relación de dependencia</td>\n",
       "      <td>1650000</td>\n",
       "      <td>Ampliaciones  -  6.240 UVIs  -  $ 835.286</td>\n",
       "      <td>2022-10-11 15:36:06</td>\n",
       "      <td>2025-01-23 15:23:04</td>\n",
       "      <td>2076000</td>\n",
       "      <td>1.000000</td>\n",
       "    </tr>\n",
       "    <tr>\n",
       "      <th>250638</th>\n",
       "      <td>NaN</td>\n",
       "      <td>NaN</td>\n",
       "      <td>NaN</td>\n",
       "      <td>NaN</td>\n",
       "      <td>NaN</td>\n",
       "      <td>NaN</td>\n",
       "      <td>NaN</td>\n",
       "      <td>NaN</td>\n",
       "      <td>NaN</td>\n",
       "      <td>NaN</td>\n",
       "      <td>...</td>\n",
       "      <td>Construcción y/o reforma de cocina, Construcci...</td>\n",
       "      <td>True</td>\n",
       "      <td>True</td>\n",
       "      <td>Trabajo en relación de dependencia</td>\n",
       "      <td>800000</td>\n",
       "      <td>Ampliaciones  -  6.240 UVIs  -  $ 740.813</td>\n",
       "      <td>2022-08-31 17:31:00</td>\n",
       "      <td>2025-02-11 09:20:09</td>\n",
       "      <td>800000</td>\n",
       "      <td>2.000000</td>\n",
       "    </tr>\n",
       "    <tr>\n",
       "      <th>250639</th>\n",
       "      <td>NaN</td>\n",
       "      <td>NaN</td>\n",
       "      <td>NaN</td>\n",
       "      <td>NaN</td>\n",
       "      <td>NaN</td>\n",
       "      <td>NaN</td>\n",
       "      <td>NaN</td>\n",
       "      <td>NaN</td>\n",
       "      <td>NaN</td>\n",
       "      <td>NaN</td>\n",
       "      <td>...</td>\n",
       "      <td>Construcción de losa para futura ampliación, R...</td>\n",
       "      <td>True</td>\n",
       "      <td>True</td>\n",
       "      <td>Trabajo en relación de dependencia</td>\n",
       "      <td>800000</td>\n",
       "      <td>Ampliaciones  -  6.240 UVIs  -  $ 835.286</td>\n",
       "      <td>2022-10-11 15:06:23</td>\n",
       "      <td>2025-02-12 12:17:35</td>\n",
       "      <td>800000</td>\n",
       "      <td>3.000000</td>\n",
       "    </tr>\n",
       "    <tr>\n",
       "      <th>250640</th>\n",
       "      <td>NaN</td>\n",
       "      <td>NaN</td>\n",
       "      <td>NaN</td>\n",
       "      <td>NaN</td>\n",
       "      <td>NaN</td>\n",
       "      <td>NaN</td>\n",
       "      <td>NaN</td>\n",
       "      <td>NaN</td>\n",
       "      <td>NaN</td>\n",
       "      <td>NaN</td>\n",
       "      <td>...</td>\n",
       "      <td>Construcción de habitación adicional</td>\n",
       "      <td>True</td>\n",
       "      <td>True</td>\n",
       "      <td>Trabajo en relación de dependencia</td>\n",
       "      <td>1900000</td>\n",
       "      <td>Ampliaciones  -  6.240 UVIs  -  $ 835.286</td>\n",
       "      <td>2022-10-18 13:35:06</td>\n",
       "      <td>2025-02-24 10:42:28</td>\n",
       "      <td>1900000</td>\n",
       "      <td>3.000000</td>\n",
       "    </tr>\n",
       "  </tbody>\n",
       "</table>\n",
       "<p>3014 rows × 66 columns</p>\n",
       "</div>"
      ],
      "text/plain": [
       "        codigo_municipio  codigo_region nombre_region  codigo_area  \\\n",
       "58583                NaN            NaN           NaN          NaN   \n",
       "77090                NaN            NaN           NaN          NaN   \n",
       "81009                NaN            NaN           NaN          NaN   \n",
       "110671               NaN            NaN           NaN          NaN   \n",
       "130628               NaN            NaN           NaN          NaN   \n",
       "...                  ...            ...           ...          ...   \n",
       "250636               NaN            NaN           NaN          NaN   \n",
       "250637               NaN            NaN           NaN          NaN   \n",
       "250638               NaN            NaN           NaN          NaN   \n",
       "250639               NaN            NaN           NaN          NaN   \n",
       "250640               NaN            NaN           NaN          NaN   \n",
       "\n",
       "       nombre_area conurbano_interior  seccion_electoral  superficie(km2)  \\\n",
       "58583          NaN                NaN                NaN              NaN   \n",
       "77090          NaN                NaN                NaN              NaN   \n",
       "81009          NaN                NaN                NaN              NaN   \n",
       "110671         NaN                NaN                NaN              NaN   \n",
       "130628         NaN                NaN                NaN              NaN   \n",
       "...            ...                ...                ...              ...   \n",
       "250636         NaN                NaN                NaN              NaN   \n",
       "250637         NaN                NaN                NaN              NaN   \n",
       "250638         NaN                NaN                NaN              NaN   \n",
       "250639         NaN                NaN                NaN              NaN   \n",
       "250640         NaN                NaN                NaN              NaN   \n",
       "\n",
       "       intendente partido_politico_actual  ...  \\\n",
       "58583         NaN                     NaN  ...   \n",
       "77090         NaN                     NaN  ...   \n",
       "81009         NaN                     NaN  ...   \n",
       "110671        NaN                     NaN  ...   \n",
       "130628        NaN                     NaN  ...   \n",
       "...           ...                     ...  ...   \n",
       "250636        NaN                     NaN  ...   \n",
       "250637        NaN                     NaN  ...   \n",
       "250638        NaN                     NaN  ...   \n",
       "250639        NaN                     NaN  ...   \n",
       "250640        NaN                     NaN  ...   \n",
       "\n",
       "                                          obra_a_realizar  trabara_en_la_obra  \\\n",
       "58583   Construcción de habitación adicional, Construc...               False   \n",
       "77090   Construcción de losa para futura ampliación, C...                True   \n",
       "81009   Adaptación de instalaciones sanitarias para me...                True   \n",
       "110671  Reforma de baño, Construcción de habitación ad...                True   \n",
       "130628              Construcción de divisiones interiores               False   \n",
       "...                                                   ...                 ...   \n",
       "250636       Garage, Construcción de habitación adicional               False   \n",
       "250637  Construcción y/o reforma de cocina, Construcci...                True   \n",
       "250638  Construcción y/o reforma de cocina, Construcci...                True   \n",
       "250639  Construcción de losa para futura ampliación, R...                True   \n",
       "250640               Construcción de habitación adicional                True   \n",
       "\n",
       "        tenes_ingresos           principal_fuente_ingresos ingreso_anual  \\\n",
       "58583             True  Trabajo en relación de dependencia       1610000   \n",
       "77090            False                                Otro         45000   \n",
       "81009            False                                Otro            50   \n",
       "110671            True                                Otro         55000   \n",
       "130628            True  Trabajo en relación de dependencia       1200000   \n",
       "...                ...                                 ...           ...   \n",
       "250636            True  Trabajo en relación de dependencia       2400000   \n",
       "250637            True  Trabajo en relación de dependencia       1650000   \n",
       "250638            True  Trabajo en relación de dependencia        800000   \n",
       "250639            True  Trabajo en relación de dependencia        800000   \n",
       "250640            True  Trabajo en relación de dependencia       1900000   \n",
       "\n",
       "                                            linea_optada           created_at  \\\n",
       "58583          Ampliaciones  -  6.240 UVIs  -  $ 740.813  2022-08-31 17:23:44   \n",
       "77090          Ampliaciones  -  5.460 UVIs  -  $ 648.211  2022-08-31 17:30:59   \n",
       "81009          Ampliaciones  -  6.240 UVIs  -  $ 740.813  2022-08-31 17:32:22   \n",
       "110671  Refacciones Mayores  -  3.120 UVIs  -  $ 417.643  2022-10-11 15:09:29   \n",
       "130628         Ampliaciones  -  6.240 UVIs  -  $ 835.286  2022-10-12 19:28:11   \n",
       "...                                                  ...                  ...   \n",
       "250636         Ampliaciones  -  6.240 UVIs  -  $ 947.793  2022-12-28 11:14:36   \n",
       "250637         Ampliaciones  -  6.240 UVIs  -  $ 835.286  2022-10-11 15:36:06   \n",
       "250638         Ampliaciones  -  6.240 UVIs  -  $ 740.813  2022-08-31 17:31:00   \n",
       "250639         Ampliaciones  -  6.240 UVIs  -  $ 835.286  2022-10-11 15:06:23   \n",
       "250640         Ampliaciones  -  6.240 UVIs  -  $ 835.286  2022-10-18 13:35:06   \n",
       "\n",
       "                 updated_at  ingreso_anual_hogar personas_por_ambiente  \n",
       "58583   2022-08-31 17:23:44              1610000              2.000000  \n",
       "77090   2022-08-31 17:30:59                45000              1.000000  \n",
       "81009   2022-08-31 17:32:22                   50              3.000000  \n",
       "110671  2022-10-11 15:09:29                55000              4.000000  \n",
       "130628  2022-10-12 19:28:11              1200000              1.500000  \n",
       "...                     ...                  ...                   ...  \n",
       "250636  2025-01-07 10:28:02              2400000              0.666667  \n",
       "250637  2025-01-23 15:23:04              2076000              1.000000  \n",
       "250638  2025-02-11 09:20:09               800000              2.000000  \n",
       "250639  2025-02-12 12:17:35               800000              3.000000  \n",
       "250640  2025-02-24 10:42:28              1900000              3.000000  \n",
       "\n",
       "[3014 rows x 66 columns]"
      ]
     },
     "execution_count": 17,
     "metadata": {},
     "output_type": "execute_result"
    }
   ],
   "source": [
    "formularios_estudio"
   ]
  },
  {
   "cell_type": "markdown",
   "id": "bb1fe29c",
   "metadata": {},
   "source": [
    "### ETAPA 3: Cálculo de atributos faltantes (edad)"
   ]
  },
  {
   "cell_type": "code",
   "execution_count": 18,
   "id": "c0c8efc7",
   "metadata": {},
   "outputs": [
    {
     "data": {
      "text/plain": [
       "58583    2022-07-25\n",
       "77090    2022-07-21\n",
       "81009    2022-07-20\n",
       "110671   2022-09-23\n",
       "130628   2022-10-03\n",
       "            ...    \n",
       "250636   2022-12-05\n",
       "250637   2022-09-29\n",
       "250638   2022-07-21\n",
       "250639   2022-09-25\n",
       "250640   2022-10-17\n",
       "Name: fecha_carga, Length: 3014, dtype: datetime64[ns]"
      ]
     },
     "execution_count": 18,
     "metadata": {},
     "output_type": "execute_result"
    }
   ],
   "source": [
    "# Cálculo de edad\n",
    "\n",
    "# Chequeamos la columna 'fecha_carga'\n",
    "formularios_estudio['fecha_carga']"
   ]
  },
  {
   "cell_type": "code",
   "execution_count": 19,
   "id": "ba7687cc",
   "metadata": {},
   "outputs": [
    {
     "data": {
      "text/plain": [
       "58583     1977-09-19 00:00:00\n",
       "77090     1996-07-28 00:00:00\n",
       "81009     2003-04-01 00:00:00\n",
       "110671    1997-09-11 00:00:00\n",
       "130628    1979-11-16 00:00:00\n",
       "                 ...         \n",
       "250636    1980-04-07 00:00:00\n",
       "250637    1975-03-14 00:00:00\n",
       "250638    1976-08-11 00:00:00\n",
       "250639    1987-01-24 00:00:00\n",
       "250640    1990-12-12 00:00:00\n",
       "Name: fecha_de_nacimiento, Length: 3014, dtype: object"
      ]
     },
     "execution_count": 19,
     "metadata": {},
     "output_type": "execute_result"
    }
   ],
   "source": [
    "#Chequeamos la columna 'fecha_de_nacimiento'\n",
    "formularios_estudio['fecha_de_nacimiento']"
   ]
  },
  {
   "cell_type": "code",
   "execution_count": 20,
   "id": "b78fdb61",
   "metadata": {},
   "outputs": [],
   "source": [
    "# Como los valores de cada columna son de distinto tipo de dato, transformamos 'fecha_de_nacimiento' para poder operar \n",
    "formularios_estudio['fecha_de_nacimiento'] = pd.to_datetime(\n",
    "    formularios_estudio['fecha_de_nacimiento'], \n",
    "    errors='coerce'\n",
    ")"
   ]
  },
  {
   "cell_type": "code",
   "execution_count": 21,
   "id": "3822c4ae",
   "metadata": {},
   "outputs": [],
   "source": [
    "# Normalizamos quitando hora/minutos/segundo\n",
    "formularios_estudio['fecha_de_nacimiento'] = formularios_estudio['fecha_de_nacimiento'].dt.normalize()"
   ]
  },
  {
   "cell_type": "code",
   "execution_count": 22,
   "id": "7f0ad39d",
   "metadata": {},
   "outputs": [
    {
     "data": {
      "text/plain": [
       "58583     16380.0\n",
       "77090      9489.0\n",
       "81009      7050.0\n",
       "110671     9143.0\n",
       "130628    15662.0\n",
       "           ...   \n",
       "250636    15582.0\n",
       "250637    17366.0\n",
       "250638    16780.0\n",
       "250639    13028.0\n",
       "250640    11632.0\n",
       "Length: 3014, dtype: float64"
      ]
     },
     "execution_count": 22,
     "metadata": {},
     "output_type": "execute_result"
    }
   ],
   "source": [
    "# Obtenemos la diferencia entre 'fecha_de_nacimiento' y 'fecha_carga'\n",
    "edad =  (formularios_estudio['fecha_carga'] - formularios_estudio['fecha_de_nacimiento']).dt.days\n",
    "edad\n"
   ]
  },
  {
   "cell_type": "code",
   "execution_count": 23,
   "id": "417c3779",
   "metadata": {},
   "outputs": [],
   "source": [
    "#df_inscriptos_etapa_1['edad'] = edad // 365.25\n",
    "formularios_estudio['edad'] = (edad // 365.25)\n",
    "\n",
    "# Convertir la columna 'edad' a tipo entero y mantiene valores NA\n",
    "formularios_estudio['edad'] = pd.to_numeric(formularios_estudio['edad'], errors='coerce').astype('Int64')"
   ]
  },
  {
   "cell_type": "code",
   "execution_count": 24,
   "id": "a83ea901",
   "metadata": {},
   "outputs": [
    {
     "data": {
      "text/plain": [
       "58583     44\n",
       "77090     25\n",
       "81009     19\n",
       "110671    25\n",
       "130628    42\n",
       "          ..\n",
       "250636    42\n",
       "250637    47\n",
       "250638    45\n",
       "250639    35\n",
       "250640    31\n",
       "Name: edad, Length: 3014, dtype: Int64"
      ]
     },
     "execution_count": 24,
     "metadata": {},
     "output_type": "execute_result"
    }
   ],
   "source": [
    "formularios_estudio['edad']"
   ]
  },
  {
   "cell_type": "markdown",
   "id": "37ee681e",
   "metadata": {},
   "source": [
    "### ETAPA 4 : Renombramiento"
   ]
  },
  {
   "cell_type": "markdown",
   "id": "3804c103",
   "metadata": {},
   "source": [
    "##### Crear una fila nueva cuyos elementos organice la columna 'state' en dos condiciones: si el valor es 'solicitud_adjudicada', se llamará \"Tratamiento\", de lo contrario, se llamará \"Control\" (es decir, los valores 'desestimado', 'no_admisible', 'admisible_fuera_de_cupo''para_enviar_a_use', 'presentado','solicitud_rechazada_por_falta_de_elegibilidad', 'enviada_a_use','admisible' 'solicitud_elegible_rechazada_por_excedente','solicitud_con_adjudicacion_iniciada' 'solicitud_elegible''solicitud_elegible_rechazadas_por_excedente', estarán en este último grupo)."
   ]
  },
  {
   "cell_type": "code",
   "execution_count": 25,
   "id": "d6c749bd",
   "metadata": {},
   "outputs": [],
   "source": [
    "# Hacemos cálculos estadísticos básicos sobre la columna 'ingreso_anual_hogar'\n",
    "ejemplo_agrupaciones_2 = formularios_estudio['ingreso_anual_hogar'].agg(\n",
    "    cantidad='count',\n",
    "    media_ing='mean',\n",
    "    max_ing='max',\n",
    "    min_ing='min',\n",
    "    desvio_ing='std'\n",
    ").to_frame().T"
   ]
  },
  {
   "cell_type": "code",
   "execution_count": 26,
   "id": "9036d961",
   "metadata": {},
   "outputs": [
    {
     "data": {
      "text/html": [
       "<div>\n",
       "<style scoped>\n",
       "    .dataframe tbody tr th:only-of-type {\n",
       "        vertical-align: middle;\n",
       "    }\n",
       "\n",
       "    .dataframe tbody tr th {\n",
       "        vertical-align: top;\n",
       "    }\n",
       "\n",
       "    .dataframe thead th {\n",
       "        text-align: right;\n",
       "    }\n",
       "</style>\n",
       "<table border=\"1\" class=\"dataframe\">\n",
       "  <thead>\n",
       "    <tr style=\"text-align: right;\">\n",
       "      <th></th>\n",
       "      <th>cantidad</th>\n",
       "      <th>media_ing</th>\n",
       "      <th>max_ing</th>\n",
       "      <th>min_ing</th>\n",
       "      <th>desvio_ing</th>\n",
       "    </tr>\n",
       "  </thead>\n",
       "  <tbody>\n",
       "    <tr>\n",
       "      <th>ingreso_anual_hogar</th>\n",
       "      <td>3014.0</td>\n",
       "      <td>2.649338e+06</td>\n",
       "      <td>243687983.0</td>\n",
       "      <td>1.0</td>\n",
       "      <td>5.179040e+06</td>\n",
       "    </tr>\n",
       "  </tbody>\n",
       "</table>\n",
       "</div>"
      ],
      "text/plain": [
       "                     cantidad     media_ing      max_ing  min_ing  \\\n",
       "ingreso_anual_hogar    3014.0  2.649338e+06  243687983.0      1.0   \n",
       "\n",
       "                       desvio_ing  \n",
       "ingreso_anual_hogar  5.179040e+06  "
      ]
     },
     "execution_count": 26,
     "metadata": {},
     "output_type": "execute_result"
    }
   ],
   "source": [
    "ejemplo_agrupaciones_2"
   ]
  },
  {
   "cell_type": "code",
   "execution_count": 27,
   "id": "24a88dda",
   "metadata": {},
   "outputs": [],
   "source": [
    "# Calculamos el coeficiente de variación\n",
    "ejemplo_agrupaciones_3 = formularios_estudio['ingreso_anual_hogar'].agg(\n",
    "    cantidad='count',\n",
    "    media_ing='mean',\n",
    "    desvio_ing='std',\n",
    ").to_frame().T"
   ]
  },
  {
   "cell_type": "code",
   "execution_count": 28,
   "id": "0d09a644",
   "metadata": {},
   "outputs": [],
   "source": [
    "ejemplo_agrupaciones_3['%desv_ing'] = (ejemplo_agrupaciones_3['desvio_ing'] / ejemplo_agrupaciones_3['media_ing'] * 100).round(1)"
   ]
  },
  {
   "cell_type": "code",
   "execution_count": 29,
   "id": "620dab76",
   "metadata": {},
   "outputs": [
    {
     "data": {
      "text/html": [
       "<div>\n",
       "<style scoped>\n",
       "    .dataframe tbody tr th:only-of-type {\n",
       "        vertical-align: middle;\n",
       "    }\n",
       "\n",
       "    .dataframe tbody tr th {\n",
       "        vertical-align: top;\n",
       "    }\n",
       "\n",
       "    .dataframe thead th {\n",
       "        text-align: right;\n",
       "    }\n",
       "</style>\n",
       "<table border=\"1\" class=\"dataframe\">\n",
       "  <thead>\n",
       "    <tr style=\"text-align: right;\">\n",
       "      <th></th>\n",
       "      <th>cantidad</th>\n",
       "      <th>media_ing</th>\n",
       "      <th>desvio_ing</th>\n",
       "      <th>%desv_ing</th>\n",
       "    </tr>\n",
       "  </thead>\n",
       "  <tbody>\n",
       "    <tr>\n",
       "      <th>ingreso_anual_hogar</th>\n",
       "      <td>3014.0</td>\n",
       "      <td>2.649338e+06</td>\n",
       "      <td>5.179040e+06</td>\n",
       "      <td>195.5</td>\n",
       "    </tr>\n",
       "  </tbody>\n",
       "</table>\n",
       "</div>"
      ],
      "text/plain": [
       "                     cantidad     media_ing    desvio_ing  %desv_ing\n",
       "ingreso_anual_hogar    3014.0  2.649338e+06  5.179040e+06      195.5"
      ]
     },
     "execution_count": 29,
     "metadata": {},
     "output_type": "execute_result"
    }
   ],
   "source": [
    "ejemplo_agrupaciones_3"
   ]
  },
  {
   "cell_type": "code",
   "execution_count": 30,
   "id": "7a35376e",
   "metadata": {},
   "outputs": [],
   "source": [
    "# el desvío estándar es mucho mayor que la media."
   ]
  },
  {
   "cell_type": "code",
   "execution_count": 31,
   "id": "a4a932b0",
   "metadata": {},
   "outputs": [],
   "source": [
    "# Calcula la proporción de género femenino\n",
    "ejemplo_agrupaciones_4 = pd.DataFrame({\n",
    "    '%sexo_f': [(formularios_estudio['sexo_dni'] == 'F').mean()]\n",
    "})"
   ]
  },
  {
   "cell_type": "code",
   "execution_count": 32,
   "id": "9ff24c78",
   "metadata": {},
   "outputs": [
    {
     "data": {
      "text/html": [
       "<div>\n",
       "<style scoped>\n",
       "    .dataframe tbody tr th:only-of-type {\n",
       "        vertical-align: middle;\n",
       "    }\n",
       "\n",
       "    .dataframe tbody tr th {\n",
       "        vertical-align: top;\n",
       "    }\n",
       "\n",
       "    .dataframe thead th {\n",
       "        text-align: right;\n",
       "    }\n",
       "</style>\n",
       "<table border=\"1\" class=\"dataframe\">\n",
       "  <thead>\n",
       "    <tr style=\"text-align: right;\">\n",
       "      <th></th>\n",
       "      <th>%sexo_f</th>\n",
       "    </tr>\n",
       "  </thead>\n",
       "  <tbody>\n",
       "    <tr>\n",
       "      <th>0</th>\n",
       "      <td>0.589582</td>\n",
       "    </tr>\n",
       "  </tbody>\n",
       "</table>\n",
       "</div>"
      ],
      "text/plain": [
       "    %sexo_f\n",
       "0  0.589582"
      ]
     },
     "execution_count": 32,
     "metadata": {},
     "output_type": "execute_result"
    }
   ],
   "source": [
    "ejemplo_agrupaciones_4"
   ]
  },
  {
   "cell_type": "code",
   "execution_count": 33,
   "id": "878aaf12",
   "metadata": {},
   "outputs": [],
   "source": [
    "#Análisis total\n",
    "\n",
    "# Implementamos una función para el cálculo de media y desviación estándar\n",
    "def calcular_media_std(df:pd.DataFrame, columna:str):\n",
    "    return (\n",
    "        f'La media de {columna} es {float(round(df[columna].mean(skipna=True), 1))} ',\n",
    "        f'La desviación estándar de {columna} es {float(round((df[columna].std(skipna=True)), 1))}'\n",
    "    )"
   ]
  },
  {
   "cell_type": "code",
   "execution_count": 34,
   "id": "7c02cb82",
   "metadata": {},
   "outputs": [
    {
     "data": {
      "text/plain": [
       "('La media de ingreso_anual_hogar es 2649338.4 ',\n",
       " 'La desviación estándar de ingreso_anual_hogar es 5179040.3')"
      ]
     },
     "execution_count": 34,
     "metadata": {},
     "output_type": "execute_result"
    }
   ],
   "source": [
    "calcular_media_std(formularios_estudio, 'ingreso_anual_hogar')"
   ]
  },
  {
   "cell_type": "code",
   "execution_count": 35,
   "id": "6960d755",
   "metadata": {},
   "outputs": [
    {
     "data": {
      "text/plain": [
       "('La media de edad es 38.9 ', 'La desviación estándar de edad es 10.9')"
      ]
     },
     "execution_count": 35,
     "metadata": {},
     "output_type": "execute_result"
    }
   ],
   "source": [
    "calcular_media_std(formularios_estudio, 'edad')"
   ]
  },
  {
   "cell_type": "code",
   "execution_count": 36,
   "id": "4d810c16",
   "metadata": {},
   "outputs": [
    {
     "data": {
      "text/plain": [
       "('La media de personas_por_ambiente es 2.4 ',\n",
       " 'La desviación estándar de personas_por_ambiente es 2.8')"
      ]
     },
     "execution_count": 36,
     "metadata": {},
     "output_type": "execute_result"
    }
   ],
   "source": [
    "calcular_media_std(formularios_estudio, 'personas_por_ambiente')"
   ]
  },
  {
   "cell_type": "code",
   "execution_count": 37,
   "id": "452ffc59",
   "metadata": {},
   "outputs": [],
   "source": [
    "# Implementamos una función para el cálculo de media bajo una condición\n",
    "\n",
    "def calcular_media_condicion(df: pd.DataFrame, columna: str, condicion: str):\n",
    "    proporcion = (df[columna] == condicion).mean(skipna=True)\n",
    "    print(f\" La proporción de la media de {condicion} en {columna} es {round(proporcion, 1)}\")\n",
    "    return round(float(proporcion), 1)"
   ]
  },
  {
   "cell_type": "code",
   "execution_count": 38,
   "id": "305ad20b",
   "metadata": {},
   "outputs": [
    {
     "name": "stdout",
     "output_type": "stream",
     "text": [
      " La proporción de la media de F en sexo_dni es 0.6\n",
      " La proporción de la media de M en sexo_dni es 0.4\n",
      " La proporción de la media de Soy jefa(e) en relacion_de_parentezco_con_jefe_del_hogar es 0.6\n",
      " La proporción de la media de Conurbano en conurbano_interior es 0.0\n"
     ]
    },
    {
     "data": {
      "text/plain": [
       "0.0"
      ]
     },
     "execution_count": 38,
     "metadata": {},
     "output_type": "execute_result"
    }
   ],
   "source": [
    "calcular_media_condicion(formularios_estudio,'sexo_dni', 'F')\n",
    "calcular_media_condicion(formularios_estudio, 'sexo_dni', 'M')\n",
    "calcular_media_condicion(formularios_estudio, 'relacion_de_parentezco_con_jefe_del_hogar', 'Soy jefa(e)')\n",
    "calcular_media_condicion(formularios_estudio, 'conurbano_interior', 'Conurbano')"
   ]
  },
  {
   "cell_type": "code",
   "execution_count": 39,
   "id": "881ace3d",
   "metadata": {},
   "outputs": [
    {
     "data": {
      "text/plain": [
       "conurbano_interior\n",
       "False    3014\n",
       "Name: count, dtype: int64"
      ]
     },
     "execution_count": 39,
     "metadata": {},
     "output_type": "execute_result"
    }
   ],
   "source": [
    "#Chequeamos el motivo que de la proporción de la media en 'conurbano_interior'es 0.0\n",
    "(formularios_estudio['conurbano_interior'] == 'Conurbano').value_counts()\n"
   ]
  },
  {
   "cell_type": "code",
   "execution_count": 40,
   "id": "9bd82439",
   "metadata": {},
   "outputs": [
    {
     "data": {
      "text/plain": [
       "0.2"
      ]
     },
     "execution_count": 40,
     "metadata": {},
     "output_type": "execute_result"
    }
   ],
   "source": [
    "vuln = float(round(formularios_estudio['escenario_vulnerabilidad_social'].mean(skipna=True), 1))\n",
    "vuln"
   ]
  },
  {
   "cell_type": "code",
   "execution_count": 41,
   "id": "58a330f4",
   "metadata": {},
   "outputs": [
    {
     "data": {
      "text/plain": [
       "58583     Tratamiento\n",
       "77090     Tratamiento\n",
       "81009     Tratamiento\n",
       "110671    Tratamiento\n",
       "130628    Tratamiento\n",
       "             ...     \n",
       "250636        Control\n",
       "250637        Control\n",
       "250638        Control\n",
       "250639        Control\n",
       "250640        Control\n",
       "Name: grupo, Length: 3014, dtype: object"
      ]
     },
     "execution_count": 41,
     "metadata": {},
     "output_type": "execute_result"
    }
   ],
   "source": [
    "# Se agrupa en 'Tratamiento' si se cumple 'solicitud_adjudicada', y 'control', en caso contrario\n",
    "formularios_estudio['grupo'] = np.where( formularios_estudio['state'] == 'solicitud_adjudicada','Tratamiento', 'Control')\n",
    "\n",
    "formularios_estudio['grupo']"
   ]
  },
  {
   "cell_type": "code",
   "execution_count": 42,
   "id": "5baa929c",
   "metadata": {},
   "outputs": [],
   "source": [
    "# Guardar extracción de datos en \"Control\" o \"Tratamiento\"\n",
    "grupo_control = (formularios_estudio['grupo']) == 'Control' # es una serie que devuelve booleanos\n",
    "grupo_tratamiento = (formularios_estudio['grupo']) == 'Tratamiento' # idem"
   ]
  },
  {
   "cell_type": "code",
   "execution_count": 43,
   "id": "09627d01",
   "metadata": {},
   "outputs": [],
   "source": [
    "# A cada grupo le damos estructura de dataframe nuevo\n",
    "df_control = formularios_estudio[grupo_control]\n",
    "df_tratamiento = formularios_estudio[grupo_tratamiento]"
   ]
  },
  {
   "cell_type": "code",
   "execution_count": 44,
   "id": "5804f3a7",
   "metadata": {},
   "outputs": [],
   "source": [
    "# Se eliminan columnas innecesarias en ambos dataframes\n",
    "df_control_clean = df_control.drop(columns=[\n",
    "    'codigo_municipio', 'codigo_region', 'nombre_region', 'codigo_area',\n",
    "    'nombre_area', 'conurbano_interior', 'seccion_electoral',\n",
    "    'superficie(km2)', 'intendente', 'partido_politico_actual', \n",
    "    'poblacion_censo_2010', 'poblacion_censo_2022'\n",
    "])\n"
   ]
  },
  {
   "cell_type": "code",
   "execution_count": 45,
   "id": "c1188115",
   "metadata": {},
   "outputs": [],
   "source": [
    "df_tratamiento_clean = df_tratamiento.drop(columns=[\n",
    "    'codigo_municipio', 'codigo_region', 'nombre_region', 'codigo_area',\n",
    "    'nombre_area', 'conurbano_interior', 'seccion_electoral',\n",
    "    'superficie(km2)', 'intendente', 'partido_politico_actual', \n",
    "    'poblacion_censo_2010', 'poblacion_censo_2022'\n",
    "])"
   ]
  },
  {
   "cell_type": "code",
   "execution_count": 46,
   "id": "641ee930",
   "metadata": {},
   "outputs": [],
   "source": [
    "# Creamos nueva función que calcula media y desviación estándar\n",
    "\n",
    "def calcular_media_std_1(df: pd.DataFrame, columna:str):\n",
    "    media = round(df[columna].mean(skipna=True),1)\n",
    "    std = round(df[columna].std(skipna=True),1)\n",
    "    return media, std"
   ]
  },
  {
   "cell_type": "code",
   "execution_count": 47,
   "id": "efa355d7",
   "metadata": {},
   "outputs": [],
   "source": [
    "# Creamos una función que utiliza el cálculo anterior, y transformaciones a dataframe\n",
    "def calcular_media_std_lista(df: pd.DataFrame, lista: list):\n",
    "    resultados = {}\n",
    "    for columna in lista:\n",
    "        media, std = calcular_media_std_1(df, columna)\n",
    "        resultados[f'media_{columna}'] = media\n",
    "        resultados[f'desv_{columna}'] = std\n",
    "    return pd.DataFrame([resultados]) # pandas necesita lista de diccionarios\n"
   ]
  },
  {
   "cell_type": "code",
   "execution_count": 48,
   "id": "12a6d90a",
   "metadata": {},
   "outputs": [
    {
     "data": {
      "text/html": [
       "<div>\n",
       "<style scoped>\n",
       "    .dataframe tbody tr th:only-of-type {\n",
       "        vertical-align: middle;\n",
       "    }\n",
       "\n",
       "    .dataframe tbody tr th {\n",
       "        vertical-align: top;\n",
       "    }\n",
       "\n",
       "    .dataframe thead th {\n",
       "        text-align: right;\n",
       "    }\n",
       "</style>\n",
       "<table border=\"1\" class=\"dataframe\">\n",
       "  <thead>\n",
       "    <tr style=\"text-align: right;\">\n",
       "      <th></th>\n",
       "      <th>media_ingreso_anual_hogar</th>\n",
       "      <th>desv_ingreso_anual_hogar</th>\n",
       "      <th>media_edad</th>\n",
       "      <th>desv_edad</th>\n",
       "      <th>media_personas_por_ambiente</th>\n",
       "      <th>desv_personas_por_ambiente</th>\n",
       "    </tr>\n",
       "  </thead>\n",
       "  <tbody>\n",
       "    <tr>\n",
       "      <th>0</th>\n",
       "      <td>2368529.3</td>\n",
       "      <td>6601576.0</td>\n",
       "      <td>39.3</td>\n",
       "      <td>11.6</td>\n",
       "      <td>2.4</td>\n",
       "      <td>2.5</td>\n",
       "    </tr>\n",
       "  </tbody>\n",
       "</table>\n",
       "</div>"
      ],
      "text/plain": [
       "   media_ingreso_anual_hogar  desv_ingreso_anual_hogar  media_edad  desv_edad  \\\n",
       "0                  2368529.3                 6601576.0        39.3       11.6   \n",
       "\n",
       "   media_personas_por_ambiente  desv_personas_por_ambiente  \n",
       "0                          2.4                         2.5  "
      ]
     },
     "execution_count": 48,
     "metadata": {},
     "output_type": "execute_result"
    }
   ],
   "source": [
    "lista = ['ingreso_anual_hogar', 'edad', 'personas_por_ambiente']\n",
    "calcular_media_std_lista(df_tratamiento_clean, lista)"
   ]
  },
  {
   "cell_type": "code",
   "execution_count": 49,
   "id": "f6615c02",
   "metadata": {},
   "outputs": [
    {
     "data": {
      "text/html": [
       "<div>\n",
       "<style scoped>\n",
       "    .dataframe tbody tr th:only-of-type {\n",
       "        vertical-align: middle;\n",
       "    }\n",
       "\n",
       "    .dataframe tbody tr th {\n",
       "        vertical-align: top;\n",
       "    }\n",
       "\n",
       "    .dataframe thead th {\n",
       "        text-align: right;\n",
       "    }\n",
       "</style>\n",
       "<table border=\"1\" class=\"dataframe\">\n",
       "  <thead>\n",
       "    <tr style=\"text-align: right;\">\n",
       "      <th></th>\n",
       "      <th>media_ingreso_anual_hogar</th>\n",
       "      <th>desv_ingreso_anual_hogar</th>\n",
       "      <th>media_edad</th>\n",
       "      <th>desv_edad</th>\n",
       "      <th>media_personas_por_ambiente</th>\n",
       "      <th>desv_personas_por_ambiente</th>\n",
       "    </tr>\n",
       "  </thead>\n",
       "  <tbody>\n",
       "    <tr>\n",
       "      <th>0</th>\n",
       "      <td>2943501.1</td>\n",
       "      <td>3019208.7</td>\n",
       "      <td>38.4</td>\n",
       "      <td>10.1</td>\n",
       "      <td>2.5</td>\n",
       "      <td>3.0</td>\n",
       "    </tr>\n",
       "  </tbody>\n",
       "</table>\n",
       "</div>"
      ],
      "text/plain": [
       "   media_ingreso_anual_hogar  desv_ingreso_anual_hogar  media_edad  desv_edad  \\\n",
       "0                  2943501.1                 3019208.7        38.4       10.1   \n",
       "\n",
       "   media_personas_por_ambiente  desv_personas_por_ambiente  \n",
       "0                          2.5                         3.0  "
      ]
     },
     "execution_count": 49,
     "metadata": {},
     "output_type": "execute_result"
    }
   ],
   "source": [
    "lista = ['ingreso_anual_hogar', 'edad', 'personas_por_ambiente']\n",
    "calcular_media_std_lista(df_control_clean, lista)"
   ]
  },
  {
   "cell_type": "code",
   "execution_count": 50,
   "id": "828be0db",
   "metadata": {},
   "outputs": [],
   "source": [
    "def calcular_media_condicion(df: pd.DataFrame, dict_condiciones: dict):\n",
    "    resultado = {}\n",
    "    for columna, lista_condiciones in dict_condiciones.items():\n",
    "        for condicion in lista_condiciones:\n",
    "            proporcion = (df[columna] == condicion).mean(skipna=True)\n",
    "            resultado[f'media_{columna}_{condicion}'] = round(proporcion,1)\n",
    "    return pd.DataFrame([resultado])"
   ]
  },
  {
   "cell_type": "code",
   "execution_count": 51,
   "id": "175cbc55",
   "metadata": {},
   "outputs": [
    {
     "data": {
      "text/html": [
       "<div>\n",
       "<style scoped>\n",
       "    .dataframe tbody tr th:only-of-type {\n",
       "        vertical-align: middle;\n",
       "    }\n",
       "\n",
       "    .dataframe tbody tr th {\n",
       "        vertical-align: top;\n",
       "    }\n",
       "\n",
       "    .dataframe thead th {\n",
       "        text-align: right;\n",
       "    }\n",
       "</style>\n",
       "<table border=\"1\" class=\"dataframe\">\n",
       "  <thead>\n",
       "    <tr style=\"text-align: right;\">\n",
       "      <th></th>\n",
       "      <th>media_sexo_dni_F</th>\n",
       "      <th>media_sexo_dni_M</th>\n",
       "      <th>media_relacion_de_parentezco_con_jefe_del_hogar_Soy jefa(e)</th>\n",
       "    </tr>\n",
       "  </thead>\n",
       "  <tbody>\n",
       "    <tr>\n",
       "      <th>0</th>\n",
       "      <td>0.6</td>\n",
       "      <td>0.4</td>\n",
       "      <td>0.7</td>\n",
       "    </tr>\n",
       "  </tbody>\n",
       "</table>\n",
       "</div>"
      ],
      "text/plain": [
       "   media_sexo_dni_F  media_sexo_dni_M  \\\n",
       "0               0.6               0.4   \n",
       "\n",
       "   media_relacion_de_parentezco_con_jefe_del_hogar_Soy jefa(e)  \n",
       "0                                                0.7            "
      ]
     },
     "execution_count": 51,
     "metadata": {},
     "output_type": "execute_result"
    }
   ],
   "source": [
    "dict_condiciones = {\n",
    "    'sexo_dni': ['F','M'],\n",
    "    'relacion_de_parentezco_con_jefe_del_hogar': ['Soy jefa(e)']\n",
    "}\n",
    "\n",
    "calcular_media_condicion(df_tratamiento_clean, dict_condiciones)"
   ]
  },
  {
   "cell_type": "code",
   "execution_count": 52,
   "id": "84ef51ff",
   "metadata": {},
   "outputs": [
    {
     "data": {
      "text/html": [
       "<div>\n",
       "<style scoped>\n",
       "    .dataframe tbody tr th:only-of-type {\n",
       "        vertical-align: middle;\n",
       "    }\n",
       "\n",
       "    .dataframe tbody tr th {\n",
       "        vertical-align: top;\n",
       "    }\n",
       "\n",
       "    .dataframe thead th {\n",
       "        text-align: right;\n",
       "    }\n",
       "</style>\n",
       "<table border=\"1\" class=\"dataframe\">\n",
       "  <thead>\n",
       "    <tr style=\"text-align: right;\">\n",
       "      <th></th>\n",
       "      <th>media_sexo_dni_F</th>\n",
       "      <th>media_sexo_dni_M</th>\n",
       "      <th>media_relacion_de_parentezco_con_jefe_del_hogar_Soy jefa(e)</th>\n",
       "    </tr>\n",
       "  </thead>\n",
       "  <tbody>\n",
       "    <tr>\n",
       "      <th>0</th>\n",
       "      <td>0.6</td>\n",
       "      <td>0.4</td>\n",
       "      <td>0.5</td>\n",
       "    </tr>\n",
       "  </tbody>\n",
       "</table>\n",
       "</div>"
      ],
      "text/plain": [
       "   media_sexo_dni_F  media_sexo_dni_M  \\\n",
       "0               0.6               0.4   \n",
       "\n",
       "   media_relacion_de_parentezco_con_jefe_del_hogar_Soy jefa(e)  \n",
       "0                                                0.5            "
      ]
     },
     "execution_count": 52,
     "metadata": {},
     "output_type": "execute_result"
    }
   ],
   "source": [
    "calcular_media_condicion(df_control_clean, dict_condiciones)"
   ]
  },
  {
   "cell_type": "code",
   "execution_count": 53,
   "id": "635d9bd2",
   "metadata": {},
   "outputs": [],
   "source": [
    "# Resetear los índices de cada dataframe por muestra"
   ]
  },
  {
   "cell_type": "code",
   "execution_count": 54,
   "id": "bced7f96",
   "metadata": {},
   "outputs": [],
   "source": [
    "# Grupo tratamiento\n",
    "\n",
    "df_media_tratamiento = calcular_media_condicion(df_tratamiento_clean, dict_condiciones)\n",
    "df_media_std_tratamiento = calcular_media_std_lista(df_tratamiento_clean,lista)\n",
    "\n",
    "df1 = df_media_tratamiento.reset_index(drop=True)\n",
    "df2 = df_media_std_tratamiento.reset_index(drop=True)"
   ]
  },
  {
   "cell_type": "code",
   "execution_count": 55,
   "id": "8baa4324",
   "metadata": {},
   "outputs": [],
   "source": [
    "df_tratamiento_total = pd.concat([df1, df2], axis=1)"
   ]
  },
  {
   "cell_type": "code",
   "execution_count": 56,
   "id": "00f3f2f7",
   "metadata": {},
   "outputs": [
    {
     "data": {
      "text/html": [
       "<div>\n",
       "<style scoped>\n",
       "    .dataframe tbody tr th:only-of-type {\n",
       "        vertical-align: middle;\n",
       "    }\n",
       "\n",
       "    .dataframe tbody tr th {\n",
       "        vertical-align: top;\n",
       "    }\n",
       "\n",
       "    .dataframe thead th {\n",
       "        text-align: right;\n",
       "    }\n",
       "</style>\n",
       "<table border=\"1\" class=\"dataframe\">\n",
       "  <thead>\n",
       "    <tr style=\"text-align: right;\">\n",
       "      <th></th>\n",
       "      <th>media_sexo_dni_F</th>\n",
       "      <th>media_sexo_dni_M</th>\n",
       "      <th>media_relacion_de_parentezco_con_jefe_del_hogar_Soy jefa(e)</th>\n",
       "      <th>media_ingreso_anual_hogar</th>\n",
       "      <th>desv_ingreso_anual_hogar</th>\n",
       "      <th>media_edad</th>\n",
       "      <th>desv_edad</th>\n",
       "      <th>media_personas_por_ambiente</th>\n",
       "      <th>desv_personas_por_ambiente</th>\n",
       "    </tr>\n",
       "  </thead>\n",
       "  <tbody>\n",
       "    <tr>\n",
       "      <th>0</th>\n",
       "      <td>0.6</td>\n",
       "      <td>0.4</td>\n",
       "      <td>0.7</td>\n",
       "      <td>2368529.3</td>\n",
       "      <td>6601576.0</td>\n",
       "      <td>39.3</td>\n",
       "      <td>11.6</td>\n",
       "      <td>2.4</td>\n",
       "      <td>2.5</td>\n",
       "    </tr>\n",
       "  </tbody>\n",
       "</table>\n",
       "</div>"
      ],
      "text/plain": [
       "   media_sexo_dni_F  media_sexo_dni_M  \\\n",
       "0               0.6               0.4   \n",
       "\n",
       "   media_relacion_de_parentezco_con_jefe_del_hogar_Soy jefa(e)  \\\n",
       "0                                                0.7             \n",
       "\n",
       "   media_ingreso_anual_hogar  desv_ingreso_anual_hogar  media_edad  desv_edad  \\\n",
       "0                  2368529.3                 6601576.0        39.3       11.6   \n",
       "\n",
       "   media_personas_por_ambiente  desv_personas_por_ambiente  \n",
       "0                          2.4                         2.5  "
      ]
     },
     "execution_count": 56,
     "metadata": {},
     "output_type": "execute_result"
    }
   ],
   "source": [
    "df_tratamiento_total"
   ]
  },
  {
   "cell_type": "code",
   "execution_count": 57,
   "id": "b03345d4",
   "metadata": {},
   "outputs": [],
   "source": [
    "# Grupo control\n",
    "\n",
    "df_media_control = calcular_media_condicion(df_control_clean, dict_condiciones)\n",
    "df_media_std_control = calcular_media_std_lista(df_control_clean,lista)\n",
    "\n",
    "df3 = df_media_control.reset_index(drop=True)\n",
    "df4 = df_media_std_control.reset_index(drop=True)\n"
   ]
  },
  {
   "cell_type": "code",
   "execution_count": 58,
   "id": "3117b82d",
   "metadata": {},
   "outputs": [
    {
     "data": {
      "text/html": [
       "<div>\n",
       "<style scoped>\n",
       "    .dataframe tbody tr th:only-of-type {\n",
       "        vertical-align: middle;\n",
       "    }\n",
       "\n",
       "    .dataframe tbody tr th {\n",
       "        vertical-align: top;\n",
       "    }\n",
       "\n",
       "    .dataframe thead th {\n",
       "        text-align: right;\n",
       "    }\n",
       "</style>\n",
       "<table border=\"1\" class=\"dataframe\">\n",
       "  <thead>\n",
       "    <tr style=\"text-align: right;\">\n",
       "      <th></th>\n",
       "      <th>media_sexo_dni_F</th>\n",
       "      <th>media_sexo_dni_M</th>\n",
       "      <th>media_relacion_de_parentezco_con_jefe_del_hogar_Soy jefa(e)</th>\n",
       "      <th>media_ingreso_anual_hogar</th>\n",
       "      <th>desv_ingreso_anual_hogar</th>\n",
       "      <th>media_edad</th>\n",
       "      <th>desv_edad</th>\n",
       "      <th>media_personas_por_ambiente</th>\n",
       "      <th>desv_personas_por_ambiente</th>\n",
       "    </tr>\n",
       "  </thead>\n",
       "  <tbody>\n",
       "    <tr>\n",
       "      <th>0</th>\n",
       "      <td>0.6</td>\n",
       "      <td>0.4</td>\n",
       "      <td>0.5</td>\n",
       "      <td>2943501.1</td>\n",
       "      <td>3019208.7</td>\n",
       "      <td>38.4</td>\n",
       "      <td>10.1</td>\n",
       "      <td>2.5</td>\n",
       "      <td>3.0</td>\n",
       "    </tr>\n",
       "  </tbody>\n",
       "</table>\n",
       "</div>"
      ],
      "text/plain": [
       "   media_sexo_dni_F  media_sexo_dni_M  \\\n",
       "0               0.6               0.4   \n",
       "\n",
       "   media_relacion_de_parentezco_con_jefe_del_hogar_Soy jefa(e)  \\\n",
       "0                                                0.5             \n",
       "\n",
       "   media_ingreso_anual_hogar  desv_ingreso_anual_hogar  media_edad  desv_edad  \\\n",
       "0                  2943501.1                 3019208.7        38.4       10.1   \n",
       "\n",
       "   media_personas_por_ambiente  desv_personas_por_ambiente  \n",
       "0                          2.5                         3.0  "
      ]
     },
     "execution_count": 58,
     "metadata": {},
     "output_type": "execute_result"
    }
   ],
   "source": [
    "df_control_total = pd.concat([df3, df4], axis=1)\n",
    "df_control_total"
   ]
  },
  {
   "cell_type": "code",
   "execution_count": 59,
   "id": "43db88f5",
   "metadata": {},
   "outputs": [
    {
     "data": {
      "text/html": [
       "<div>\n",
       "<style scoped>\n",
       "    .dataframe tbody tr th:only-of-type {\n",
       "        vertical-align: middle;\n",
       "    }\n",
       "\n",
       "    .dataframe tbody tr th {\n",
       "        vertical-align: top;\n",
       "    }\n",
       "\n",
       "    .dataframe thead th {\n",
       "        text-align: right;\n",
       "    }\n",
       "</style>\n",
       "<table border=\"1\" class=\"dataframe\">\n",
       "  <thead>\n",
       "    <tr style=\"text-align: right;\">\n",
       "      <th></th>\n",
       "      <th>media_sexo_dni_F</th>\n",
       "      <th>media_sexo_dni_M</th>\n",
       "      <th>media_relacion_de_parentezco_con_jefe_del_hogar_Soy jefa(e)</th>\n",
       "      <th>media_ingreso_anual_hogar</th>\n",
       "      <th>desv_ingreso_anual_hogar</th>\n",
       "      <th>media_edad</th>\n",
       "      <th>desv_edad</th>\n",
       "      <th>media_personas_por_ambiente</th>\n",
       "      <th>desv_personas_por_ambiente</th>\n",
       "    </tr>\n",
       "  </thead>\n",
       "  <tbody>\n",
       "    <tr>\n",
       "      <th>0</th>\n",
       "      <td>0.6</td>\n",
       "      <td>0.4</td>\n",
       "      <td>0.7</td>\n",
       "      <td>2368529.3</td>\n",
       "      <td>6601576.0</td>\n",
       "      <td>39.3</td>\n",
       "      <td>11.6</td>\n",
       "      <td>2.4</td>\n",
       "      <td>2.5</td>\n",
       "    </tr>\n",
       "    <tr>\n",
       "      <th>0</th>\n",
       "      <td>0.6</td>\n",
       "      <td>0.4</td>\n",
       "      <td>0.5</td>\n",
       "      <td>2943501.1</td>\n",
       "      <td>3019208.7</td>\n",
       "      <td>38.4</td>\n",
       "      <td>10.1</td>\n",
       "      <td>2.5</td>\n",
       "      <td>3.0</td>\n",
       "    </tr>\n",
       "  </tbody>\n",
       "</table>\n",
       "</div>"
      ],
      "text/plain": [
       "   media_sexo_dni_F  media_sexo_dni_M  \\\n",
       "0               0.6               0.4   \n",
       "0               0.6               0.4   \n",
       "\n",
       "   media_relacion_de_parentezco_con_jefe_del_hogar_Soy jefa(e)  \\\n",
       "0                                                0.7             \n",
       "0                                                0.5             \n",
       "\n",
       "   media_ingreso_anual_hogar  desv_ingreso_anual_hogar  media_edad  desv_edad  \\\n",
       "0                  2368529.3                 6601576.0        39.3       11.6   \n",
       "0                  2943501.1                 3019208.7        38.4       10.1   \n",
       "\n",
       "   media_personas_por_ambiente  desv_personas_por_ambiente  \n",
       "0                          2.4                         2.5  \n",
       "0                          2.5                         3.0  "
      ]
     },
     "execution_count": 59,
     "metadata": {},
     "output_type": "execute_result"
    }
   ],
   "source": [
    "df_analisis = pd.concat([df_tratamiento_total, df_control_total], axis=0)\n",
    "df_analisis\n"
   ]
  },
  {
   "cell_type": "code",
   "execution_count": 60,
   "id": "467c7d0e",
   "metadata": {},
   "outputs": [
    {
     "data": {
      "text/plain": [
       "0.1"
      ]
     },
     "execution_count": 60,
     "metadata": {},
     "output_type": "execute_result"
    }
   ],
   "source": [
    "vuln_control = float(round(df_control_clean['escenario_vulnerabilidad_social'].mean(skipna=True), 1))\n",
    "vuln_control"
   ]
  },
  {
   "cell_type": "code",
   "execution_count": 61,
   "id": "ebeb0f71",
   "metadata": {},
   "outputs": [
    {
     "data": {
      "text/html": [
       "<div>\n",
       "<style scoped>\n",
       "    .dataframe tbody tr th:only-of-type {\n",
       "        vertical-align: middle;\n",
       "    }\n",
       "\n",
       "    .dataframe tbody tr th {\n",
       "        vertical-align: top;\n",
       "    }\n",
       "\n",
       "    .dataframe thead th {\n",
       "        text-align: right;\n",
       "    }\n",
       "</style>\n",
       "<table border=\"1\" class=\"dataframe\">\n",
       "  <thead>\n",
       "    <tr style=\"text-align: right;\">\n",
       "      <th></th>\n",
       "      <th>escenario_vulnerabilidad_social</th>\n",
       "    </tr>\n",
       "  </thead>\n",
       "  <tbody>\n",
       "    <tr>\n",
       "      <th>1</th>\n",
       "      <td>0.1</td>\n",
       "    </tr>\n",
       "  </tbody>\n",
       "</table>\n",
       "</div>"
      ],
      "text/plain": [
       "   escenario_vulnerabilidad_social\n",
       "1                              0.1"
      ]
     },
     "execution_count": 61,
     "metadata": {},
     "output_type": "execute_result"
    }
   ],
   "source": [
    "fila_vuln_c = pd.DataFrame({'escenario_vulnerabilidad_social': [vuln_control]}, index= [1])\n",
    "fila_vuln_c"
   ]
  },
  {
   "cell_type": "code",
   "execution_count": 62,
   "id": "7a82c7e1",
   "metadata": {},
   "outputs": [
    {
     "data": {
      "text/plain": [
       "0.2"
      ]
     },
     "execution_count": 62,
     "metadata": {},
     "output_type": "execute_result"
    }
   ],
   "source": [
    "vuln_tratamiento = float(round(df_tratamiento_clean['escenario_vulnerabilidad_social'].mean(skipna=True), 1))\n",
    "vuln_tratamiento"
   ]
  },
  {
   "cell_type": "code",
   "execution_count": 63,
   "id": "93c6c48b",
   "metadata": {},
   "outputs": [
    {
     "data": {
      "text/html": [
       "<div>\n",
       "<style scoped>\n",
       "    .dataframe tbody tr th:only-of-type {\n",
       "        vertical-align: middle;\n",
       "    }\n",
       "\n",
       "    .dataframe tbody tr th {\n",
       "        vertical-align: top;\n",
       "    }\n",
       "\n",
       "    .dataframe thead th {\n",
       "        text-align: right;\n",
       "    }\n",
       "</style>\n",
       "<table border=\"1\" class=\"dataframe\">\n",
       "  <thead>\n",
       "    <tr style=\"text-align: right;\">\n",
       "      <th></th>\n",
       "      <th>escenario_vulnerabilidad_social</th>\n",
       "    </tr>\n",
       "  </thead>\n",
       "  <tbody>\n",
       "    <tr>\n",
       "      <th>1</th>\n",
       "      <td>0.2</td>\n",
       "    </tr>\n",
       "  </tbody>\n",
       "</table>\n",
       "</div>"
      ],
      "text/plain": [
       "   escenario_vulnerabilidad_social\n",
       "1                              0.2"
      ]
     },
     "execution_count": 63,
     "metadata": {},
     "output_type": "execute_result"
    }
   ],
   "source": [
    "fila_vuln_t = pd.DataFrame({'escenario_vulnerabilidad_social': [vuln_tratamiento]}, index= [1])\n",
    "fila_vuln_t"
   ]
  },
  {
   "cell_type": "code",
   "execution_count": 64,
   "id": "51476055",
   "metadata": {},
   "outputs": [],
   "source": [
    "df_vuln = pd.concat([fila_vuln_t, fila_vuln_c], axis=0)"
   ]
  },
  {
   "cell_type": "code",
   "execution_count": 65,
   "id": "0e1f9f1a",
   "metadata": {},
   "outputs": [],
   "source": [
    "df_analisis = df_analisis.reset_index(drop=True)"
   ]
  },
  {
   "cell_type": "code",
   "execution_count": 66,
   "id": "0e987331",
   "metadata": {},
   "outputs": [],
   "source": [
    "df_vuln = df_vuln.reset_index(drop=True)"
   ]
  },
  {
   "cell_type": "code",
   "execution_count": 67,
   "id": "c0e31a75",
   "metadata": {},
   "outputs": [],
   "source": [
    "df_analisis_total = pd.concat([df_analisis, df_vuln], axis= 1)"
   ]
  },
  {
   "cell_type": "code",
   "execution_count": 68,
   "id": "c45a4267",
   "metadata": {},
   "outputs": [
    {
     "data": {
      "text/html": [
       "<div>\n",
       "<style scoped>\n",
       "    .dataframe tbody tr th:only-of-type {\n",
       "        vertical-align: middle;\n",
       "    }\n",
       "\n",
       "    .dataframe tbody tr th {\n",
       "        vertical-align: top;\n",
       "    }\n",
       "\n",
       "    .dataframe thead th {\n",
       "        text-align: right;\n",
       "    }\n",
       "</style>\n",
       "<table border=\"1\" class=\"dataframe\">\n",
       "  <thead>\n",
       "    <tr style=\"text-align: right;\">\n",
       "      <th></th>\n",
       "      <th>media_sexo_dni_F</th>\n",
       "      <th>media_sexo_dni_M</th>\n",
       "      <th>media_relacion_de_parentezco_con_jefe_del_hogar_Soy jefa(e)</th>\n",
       "      <th>media_ingreso_anual_hogar</th>\n",
       "      <th>desv_ingreso_anual_hogar</th>\n",
       "      <th>media_edad</th>\n",
       "      <th>desv_edad</th>\n",
       "      <th>media_personas_por_ambiente</th>\n",
       "      <th>desv_personas_por_ambiente</th>\n",
       "      <th>escenario_vulnerabilidad_social</th>\n",
       "    </tr>\n",
       "  </thead>\n",
       "  <tbody>\n",
       "    <tr>\n",
       "      <th>0</th>\n",
       "      <td>0.6</td>\n",
       "      <td>0.4</td>\n",
       "      <td>0.7</td>\n",
       "      <td>2368529.3</td>\n",
       "      <td>6601576.0</td>\n",
       "      <td>39.3</td>\n",
       "      <td>11.6</td>\n",
       "      <td>2.4</td>\n",
       "      <td>2.5</td>\n",
       "      <td>0.2</td>\n",
       "    </tr>\n",
       "    <tr>\n",
       "      <th>1</th>\n",
       "      <td>0.6</td>\n",
       "      <td>0.4</td>\n",
       "      <td>0.5</td>\n",
       "      <td>2943501.1</td>\n",
       "      <td>3019208.7</td>\n",
       "      <td>38.4</td>\n",
       "      <td>10.1</td>\n",
       "      <td>2.5</td>\n",
       "      <td>3.0</td>\n",
       "      <td>0.1</td>\n",
       "    </tr>\n",
       "  </tbody>\n",
       "</table>\n",
       "</div>"
      ],
      "text/plain": [
       "   media_sexo_dni_F  media_sexo_dni_M  \\\n",
       "0               0.6               0.4   \n",
       "1               0.6               0.4   \n",
       "\n",
       "   media_relacion_de_parentezco_con_jefe_del_hogar_Soy jefa(e)  \\\n",
       "0                                                0.7             \n",
       "1                                                0.5             \n",
       "\n",
       "   media_ingreso_anual_hogar  desv_ingreso_anual_hogar  media_edad  desv_edad  \\\n",
       "0                  2368529.3                 6601576.0        39.3       11.6   \n",
       "1                  2943501.1                 3019208.7        38.4       10.1   \n",
       "\n",
       "   media_personas_por_ambiente  desv_personas_por_ambiente  \\\n",
       "0                          2.4                         2.5   \n",
       "1                          2.5                         3.0   \n",
       "\n",
       "   escenario_vulnerabilidad_social  \n",
       "0                              0.2  \n",
       "1                              0.1  "
      ]
     },
     "execution_count": 68,
     "metadata": {},
     "output_type": "execute_result"
    }
   ],
   "source": [
    "df_analisis_total"
   ]
  },
  {
   "cell_type": "code",
   "execution_count": 69,
   "id": "8430eb0e",
   "metadata": {},
   "outputs": [],
   "source": [
    "# Agregamos una columna nueva para aclarar las muestras\n",
    "df_analisis_total.insert(loc=0, column='Grupo', value=['Tratamiento', 'Control'])"
   ]
  },
  {
   "cell_type": "code",
   "execution_count": 70,
   "id": "c23ba6fd",
   "metadata": {},
   "outputs": [
    {
     "data": {
      "text/html": [
       "<div>\n",
       "<style scoped>\n",
       "    .dataframe tbody tr th:only-of-type {\n",
       "        vertical-align: middle;\n",
       "    }\n",
       "\n",
       "    .dataframe tbody tr th {\n",
       "        vertical-align: top;\n",
       "    }\n",
       "\n",
       "    .dataframe thead th {\n",
       "        text-align: right;\n",
       "    }\n",
       "</style>\n",
       "<table border=\"1\" class=\"dataframe\">\n",
       "  <thead>\n",
       "    <tr style=\"text-align: right;\">\n",
       "      <th></th>\n",
       "      <th>Grupo</th>\n",
       "      <th>media_sexo_dni_F</th>\n",
       "      <th>media_sexo_dni_M</th>\n",
       "      <th>media_relacion_de_parentezco_con_jefe_del_hogar_Soy jefa(e)</th>\n",
       "      <th>media_ingreso_anual_hogar</th>\n",
       "      <th>desv_ingreso_anual_hogar</th>\n",
       "      <th>media_edad</th>\n",
       "      <th>desv_edad</th>\n",
       "      <th>media_personas_por_ambiente</th>\n",
       "      <th>desv_personas_por_ambiente</th>\n",
       "      <th>escenario_vulnerabilidad_social</th>\n",
       "    </tr>\n",
       "  </thead>\n",
       "  <tbody>\n",
       "    <tr>\n",
       "      <th>0</th>\n",
       "      <td>Tratamiento</td>\n",
       "      <td>0.6</td>\n",
       "      <td>0.4</td>\n",
       "      <td>0.7</td>\n",
       "      <td>2368529.3</td>\n",
       "      <td>6601576.0</td>\n",
       "      <td>39.3</td>\n",
       "      <td>11.6</td>\n",
       "      <td>2.4</td>\n",
       "      <td>2.5</td>\n",
       "      <td>0.2</td>\n",
       "    </tr>\n",
       "    <tr>\n",
       "      <th>1</th>\n",
       "      <td>Control</td>\n",
       "      <td>0.6</td>\n",
       "      <td>0.4</td>\n",
       "      <td>0.5</td>\n",
       "      <td>2943501.1</td>\n",
       "      <td>3019208.7</td>\n",
       "      <td>38.4</td>\n",
       "      <td>10.1</td>\n",
       "      <td>2.5</td>\n",
       "      <td>3.0</td>\n",
       "      <td>0.1</td>\n",
       "    </tr>\n",
       "  </tbody>\n",
       "</table>\n",
       "</div>"
      ],
      "text/plain": [
       "         Grupo  media_sexo_dni_F  media_sexo_dni_M  \\\n",
       "0  Tratamiento               0.6               0.4   \n",
       "1      Control               0.6               0.4   \n",
       "\n",
       "   media_relacion_de_parentezco_con_jefe_del_hogar_Soy jefa(e)  \\\n",
       "0                                                0.7             \n",
       "1                                                0.5             \n",
       "\n",
       "   media_ingreso_anual_hogar  desv_ingreso_anual_hogar  media_edad  desv_edad  \\\n",
       "0                  2368529.3                 6601576.0        39.3       11.6   \n",
       "1                  2943501.1                 3019208.7        38.4       10.1   \n",
       "\n",
       "   media_personas_por_ambiente  desv_personas_por_ambiente  \\\n",
       "0                          2.4                         2.5   \n",
       "1                          2.5                         3.0   \n",
       "\n",
       "   escenario_vulnerabilidad_social  \n",
       "0                              0.2  \n",
       "1                              0.1  "
      ]
     },
     "execution_count": 70,
     "metadata": {},
     "output_type": "execute_result"
    }
   ],
   "source": [
    "df_analisis_total"
   ]
  },
  {
   "cell_type": "markdown",
   "id": "fce29640",
   "metadata": {},
   "source": [
    "### ETAPA 5: PLOTS"
   ]
  },
  {
   "cell_type": "markdown",
   "id": "cb71008b",
   "metadata": {},
   "source": [
    "\n",
    "Plot : \"Distribución de edad por estado\"\n",
    "\n",
    "x = \"Edad\",\n",
    "y = \"Frecuencia\"\n",
    "\n"
   ]
  },
  {
   "cell_type": "code",
   "execution_count": 71,
   "id": "745f90c0",
   "metadata": {},
   "outputs": [
    {
     "data": {
      "image/png": "[encoded data removed]",
      "text/plain": [
       "<Figure size 1400x600 with 2 Axes>"
      ]
     },
     "metadata": {},
     "output_type": "display_data"
    }
   ],
   "source": [
    "# Configurar bins\n",
    "bins = np.arange(0, 95, 5)\n",
    "bin_labels = [f'{i}-{i+5}' for i in bins[:-1]]\n",
    "\n",
    "# Paleta categórica apta para daltónicos\n",
    "palette = sns.color_palette(\"colorblind\", len(bins) - 1)\n",
    "\n",
    "# Crear figura\n",
    "fig, axes = plt.subplots(1, 2, figsize=(14, 6), sharey=True)\n",
    "grupos = ['Control', 'Tratamiento']\n",
    "\n",
    "# Limpiar valores fuera del rango lógico (0 a 100)\n",
    "formularios_estudio = formularios_estudio[(formularios_estudio['edad'] >= 0) & (formularios_estudio['edad'] <= 100)]\n",
    "\n",
    "for i, grupo in enumerate(grupos):\n",
    "    ax = axes[i]\n",
    "    subset = formularios_estudio[formularios_estudio['grupo'] == grupo]\n",
    "    edades = subset['edad']\n",
    "\n",
    "    # Asignar edades a bins\n",
    "    bin_indices = np.digitize(edades, bins) - 1\n",
    "    bin_indices = np.clip(bin_indices, 0, len(palette) - 1)  # Evitar out of range\n",
    "    \n",
    "    # Contar frecuencias por bin\n",
    "    counts = np.zeros(len(bins) - 1)\n",
    "    for idx in bin_indices:\n",
    "        counts[idx] += 1\n",
    "    \n",
    "    # Dibujar barras para asignar color categórico\n",
    "    for j, count in enumerate(counts):\n",
    "        ax.bar(bins[j], count, width=5, align='edge',\n",
    "               color=palette[j], edgecolor='white', linewidth=1.2)\n",
    "    \n",
    "    # mediana\n",
    "    mediana = np.median(edades)\n",
    "    ax.axvline(mediana, color='black', linestyle='--', linewidth=2, label=f'Mediana: {mediana:.1f}')\n",
    "    \n",
    "    # Estética\n",
    "    ax.set_title(f'Distribución de Edad - {grupo}', fontsize=14)\n",
    "    ax.set_xlabel('Edad', fontsize=12)\n",
    "    ax.set_xlim(0, 90)\n",
    "    ax.set_xticks(np.arange(0, 95, 10))\n",
    "    ax.grid(axis='y', linestyle='--', alpha=0.6)\n",
    "    if i == 0:\n",
    "        ax.set_ylabel('Frecuencia', fontsize=12)\n",
    "    ax.legend(frameon=True)\n",
    "\n",
    "# Crear leyenda de colores por bin\n",
    "handles = [plt.Rectangle((0,0),1,1, color=palette[i]) for i in range(len(bin_labels))]\n",
    "fig.legend(handles, bin_labels, title='Rango Etario', bbox_to_anchor=(1.05, 0.5), loc='center left')\n",
    "\n",
    "# Título\n",
    "plt.suptitle('Distribución de Edad por Grupo', fontsize=16, y=1.03)\n",
    "plt.tight_layout()\n",
    "plt.subplots_adjust(right=0.85)\n",
    "\n",
    "sns.histplot(df_control['edad'], bins=bins, kde=True,  color='steelblue',ax=axes[0], alpha=0.3, label= 'Distribución Total')\n",
    "sns.histplot(df_tratamiento['edad'], bins=bins, kde=True, color='steelblue',ax=axes[1], alpha=0.3, label= 'Distribución Total')\n",
    "\n",
    "plt.show()\n",
    "\n"
   ]
  },
  {
   "cell_type": "code",
   "execution_count": null,
   "id": "e4114f79",
   "metadata": {},
   "outputs": [],
   "source": []
  },
  {
   "cell_type": "code",
   "execution_count": null,
   "id": "d5240267",
   "metadata": {},
   "outputs": [],
   "source": []
  },
  {
   "cell_type": "code",
   "execution_count": null,
   "id": "3fd805cb",
   "metadata": {},
   "outputs": [],
   "source": []
  },
  {
   "cell_type": "code",
   "execution_count": null,
   "id": "187c950b",
   "metadata": {},
   "outputs": [],
   "source": []
  },
  {
   "cell_type": "code",
   "execution_count": null,
   "id": "aa9cb7c3",
   "metadata": {},
   "outputs": [],
   "source": []
  },
  {
   "cell_type": "code",
   "execution_count": null,
   "id": "9e083f9d",
   "metadata": {},
   "outputs": [],
   "source": []
  },
  {
   "cell_type": "code",
   "execution_count": null,
   "id": "38df054c",
   "metadata": {},
   "outputs": [],
   "source": []
  },
  {
   "cell_type": "code",
   "execution_count": null,
   "id": "19846566",
   "metadata": {},
   "outputs": [],
   "source": []
  },
  {
   "cell_type": "code",
   "execution_count": null,
   "id": "6253dd47",
   "metadata": {},
   "outputs": [],
   "source": []
  },
  {
   "cell_type": "code",
   "execution_count": null,
   "id": "78f102c4",
   "metadata": {},
   "outputs": [],
   "source": []
  },
  {
   "cell_type": "code",
   "execution_count": null,
   "id": "1835df7d",
   "metadata": {},
   "outputs": [],
   "source": []
  },
  {
   "cell_type": "code",
   "execution_count": null,
   "id": "ae1ac67d",
   "metadata": {},
   "outputs": [],
   "source": []
  },
  {
   "cell_type": "code",
   "execution_count": null,
   "id": "2c09964d",
   "metadata": {},
   "outputs": [],
   "source": []
  },
  {
   "cell_type": "code",
   "execution_count": null,
   "id": "3cb0d1f5",
   "metadata": {},
   "outputs": [],
   "source": []
  },
  {
   "cell_type": "code",
   "execution_count": null,
   "id": "640175df",
   "metadata": {},
   "outputs": [],
   "source": []
  },
  {
   "cell_type": "code",
   "execution_count": null,
   "id": "b16af9de",
   "metadata": {},
   "outputs": [],
   "source": []
  },
  {
   "cell_type": "code",
   "execution_count": null,
   "id": "776e436e",
   "metadata": {},
   "outputs": [],
   "source": []
  },
  {
   "cell_type": "code",
   "execution_count": null,
   "id": "e029ec60",
   "metadata": {},
   "outputs": [],
   "source": []
  },
  {
   "cell_type": "code",
   "execution_count": null,
   "id": "688c3200",
   "metadata": {},
   "outputs": [],
   "source": []
  },
  {
   "cell_type": "code",
   "execution_count": null,
   "id": "9c6e457f",
   "metadata": {},
   "outputs": [],
   "source": []
  },
  {
   "cell_type": "code",
   "execution_count": null,
   "id": "7895318a",
   "metadata": {},
   "outputs": [],
   "source": []
  },
  {
   "cell_type": "code",
   "execution_count": null,
   "id": "b0365b9b",
   "metadata": {},
   "outputs": [],
   "source": []
  },
  {
   "cell_type": "code",
   "execution_count": null,
   "id": "afafaef5",
   "metadata": {},
   "outputs": [],
   "source": []
  },
  {
   "cell_type": "code",
   "execution_count": null,
   "id": "75dc9dae",
   "metadata": {},
   "outputs": [],
   "source": []
  },
  {
   "cell_type": "code",
   "execution_count": null,
   "id": "30f7fd98",
   "metadata": {},
   "outputs": [],
   "source": []
  },
  {
   "cell_type": "code",
   "execution_count": null,
   "id": "53f427e2",
   "metadata": {},
   "outputs": [],
   "source": []
  },
  {
   "cell_type": "code",
   "execution_count": null,
   "id": "aa7e60eb",
   "metadata": {},
   "outputs": [],
   "source": []
  },
  {
   "cell_type": "code",
   "execution_count": null,
   "id": "d4323984",
   "metadata": {},
   "outputs": [],
   "source": []
  },
  {
   "cell_type": "code",
   "execution_count": null,
   "id": "3126da27",
   "metadata": {},
   "outputs": [],
   "source": []
  },
  {
   "cell_type": "code",
   "execution_count": null,
   "id": "fd3e8071",
   "metadata": {},
   "outputs": [],
   "source": []
  },
  {
   "cell_type": "code",
   "execution_count": null,
   "id": "2dafb683",
   "metadata": {},
   "outputs": [],
   "source": []
  },
  {
   "cell_type": "code",
   "execution_count": null,
   "id": "c225742a",
   "metadata": {},
   "outputs": [],
   "source": []
  },
  {
   "cell_type": "code",
   "execution_count": null,
   "id": "643c86e3",
   "metadata": {},
   "outputs": [],
   "source": []
  },
  {
   "cell_type": "code",
   "execution_count": null,
   "id": "d28ab69f",
   "metadata": {},
   "outputs": [],
   "source": []
  },
  {
   "cell_type": "code",
   "execution_count": null,
   "id": "b4d6c0fa",
   "metadata": {},
   "outputs": [],
   "source": []
  },
  {
   "cell_type": "code",
   "execution_count": null,
   "id": "011e8df6",
   "metadata": {},
   "outputs": [],
   "source": []
  },
  {
   "cell_type": "code",
   "execution_count": null,
   "id": "e4274886",
   "metadata": {},
   "outputs": [],
   "source": []
  },
  {
   "cell_type": "code",
   "execution_count": null,
   "id": "47ce4d1d",
   "metadata": {},
   "outputs": [],
   "source": []
  },
  {
   "cell_type": "code",
   "execution_count": null,
   "id": "686f552e",
   "metadata": {},
   "outputs": [],
   "source": []
  },
  {
   "cell_type": "code",
   "execution_count": null,
   "id": "93291af8",
   "metadata": {},
   "outputs": [],
   "source": []
  },
  {
   "cell_type": "code",
   "execution_count": null,
   "id": "f98e7095",
   "metadata": {},
   "outputs": [],
   "source": []
  },
  {
   "cell_type": "code",
   "execution_count": null,
   "id": "efe6e181",
   "metadata": {},
   "outputs": [],
   "source": []
  },
  {
   "cell_type": "code",
   "execution_count": null,
   "id": "a4580896",
   "metadata": {},
   "outputs": [],
   "source": []
  },
  {
   "cell_type": "code",
   "execution_count": null,
   "id": "d62b734f",
   "metadata": {},
   "outputs": [],
   "source": []
  },
  {
   "cell_type": "code",
   "execution_count": null,
   "id": "f6342eeb",
   "metadata": {},
   "outputs": [],
   "source": []
  },
  {
   "cell_type": "code",
   "execution_count": null,
   "id": "b2511791",
   "metadata": {},
   "outputs": [],
   "source": []
  },
  {
   "cell_type": "code",
   "execution_count": null,
   "id": "cf62e53f",
   "metadata": {},
   "outputs": [],
   "source": []
  },
  {
   "cell_type": "code",
   "execution_count": null,
   "id": "99bee239",
   "metadata": {},
   "outputs": [],
   "source": []
  },
  {
   "cell_type": "code",
   "execution_count": null,
   "id": "6a6a3dfb",
   "metadata": {},
   "outputs": [],
   "source": []
  },
  {
   "cell_type": "code",
   "execution_count": null,
   "id": "38f1583c",
   "metadata": {},
   "outputs": [],
   "source": []
  },
  {
   "cell_type": "code",
   "execution_count": null,
   "id": "3671163b",
   "metadata": {},
   "outputs": [],
   "source": []
  },
  {
   "cell_type": "code",
   "execution_count": null,
   "id": "a4191683",
   "metadata": {},
   "outputs": [],
   "source": []
  },
  {
   "cell_type": "code",
   "execution_count": null,
   "id": "34997183",
   "metadata": {},
   "outputs": [],
   "source": []
  },
  {
   "cell_type": "code",
   "execution_count": null,
   "id": "0b3c7353",
   "metadata": {},
   "outputs": [],
   "source": []
  },
  {
   "cell_type": "code",
   "execution_count": null,
   "id": "abf1530b",
   "metadata": {},
   "outputs": [],
   "source": []
  },
  {
   "cell_type": "code",
   "execution_count": null,
   "id": "c2550f47",
   "metadata": {},
   "outputs": [],
   "source": []
  },
  {
   "cell_type": "code",
   "execution_count": null,
   "id": "2d2ae56a",
   "metadata": {},
   "outputs": [],
   "source": []
  },
  {
   "cell_type": "code",
   "execution_count": null,
   "id": "608986c3",
   "metadata": {},
   "outputs": [],
   "source": []
  },
  {
   "cell_type": "code",
   "execution_count": null,
   "id": "cc5d0c34",
   "metadata": {},
   "outputs": [],
   "source": []
  },
  {
   "cell_type": "code",
   "execution_count": null,
   "id": "fd6883cd",
   "metadata": {},
   "outputs": [],
   "source": []
  },
  {
   "cell_type": "code",
   "execution_count": null,
   "id": "f49461ec",
   "metadata": {},
   "outputs": [],
   "source": []
  },
  {
   "cell_type": "code",
   "execution_count": null,
   "id": "22bf37f1",
   "metadata": {},
   "outputs": [],
   "source": []
  },
  {
   "cell_type": "code",
   "execution_count": null,
   "id": "2866a2fe",
   "metadata": {},
   "outputs": [],
   "source": []
  },
  {
   "cell_type": "code",
   "execution_count": null,
   "id": "575f309a",
   "metadata": {},
   "outputs": [],
   "source": []
  },
  {
   "cell_type": "code",
   "execution_count": null,
   "id": "66d150bc",
   "metadata": {},
   "outputs": [],
   "source": []
  },
  {
   "cell_type": "code",
   "execution_count": null,
   "id": "e4fd390d",
   "metadata": {},
   "outputs": [],
   "source": []
  },
  {
   "cell_type": "code",
   "execution_count": null,
   "id": "f99007a3",
   "metadata": {},
   "outputs": [],
   "source": []
  },
  {
   "cell_type": "code",
   "execution_count": null,
   "id": "fee2c0b6",
   "metadata": {},
   "outputs": [],
   "source": []
  },
  {
   "cell_type": "code",
   "execution_count": null,
   "id": "06c08f0f",
   "metadata": {},
   "outputs": [],
   "source": []
  },
  {
   "cell_type": "code",
   "execution_count": null,
   "id": "8202dd88",
   "metadata": {},
   "outputs": [],
   "source": []
  },
  {
   "cell_type": "code",
   "execution_count": null,
   "id": "261542d2",
   "metadata": {},
   "outputs": [],
   "source": []
  },
  {
   "cell_type": "code",
   "execution_count": null,
   "id": "69ba0f50",
   "metadata": {},
   "outputs": [],
   "source": []
  },
  {
   "cell_type": "code",
   "execution_count": null,
   "id": "c7d4a56b",
   "metadata": {},
   "outputs": [],
   "source": []
  },
  {
   "cell_type": "code",
   "execution_count": null,
   "id": "da8fd979",
   "metadata": {},
   "outputs": [],
   "source": []
  },
  {
   "cell_type": "code",
   "execution_count": null,
   "id": "b4ddbddf",
   "metadata": {},
   "outputs": [],
   "source": []
  },
  {
   "cell_type": "code",
   "execution_count": null,
   "id": "d414e620",
   "metadata": {},
   "outputs": [],
   "source": []
  },
  {
   "cell_type": "code",
   "execution_count": null,
   "id": "d1a3d1d7",
   "metadata": {},
   "outputs": [],
   "source": []
  },
  {
   "cell_type": "code",
   "execution_count": null,
   "id": "f7737422",
   "metadata": {},
   "outputs": [],
   "source": []
  },
  {
   "cell_type": "code",
   "execution_count": null,
   "id": "613f4c8e",
   "metadata": {},
   "outputs": [],
   "source": []
  },
  {
   "cell_type": "code",
   "execution_count": null,
   "id": "43a755b2",
   "metadata": {},
   "outputs": [],
   "source": []
  },
  {
   "cell_type": "code",
   "execution_count": null,
   "id": "2efb6413",
   "metadata": {},
   "outputs": [],
   "source": []
  },
  {
   "cell_type": "code",
   "execution_count": null,
   "id": "4a591a65",
   "metadata": {},
   "outputs": [],
   "source": []
  },
  {
   "cell_type": "code",
   "execution_count": null,
   "id": "a8b3ecf6",
   "metadata": {},
   "outputs": [],
   "source": []
  },
  {
   "cell_type": "code",
   "execution_count": null,
   "id": "4341d683",
   "metadata": {},
   "outputs": [],
   "source": []
  },
  {
   "cell_type": "code",
   "execution_count": null,
   "id": "75312daa",
   "metadata": {},
   "outputs": [],
   "source": []
  },
  {
   "cell_type": "code",
   "execution_count": null,
   "id": "85dbfd01",
   "metadata": {},
   "outputs": [],
   "source": []
  },
  {
   "cell_type": "code",
   "execution_count": null,
   "id": "0da4563c",
   "metadata": {},
   "outputs": [],
   "source": []
  },
  {
   "cell_type": "code",
   "execution_count": null,
   "id": "55ad015d",
   "metadata": {},
   "outputs": [],
   "source": []
  },
  {
   "cell_type": "code",
   "execution_count": null,
   "id": "3dbb805c",
   "metadata": {},
   "outputs": [],
   "source": []
  },
  {
   "cell_type": "code",
   "execution_count": null,
   "id": "8b63934f",
   "metadata": {},
   "outputs": [],
   "source": []
  },
  {
   "cell_type": "code",
   "execution_count": null,
   "id": "acc691ec",
   "metadata": {},
   "outputs": [],
   "source": []
  },
  {
   "cell_type": "code",
   "execution_count": null,
   "id": "f4fc8172",
   "metadata": {},
   "outputs": [],
   "source": []
  },
  {
   "cell_type": "code",
   "execution_count": null,
   "id": "8c59eea1",
   "metadata": {},
   "outputs": [],
   "source": []
  },
  {
   "cell_type": "code",
   "execution_count": null,
   "id": "021e035a",
   "metadata": {},
   "outputs": [],
   "source": []
  },
  {
   "cell_type": "code",
   "execution_count": null,
   "id": "57586826",
   "metadata": {},
   "outputs": [],
   "source": []
  },
  {
   "cell_type": "code",
   "execution_count": null,
   "id": "cedb4279",
   "metadata": {},
   "outputs": [],
   "source": []
  },
  {
   "cell_type": "code",
   "execution_count": null,
   "id": "24d111d0",
   "metadata": {},
   "outputs": [],
   "source": []
  },
  {
   "cell_type": "code",
   "execution_count": null,
   "id": "2a839415",
   "metadata": {},
   "outputs": [],
   "source": []
  },
  {
   "cell_type": "code",
   "execution_count": null,
   "id": "95009027",
   "metadata": {},
   "outputs": [],
   "source": []
  },
  {
   "cell_type": "code",
   "execution_count": null,
   "id": "426f6929",
   "metadata": {},
   "outputs": [],
   "source": []
  },
  {
   "cell_type": "code",
   "execution_count": null,
   "id": "4a059267",
   "metadata": {},
   "outputs": [],
   "source": []
  },
  {
   "cell_type": "code",
   "execution_count": null,
   "id": "384c01c6",
   "metadata": {},
   "outputs": [],
   "source": []
  },
  {
   "cell_type": "code",
   "execution_count": null,
   "id": "362a4f35",
   "metadata": {},
   "outputs": [],
   "source": []
  },
  {
   "cell_type": "code",
   "execution_count": null,
   "id": "7e98bbc7",
   "metadata": {},
   "outputs": [],
   "source": []
  },
  {
   "cell_type": "code",
   "execution_count": null,
   "id": "b260a4de",
   "metadata": {},
   "outputs": [],
   "source": []
  },
  {
   "cell_type": "code",
   "execution_count": null,
   "id": "37e1753a",
   "metadata": {},
   "outputs": [],
   "source": []
  },
  {
   "cell_type": "code",
   "execution_count": null,
   "id": "b4b984d0",
   "metadata": {},
   "outputs": [],
   "source": []
  },
  {
   "cell_type": "code",
   "execution_count": null,
   "id": "498dbbaa",
   "metadata": {},
   "outputs": [],
   "source": []
  },
  {
   "cell_type": "code",
   "execution_count": null,
   "id": "798a70c6",
   "metadata": {},
   "outputs": [],
   "source": []
  },
  {
   "cell_type": "code",
   "execution_count": null,
   "id": "194a6636",
   "metadata": {},
   "outputs": [],
   "source": []
  },
  {
   "cell_type": "code",
   "execution_count": null,
   "id": "000d6973",
   "metadata": {},
   "outputs": [],
   "source": []
  },
  {
   "cell_type": "code",
   "execution_count": null,
   "id": "d052b858",
   "metadata": {},
   "outputs": [],
   "source": []
  },
  {
   "cell_type": "code",
   "execution_count": null,
   "id": "ba56b587",
   "metadata": {},
   "outputs": [],
   "source": []
  },
  {
   "cell_type": "code",
   "execution_count": null,
   "id": "331f3131",
   "metadata": {},
   "outputs": [],
   "source": []
  },
  {
   "cell_type": "code",
   "execution_count": null,
   "id": "7c3a6d7a",
   "metadata": {},
   "outputs": [],
   "source": []
  },
  {
   "cell_type": "code",
   "execution_count": null,
   "id": "d18ae253",
   "metadata": {},
   "outputs": [],
   "source": []
  },
  {
   "cell_type": "code",
   "execution_count": null,
   "id": "f26d4742",
   "metadata": {},
   "outputs": [],
   "source": []
  },
  {
   "cell_type": "code",
   "execution_count": null,
   "id": "dab8166d",
   "metadata": {},
   "outputs": [],
   "source": []
  },
  {
   "cell_type": "code",
   "execution_count": null,
   "id": "12247d45",
   "metadata": {},
   "outputs": [],
   "source": []
  },
  {
   "cell_type": "code",
   "execution_count": null,
   "id": "f99af26b",
   "metadata": {},
   "outputs": [],
   "source": []
  },
  {
   "cell_type": "code",
   "execution_count": null,
   "id": "dcab9445",
   "metadata": {},
   "outputs": [],
   "source": []
  },
  {
   "cell_type": "code",
   "execution_count": null,
   "id": "1b896b16",
   "metadata": {},
   "outputs": [],
   "source": []
  },
  {
   "cell_type": "code",
   "execution_count": null,
   "id": "534d4acc",
   "metadata": {},
   "outputs": [],
   "source": []
  },
  {
   "cell_type": "code",
   "execution_count": null,
   "id": "07db175a",
   "metadata": {},
   "outputs": [],
   "source": []
  },
  {
   "cell_type": "code",
   "execution_count": null,
   "id": "d3f932c4",
   "metadata": {},
   "outputs": [],
   "source": []
  },
  {
   "cell_type": "code",
   "execution_count": null,
   "id": "73757cc1",
   "metadata": {},
   "outputs": [],
   "source": []
  },
  {
   "cell_type": "code",
   "execution_count": null,
   "id": "7426dc75",
   "metadata": {},
   "outputs": [],
   "source": []
  },
  {
   "cell_type": "code",
   "execution_count": null,
   "id": "aaad68bf",
   "metadata": {},
   "outputs": [],
   "source": []
  },
  {
   "cell_type": "code",
   "execution_count": null,
   "id": "ef9daf59",
   "metadata": {},
   "outputs": [],
   "source": []
  },
  {
   "cell_type": "code",
   "execution_count": null,
   "id": "99a3ba68",
   "metadata": {},
   "outputs": [],
   "source": []
  },
  {
   "cell_type": "code",
   "execution_count": null,
   "id": "6f812f15",
   "metadata": {},
   "outputs": [],
   "source": []
  },
  {
   "cell_type": "code",
   "execution_count": null,
   "id": "01c9d722",
   "metadata": {},
   "outputs": [],
   "source": []
  },
  {
   "cell_type": "code",
   "execution_count": null,
   "id": "b4408291",
   "metadata": {},
   "outputs": [],
   "source": []
  },
  {
   "cell_type": "code",
   "execution_count": null,
   "id": "cec92acb",
   "metadata": {},
   "outputs": [],
   "source": []
  },
  {
   "cell_type": "code",
   "execution_count": null,
   "id": "967432d0",
   "metadata": {},
   "outputs": [],
   "source": []
  },
  {
   "cell_type": "code",
   "execution_count": null,
   "id": "588c6bd7",
   "metadata": {},
   "outputs": [],
   "source": []
  },
  {
   "cell_type": "code",
   "execution_count": null,
   "id": "2137bb3c",
   "metadata": {},
   "outputs": [],
   "source": []
  },
  {
   "cell_type": "code",
   "execution_count": null,
   "id": "d30a0114",
   "metadata": {},
   "outputs": [],
   "source": []
  },
  {
   "cell_type": "code",
   "execution_count": null,
   "id": "e2d84d98",
   "metadata": {},
   "outputs": [],
   "source": []
  },
  {
   "cell_type": "code",
   "execution_count": null,
   "id": "a890f0ae",
   "metadata": {},
   "outputs": [],
   "source": []
  },
  {
   "cell_type": "code",
   "execution_count": null,
   "id": "b2d7fa33",
   "metadata": {},
   "outputs": [],
   "source": []
  },
  {
   "cell_type": "code",
   "execution_count": null,
   "id": "b9365776",
   "metadata": {},
   "outputs": [],
   "source": []
  },
  {
   "cell_type": "code",
   "execution_count": null,
   "id": "ccf6e326",
   "metadata": {},
   "outputs": [],
   "source": []
  },
  {
   "cell_type": "code",
   "execution_count": null,
   "id": "c6ac59ac",
   "metadata": {},
   "outputs": [],
   "source": []
  },
  {
   "cell_type": "code",
   "execution_count": null,
   "id": "20991747",
   "metadata": {},
   "outputs": [],
   "source": []
  },
  {
   "cell_type": "code",
   "execution_count": null,
   "id": "dd15002b",
   "metadata": {},
   "outputs": [],
   "source": []
  },
  {
   "cell_type": "code",
   "execution_count": null,
   "id": "2097a04b",
   "metadata": {},
   "outputs": [],
   "source": []
  },
  {
   "cell_type": "code",
   "execution_count": null,
   "id": "ecddfc5e",
   "metadata": {},
   "outputs": [],
   "source": []
  },
  {
   "cell_type": "code",
   "execution_count": null,
   "id": "65b874ae",
   "metadata": {},
   "outputs": [],
   "source": []
  },
  {
   "cell_type": "code",
   "execution_count": null,
   "id": "0ba9917a",
   "metadata": {},
   "outputs": [],
   "source": []
  },
  {
   "cell_type": "code",
   "execution_count": null,
   "id": "37ab7f1c",
   "metadata": {},
   "outputs": [],
   "source": []
  },
  {
   "cell_type": "code",
   "execution_count": null,
   "id": "aa590593",
   "metadata": {},
   "outputs": [],
   "source": []
  },
  {
   "cell_type": "code",
   "execution_count": null,
   "id": "4b84ec3f",
   "metadata": {},
   "outputs": [],
   "source": []
  },
  {
   "cell_type": "code",
   "execution_count": null,
   "id": "c8f0966a",
   "metadata": {},
   "outputs": [],
   "source": []
  },
  {
   "cell_type": "code",
   "execution_count": null,
   "id": "cd7240ad",
   "metadata": {},
   "outputs": [],
   "source": []
  },
  {
   "cell_type": "code",
   "execution_count": null,
   "id": "3438e34b",
   "metadata": {},
   "outputs": [],
   "source": []
  },
  {
   "cell_type": "code",
   "execution_count": null,
   "id": "6b02db5f",
   "metadata": {},
   "outputs": [],
   "source": []
  },
  {
   "cell_type": "code",
   "execution_count": null,
   "id": "b41a203b",
   "metadata": {},
   "outputs": [],
   "source": []
  },
  {
   "cell_type": "code",
   "execution_count": null,
   "id": "74564fa7",
   "metadata": {},
   "outputs": [],
   "source": []
  },
  {
   "cell_type": "code",
   "execution_count": null,
   "id": "592fa300",
   "metadata": {},
   "outputs": [],
   "source": []
  },
  {
   "cell_type": "code",
   "execution_count": null,
   "id": "a8b8523e",
   "metadata": {},
   "outputs": [],
   "source": []
  },
  {
   "cell_type": "code",
   "execution_count": null,
   "id": "d2229ec7",
   "metadata": {},
   "outputs": [],
   "source": []
  },
  {
   "cell_type": "code",
   "execution_count": null,
   "id": "d25b1eca",
   "metadata": {},
   "outputs": [],
   "source": []
  },
  {
   "cell_type": "code",
   "execution_count": null,
   "id": "fcdee61f",
   "metadata": {},
   "outputs": [],
   "source": []
  },
  {
   "cell_type": "code",
   "execution_count": null,
   "id": "8394a2ea",
   "metadata": {},
   "outputs": [],
   "source": []
  },
  {
   "cell_type": "code",
   "execution_count": null,
   "id": "c42a2958",
   "metadata": {},
   "outputs": [],
   "source": []
  },
  {
   "cell_type": "code",
   "execution_count": null,
   "id": "10c1efe7",
   "metadata": {},
   "outputs": [],
   "source": []
  },
  {
   "cell_type": "code",
   "execution_count": null,
   "id": "f680b1ff",
   "metadata": {},
   "outputs": [],
   "source": []
  },
  {
   "cell_type": "code",
   "execution_count": null,
   "id": "205d77b5",
   "metadata": {},
   "outputs": [],
   "source": []
  },
  {
   "cell_type": "code",
   "execution_count": null,
   "id": "dd8a392d",
   "metadata": {},
   "outputs": [],
   "source": []
  },
  {
   "cell_type": "code",
   "execution_count": null,
   "id": "1e30fc52",
   "metadata": {},
   "outputs": [],
   "source": []
  },
  {
   "cell_type": "code",
   "execution_count": null,
   "id": "c07edfb4",
   "metadata": {},
   "outputs": [],
   "source": []
  },
  {
   "cell_type": "code",
   "execution_count": null,
   "id": "8379852c",
   "metadata": {},
   "outputs": [],
   "source": []
  },
  {
   "cell_type": "code",
   "execution_count": null,
   "id": "e196c6df",
   "metadata": {},
   "outputs": [],
   "source": []
  },
  {
   "cell_type": "code",
   "execution_count": null,
   "id": "9435da15",
   "metadata": {},
   "outputs": [],
   "source": []
  },
  {
   "cell_type": "code",
   "execution_count": null,
   "id": "5aa42a33",
   "metadata": {},
   "outputs": [],
   "source": []
  },
  {
   "cell_type": "code",
   "execution_count": null,
   "id": "75195b01",
   "metadata": {},
   "outputs": [],
   "source": []
  },
  {
   "cell_type": "code",
   "execution_count": null,
   "id": "c340dfe6",
   "metadata": {},
   "outputs": [],
   "source": []
  },
  {
   "cell_type": "code",
   "execution_count": null,
   "id": "10ad8b17",
   "metadata": {},
   "outputs": [],
   "source": []
  },
  {
   "cell_type": "code",
   "execution_count": null,
   "id": "cae7a571",
   "metadata": {},
   "outputs": [],
   "source": []
  },
  {
   "cell_type": "code",
   "execution_count": null,
   "id": "a0f02f0f",
   "metadata": {},
   "outputs": [],
   "source": []
  },
  {
   "cell_type": "code",
   "execution_count": null,
   "id": "afb81e93",
   "metadata": {},
   "outputs": [],
   "source": []
  },
  {
   "cell_type": "code",
   "execution_count": null,
   "id": "a84aa7de",
   "metadata": {},
   "outputs": [],
   "source": []
  },
  {
   "cell_type": "code",
   "execution_count": null,
   "id": "3fccfb96",
   "metadata": {},
   "outputs": [],
   "source": []
  },
  {
   "cell_type": "code",
   "execution_count": null,
   "id": "892b4535",
   "metadata": {},
   "outputs": [],
   "source": []
  },
  {
   "cell_type": "code",
   "execution_count": null,
   "id": "a7aeddfc",
   "metadata": {},
   "outputs": [],
   "source": []
  },
  {
   "cell_type": "code",
   "execution_count": null,
   "id": "28457347",
   "metadata": {},
   "outputs": [],
   "source": []
  },
  {
   "cell_type": "code",
   "execution_count": null,
   "id": "54472337",
   "metadata": {},
   "outputs": [],
   "source": []
  },
  {
   "cell_type": "code",
   "execution_count": null,
   "id": "d12f337a",
   "metadata": {},
   "outputs": [],
   "source": []
  },
  {
   "cell_type": "code",
   "execution_count": null,
   "id": "d945aa81",
   "metadata": {},
   "outputs": [],
   "source": []
  },
  {
   "cell_type": "code",
   "execution_count": null,
   "id": "9e5f0c78",
   "metadata": {},
   "outputs": [],
   "source": []
  },
  {
   "cell_type": "code",
   "execution_count": null,
   "id": "9b6f6dab",
   "metadata": {},
   "outputs": [],
   "source": []
  },
  {
   "cell_type": "code",
   "execution_count": null,
   "id": "744c060c",
   "metadata": {},
   "outputs": [],
   "source": []
  },
  {
   "cell_type": "code",
   "execution_count": null,
   "id": "b5e884c0",
   "metadata": {},
   "outputs": [],
   "source": []
  },
  {
   "cell_type": "code",
   "execution_count": null,
   "id": "b5defafe",
   "metadata": {},
   "outputs": [],
   "source": []
  },
  {
   "cell_type": "code",
   "execution_count": null,
   "id": "1fa94e22",
   "metadata": {},
   "outputs": [],
   "source": []
  },
  {
   "cell_type": "code",
   "execution_count": null,
   "id": "8b944581",
   "metadata": {},
   "outputs": [],
   "source": []
  },
  {
   "cell_type": "code",
   "execution_count": null,
   "id": "fc9d27cb",
   "metadata": {},
   "outputs": [],
   "source": []
  },
  {
   "cell_type": "code",
   "execution_count": null,
   "id": "9e60be16",
   "metadata": {},
   "outputs": [],
   "source": []
  },
  {
   "cell_type": "code",
   "execution_count": null,
   "id": "393bfcf4",
   "metadata": {},
   "outputs": [],
   "source": []
  },
  {
   "cell_type": "code",
   "execution_count": null,
   "id": "4c00c0df",
   "metadata": {},
   "outputs": [],
   "source": []
  },
  {
   "cell_type": "code",
   "execution_count": null,
   "id": "052de669",
   "metadata": {},
   "outputs": [],
   "source": []
  },
  {
   "cell_type": "code",
   "execution_count": null,
   "id": "4dec492e",
   "metadata": {},
   "outputs": [],
   "source": []
  },
  {
   "cell_type": "code",
   "execution_count": null,
   "id": "bc14b71a",
   "metadata": {},
   "outputs": [],
   "source": []
  },
  {
   "cell_type": "code",
   "execution_count": null,
   "id": "734117d7",
   "metadata": {},
   "outputs": [],
   "source": []
  },
  {
   "cell_type": "code",
   "execution_count": null,
   "id": "2a22c341",
   "metadata": {},
   "outputs": [],
   "source": []
  },
  {
   "cell_type": "code",
   "execution_count": null,
   "id": "395d390e",
   "metadata": {},
   "outputs": [],
   "source": []
  },
  {
   "cell_type": "code",
   "execution_count": null,
   "id": "d0cbbcce",
   "metadata": {},
   "outputs": [],
   "source": []
  },
  {
   "cell_type": "code",
   "execution_count": null,
   "id": "c1bacb39",
   "metadata": {},
   "outputs": [],
   "source": []
  },
  {
   "cell_type": "code",
   "execution_count": null,
   "id": "55f9db24",
   "metadata": {},
   "outputs": [],
   "source": []
  },
  {
   "cell_type": "code",
   "execution_count": null,
   "id": "7e630b24",
   "metadata": {},
   "outputs": [],
   "source": []
  },
  {
   "cell_type": "code",
   "execution_count": null,
   "id": "04080ed9",
   "metadata": {},
   "outputs": [],
   "source": []
  },
  {
   "cell_type": "code",
   "execution_count": null,
   "id": "9377fb27",
   "metadata": {},
   "outputs": [],
   "source": []
  },
  {
   "cell_type": "code",
   "execution_count": null,
   "id": "1dad8ef5",
   "metadata": {},
   "outputs": [],
   "source": []
  },
  {
   "cell_type": "code",
   "execution_count": null,
   "id": "fc8c3f89",
   "metadata": {},
   "outputs": [],
   "source": []
  },
  {
   "cell_type": "code",
   "execution_count": null,
   "id": "2421e110",
   "metadata": {},
   "outputs": [],
   "source": []
  },
  {
   "cell_type": "code",
   "execution_count": null,
   "id": "8988ddd1",
   "metadata": {},
   "outputs": [],
   "source": []
  },
  {
   "cell_type": "code",
   "execution_count": null,
   "id": "053d485f",
   "metadata": {},
   "outputs": [],
   "source": []
  },
  {
   "cell_type": "code",
   "execution_count": null,
   "id": "67b8b7b0",
   "metadata": {},
   "outputs": [],
   "source": []
  },
  {
   "cell_type": "code",
   "execution_count": null,
   "id": "1974ae43",
   "metadata": {},
   "outputs": [],
   "source": []
  },
  {
   "cell_type": "code",
   "execution_count": null,
   "id": "e26e6b90",
   "metadata": {},
   "outputs": [],
   "source": []
  },
  {
   "cell_type": "code",
   "execution_count": null,
   "id": "ce8668a5",
   "metadata": {},
   "outputs": [],
   "source": []
  },
  {
   "cell_type": "code",
   "execution_count": null,
   "id": "20c39c50",
   "metadata": {},
   "outputs": [],
   "source": []
  },
  {
   "cell_type": "code",
   "execution_count": null,
   "id": "9ca0d5c1",
   "metadata": {},
   "outputs": [],
   "source": []
  },
  {
   "cell_type": "code",
   "execution_count": null,
   "id": "9db253b0",
   "metadata": {},
   "outputs": [],
   "source": []
  },
  {
   "cell_type": "code",
   "execution_count": null,
   "id": "893c43ec",
   "metadata": {},
   "outputs": [],
   "source": []
  },
  {
   "cell_type": "code",
   "execution_count": null,
   "id": "cdc80da4",
   "metadata": {},
   "outputs": [],
   "source": []
  },
  {
   "cell_type": "code",
   "execution_count": null,
   "id": "f53cca82",
   "metadata": {},
   "outputs": [],
   "source": []
  },
  {
   "cell_type": "code",
   "execution_count": null,
   "id": "1cef93d4",
   "metadata": {},
   "outputs": [],
   "source": []
  },
  {
   "cell_type": "code",
   "execution_count": null,
   "id": "2db14b6a",
   "metadata": {},
   "outputs": [],
   "source": []
  },
  {
   "cell_type": "code",
   "execution_count": null,
   "id": "4d48eb3f",
   "metadata": {},
   "outputs": [],
   "source": []
  },
  {
   "cell_type": "code",
   "execution_count": null,
   "id": "bffed4ab",
   "metadata": {},
   "outputs": [],
   "source": []
  },
  {
   "cell_type": "code",
   "execution_count": null,
   "id": "1c5456dc",
   "metadata": {},
   "outputs": [],
   "source": []
  },
  {
   "cell_type": "code",
   "execution_count": null,
   "id": "d931850d",
   "metadata": {},
   "outputs": [],
   "source": []
  },
  {
   "cell_type": "code",
   "execution_count": null,
   "id": "393ebc9c",
   "metadata": {},
   "outputs": [],
   "source": []
  },
  {
   "cell_type": "code",
   "execution_count": null,
   "id": "a63b326a",
   "metadata": {},
   "outputs": [],
   "source": []
  },
  {
   "cell_type": "code",
   "execution_count": null,
   "id": "c806f18a",
   "metadata": {},
   "outputs": [],
   "source": []
  },
  {
   "cell_type": "code",
   "execution_count": null,
   "id": "e9e16924",
   "metadata": {},
   "outputs": [],
   "source": []
  },
  {
   "cell_type": "code",
   "execution_count": null,
   "id": "5707f728",
   "metadata": {},
   "outputs": [],
   "source": []
  },
  {
   "cell_type": "code",
   "execution_count": null,
   "id": "20d865f6",
   "metadata": {},
   "outputs": [],
   "source": []
  },
  {
   "cell_type": "code",
   "execution_count": null,
   "id": "81dba1f3",
   "metadata": {},
   "outputs": [],
   "source": []
  },
  {
   "cell_type": "code",
   "execution_count": null,
   "id": "99aa4641",
   "metadata": {},
   "outputs": [],
   "source": []
  },
  {
   "cell_type": "code",
   "execution_count": null,
   "id": "9afb8478",
   "metadata": {},
   "outputs": [],
   "source": []
  },
  {
   "cell_type": "code",
   "execution_count": null,
   "id": "8600f226",
   "metadata": {},
   "outputs": [],
   "source": []
  },
  {
   "cell_type": "code",
   "execution_count": null,
   "id": "e1b781fa",
   "metadata": {},
   "outputs": [],
   "source": []
  },
  {
   "cell_type": "code",
   "execution_count": null,
   "id": "f7bf1c1d",
   "metadata": {},
   "outputs": [],
   "source": []
  },
  {
   "cell_type": "code",
   "execution_count": null,
   "id": "a31b3d12",
   "metadata": {},
   "outputs": [],
   "source": []
  },
  {
   "cell_type": "code",
   "execution_count": null,
   "id": "ac1615d1",
   "metadata": {},
   "outputs": [],
   "source": []
  },
  {
   "cell_type": "code",
   "execution_count": null,
   "id": "0325a376",
   "metadata": {},
   "outputs": [],
   "source": []
  },
  {
   "cell_type": "code",
   "execution_count": null,
   "id": "81685f21",
   "metadata": {},
   "outputs": [],
   "source": []
  },
  {
   "cell_type": "code",
   "execution_count": null,
   "id": "422e56f8",
   "metadata": {},
   "outputs": [],
   "source": []
  },
  {
   "cell_type": "code",
   "execution_count": null,
   "id": "08b39c45",
   "metadata": {},
   "outputs": [],
   "source": []
  },
  {
   "cell_type": "code",
   "execution_count": null,
   "id": "943fadbd",
   "metadata": {},
   "outputs": [],
   "source": []
  },
  {
   "cell_type": "code",
   "execution_count": null,
   "id": "ae7adcc0",
   "metadata": {},
   "outputs": [],
   "source": []
  },
  {
   "cell_type": "code",
   "execution_count": null,
   "id": "59286d1c",
   "metadata": {},
   "outputs": [],
   "source": []
  },
  {
   "cell_type": "code",
   "execution_count": null,
   "id": "cad46e03",
   "metadata": {},
   "outputs": [],
   "source": []
  },
  {
   "cell_type": "code",
   "execution_count": null,
   "id": "293437cc",
   "metadata": {},
   "outputs": [],
   "source": []
  },
  {
   "cell_type": "code",
   "execution_count": null,
   "id": "99ae7011",
   "metadata": {},
   "outputs": [],
   "source": []
  },
  {
   "cell_type": "code",
   "execution_count": null,
   "id": "cdbfd811",
   "metadata": {},
   "outputs": [],
   "source": []
  },
  {
   "cell_type": "code",
   "execution_count": null,
   "id": "d437c74d",
   "metadata": {},
   "outputs": [],
   "source": []
  },
  {
   "cell_type": "code",
   "execution_count": null,
   "id": "a19207fb",
   "metadata": {},
   "outputs": [],
   "source": []
  },
  {
   "cell_type": "code",
   "execution_count": null,
   "id": "e65ecdb2",
   "metadata": {},
   "outputs": [],
   "source": []
  },
  {
   "cell_type": "code",
   "execution_count": null,
   "id": "b5efd553",
   "metadata": {},
   "outputs": [],
   "source": []
  },
  {
   "cell_type": "code",
   "execution_count": null,
   "id": "de4fd7b7",
   "metadata": {},
   "outputs": [],
   "source": []
  },
  {
   "cell_type": "code",
   "execution_count": null,
   "id": "4bf2c1ba",
   "metadata": {},
   "outputs": [],
   "source": []
  },
  {
   "cell_type": "code",
   "execution_count": null,
   "id": "c0120964",
   "metadata": {},
   "outputs": [],
   "source": []
  },
  {
   "cell_type": "code",
   "execution_count": null,
   "id": "b36ca29b",
   "metadata": {},
   "outputs": [],
   "source": []
  },
  {
   "cell_type": "code",
   "execution_count": null,
   "id": "6d316f8e",
   "metadata": {},
   "outputs": [],
   "source": []
  },
  {
   "cell_type": "code",
   "execution_count": null,
   "id": "4f81c676",
   "metadata": {},
   "outputs": [],
   "source": []
  },
  {
   "cell_type": "code",
   "execution_count": null,
   "id": "77718a01",
   "metadata": {},
   "outputs": [],
   "source": []
  },
  {
   "cell_type": "code",
   "execution_count": null,
   "id": "416e0e61",
   "metadata": {},
   "outputs": [],
   "source": []
  },
  {
   "cell_type": "code",
   "execution_count": null,
   "id": "da034288",
   "metadata": {},
   "outputs": [],
   "source": []
  },
  {
   "cell_type": "code",
   "execution_count": null,
   "id": "633075bb",
   "metadata": {},
   "outputs": [],
   "source": []
  },
  {
   "cell_type": "code",
   "execution_count": null,
   "id": "992b6b03",
   "metadata": {},
   "outputs": [],
   "source": []
  },
  {
   "cell_type": "code",
   "execution_count": null,
   "id": "dc85e44d",
   "metadata": {},
   "outputs": [],
   "source": []
  },
  {
   "cell_type": "code",
   "execution_count": null,
   "id": "b2bd31f1",
   "metadata": {},
   "outputs": [],
   "source": []
  },
  {
   "cell_type": "code",
   "execution_count": null,
   "id": "4b73a67f",
   "metadata": {},
   "outputs": [],
   "source": []
  },
  {
   "cell_type": "code",
   "execution_count": null,
   "id": "cf4b2a74",
   "metadata": {},
   "outputs": [],
   "source": []
  },
  {
   "cell_type": "code",
   "execution_count": null,
   "id": "ed321b3a",
   "metadata": {},
   "outputs": [],
   "source": []
  },
  {
   "cell_type": "code",
   "execution_count": null,
   "id": "8545bc6b",
   "metadata": {},
   "outputs": [],
   "source": []
  },
  {
   "cell_type": "code",
   "execution_count": null,
   "id": "944a0de6",
   "metadata": {},
   "outputs": [],
   "source": []
  },
  {
   "cell_type": "code",
   "execution_count": null,
   "id": "7918073d",
   "metadata": {},
   "outputs": [],
   "source": []
  },
  {
   "cell_type": "code",
   "execution_count": null,
   "id": "d45f2ea0",
   "metadata": {},
   "outputs": [],
   "source": []
  },
  {
   "cell_type": "code",
   "execution_count": null,
   "id": "27a40944",
   "metadata": {},
   "outputs": [],
   "source": []
  },
  {
   "cell_type": "code",
   "execution_count": null,
   "id": "03ebc8a5",
   "metadata": {},
   "outputs": [],
   "source": []
  },
  {
   "cell_type": "code",
   "execution_count": null,
   "id": "54f5ba7c",
   "metadata": {},
   "outputs": [],
   "source": []
  },
  {
   "cell_type": "code",
   "execution_count": null,
   "id": "e8253bfc",
   "metadata": {},
   "outputs": [],
   "source": []
  },
  {
   "cell_type": "code",
   "execution_count": null,
   "id": "6ed8f247",
   "metadata": {},
   "outputs": [],
   "source": []
  },
  {
   "cell_type": "code",
   "execution_count": null,
   "id": "4f12b549",
   "metadata": {},
   "outputs": [],
   "source": []
  },
  {
   "cell_type": "code",
   "execution_count": null,
   "id": "1bcc8aa9",
   "metadata": {},
   "outputs": [],
   "source": []
  },
  {
   "cell_type": "code",
   "execution_count": null,
   "id": "4ab98c33",
   "metadata": {},
   "outputs": [],
   "source": []
  },
  {
   "cell_type": "code",
   "execution_count": null,
   "id": "f707b657",
   "metadata": {},
   "outputs": [],
   "source": []
  },
  {
   "cell_type": "code",
   "execution_count": null,
   "id": "b82c6cb1",
   "metadata": {},
   "outputs": [],
   "source": []
  },
  {
   "cell_type": "code",
   "execution_count": null,
   "id": "9f67810d",
   "metadata": {},
   "outputs": [],
   "source": []
  },
  {
   "cell_type": "code",
   "execution_count": null,
   "id": "82bbad46",
   "metadata": {},
   "outputs": [],
   "source": []
  },
  {
   "cell_type": "code",
   "execution_count": null,
   "id": "959278fc",
   "metadata": {},
   "outputs": [],
   "source": []
  },
  {
   "cell_type": "code",
   "execution_count": null,
   "id": "95347a08",
   "metadata": {},
   "outputs": [],
   "source": []
  },
  {
   "cell_type": "code",
   "execution_count": null,
   "id": "a3e18057",
   "metadata": {},
   "outputs": [],
   "source": []
  },
  {
   "cell_type": "code",
   "execution_count": null,
   "id": "98eaa514",
   "metadata": {},
   "outputs": [],
   "source": []
  },
  {
   "cell_type": "code",
   "execution_count": null,
   "id": "4e6a2283",
   "metadata": {},
   "outputs": [],
   "source": []
  },
  {
   "cell_type": "code",
   "execution_count": null,
   "id": "d56a1cce",
   "metadata": {},
   "outputs": [],
   "source": []
  },
  {
   "cell_type": "code",
   "execution_count": null,
   "id": "8bf2e73e",
   "metadata": {},
   "outputs": [],
   "source": []
  },
  {
   "cell_type": "code",
   "execution_count": null,
   "id": "734686d8",
   "metadata": {},
   "outputs": [],
   "source": []
  },
  {
   "cell_type": "code",
   "execution_count": null,
   "id": "743ec305",
   "metadata": {},
   "outputs": [],
   "source": []
  },
  {
   "cell_type": "code",
   "execution_count": null,
   "id": "395b777a",
   "metadata": {},
   "outputs": [],
   "source": []
  },
  {
   "cell_type": "code",
   "execution_count": null,
   "id": "54c85136",
   "metadata": {},
   "outputs": [],
   "source": []
  },
  {
   "cell_type": "code",
   "execution_count": null,
   "id": "8e268059",
   "metadata": {},
   "outputs": [],
   "source": []
  },
  {
   "cell_type": "code",
   "execution_count": null,
   "id": "fa5c012b",
   "metadata": {},
   "outputs": [],
   "source": []
  },
  {
   "cell_type": "code",
   "execution_count": null,
   "id": "f3ac0215",
   "metadata": {},
   "outputs": [],
   "source": []
  },
  {
   "cell_type": "code",
   "execution_count": null,
   "id": "41c19d63",
   "metadata": {},
   "outputs": [],
   "source": []
  },
  {
   "cell_type": "code",
   "execution_count": null,
   "id": "ebbc8d6e",
   "metadata": {},
   "outputs": [],
   "source": []
  },
  {
   "cell_type": "code",
   "execution_count": null,
   "id": "2a1f2daa",
   "metadata": {},
   "outputs": [],
   "source": []
  },
  {
   "cell_type": "code",
   "execution_count": null,
   "id": "74cc5660",
   "metadata": {},
   "outputs": [],
   "source": []
  },
  {
   "cell_type": "code",
   "execution_count": null,
   "id": "9dbb5664",
   "metadata": {},
   "outputs": [],
   "source": []
  },
  {
   "cell_type": "code",
   "execution_count": null,
   "id": "5f7f59b7",
   "metadata": {},
   "outputs": [],
   "source": []
  },
  {
   "cell_type": "code",
   "execution_count": null,
   "id": "dae1cef1",
   "metadata": {},
   "outputs": [],
   "source": []
  },
  {
   "cell_type": "code",
   "execution_count": null,
   "id": "d9b9fec9",
   "metadata": {},
   "outputs": [],
   "source": []
  },
  {
   "cell_type": "code",
   "execution_count": null,
   "id": "f9b0c41c",
   "metadata": {},
   "outputs": [],
   "source": []
  },
  {
   "cell_type": "code",
   "execution_count": null,
   "id": "651e5f1b",
   "metadata": {},
   "outputs": [],
   "source": []
  },
  {
   "cell_type": "code",
   "execution_count": null,
   "id": "4b400033",
   "metadata": {},
   "outputs": [],
   "source": []
  },
  {
   "cell_type": "code",
   "execution_count": null,
   "id": "25b6b59d",
   "metadata": {},
   "outputs": [],
   "source": []
  },
  {
   "cell_type": "code",
   "execution_count": null,
   "id": "43905bc2",
   "metadata": {},
   "outputs": [],
   "source": []
  },
  {
   "cell_type": "code",
   "execution_count": null,
   "id": "a8941923",
   "metadata": {},
   "outputs": [],
   "source": []
  },
  {
   "cell_type": "code",
   "execution_count": null,
   "id": "c2a6d5a2",
   "metadata": {},
   "outputs": [],
   "source": []
  },
  {
   "cell_type": "code",
   "execution_count": null,
   "id": "5af799f6",
   "metadata": {},
   "outputs": [],
   "source": []
  },
  {
   "cell_type": "code",
   "execution_count": null,
   "id": "1ed7e6a4",
   "metadata": {},
   "outputs": [],
   "source": []
  },
  {
   "cell_type": "code",
   "execution_count": null,
   "id": "82cbd800",
   "metadata": {},
   "outputs": [],
   "source": []
  },
  {
   "cell_type": "code",
   "execution_count": null,
   "id": "71ac3bc0",
   "metadata": {},
   "outputs": [],
   "source": []
  },
  {
   "cell_type": "code",
   "execution_count": null,
   "id": "fdb01fee",
   "metadata": {},
   "outputs": [],
   "source": []
  },
  {
   "cell_type": "code",
   "execution_count": null,
   "id": "6ff7c051",
   "metadata": {},
   "outputs": [],
   "source": []
  },
  {
   "cell_type": "code",
   "execution_count": null,
   "id": "c5e6a624",
   "metadata": {},
   "outputs": [],
   "source": []
  },
  {
   "cell_type": "code",
   "execution_count": null,
   "id": "d5481602",
   "metadata": {},
   "outputs": [],
   "source": []
  },
  {
   "cell_type": "code",
   "execution_count": null,
   "id": "e1a81413",
   "metadata": {},
   "outputs": [],
   "source": []
  },
  {
   "cell_type": "code",
   "execution_count": null,
   "id": "0327aeb2",
   "metadata": {},
   "outputs": [],
   "source": []
  },
  {
   "cell_type": "code",
   "execution_count": null,
   "id": "d639ebaf",
   "metadata": {},
   "outputs": [],
   "source": []
  },
  {
   "cell_type": "code",
   "execution_count": null,
   "id": "6eca71fc",
   "metadata": {},
   "outputs": [],
   "source": []
  },
  {
   "cell_type": "code",
   "execution_count": null,
   "id": "84df4209",
   "metadata": {},
   "outputs": [],
   "source": []
  },
  {
   "cell_type": "code",
   "execution_count": null,
   "id": "f1dafa14",
   "metadata": {},
   "outputs": [],
   "source": []
  },
  {
   "cell_type": "code",
   "execution_count": null,
   "id": "534bd0b8",
   "metadata": {},
   "outputs": [],
   "source": []
  },
  {
   "cell_type": "code",
   "execution_count": null,
   "id": "00bf5ee1",
   "metadata": {},
   "outputs": [],
   "source": []
  },
  {
   "cell_type": "code",
   "execution_count": null,
   "id": "b512b7e6",
   "metadata": {},
   "outputs": [],
   "source": []
  },
  {
   "cell_type": "code",
   "execution_count": null,
   "id": "c3815bf0",
   "metadata": {},
   "outputs": [],
   "source": []
  },
  {
   "cell_type": "code",
   "execution_count": null,
   "id": "8110f69d",
   "metadata": {},
   "outputs": [],
   "source": []
  },
  {
   "cell_type": "code",
   "execution_count": null,
   "id": "44e657e3",
   "metadata": {},
   "outputs": [],
   "source": []
  },
  {
   "cell_type": "code",
   "execution_count": null,
   "id": "100c97e3",
   "metadata": {},
   "outputs": [],
   "source": []
  },
  {
   "cell_type": "code",
   "execution_count": null,
   "id": "7e83e960",
   "metadata": {},
   "outputs": [],
   "source": []
  },
  {
   "cell_type": "code",
   "execution_count": null,
   "id": "b5967bfd",
   "metadata": {},
   "outputs": [],
   "source": []
  },
  {
   "cell_type": "code",
   "execution_count": null,
   "id": "627f943c",
   "metadata": {},
   "outputs": [],
   "source": []
  },
  {
   "cell_type": "code",
   "execution_count": null,
   "id": "7dcf0f36",
   "metadata": {},
   "outputs": [],
   "source": []
  },
  {
   "cell_type": "code",
   "execution_count": null,
   "id": "4fd04ea6",
   "metadata": {},
   "outputs": [],
   "source": []
  },
  {
   "cell_type": "code",
   "execution_count": null,
   "id": "151c2b1e",
   "metadata": {},
   "outputs": [],
   "source": []
  },
  {
   "cell_type": "code",
   "execution_count": null,
   "id": "7f23e964",
   "metadata": {},
   "outputs": [],
   "source": []
  },
  {
   "cell_type": "code",
   "execution_count": null,
   "id": "2fb3a80d",
   "metadata": {},
   "outputs": [],
   "source": []
  },
  {
   "cell_type": "code",
   "execution_count": null,
   "id": "603a3d1b",
   "metadata": {},
   "outputs": [],
   "source": []
  },
  {
   "cell_type": "code",
   "execution_count": null,
   "id": "fe72f889",
   "metadata": {},
   "outputs": [],
   "source": []
  },
  {
   "cell_type": "code",
   "execution_count": null,
   "id": "157cd69d",
   "metadata": {},
   "outputs": [],
   "source": []
  },
  {
   "cell_type": "code",
   "execution_count": null,
   "id": "112775bc",
   "metadata": {},
   "outputs": [],
   "source": []
  },
  {
   "cell_type": "code",
   "execution_count": null,
   "id": "070f29f0",
   "metadata": {},
   "outputs": [],
   "source": []
  },
  {
   "cell_type": "code",
   "execution_count": null,
   "id": "2d27122c",
   "metadata": {},
   "outputs": [],
   "source": []
  },
  {
   "cell_type": "code",
   "execution_count": null,
   "id": "35895f7e",
   "metadata": {},
   "outputs": [],
   "source": []
  },
  {
   "cell_type": "code",
   "execution_count": null,
   "id": "a8aad91c",
   "metadata": {},
   "outputs": [],
   "source": []
  },
  {
   "cell_type": "code",
   "execution_count": null,
   "id": "074c144c",
   "metadata": {},
   "outputs": [],
   "source": []
  },
  {
   "cell_type": "code",
   "execution_count": null,
   "id": "29cbbc6b",
   "metadata": {},
   "outputs": [],
   "source": []
  },
  {
   "cell_type": "code",
   "execution_count": null,
   "id": "de2f5840",
   "metadata": {},
   "outputs": [],
   "source": []
  },
  {
   "cell_type": "code",
   "execution_count": null,
   "id": "862e0c2f",
   "metadata": {},
   "outputs": [],
   "source": []
  },
  {
   "cell_type": "code",
   "execution_count": null,
   "id": "de88caeb",
   "metadata": {},
   "outputs": [],
   "source": []
  },
  {
   "cell_type": "code",
   "execution_count": null,
   "id": "9c53408c",
   "metadata": {},
   "outputs": [],
   "source": []
  },
  {
   "cell_type": "code",
   "execution_count": null,
   "id": "6b6e05f1",
   "metadata": {},
   "outputs": [],
   "source": []
  },
  {
   "cell_type": "code",
   "execution_count": null,
   "id": "6e4721a2",
   "metadata": {},
   "outputs": [],
   "source": []
  },
  {
   "cell_type": "code",
   "execution_count": null,
   "id": "d2680544",
   "metadata": {},
   "outputs": [],
   "source": []
  },
  {
   "cell_type": "code",
   "execution_count": null,
   "id": "dc38b31a",
   "metadata": {},
   "outputs": [],
   "source": []
  },
  {
   "cell_type": "code",
   "execution_count": null,
   "id": "066442a4",
   "metadata": {},
   "outputs": [],
   "source": []
  },
  {
   "cell_type": "code",
   "execution_count": null,
   "id": "86cb6890",
   "metadata": {},
   "outputs": [],
   "source": []
  },
  {
   "cell_type": "code",
   "execution_count": null,
   "id": "c3d0dfcf",
   "metadata": {},
   "outputs": [],
   "source": []
  },
  {
   "cell_type": "code",
   "execution_count": null,
   "id": "2d3c5fe7",
   "metadata": {},
   "outputs": [],
   "source": []
  },
  {
   "cell_type": "code",
   "execution_count": null,
   "id": "6ce57d53",
   "metadata": {},
   "outputs": [],
   "source": []
  },
  {
   "cell_type": "code",
   "execution_count": null,
   "id": "805411e2",
   "metadata": {},
   "outputs": [],
   "source": []
  },
  {
   "cell_type": "code",
   "execution_count": null,
   "id": "8525e256",
   "metadata": {},
   "outputs": [],
   "source": []
  },
  {
   "cell_type": "code",
   "execution_count": null,
   "id": "a2c9eb15",
   "metadata": {},
   "outputs": [],
   "source": []
  },
  {
   "cell_type": "code",
   "execution_count": null,
   "id": "917d9021",
   "metadata": {},
   "outputs": [],
   "source": []
  },
  {
   "cell_type": "code",
   "execution_count": null,
   "id": "b8557a1e",
   "metadata": {},
   "outputs": [],
   "source": []
  },
  {
   "cell_type": "code",
   "execution_count": null,
   "id": "1ac63f7f",
   "metadata": {},
   "outputs": [],
   "source": []
  },
  {
   "cell_type": "code",
   "execution_count": null,
   "id": "9704123a",
   "metadata": {},
   "outputs": [],
   "source": []
  },
  {
   "cell_type": "code",
   "execution_count": null,
   "id": "b6615b16",
   "metadata": {},
   "outputs": [],
   "source": []
  },
  {
   "cell_type": "code",
   "execution_count": null,
   "id": "705ceed1",
   "metadata": {},
   "outputs": [],
   "source": []
  },
  {
   "cell_type": "code",
   "execution_count": null,
   "id": "3c333f7d",
   "metadata": {},
   "outputs": [],
   "source": []
  },
  {
   "cell_type": "code",
   "execution_count": null,
   "id": "43da7ba1",
   "metadata": {},
   "outputs": [],
   "source": []
  },
  {
   "cell_type": "code",
   "execution_count": null,
   "id": "1fe39028",
   "metadata": {},
   "outputs": [],
   "source": []
  },
  {
   "cell_type": "code",
   "execution_count": null,
   "id": "267f81fc",
   "metadata": {},
   "outputs": [],
   "source": []
  },
  {
   "cell_type": "code",
   "execution_count": null,
   "id": "2fc6598f",
   "metadata": {},
   "outputs": [],
   "source": []
  },
  {
   "cell_type": "code",
   "execution_count": null,
   "id": "87fdf6ab",
   "metadata": {},
   "outputs": [],
   "source": []
  },
  {
   "cell_type": "code",
   "execution_count": null,
   "id": "379374ca",
   "metadata": {},
   "outputs": [],
   "source": []
  },
  {
   "cell_type": "code",
   "execution_count": null,
   "id": "7de39a8d",
   "metadata": {},
   "outputs": [],
   "source": []
  },
  {
   "cell_type": "code",
   "execution_count": null,
   "id": "ea822882",
   "metadata": {},
   "outputs": [],
   "source": []
  },
  {
   "cell_type": "code",
   "execution_count": null,
   "id": "263643fa",
   "metadata": {},
   "outputs": [],
   "source": []
  },
  {
   "cell_type": "code",
   "execution_count": null,
   "id": "2c17ead8",
   "metadata": {},
   "outputs": [],
   "source": []
  },
  {
   "cell_type": "code",
   "execution_count": null,
   "id": "5cef94ba",
   "metadata": {},
   "outputs": [],
   "source": []
  },
  {
   "cell_type": "code",
   "execution_count": null,
   "id": "4d31d7fe",
   "metadata": {},
   "outputs": [],
   "source": []
  },
  {
   "cell_type": "code",
   "execution_count": null,
   "id": "ee01d3d5",
   "metadata": {},
   "outputs": [],
   "source": []
  },
  {
   "cell_type": "code",
   "execution_count": null,
   "id": "9f2c903b",
   "metadata": {},
   "outputs": [],
   "source": []
  },
  {
   "cell_type": "code",
   "execution_count": null,
   "id": "d53c5c70",
   "metadata": {},
   "outputs": [],
   "source": []
  },
  {
   "cell_type": "code",
   "execution_count": null,
   "id": "ae8aec20",
   "metadata": {},
   "outputs": [],
   "source": []
  },
  {
   "cell_type": "code",
   "execution_count": null,
   "id": "eb47718f",
   "metadata": {},
   "outputs": [],
   "source": []
  },
  {
   "cell_type": "code",
   "execution_count": null,
   "id": "65bdee1a",
   "metadata": {},
   "outputs": [],
   "source": []
  },
  {
   "cell_type": "code",
   "execution_count": null,
   "id": "b1485d9c",
   "metadata": {},
   "outputs": [],
   "source": []
  },
  {
   "cell_type": "code",
   "execution_count": null,
   "id": "67ab1e9d",
   "metadata": {},
   "outputs": [],
   "source": []
  },
  {
   "cell_type": "code",
   "execution_count": null,
   "id": "f5e83ea1",
   "metadata": {},
   "outputs": [],
   "source": []
  },
  {
   "cell_type": "code",
   "execution_count": null,
   "id": "33e5bdef",
   "metadata": {},
   "outputs": [],
   "source": []
  },
  {
   "cell_type": "code",
   "execution_count": null,
   "id": "7aa143a7",
   "metadata": {},
   "outputs": [],
   "source": []
  },
  {
   "cell_type": "code",
   "execution_count": null,
   "id": "2bb1d8c5",
   "metadata": {},
   "outputs": [],
   "source": []
  },
  {
   "cell_type": "code",
   "execution_count": null,
   "id": "b5931980",
   "metadata": {},
   "outputs": [],
   "source": []
  },
  {
   "cell_type": "code",
   "execution_count": null,
   "id": "04354fd6",
   "metadata": {},
   "outputs": [],
   "source": []
  },
  {
   "cell_type": "code",
   "execution_count": null,
   "id": "f80fafeb",
   "metadata": {},
   "outputs": [],
   "source": []
  },
  {
   "cell_type": "code",
   "execution_count": null,
   "id": "97cc6442",
   "metadata": {},
   "outputs": [],
   "source": []
  },
  {
   "cell_type": "code",
   "execution_count": null,
   "id": "9343a116",
   "metadata": {},
   "outputs": [],
   "source": []
  },
  {
   "cell_type": "code",
   "execution_count": null,
   "id": "4747b4be",
   "metadata": {},
   "outputs": [],
   "source": []
  },
  {
   "cell_type": "code",
   "execution_count": null,
   "id": "be46d4bf",
   "metadata": {},
   "outputs": [],
   "source": []
  },
  {
   "cell_type": "code",
   "execution_count": null,
   "id": "b47899dd",
   "metadata": {},
   "outputs": [],
   "source": []
  },
  {
   "cell_type": "code",
   "execution_count": null,
   "id": "88264ed3",
   "metadata": {},
   "outputs": [],
   "source": []
  },
  {
   "cell_type": "code",
   "execution_count": null,
   "id": "7dc32600",
   "metadata": {},
   "outputs": [],
   "source": []
  },
  {
   "cell_type": "code",
   "execution_count": null,
   "id": "a804e745",
   "metadata": {},
   "outputs": [],
   "source": []
  },
  {
   "cell_type": "code",
   "execution_count": null,
   "id": "b6d2ebf0",
   "metadata": {},
   "outputs": [],
   "source": []
  },
  {
   "cell_type": "code",
   "execution_count": null,
   "id": "151d10c8",
   "metadata": {},
   "outputs": [],
   "source": []
  },
  {
   "cell_type": "code",
   "execution_count": null,
   "id": "d785ac66",
   "metadata": {},
   "outputs": [],
   "source": []
  },
  {
   "cell_type": "code",
   "execution_count": null,
   "id": "ba2994b5",
   "metadata": {},
   "outputs": [],
   "source": []
  },
  {
   "cell_type": "code",
   "execution_count": null,
   "id": "81eb14eb",
   "metadata": {},
   "outputs": [],
   "source": []
  },
  {
   "cell_type": "code",
   "execution_count": null,
   "id": "146f23a2",
   "metadata": {},
   "outputs": [],
   "source": []
  },
  {
   "cell_type": "code",
   "execution_count": null,
   "id": "6a652062",
   "metadata": {},
   "outputs": [],
   "source": []
  },
  {
   "cell_type": "code",
   "execution_count": null,
   "id": "b91e9e7c",
   "metadata": {},
   "outputs": [],
   "source": []
  },
  {
   "cell_type": "code",
   "execution_count": null,
   "id": "6ad5eb99",
   "metadata": {},
   "outputs": [],
   "source": []
  },
  {
   "cell_type": "code",
   "execution_count": null,
   "id": "5d2a5d86",
   "metadata": {},
   "outputs": [],
   "source": []
  },
  {
   "cell_type": "code",
   "execution_count": null,
   "id": "3c75433d",
   "metadata": {},
   "outputs": [],
   "source": []
  },
  {
   "cell_type": "code",
   "execution_count": null,
   "id": "09e80b7d",
   "metadata": {},
   "outputs": [],
   "source": []
  },
  {
   "cell_type": "code",
   "execution_count": null,
   "id": "b0e64bd9",
   "metadata": {},
   "outputs": [],
   "source": []
  },
  {
   "cell_type": "code",
   "execution_count": null,
   "id": "14e2993f",
   "metadata": {},
   "outputs": [],
   "source": []
  },
  {
   "cell_type": "code",
   "execution_count": null,
   "id": "760e58f7",
   "metadata": {},
   "outputs": [],
   "source": []
  },
  {
   "cell_type": "code",
   "execution_count": null,
   "id": "ad83ac11",
   "metadata": {},
   "outputs": [],
   "source": []
  },
  {
   "cell_type": "code",
   "execution_count": null,
   "id": "b4a4c58f",
   "metadata": {},
   "outputs": [],
   "source": []
  },
  {
   "cell_type": "code",
   "execution_count": null,
   "id": "e3971646",
   "metadata": {},
   "outputs": [],
   "source": []
  },
  {
   "cell_type": "code",
   "execution_count": null,
   "id": "1b6f6806",
   "metadata": {},
   "outputs": [],
   "source": []
  },
  {
   "cell_type": "code",
   "execution_count": null,
   "id": "f86a1c45",
   "metadata": {},
   "outputs": [],
   "source": []
  },
  {
   "cell_type": "code",
   "execution_count": null,
   "id": "3646eccc",
   "metadata": {},
   "outputs": [],
   "source": []
  },
  {
   "cell_type": "code",
   "execution_count": null,
   "id": "0412f5e3",
   "metadata": {},
   "outputs": [],
   "source": []
  },
  {
   "cell_type": "code",
   "execution_count": null,
   "id": "80945dad",
   "metadata": {},
   "outputs": [],
   "source": []
  },
  {
   "cell_type": "code",
   "execution_count": null,
   "id": "8fc0b5bc",
   "metadata": {},
   "outputs": [],
   "source": []
  },
  {
   "cell_type": "code",
   "execution_count": null,
   "id": "53d54ee9",
   "metadata": {},
   "outputs": [],
   "source": []
  },
  {
   "cell_type": "code",
   "execution_count": null,
   "id": "78c2f59c",
   "metadata": {},
   "outputs": [],
   "source": []
  },
  {
   "cell_type": "code",
   "execution_count": null,
   "id": "d7e1e6c7",
   "metadata": {},
   "outputs": [],
   "source": []
  },
  {
   "cell_type": "code",
   "execution_count": null,
   "id": "6d437129",
   "metadata": {},
   "outputs": [],
   "source": []
  },
  {
   "cell_type": "code",
   "execution_count": null,
   "id": "64b2505d",
   "metadata": {},
   "outputs": [],
   "source": []
  },
  {
   "cell_type": "code",
   "execution_count": null,
   "id": "dfc45f9a",
   "metadata": {},
   "outputs": [],
   "source": []
  },
  {
   "cell_type": "code",
   "execution_count": null,
   "id": "5800ab75",
   "metadata": {},
   "outputs": [],
   "source": []
  },
  {
   "cell_type": "code",
   "execution_count": null,
   "id": "03de5363",
   "metadata": {},
   "outputs": [],
   "source": []
  },
  {
   "cell_type": "code",
   "execution_count": null,
   "id": "99decd5a",
   "metadata": {},
   "outputs": [],
   "source": []
  },
  {
   "cell_type": "code",
   "execution_count": null,
   "id": "380f60a6",
   "metadata": {},
   "outputs": [],
   "source": []
  },
  {
   "cell_type": "code",
   "execution_count": null,
   "id": "ef9628f5",
   "metadata": {},
   "outputs": [],
   "source": []
  },
  {
   "cell_type": "code",
   "execution_count": null,
   "id": "7cc537f0",
   "metadata": {},
   "outputs": [],
   "source": []
  },
  {
   "cell_type": "code",
   "execution_count": null,
   "id": "e673fc33",
   "metadata": {},
   "outputs": [],
   "source": []
  },
  {
   "cell_type": "code",
   "execution_count": null,
   "id": "799ea16e",
   "metadata": {},
   "outputs": [],
   "source": []
  },
  {
   "cell_type": "code",
   "execution_count": null,
   "id": "4b6406ce",
   "metadata": {},
   "outputs": [],
   "source": []
  },
  {
   "cell_type": "code",
   "execution_count": null,
   "id": "4fe022f0",
   "metadata": {},
   "outputs": [],
   "source": []
  },
  {
   "cell_type": "code",
   "execution_count": null,
   "id": "633c4f50",
   "metadata": {},
   "outputs": [],
   "source": []
  },
  {
   "cell_type": "code",
   "execution_count": null,
   "id": "283cb5ee",
   "metadata": {},
   "outputs": [],
   "source": []
  },
  {
   "cell_type": "code",
   "execution_count": null,
   "id": "114444e0",
   "metadata": {},
   "outputs": [],
   "source": []
  },
  {
   "cell_type": "code",
   "execution_count": null,
   "id": "aea3bf1a",
   "metadata": {},
   "outputs": [],
   "source": []
  },
  {
   "cell_type": "code",
   "execution_count": null,
   "id": "b4e59815",
   "metadata": {},
   "outputs": [],
   "source": []
  },
  {
   "cell_type": "code",
   "execution_count": null,
   "id": "46d73c31",
   "metadata": {},
   "outputs": [],
   "source": []
  },
  {
   "cell_type": "code",
   "execution_count": null,
   "id": "4de1f0f3",
   "metadata": {},
   "outputs": [],
   "source": []
  },
  {
   "cell_type": "code",
   "execution_count": null,
   "id": "155fa40e",
   "metadata": {},
   "outputs": [],
   "source": []
  },
  {
   "cell_type": "code",
   "execution_count": null,
   "id": "bcbdffc6",
   "metadata": {},
   "outputs": [],
   "source": []
  },
  {
   "cell_type": "code",
   "execution_count": null,
   "id": "ae358125",
   "metadata": {},
   "outputs": [],
   "source": []
  },
  {
   "cell_type": "code",
   "execution_count": null,
   "id": "ea4c66e7",
   "metadata": {},
   "outputs": [],
   "source": []
  },
  {
   "cell_type": "code",
   "execution_count": null,
   "id": "c9c3be5d",
   "metadata": {},
   "outputs": [],
   "source": []
  },
  {
   "cell_type": "code",
   "execution_count": null,
   "id": "4410129e",
   "metadata": {},
   "outputs": [],
   "source": []
  },
  {
   "cell_type": "code",
   "execution_count": null,
   "id": "b548622a",
   "metadata": {},
   "outputs": [],
   "source": []
  },
  {
   "cell_type": "code",
   "execution_count": null,
   "id": "12caf48a",
   "metadata": {},
   "outputs": [],
   "source": []
  },
  {
   "cell_type": "code",
   "execution_count": null,
   "id": "7c590a85",
   "metadata": {},
   "outputs": [],
   "source": []
  },
  {
   "cell_type": "code",
   "execution_count": null,
   "id": "759085f3",
   "metadata": {},
   "outputs": [],
   "source": []
  },
  {
   "cell_type": "code",
   "execution_count": null,
   "id": "b29d339e",
   "metadata": {},
   "outputs": [],
   "source": []
  },
  {
   "cell_type": "code",
   "execution_count": null,
   "id": "039b1960",
   "metadata": {},
   "outputs": [],
   "source": []
  },
  {
   "cell_type": "code",
   "execution_count": null,
   "id": "9529a139",
   "metadata": {},
   "outputs": [],
   "source": []
  },
  {
   "cell_type": "code",
   "execution_count": null,
   "id": "96bacd6a",
   "metadata": {},
   "outputs": [],
   "source": []
  },
  {
   "cell_type": "code",
   "execution_count": null,
   "id": "eff8d9e2",
   "metadata": {},
   "outputs": [],
   "source": []
  },
  {
   "cell_type": "code",
   "execution_count": null,
   "id": "268d8a5e",
   "metadata": {},
   "outputs": [],
   "source": []
  },
  {
   "cell_type": "code",
   "execution_count": null,
   "id": "0d6f0a53",
   "metadata": {},
   "outputs": [],
   "source": []
  },
  {
   "cell_type": "code",
   "execution_count": null,
   "id": "b54d5298",
   "metadata": {},
   "outputs": [],
   "source": []
  },
  {
   "cell_type": "code",
   "execution_count": null,
   "id": "55097cfb",
   "metadata": {},
   "outputs": [],
   "source": []
  },
  {
   "cell_type": "code",
   "execution_count": null,
   "id": "9ab19a3b",
   "metadata": {},
   "outputs": [],
   "source": []
  },
  {
   "cell_type": "code",
   "execution_count": null,
   "id": "e73a68f3",
   "metadata": {},
   "outputs": [],
   "source": []
  },
  {
   "cell_type": "code",
   "execution_count": null,
   "id": "a70ad0ca",
   "metadata": {},
   "outputs": [],
   "source": []
  },
  {
   "cell_type": "code",
   "execution_count": null,
   "id": "4def86f6",
   "metadata": {},
   "outputs": [],
   "source": []
  },
  {
   "cell_type": "code",
   "execution_count": null,
   "id": "b3f3d0ab",
   "metadata": {},
   "outputs": [],
   "source": []
  },
  {
   "cell_type": "code",
   "execution_count": null,
   "id": "bed96dc1",
   "metadata": {},
   "outputs": [],
   "source": []
  },
  {
   "cell_type": "code",
   "execution_count": null,
   "id": "ad849a78",
   "metadata": {},
   "outputs": [],
   "source": []
  },
  {
   "cell_type": "code",
   "execution_count": null,
   "id": "767469ee",
   "metadata": {},
   "outputs": [],
   "source": []
  },
  {
   "cell_type": "code",
   "execution_count": null,
   "id": "76b0e893",
   "metadata": {},
   "outputs": [],
   "source": []
  },
  {
   "cell_type": "code",
   "execution_count": null,
   "id": "caf770d7",
   "metadata": {},
   "outputs": [],
   "source": []
  },
  {
   "cell_type": "code",
   "execution_count": null,
   "id": "2ff3d85a",
   "metadata": {},
   "outputs": [],
   "source": []
  },
  {
   "cell_type": "code",
   "execution_count": null,
   "id": "c2ae9495",
   "metadata": {},
   "outputs": [],
   "source": []
  },
  {
   "cell_type": "code",
   "execution_count": null,
   "id": "f2454d49",
   "metadata": {},
   "outputs": [],
   "source": []
  },
  {
   "cell_type": "code",
   "execution_count": null,
   "id": "35b03b46",
   "metadata": {},
   "outputs": [],
   "source": []
  },
  {
   "cell_type": "code",
   "execution_count": null,
   "id": "6a46bc79",
   "metadata": {},
   "outputs": [],
   "source": []
  },
  {
   "cell_type": "code",
   "execution_count": null,
   "id": "1d79c9ac",
   "metadata": {},
   "outputs": [],
   "source": []
  },
  {
   "cell_type": "code",
   "execution_count": null,
   "id": "98473d2f",
   "metadata": {},
   "outputs": [],
   "source": []
  },
  {
   "cell_type": "code",
   "execution_count": null,
   "id": "334d7380",
   "metadata": {},
   "outputs": [],
   "source": []
  },
  {
   "cell_type": "code",
   "execution_count": null,
   "id": "fac91550",
   "metadata": {},
   "outputs": [],
   "source": []
  },
  {
   "cell_type": "code",
   "execution_count": null,
   "id": "91296796",
   "metadata": {},
   "outputs": [],
   "source": []
  },
  {
   "cell_type": "code",
   "execution_count": null,
   "id": "df1ea6e0",
   "metadata": {},
   "outputs": [],
   "source": []
  },
  {
   "cell_type": "code",
   "execution_count": null,
   "id": "eca7a4c2",
   "metadata": {},
   "outputs": [],
   "source": []
  },
  {
   "cell_type": "code",
   "execution_count": null,
   "id": "a303bd2d",
   "metadata": {},
   "outputs": [],
   "source": []
  },
  {
   "cell_type": "code",
   "execution_count": null,
   "id": "8b7e1644",
   "metadata": {},
   "outputs": [],
   "source": []
  },
  {
   "cell_type": "code",
   "execution_count": null,
   "id": "8f551df6",
   "metadata": {},
   "outputs": [],
   "source": []
  },
  {
   "cell_type": "code",
   "execution_count": null,
   "id": "e3c0a71f",
   "metadata": {},
   "outputs": [],
   "source": []
  },
  {
   "cell_type": "code",
   "execution_count": null,
   "id": "9c9215fb",
   "metadata": {},
   "outputs": [],
   "source": []
  },
  {
   "cell_type": "code",
   "execution_count": null,
   "id": "b13e2be3",
   "metadata": {},
   "outputs": [],
   "source": []
  },
  {
   "cell_type": "code",
   "execution_count": null,
   "id": "bb2fb451",
   "metadata": {},
   "outputs": [],
   "source": []
  },
  {
   "cell_type": "code",
   "execution_count": null,
   "id": "17963d24",
   "metadata": {},
   "outputs": [],
   "source": []
  },
  {
   "cell_type": "code",
   "execution_count": null,
   "id": "90b27ed9",
   "metadata": {},
   "outputs": [],
   "source": []
  },
  {
   "cell_type": "code",
   "execution_count": null,
   "id": "c46fb501",
   "metadata": {},
   "outputs": [],
   "source": []
  },
  {
   "cell_type": "code",
   "execution_count": null,
   "id": "3fb6f1cc",
   "metadata": {},
   "outputs": [],
   "source": []
  },
  {
   "cell_type": "code",
   "execution_count": null,
   "id": "c7054eff",
   "metadata": {},
   "outputs": [],
   "source": []
  },
  {
   "cell_type": "code",
   "execution_count": null,
   "id": "558b219b",
   "metadata": {},
   "outputs": [],
   "source": []
  },
  {
   "cell_type": "code",
   "execution_count": null,
   "id": "69ef5535",
   "metadata": {},
   "outputs": [],
   "source": []
  },
  {
   "cell_type": "code",
   "execution_count": null,
   "id": "c6ca121d",
   "metadata": {},
   "outputs": [],
   "source": []
  },
  {
   "cell_type": "code",
   "execution_count": null,
   "id": "92921eb3",
   "metadata": {},
   "outputs": [],
   "source": []
  },
  {
   "cell_type": "code",
   "execution_count": null,
   "id": "7ccd222d",
   "metadata": {},
   "outputs": [],
   "source": []
  },
  {
   "cell_type": "code",
   "execution_count": null,
   "id": "e988060b",
   "metadata": {},
   "outputs": [],
   "source": []
  },
  {
   "cell_type": "code",
   "execution_count": null,
   "id": "dcda196b",
   "metadata": {},
   "outputs": [],
   "source": []
  },
  {
   "cell_type": "code",
   "execution_count": null,
   "id": "66bf8d0a",
   "metadata": {},
   "outputs": [],
   "source": []
  },
  {
   "cell_type": "code",
   "execution_count": null,
   "id": "cd9b572e",
   "metadata": {},
   "outputs": [],
   "source": []
  },
  {
   "cell_type": "code",
   "execution_count": null,
   "id": "896c9670",
   "metadata": {},
   "outputs": [],
   "source": []
  },
  {
   "cell_type": "code",
   "execution_count": null,
   "id": "8a4511ab",
   "metadata": {},
   "outputs": [],
   "source": []
  },
  {
   "cell_type": "code",
   "execution_count": null,
   "id": "9d627593",
   "metadata": {},
   "outputs": [],
   "source": []
  },
  {
   "cell_type": "code",
   "execution_count": null,
   "id": "90ba4d2d",
   "metadata": {},
   "outputs": [],
   "source": []
  },
  {
   "cell_type": "code",
   "execution_count": null,
   "id": "e6c6ec50",
   "metadata": {},
   "outputs": [],
   "source": []
  },
  {
   "cell_type": "code",
   "execution_count": null,
   "id": "63837893",
   "metadata": {},
   "outputs": [],
   "source": []
  },
  {
   "cell_type": "code",
   "execution_count": null,
   "id": "f26adeca",
   "metadata": {},
   "outputs": [],
   "source": []
  },
  {
   "cell_type": "code",
   "execution_count": null,
   "id": "0d94d7e2",
   "metadata": {},
   "outputs": [],
   "source": []
  },
  {
   "cell_type": "code",
   "execution_count": null,
   "id": "7cbc11f9",
   "metadata": {},
   "outputs": [],
   "source": []
  },
  {
   "cell_type": "code",
   "execution_count": null,
   "id": "04424364",
   "metadata": {},
   "outputs": [],
   "source": []
  },
  {
   "cell_type": "code",
   "execution_count": null,
   "id": "b9497914",
   "metadata": {},
   "outputs": [],
   "source": []
  },
  {
   "cell_type": "code",
   "execution_count": null,
   "id": "c280addf",
   "metadata": {},
   "outputs": [],
   "source": []
  },
  {
   "cell_type": "code",
   "execution_count": null,
   "id": "1d91dd16",
   "metadata": {},
   "outputs": [],
   "source": []
  },
  {
   "cell_type": "code",
   "execution_count": null,
   "id": "bee3dbdd",
   "metadata": {},
   "outputs": [],
   "source": []
  },
  {
   "cell_type": "code",
   "execution_count": null,
   "id": "be87580c",
   "metadata": {},
   "outputs": [],
   "source": []
  },
  {
   "cell_type": "code",
   "execution_count": null,
   "id": "e0f2be2a",
   "metadata": {},
   "outputs": [],
   "source": []
  },
  {
   "cell_type": "code",
   "execution_count": null,
   "id": "c12918e2",
   "metadata": {},
   "outputs": [],
   "source": []
  },
  {
   "cell_type": "code",
   "execution_count": null,
   "id": "a9bd6ed2",
   "metadata": {},
   "outputs": [],
   "source": []
  },
  {
   "cell_type": "code",
   "execution_count": null,
   "id": "d8830179",
   "metadata": {},
   "outputs": [],
   "source": []
  },
  {
   "cell_type": "code",
   "execution_count": null,
   "id": "5314967b",
   "metadata": {},
   "outputs": [],
   "source": []
  },
  {
   "cell_type": "code",
   "execution_count": null,
   "id": "ccf74868",
   "metadata": {},
   "outputs": [],
   "source": []
  },
  {
   "cell_type": "code",
   "execution_count": null,
   "id": "27e20600",
   "metadata": {},
   "outputs": [],
   "source": []
  },
  {
   "cell_type": "code",
   "execution_count": null,
   "id": "d6e19e45",
   "metadata": {},
   "outputs": [],
   "source": []
  },
  {
   "cell_type": "code",
   "execution_count": null,
   "id": "416b651b",
   "metadata": {},
   "outputs": [],
   "source": []
  },
  {
   "cell_type": "code",
   "execution_count": null,
   "id": "f77663cf",
   "metadata": {},
   "outputs": [],
   "source": []
  },
  {
   "cell_type": "code",
   "execution_count": null,
   "id": "1f62427d",
   "metadata": {},
   "outputs": [],
   "source": []
  },
  {
   "cell_type": "code",
   "execution_count": null,
   "id": "b71347e7",
   "metadata": {},
   "outputs": [],
   "source": []
  },
  {
   "cell_type": "code",
   "execution_count": null,
   "id": "79ccd939",
   "metadata": {},
   "outputs": [],
   "source": []
  },
  {
   "cell_type": "code",
   "execution_count": null,
   "id": "4e9126cb",
   "metadata": {},
   "outputs": [],
   "source": []
  },
  {
   "cell_type": "code",
   "execution_count": null,
   "id": "0aa34e5b",
   "metadata": {},
   "outputs": [],
   "source": []
  },
  {
   "cell_type": "code",
   "execution_count": null,
   "id": "29cfd5a1",
   "metadata": {},
   "outputs": [],
   "source": []
  },
  {
   "cell_type": "code",
   "execution_count": null,
   "id": "e2a77e1d",
   "metadata": {},
   "outputs": [],
   "source": []
  },
  {
   "cell_type": "code",
   "execution_count": null,
   "id": "deb1de9b",
   "metadata": {},
   "outputs": [],
   "source": []
  },
  {
   "cell_type": "code",
   "execution_count": null,
   "id": "22401980",
   "metadata": {},
   "outputs": [],
   "source": []
  },
  {
   "cell_type": "code",
   "execution_count": null,
   "id": "0377e3e3",
   "metadata": {},
   "outputs": [],
   "source": []
  },
  {
   "cell_type": "code",
   "execution_count": null,
   "id": "8cb4b9fd",
   "metadata": {},
   "outputs": [],
   "source": []
  },
  {
   "cell_type": "code",
   "execution_count": null,
   "id": "9f14abaf",
   "metadata": {},
   "outputs": [],
   "source": []
  },
  {
   "cell_type": "code",
   "execution_count": null,
   "id": "a95b5321",
   "metadata": {},
   "outputs": [],
   "source": []
  },
  {
   "cell_type": "code",
   "execution_count": null,
   "id": "65b6fc0e",
   "metadata": {},
   "outputs": [],
   "source": []
  },
  {
   "cell_type": "code",
   "execution_count": null,
   "id": "1a1d2227",
   "metadata": {},
   "outputs": [],
   "source": []
  },
  {
   "cell_type": "code",
   "execution_count": null,
   "id": "ae188aba",
   "metadata": {},
   "outputs": [],
   "source": []
  },
  {
   "cell_type": "code",
   "execution_count": null,
   "id": "18348103",
   "metadata": {},
   "outputs": [],
   "source": []
  },
  {
   "cell_type": "code",
   "execution_count": null,
   "id": "a939f699",
   "metadata": {},
   "outputs": [],
   "source": []
  },
  {
   "cell_type": "code",
   "execution_count": null,
   "id": "4f10dbc5",
   "metadata": {},
   "outputs": [],
   "source": []
  },
  {
   "cell_type": "code",
   "execution_count": null,
   "id": "56196999",
   "metadata": {},
   "outputs": [],
   "source": []
  },
  {
   "cell_type": "code",
   "execution_count": null,
   "id": "6abd41d2",
   "metadata": {},
   "outputs": [],
   "source": []
  },
  {
   "cell_type": "code",
   "execution_count": null,
   "id": "b65a92b7",
   "metadata": {},
   "outputs": [],
   "source": []
  },
  {
   "cell_type": "code",
   "execution_count": null,
   "id": "9f3155f4",
   "metadata": {},
   "outputs": [],
   "source": []
  },
  {
   "cell_type": "code",
   "execution_count": null,
   "id": "ff2e5db2",
   "metadata": {},
   "outputs": [],
   "source": []
  },
  {
   "cell_type": "code",
   "execution_count": null,
   "id": "ca289feb",
   "metadata": {},
   "outputs": [],
   "source": []
  },
  {
   "cell_type": "code",
   "execution_count": null,
   "id": "830423a9",
   "metadata": {},
   "outputs": [],
   "source": []
  },
  {
   "cell_type": "code",
   "execution_count": null,
   "id": "15cc0833",
   "metadata": {},
   "outputs": [],
   "source": []
  },
  {
   "cell_type": "code",
   "execution_count": null,
   "id": "ef0d492f",
   "metadata": {},
   "outputs": [],
   "source": []
  },
  {
   "cell_type": "code",
   "execution_count": null,
   "id": "4cea01e3",
   "metadata": {},
   "outputs": [],
   "source": []
  },
  {
   "cell_type": "code",
   "execution_count": null,
   "id": "8a5cb408",
   "metadata": {},
   "outputs": [],
   "source": []
  },
  {
   "cell_type": "code",
   "execution_count": null,
   "id": "d894612c",
   "metadata": {},
   "outputs": [],
   "source": []
  },
  {
   "cell_type": "code",
   "execution_count": null,
   "id": "a1b06cdd",
   "metadata": {},
   "outputs": [],
   "source": []
  },
  {
   "cell_type": "code",
   "execution_count": null,
   "id": "c94d0157",
   "metadata": {},
   "outputs": [],
   "source": []
  },
  {
   "cell_type": "code",
   "execution_count": null,
   "id": "507200e3",
   "metadata": {},
   "outputs": [],
   "source": []
  },
  {
   "cell_type": "code",
   "execution_count": null,
   "id": "701448b8",
   "metadata": {},
   "outputs": [],
   "source": []
  },
  {
   "cell_type": "code",
   "execution_count": null,
   "id": "8a26a5b5",
   "metadata": {},
   "outputs": [],
   "source": []
  },
  {
   "cell_type": "code",
   "execution_count": null,
   "id": "6e33e862",
   "metadata": {},
   "outputs": [],
   "source": []
  },
  {
   "cell_type": "code",
   "execution_count": null,
   "id": "7076856e",
   "metadata": {},
   "outputs": [],
   "source": []
  },
  {
   "cell_type": "code",
   "execution_count": null,
   "id": "dc76c8af",
   "metadata": {},
   "outputs": [],
   "source": []
  },
  {
   "cell_type": "code",
   "execution_count": null,
   "id": "2f4be9a4",
   "metadata": {},
   "outputs": [],
   "source": []
  },
  {
   "cell_type": "code",
   "execution_count": null,
   "id": "c67011eb",
   "metadata": {},
   "outputs": [],
   "source": []
  },
  {
   "cell_type": "code",
   "execution_count": null,
   "id": "54f1510f",
   "metadata": {},
   "outputs": [],
   "source": []
  },
  {
   "cell_type": "code",
   "execution_count": null,
   "id": "67c690b7",
   "metadata": {},
   "outputs": [],
   "source": []
  },
  {
   "cell_type": "code",
   "execution_count": null,
   "id": "84101e6f",
   "metadata": {},
   "outputs": [],
   "source": []
  },
  {
   "cell_type": "code",
   "execution_count": null,
   "id": "3a93b362",
   "metadata": {},
   "outputs": [],
   "source": []
  },
  {
   "cell_type": "code",
   "execution_count": null,
   "id": "6e7ba938",
   "metadata": {},
   "outputs": [],
   "source": []
  },
  {
   "cell_type": "code",
   "execution_count": null,
   "id": "abc64279",
   "metadata": {},
   "outputs": [],
   "source": []
  },
  {
   "cell_type": "code",
   "execution_count": null,
   "id": "bfe2f2d6",
   "metadata": {},
   "outputs": [],
   "source": []
  },
  {
   "cell_type": "code",
   "execution_count": null,
   "id": "0f28b4dc",
   "metadata": {},
   "outputs": [],
   "source": []
  },
  {
   "cell_type": "code",
   "execution_count": null,
   "id": "10342545",
   "metadata": {},
   "outputs": [],
   "source": []
  },
  {
   "cell_type": "code",
   "execution_count": null,
   "id": "045dff72",
   "metadata": {},
   "outputs": [],
   "source": []
  },
  {
   "cell_type": "code",
   "execution_count": null,
   "id": "c883afff",
   "metadata": {},
   "outputs": [],
   "source": []
  },
  {
   "cell_type": "code",
   "execution_count": null,
   "id": "5b46dc51",
   "metadata": {},
   "outputs": [],
   "source": []
  },
  {
   "cell_type": "code",
   "execution_count": null,
   "id": "e60b64d3",
   "metadata": {},
   "outputs": [],
   "source": []
  },
  {
   "cell_type": "code",
   "execution_count": null,
   "id": "c8975d7d",
   "metadata": {},
   "outputs": [],
   "source": []
  },
  {
   "cell_type": "code",
   "execution_count": null,
   "id": "975c87c2",
   "metadata": {},
   "outputs": [],
   "source": []
  },
  {
   "cell_type": "code",
   "execution_count": null,
   "id": "e6f2bf9b",
   "metadata": {},
   "outputs": [],
   "source": []
  },
  {
   "cell_type": "code",
   "execution_count": null,
   "id": "56fd5db2",
   "metadata": {},
   "outputs": [],
   "source": []
  },
  {
   "cell_type": "code",
   "execution_count": null,
   "id": "add8f98b",
   "metadata": {},
   "outputs": [],
   "source": []
  },
  {
   "cell_type": "code",
   "execution_count": null,
   "id": "c2ee44fb",
   "metadata": {},
   "outputs": [],
   "source": []
  },
  {
   "cell_type": "code",
   "execution_count": null,
   "id": "929d45c9",
   "metadata": {},
   "outputs": [],
   "source": []
  },
  {
   "cell_type": "code",
   "execution_count": null,
   "id": "60e2235b",
   "metadata": {},
   "outputs": [],
   "source": []
  },
  {
   "cell_type": "code",
   "execution_count": null,
   "id": "7021580c",
   "metadata": {},
   "outputs": [],
   "source": []
  },
  {
   "cell_type": "code",
   "execution_count": null,
   "id": "e43710d5",
   "metadata": {},
   "outputs": [],
   "source": []
  },
  {
   "cell_type": "code",
   "execution_count": null,
   "id": "c3dfda3d",
   "metadata": {},
   "outputs": [],
   "source": []
  },
  {
   "cell_type": "code",
   "execution_count": null,
   "id": "9b1211fe",
   "metadata": {},
   "outputs": [],
   "source": []
  },
  {
   "cell_type": "code",
   "execution_count": null,
   "id": "7cdce2ce",
   "metadata": {},
   "outputs": [],
   "source": []
  },
  {
   "cell_type": "code",
   "execution_count": null,
   "id": "df4f7050",
   "metadata": {},
   "outputs": [],
   "source": []
  },
  {
   "cell_type": "code",
   "execution_count": null,
   "id": "f1b0a014",
   "metadata": {},
   "outputs": [],
   "source": []
  },
  {
   "cell_type": "code",
   "execution_count": null,
   "id": "f561f47f",
   "metadata": {},
   "outputs": [],
   "source": []
  },
  {
   "cell_type": "code",
   "execution_count": null,
   "id": "065f7ba8",
   "metadata": {},
   "outputs": [],
   "source": []
  },
  {
   "cell_type": "code",
   "execution_count": null,
   "id": "4e4c4521",
   "metadata": {},
   "outputs": [],
   "source": []
  },
  {
   "cell_type": "code",
   "execution_count": null,
   "id": "d6430fb3",
   "metadata": {},
   "outputs": [],
   "source": []
  },
  {
   "cell_type": "code",
   "execution_count": null,
   "id": "262afe52",
   "metadata": {},
   "outputs": [],
   "source": []
  },
  {
   "cell_type": "code",
   "execution_count": null,
   "id": "fb9b2d54",
   "metadata": {},
   "outputs": [],
   "source": []
  },
  {
   "cell_type": "code",
   "execution_count": null,
   "id": "7fcc0089",
   "metadata": {},
   "outputs": [],
   "source": []
  },
  {
   "cell_type": "code",
   "execution_count": null,
   "id": "7a12f371",
   "metadata": {},
   "outputs": [],
   "source": []
  },
  {
   "cell_type": "code",
   "execution_count": null,
   "id": "5ce831b6",
   "metadata": {},
   "outputs": [],
   "source": []
  },
  {
   "cell_type": "code",
   "execution_count": null,
   "id": "79ce7ca5",
   "metadata": {},
   "outputs": [],
   "source": []
  },
  {
   "cell_type": "code",
   "execution_count": null,
   "id": "10389700",
   "metadata": {},
   "outputs": [],
   "source": []
  },
  {
   "cell_type": "code",
   "execution_count": null,
   "id": "e164e58f",
   "metadata": {},
   "outputs": [],
   "source": []
  },
  {
   "cell_type": "code",
   "execution_count": null,
   "id": "f007d934",
   "metadata": {},
   "outputs": [],
   "source": []
  },
  {
   "cell_type": "code",
   "execution_count": null,
   "id": "384a0d01",
   "metadata": {},
   "outputs": [],
   "source": []
  },
  {
   "cell_type": "code",
   "execution_count": null,
   "id": "d5e95896",
   "metadata": {},
   "outputs": [],
   "source": []
  },
  {
   "cell_type": "code",
   "execution_count": null,
   "id": "7c6aa15a",
   "metadata": {},
   "outputs": [],
   "source": []
  },
  {
   "cell_type": "code",
   "execution_count": null,
   "id": "84f37cca",
   "metadata": {},
   "outputs": [],
   "source": []
  },
  {
   "cell_type": "code",
   "execution_count": null,
   "id": "4514291d",
   "metadata": {},
   "outputs": [],
   "source": []
  },
  {
   "cell_type": "code",
   "execution_count": null,
   "id": "33d70121",
   "metadata": {},
   "outputs": [],
   "source": []
  },
  {
   "cell_type": "code",
   "execution_count": null,
   "id": "921cf73a",
   "metadata": {},
   "outputs": [],
   "source": []
  },
  {
   "cell_type": "code",
   "execution_count": null,
   "id": "3b27deb6",
   "metadata": {},
   "outputs": [],
   "source": []
  },
  {
   "cell_type": "code",
   "execution_count": null,
   "id": "02bf22f4",
   "metadata": {},
   "outputs": [],
   "source": []
  },
  {
   "cell_type": "code",
   "execution_count": null,
   "id": "194029f0",
   "metadata": {},
   "outputs": [],
   "source": []
  },
  {
   "cell_type": "code",
   "execution_count": null,
   "id": "3cc2b962",
   "metadata": {},
   "outputs": [],
   "source": []
  },
  {
   "cell_type": "code",
   "execution_count": null,
   "id": "ef40d0de",
   "metadata": {},
   "outputs": [],
   "source": []
  },
  {
   "cell_type": "code",
   "execution_count": null,
   "id": "ac9040a6",
   "metadata": {},
   "outputs": [],
   "source": []
  },
  {
   "cell_type": "code",
   "execution_count": null,
   "id": "beb20f75",
   "metadata": {},
   "outputs": [],
   "source": []
  },
  {
   "cell_type": "code",
   "execution_count": null,
   "id": "90d570f3",
   "metadata": {},
   "outputs": [],
   "source": []
  },
  {
   "cell_type": "code",
   "execution_count": null,
   "id": "60ac7230",
   "metadata": {},
   "outputs": [],
   "source": []
  },
  {
   "cell_type": "code",
   "execution_count": null,
   "id": "d7e11139",
   "metadata": {},
   "outputs": [],
   "source": []
  },
  {
   "cell_type": "code",
   "execution_count": null,
   "id": "075c892a",
   "metadata": {},
   "outputs": [],
   "source": []
  },
  {
   "cell_type": "code",
   "execution_count": null,
   "id": "aed02779",
   "metadata": {},
   "outputs": [],
   "source": []
  },
  {
   "cell_type": "code",
   "execution_count": null,
   "id": "ce3455e7",
   "metadata": {},
   "outputs": [],
   "source": []
  },
  {
   "cell_type": "code",
   "execution_count": null,
   "id": "627aa56d",
   "metadata": {},
   "outputs": [],
   "source": []
  },
  {
   "cell_type": "code",
   "execution_count": null,
   "id": "8d3cff74",
   "metadata": {},
   "outputs": [],
   "source": []
  },
  {
   "cell_type": "code",
   "execution_count": null,
   "id": "77bd4ebb",
   "metadata": {},
   "outputs": [],
   "source": []
  },
  {
   "cell_type": "code",
   "execution_count": null,
   "id": "0eb50172",
   "metadata": {},
   "outputs": [],
   "source": []
  },
  {
   "cell_type": "code",
   "execution_count": null,
   "id": "65618795",
   "metadata": {},
   "outputs": [],
   "source": []
  },
  {
   "cell_type": "code",
   "execution_count": null,
   "id": "b7c73dde",
   "metadata": {},
   "outputs": [],
   "source": []
  },
  {
   "cell_type": "code",
   "execution_count": null,
   "id": "ea5a161b",
   "metadata": {},
   "outputs": [],
   "source": []
  },
  {
   "cell_type": "code",
   "execution_count": null,
   "id": "471553bb",
   "metadata": {},
   "outputs": [],
   "source": []
  },
  {
   "cell_type": "code",
   "execution_count": null,
   "id": "a26709b2",
   "metadata": {},
   "outputs": [],
   "source": []
  },
  {
   "cell_type": "code",
   "execution_count": null,
   "id": "910bc948",
   "metadata": {},
   "outputs": [],
   "source": []
  },
  {
   "cell_type": "code",
   "execution_count": null,
   "id": "91b6bd64",
   "metadata": {},
   "outputs": [],
   "source": []
  },
  {
   "cell_type": "code",
   "execution_count": null,
   "id": "3b6f4f89",
   "metadata": {},
   "outputs": [],
   "source": []
  },
  {
   "cell_type": "code",
   "execution_count": null,
   "id": "d37e3e5c",
   "metadata": {},
   "outputs": [],
   "source": []
  },
  {
   "cell_type": "code",
   "execution_count": null,
   "id": "3483dc72",
   "metadata": {},
   "outputs": [],
   "source": []
  },
  {
   "cell_type": "code",
   "execution_count": null,
   "id": "ffeae7bf",
   "metadata": {},
   "outputs": [],
   "source": []
  },
  {
   "cell_type": "code",
   "execution_count": null,
   "id": "eac59271",
   "metadata": {},
   "outputs": [],
   "source": []
  },
  {
   "cell_type": "code",
   "execution_count": null,
   "id": "38abbeff",
   "metadata": {},
   "outputs": [],
   "source": []
  },
  {
   "cell_type": "code",
   "execution_count": null,
   "id": "e004f91e",
   "metadata": {},
   "outputs": [],
   "source": []
  },
  {
   "cell_type": "code",
   "execution_count": null,
   "id": "702d1dd8",
   "metadata": {},
   "outputs": [],
   "source": []
  },
  {
   "cell_type": "code",
   "execution_count": null,
   "id": "28e3864f",
   "metadata": {},
   "outputs": [],
   "source": []
  },
  {
   "cell_type": "code",
   "execution_count": null,
   "id": "eb99b389",
   "metadata": {},
   "outputs": [],
   "source": []
  },
  {
   "cell_type": "code",
   "execution_count": null,
   "id": "764299e8",
   "metadata": {},
   "outputs": [],
   "source": []
  },
  {
   "cell_type": "code",
   "execution_count": null,
   "id": "d79e1f72",
   "metadata": {},
   "outputs": [],
   "source": []
  },
  {
   "cell_type": "code",
   "execution_count": null,
   "id": "295a6a70",
   "metadata": {},
   "outputs": [],
   "source": []
  },
  {
   "cell_type": "code",
   "execution_count": null,
   "id": "7363cbdc",
   "metadata": {},
   "outputs": [],
   "source": []
  },
  {
   "cell_type": "code",
   "execution_count": null,
   "id": "07ecd698",
   "metadata": {},
   "outputs": [],
   "source": []
  },
  {
   "cell_type": "code",
   "execution_count": null,
   "id": "88f72ccf",
   "metadata": {},
   "outputs": [],
   "source": []
  },
  {
   "cell_type": "code",
   "execution_count": null,
   "id": "b40a9a1a",
   "metadata": {},
   "outputs": [],
   "source": []
  },
  {
   "cell_type": "code",
   "execution_count": null,
   "id": "8579deec",
   "metadata": {},
   "outputs": [],
   "source": []
  },
  {
   "cell_type": "code",
   "execution_count": null,
   "id": "76a74318",
   "metadata": {},
   "outputs": [],
   "source": []
  },
  {
   "cell_type": "code",
   "execution_count": null,
   "id": "684437d0",
   "metadata": {},
   "outputs": [],
   "source": []
  },
  {
   "cell_type": "code",
   "execution_count": null,
   "id": "f8ce191d",
   "metadata": {},
   "outputs": [],
   "source": []
  },
  {
   "cell_type": "code",
   "execution_count": null,
   "id": "9b7162da",
   "metadata": {},
   "outputs": [],
   "source": []
  },
  {
   "cell_type": "code",
   "execution_count": null,
   "id": "397fbf00",
   "metadata": {},
   "outputs": [],
   "source": []
  },
  {
   "cell_type": "code",
   "execution_count": null,
   "id": "fd934c37",
   "metadata": {},
   "outputs": [],
   "source": []
  },
  {
   "cell_type": "code",
   "execution_count": null,
   "id": "606557d6",
   "metadata": {},
   "outputs": [],
   "source": []
  },
  {
   "cell_type": "code",
   "execution_count": null,
   "id": "6cea75c5",
   "metadata": {},
   "outputs": [],
   "source": []
  },
  {
   "cell_type": "code",
   "execution_count": null,
   "id": "bf9b84ad",
   "metadata": {},
   "outputs": [],
   "source": []
  },
  {
   "cell_type": "code",
   "execution_count": null,
   "id": "156f08c8",
   "metadata": {},
   "outputs": [],
   "source": []
  },
  {
   "cell_type": "code",
   "execution_count": null,
   "id": "11a7529f",
   "metadata": {},
   "outputs": [],
   "source": []
  },
  {
   "cell_type": "code",
   "execution_count": null,
   "id": "501aa47f",
   "metadata": {},
   "outputs": [],
   "source": []
  },
  {
   "cell_type": "code",
   "execution_count": null,
   "id": "a57de1c2",
   "metadata": {},
   "outputs": [],
   "source": []
  },
  {
   "cell_type": "code",
   "execution_count": null,
   "id": "fae3a769",
   "metadata": {},
   "outputs": [],
   "source": []
  },
  {
   "cell_type": "code",
   "execution_count": null,
   "id": "1180fd70",
   "metadata": {},
   "outputs": [],
   "source": []
  },
  {
   "cell_type": "code",
   "execution_count": null,
   "id": "eee64d30",
   "metadata": {},
   "outputs": [],
   "source": []
  },
  {
   "cell_type": "code",
   "execution_count": null,
   "id": "4e7faa86",
   "metadata": {},
   "outputs": [],
   "source": []
  },
  {
   "cell_type": "code",
   "execution_count": null,
   "id": "b40fc178",
   "metadata": {},
   "outputs": [],
   "source": []
  },
  {
   "cell_type": "code",
   "execution_count": null,
   "id": "2ab779b8",
   "metadata": {},
   "outputs": [],
   "source": []
  },
  {
   "cell_type": "code",
   "execution_count": null,
   "id": "c3bed3bc",
   "metadata": {},
   "outputs": [],
   "source": []
  },
  {
   "cell_type": "code",
   "execution_count": null,
   "id": "20a8d7bb",
   "metadata": {},
   "outputs": [],
   "source": []
  },
  {
   "cell_type": "code",
   "execution_count": null,
   "id": "73e3f691",
   "metadata": {},
   "outputs": [],
   "source": []
  },
  {
   "cell_type": "code",
   "execution_count": null,
   "id": "859e1678",
   "metadata": {},
   "outputs": [],
   "source": []
  },
  {
   "cell_type": "code",
   "execution_count": null,
   "id": "9c996dee",
   "metadata": {},
   "outputs": [],
   "source": []
  },
  {
   "cell_type": "code",
   "execution_count": null,
   "id": "fdc5bb22",
   "metadata": {},
   "outputs": [],
   "source": []
  },
  {
   "cell_type": "code",
   "execution_count": null,
   "id": "1e62b1a2",
   "metadata": {},
   "outputs": [],
   "source": []
  },
  {
   "cell_type": "code",
   "execution_count": null,
   "id": "fa259354",
   "metadata": {},
   "outputs": [],
   "source": []
  },
  {
   "cell_type": "code",
   "execution_count": null,
   "id": "f58bae88",
   "metadata": {},
   "outputs": [],
   "source": []
  },
  {
   "cell_type": "code",
   "execution_count": null,
   "id": "fd0b6058",
   "metadata": {},
   "outputs": [],
   "source": []
  },
  {
   "cell_type": "code",
   "execution_count": null,
   "id": "a7b2d3f0",
   "metadata": {},
   "outputs": [],
   "source": []
  },
  {
   "cell_type": "code",
   "execution_count": null,
   "id": "ad8fa1e5",
   "metadata": {},
   "outputs": [],
   "source": []
  },
  {
   "cell_type": "code",
   "execution_count": null,
   "id": "a4c273e6",
   "metadata": {},
   "outputs": [],
   "source": []
  },
  {
   "cell_type": "code",
   "execution_count": null,
   "id": "01c7dea1",
   "metadata": {},
   "outputs": [],
   "source": []
  },
  {
   "cell_type": "code",
   "execution_count": null,
   "id": "e5429b10",
   "metadata": {},
   "outputs": [],
   "source": []
  },
  {
   "cell_type": "code",
   "execution_count": null,
   "id": "2c2831d3",
   "metadata": {},
   "outputs": [],
   "source": []
  },
  {
   "cell_type": "code",
   "execution_count": null,
   "id": "85b96c6c",
   "metadata": {},
   "outputs": [],
   "source": []
  },
  {
   "cell_type": "code",
   "execution_count": null,
   "id": "1f055b94",
   "metadata": {},
   "outputs": [],
   "source": []
  },
  {
   "cell_type": "code",
   "execution_count": null,
   "id": "c5e98766",
   "metadata": {},
   "outputs": [],
   "source": []
  },
  {
   "cell_type": "code",
   "execution_count": null,
   "id": "551af884",
   "metadata": {},
   "outputs": [],
   "source": []
  },
  {
   "cell_type": "code",
   "execution_count": null,
   "id": "0b35cc3f",
   "metadata": {},
   "outputs": [],
   "source": []
  },
  {
   "cell_type": "code",
   "execution_count": null,
   "id": "e5293935",
   "metadata": {},
   "outputs": [],
   "source": []
  },
  {
   "cell_type": "code",
   "execution_count": null,
   "id": "5d9e9d91",
   "metadata": {},
   "outputs": [],
   "source": []
  },
  {
   "cell_type": "code",
   "execution_count": null,
   "id": "07049dfc",
   "metadata": {},
   "outputs": [],
   "source": []
  },
  {
   "cell_type": "code",
   "execution_count": null,
   "id": "b46aa23f",
   "metadata": {},
   "outputs": [],
   "source": []
  },
  {
   "cell_type": "code",
   "execution_count": null,
   "id": "7ca64ecd",
   "metadata": {},
   "outputs": [],
   "source": []
  },
  {
   "cell_type": "code",
   "execution_count": null,
   "id": "5beb673d",
   "metadata": {},
   "outputs": [],
   "source": []
  },
  {
   "cell_type": "code",
   "execution_count": null,
   "id": "2f364148",
   "metadata": {},
   "outputs": [],
   "source": []
  },
  {
   "cell_type": "code",
   "execution_count": null,
   "id": "ecb7453e",
   "metadata": {},
   "outputs": [],
   "source": []
  },
  {
   "cell_type": "code",
   "execution_count": null,
   "id": "b36375b4",
   "metadata": {},
   "outputs": [],
   "source": []
  },
  {
   "cell_type": "code",
   "execution_count": null,
   "id": "8d65e7ff",
   "metadata": {},
   "outputs": [],
   "source": []
  },
  {
   "cell_type": "code",
   "execution_count": null,
   "id": "c4c357e2",
   "metadata": {},
   "outputs": [],
   "source": []
  },
  {
   "cell_type": "code",
   "execution_count": null,
   "id": "ecbb550b",
   "metadata": {},
   "outputs": [],
   "source": []
  },
  {
   "cell_type": "code",
   "execution_count": null,
   "id": "2142f7ac",
   "metadata": {},
   "outputs": [],
   "source": []
  },
  {
   "cell_type": "code",
   "execution_count": null,
   "id": "b8c80786",
   "metadata": {},
   "outputs": [],
   "source": []
  },
  {
   "cell_type": "code",
   "execution_count": null,
   "id": "c1c68752",
   "metadata": {},
   "outputs": [],
   "source": []
  },
  {
   "cell_type": "code",
   "execution_count": null,
   "id": "931b0e96",
   "metadata": {},
   "outputs": [],
   "source": []
  },
  {
   "cell_type": "code",
   "execution_count": null,
   "id": "bee12c48",
   "metadata": {},
   "outputs": [],
   "source": []
  },
  {
   "cell_type": "code",
   "execution_count": null,
   "id": "f6180c45",
   "metadata": {},
   "outputs": [],
   "source": []
  },
  {
   "cell_type": "code",
   "execution_count": null,
   "id": "680459df",
   "metadata": {},
   "outputs": [],
   "source": []
  },
  {
   "cell_type": "code",
   "execution_count": null,
   "id": "39de0615",
   "metadata": {},
   "outputs": [],
   "source": []
  },
  {
   "cell_type": "code",
   "execution_count": null,
   "id": "810c70b9",
   "metadata": {},
   "outputs": [],
   "source": []
  },
  {
   "cell_type": "code",
   "execution_count": null,
   "id": "cb85d006",
   "metadata": {},
   "outputs": [],
   "source": []
  },
  {
   "cell_type": "code",
   "execution_count": null,
   "id": "659673a4",
   "metadata": {},
   "outputs": [],
   "source": []
  },
  {
   "cell_type": "code",
   "execution_count": null,
   "id": "226bd5fd",
   "metadata": {},
   "outputs": [],
   "source": []
  },
  {
   "cell_type": "code",
   "execution_count": null,
   "id": "10e8a280",
   "metadata": {},
   "outputs": [],
   "source": []
  },
  {
   "cell_type": "code",
   "execution_count": null,
   "id": "b344bc62",
   "metadata": {},
   "outputs": [],
   "source": []
  },
  {
   "cell_type": "code",
   "execution_count": null,
   "id": "d5684f1b",
   "metadata": {},
   "outputs": [],
   "source": []
  },
  {
   "cell_type": "code",
   "execution_count": null,
   "id": "c04a5ae3",
   "metadata": {},
   "outputs": [],
   "source": []
  },
  {
   "cell_type": "code",
   "execution_count": null,
   "id": "c9eb3cd6",
   "metadata": {},
   "outputs": [],
   "source": []
  },
  {
   "cell_type": "code",
   "execution_count": null,
   "id": "c92f1e0b",
   "metadata": {},
   "outputs": [],
   "source": []
  },
  {
   "cell_type": "code",
   "execution_count": null,
   "id": "da61a623",
   "metadata": {},
   "outputs": [],
   "source": []
  },
  {
   "cell_type": "code",
   "execution_count": null,
   "id": "a0a7ae22",
   "metadata": {},
   "outputs": [],
   "source": []
  },
  {
   "cell_type": "code",
   "execution_count": null,
   "id": "389477d7",
   "metadata": {},
   "outputs": [],
   "source": []
  },
  {
   "cell_type": "code",
   "execution_count": null,
   "id": "6bb15b9b",
   "metadata": {},
   "outputs": [],
   "source": []
  },
  {
   "cell_type": "code",
   "execution_count": null,
   "id": "b3823833",
   "metadata": {},
   "outputs": [],
   "source": []
  },
  {
   "cell_type": "code",
   "execution_count": null,
   "id": "fae238fe",
   "metadata": {},
   "outputs": [],
   "source": []
  },
  {
   "cell_type": "code",
   "execution_count": null,
   "id": "93f88504",
   "metadata": {},
   "outputs": [],
   "source": []
  },
  {
   "cell_type": "code",
   "execution_count": null,
   "id": "c94b0bbf",
   "metadata": {},
   "outputs": [],
   "source": []
  },
  {
   "cell_type": "code",
   "execution_count": null,
   "id": "5f3610a3",
   "metadata": {},
   "outputs": [],
   "source": []
  },
  {
   "cell_type": "code",
   "execution_count": null,
   "id": "9ff602b5",
   "metadata": {},
   "outputs": [],
   "source": []
  },
  {
   "cell_type": "code",
   "execution_count": null,
   "id": "cea32034",
   "metadata": {},
   "outputs": [],
   "source": []
  },
  {
   "cell_type": "code",
   "execution_count": null,
   "id": "f403b3f9",
   "metadata": {},
   "outputs": [],
   "source": []
  },
  {
   "cell_type": "code",
   "execution_count": null,
   "id": "70a05bcc",
   "metadata": {},
   "outputs": [],
   "source": []
  },
  {
   "cell_type": "code",
   "execution_count": null,
   "id": "b18d823a",
   "metadata": {},
   "outputs": [],
   "source": []
  },
  {
   "cell_type": "code",
   "execution_count": null,
   "id": "3274b24a",
   "metadata": {},
   "outputs": [],
   "source": []
  },
  {
   "cell_type": "code",
   "execution_count": null,
   "id": "5e5ad0aa",
   "metadata": {},
   "outputs": [],
   "source": []
  },
  {
   "cell_type": "code",
   "execution_count": null,
   "id": "a0d02cd1",
   "metadata": {},
   "outputs": [],
   "source": []
  },
  {
   "cell_type": "code",
   "execution_count": null,
   "id": "73a85482",
   "metadata": {},
   "outputs": [],
   "source": []
  },
  {
   "cell_type": "code",
   "execution_count": null,
   "id": "129e144e",
   "metadata": {},
   "outputs": [],
   "source": []
  },
  {
   "cell_type": "code",
   "execution_count": null,
   "id": "08facceb",
   "metadata": {},
   "outputs": [],
   "source": []
  },
  {
   "cell_type": "code",
   "execution_count": null,
   "id": "433dc16c",
   "metadata": {},
   "outputs": [],
   "source": []
  },
  {
   "cell_type": "code",
   "execution_count": null,
   "id": "eec6f06f",
   "metadata": {},
   "outputs": [],
   "source": []
  },
  {
   "cell_type": "code",
   "execution_count": null,
   "id": "7658e1e4",
   "metadata": {},
   "outputs": [],
   "source": []
  },
  {
   "cell_type": "code",
   "execution_count": null,
   "id": "92e8a7a3",
   "metadata": {},
   "outputs": [],
   "source": []
  },
  {
   "cell_type": "code",
   "execution_count": null,
   "id": "53329ac1",
   "metadata": {},
   "outputs": [],
   "source": []
  },
  {
   "cell_type": "code",
   "execution_count": null,
   "id": "ec222a06",
   "metadata": {},
   "outputs": [],
   "source": []
  },
  {
   "cell_type": "code",
   "execution_count": null,
   "id": "08ab7284",
   "metadata": {},
   "outputs": [],
   "source": []
  },
  {
   "cell_type": "code",
   "execution_count": null,
   "id": "fbc2fa01",
   "metadata": {},
   "outputs": [],
   "source": []
  },
  {
   "cell_type": "code",
   "execution_count": null,
   "id": "a3d8960d",
   "metadata": {},
   "outputs": [],
   "source": []
  },
  {
   "cell_type": "code",
   "execution_count": null,
   "id": "8dbc2365",
   "metadata": {},
   "outputs": [],
   "source": []
  },
  {
   "cell_type": "code",
   "execution_count": null,
   "id": "0ecab6a3",
   "metadata": {},
   "outputs": [],
   "source": []
  },
  {
   "cell_type": "code",
   "execution_count": null,
   "id": "648a30c4",
   "metadata": {},
   "outputs": [],
   "source": []
  },
  {
   "cell_type": "code",
   "execution_count": null,
   "id": "88492364",
   "metadata": {},
   "outputs": [],
   "source": []
  },
  {
   "cell_type": "code",
   "execution_count": null,
   "id": "7a4ed207",
   "metadata": {},
   "outputs": [],
   "source": []
  },
  {
   "cell_type": "code",
   "execution_count": null,
   "id": "41b77d70",
   "metadata": {},
   "outputs": [],
   "source": []
  },
  {
   "cell_type": "code",
   "execution_count": null,
   "id": "2d0b3b0c",
   "metadata": {},
   "outputs": [],
   "source": []
  },
  {
   "cell_type": "code",
   "execution_count": null,
   "id": "5e59132b",
   "metadata": {},
   "outputs": [],
   "source": []
  },
  {
   "cell_type": "code",
   "execution_count": null,
   "id": "37bb194a",
   "metadata": {},
   "outputs": [],
   "source": []
  },
  {
   "cell_type": "code",
   "execution_count": null,
   "id": "7c8c60a1",
   "metadata": {},
   "outputs": [],
   "source": []
  },
  {
   "cell_type": "code",
   "execution_count": null,
   "id": "4777ac73",
   "metadata": {},
   "outputs": [],
   "source": []
  },
  {
   "cell_type": "code",
   "execution_count": null,
   "id": "3ee650e9",
   "metadata": {},
   "outputs": [],
   "source": []
  },
  {
   "cell_type": "code",
   "execution_count": null,
   "id": "0af96084",
   "metadata": {},
   "outputs": [],
   "source": []
  },
  {
   "cell_type": "code",
   "execution_count": null,
   "id": "774532e4",
   "metadata": {},
   "outputs": [],
   "source": []
  },
  {
   "cell_type": "code",
   "execution_count": null,
   "id": "ece4c2b5",
   "metadata": {},
   "outputs": [],
   "source": []
  }
 ],
 "metadata": {
  "kernelspec": {
   "display_name": "env",
   "language": "python",
   "name": "python3"
  },
  "language_info": {
   "codemirror_mode": {
    "name": "ipython",
    "version": 3
   },
   "file_extension": ".py",
   "mimetype": "text/x-python",
   "name": "python",
   "nbconvert_exporter": "python",
   "pygments_lexer": "ipython3",
   "version": "3.10.12"
  }
 },
 "nbformat": 4,
 "nbformat_minor": 5
}
