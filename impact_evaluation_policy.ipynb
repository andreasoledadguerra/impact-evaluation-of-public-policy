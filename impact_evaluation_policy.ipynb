{
 "cells": [
  {
   "cell_type": "code",
   "execution_count": 1,
   "id": "6e43eab9",
   "metadata": {},
   "outputs": [],
   "source": [
    "import pandas as pd\n",
    "import numpy as np\n",
    "import matplotlib.pyplot as plt\n",
    "import seaborn as sns\n",
    "import matplotlib.colors as mcolors\n",
    "from dateutil.relativedelta import relativedelta\n",
    "from scipy.stats import gaussian_kde"
   ]
  },
  {
   "cell_type": "markdown",
   "id": "daf5d474",
   "metadata": {},
   "source": [
    "## ETAPA 1 : EDA"
   ]
  },
  {
   "cell_type": "code",
   "execution_count": 2,
   "id": "3df53343",
   "metadata": {},
   "outputs": [
    {
     "data": {
      "text/html": [
       "<div>\n",
       "<style scoped>\n",
       "    .dataframe tbody tr th:only-of-type {\n",
       "        vertical-align: middle;\n",
       "    }\n",
       "\n",
       "    .dataframe tbody tr th {\n",
       "        vertical-align: top;\n",
       "    }\n",
       "\n",
       "    .dataframe thead th {\n",
       "        text-align: right;\n",
       "    }\n",
       "</style>\n",
       "<table border=\"1\" class=\"dataframe\">\n",
       "  <thead>\n",
       "    <tr style=\"text-align: right;\">\n",
       "      <th></th>\n",
       "      <th>codigo_municipio</th>\n",
       "      <th>municipio</th>\n",
       "      <th>codigo_region</th>\n",
       "      <th>nombre_region</th>\n",
       "      <th>codigo_area</th>\n",
       "      <th>nombre_area</th>\n",
       "      <th>conurbano_interior</th>\n",
       "      <th>seccion_electoral</th>\n",
       "      <th>superficie(km2)</th>\n",
       "      <th>intendente</th>\n",
       "      <th>partido_politico_actual</th>\n",
       "      <th>poblacion_censo_2010</th>\n",
       "      <th>poblacion_censo_2022</th>\n",
       "    </tr>\n",
       "  </thead>\n",
       "  <tbody>\n",
       "    <tr>\n",
       "      <th>0</th>\n",
       "      <td>1</td>\n",
       "      <td>Adolfo Alsina</td>\n",
       "      <td>3</td>\n",
       "      <td>NOROESTE</td>\n",
       "      <td>3</td>\n",
       "      <td>NOROESTE</td>\n",
       "      <td>Interior</td>\n",
       "      <td>6</td>\n",
       "      <td>5881.6</td>\n",
       "      <td>Javier Andrés</td>\n",
       "      <td>Juntos por el Cambio</td>\n",
       "      <td>17072.0</td>\n",
       "      <td>17552</td>\n",
       "    </tr>\n",
       "    <tr>\n",
       "      <th>1</th>\n",
       "      <td>51</td>\n",
       "      <td>Adolfo Gonzáles Cháves</td>\n",
       "      <td>9</td>\n",
       "      <td>SURESTE</td>\n",
       "      <td>8</td>\n",
       "      <td>CENTRO SUR</td>\n",
       "      <td>Interior</td>\n",
       "      <td>6</td>\n",
       "      <td>3788.7</td>\n",
       "      <td>Miriam Lucía Gomez</td>\n",
       "      <td>Juntos por el Cambio</td>\n",
       "      <td>12047.0</td>\n",
       "      <td>12914</td>\n",
       "    </tr>\n",
       "    <tr>\n",
       "      <th>2</th>\n",
       "      <td>2</td>\n",
       "      <td>Alberti</td>\n",
       "      <td>2</td>\n",
       "      <td>NORTE</td>\n",
       "      <td>5</td>\n",
       "      <td>CENTRO NORTE</td>\n",
       "      <td>Interior</td>\n",
       "      <td>4</td>\n",
       "      <td>1122.6</td>\n",
       "      <td>Germán Lago</td>\n",
       "      <td>Unión por la Patria</td>\n",
       "      <td>10654.0</td>\n",
       "      <td>12982</td>\n",
       "    </tr>\n",
       "    <tr>\n",
       "      <th>3</th>\n",
       "      <td>3</td>\n",
       "      <td>Alte. Brown</td>\n",
       "      <td>5</td>\n",
       "      <td>RMBA</td>\n",
       "      <td>15</td>\n",
       "      <td>RMBA SUR</td>\n",
       "      <td>Conurbano</td>\n",
       "      <td>3</td>\n",
       "      <td>129.3</td>\n",
       "      <td>Mariano Cascallares</td>\n",
       "      <td>Unión por la Patria</td>\n",
       "      <td>552902.0</td>\n",
       "      <td>584827</td>\n",
       "    </tr>\n",
       "    <tr>\n",
       "      <th>4</th>\n",
       "      <td>10</td>\n",
       "      <td>Arrecifes</td>\n",
       "      <td>2</td>\n",
       "      <td>NORTE</td>\n",
       "      <td>2</td>\n",
       "      <td>NORTE</td>\n",
       "      <td>Interior</td>\n",
       "      <td>2</td>\n",
       "      <td>1243.8</td>\n",
       "      <td>Juan Fernando Bouvier</td>\n",
       "      <td>Juntos por el Cambio</td>\n",
       "      <td>29044.0</td>\n",
       "      <td>32215</td>\n",
       "    </tr>\n",
       "  </tbody>\n",
       "</table>\n",
       "</div>"
      ],
      "text/plain": [
       "   codigo_municipio               municipio  codigo_region nombre_region  \\\n",
       "0                 1           Adolfo Alsina              3      NOROESTE   \n",
       "1                51  Adolfo Gonzáles Cháves              9       SURESTE   \n",
       "2                 2                 Alberti              2         NORTE   \n",
       "3                 3             Alte. Brown              5          RMBA   \n",
       "4                10               Arrecifes              2         NORTE   \n",
       "\n",
       "   codigo_area   nombre_area conurbano_interior  seccion_electoral  \\\n",
       "0            3      NOROESTE           Interior                  6   \n",
       "1            8    CENTRO SUR           Interior                  6   \n",
       "2            5  CENTRO NORTE           Interior                  4   \n",
       "3           15      RMBA SUR          Conurbano                  3   \n",
       "4            2         NORTE           Interior                  2   \n",
       "\n",
       "   superficie(km2)             intendente partido_politico_actual  \\\n",
       "0           5881.6          Javier Andrés    Juntos por el Cambio   \n",
       "1           3788.7     Miriam Lucía Gomez    Juntos por el Cambio   \n",
       "2           1122.6            Germán Lago     Unión por la Patria   \n",
       "3            129.3    Mariano Cascallares     Unión por la Patria   \n",
       "4           1243.8  Juan Fernando Bouvier    Juntos por el Cambio   \n",
       "\n",
       "   poblacion_censo_2010  poblacion_censo_2022  \n",
       "0               17072.0                 17552  \n",
       "1               12047.0                 12914  \n",
       "2               10654.0                 12982  \n",
       "3              552902.0                584827  \n",
       "4               29044.0                 32215  "
      ]
     },
     "execution_count": 2,
     "metadata": {},
     "output_type": "execute_result"
    }
   ],
   "source": [
    "# Descargamos el dataframe con información de los municipios\n",
    "df_muni = pd.read_excel(\"base_municipios.xlsx\")\n",
    "df_muni.head(5)"
   ]
  },
  {
   "cell_type": "code",
   "execution_count": 3,
   "id": "f193f443",
   "metadata": {},
   "outputs": [
    {
     "data": {
      "text/plain": [
       "Index(['codigo_municipio', 'municipio', 'codigo_region', 'nombre_region',\n",
       "       'codigo_area', 'nombre_area', 'conurbano_interior', 'seccion_electoral',\n",
       "       'superficie(km2)', 'intendente', 'partido_politico_actual',\n",
       "       'poblacion_censo_2010', 'poblacion_censo_2022'],\n",
       "      dtype='object')"
      ]
     },
     "execution_count": 3,
     "metadata": {},
     "output_type": "execute_result"
    }
   ],
   "source": [
    "df_muni.columns"
   ]
  },
  {
   "cell_type": "code",
   "execution_count": 4,
   "id": "f78857fc",
   "metadata": {},
   "outputs": [
    {
     "data": {
      "text/html": [
       "<div>\n",
       "<style scoped>\n",
       "    .dataframe tbody tr th:only-of-type {\n",
       "        vertical-align: middle;\n",
       "    }\n",
       "\n",
       "    .dataframe tbody tr th {\n",
       "        vertical-align: top;\n",
       "    }\n",
       "\n",
       "    .dataframe thead th {\n",
       "        text-align: right;\n",
       "    }\n",
       "</style>\n",
       "<table border=\"1\" class=\"dataframe\">\n",
       "  <thead>\n",
       "    <tr style=\"text-align: right;\">\n",
       "      <th></th>\n",
       "      <th>id</th>\n",
       "      <th>activo</th>\n",
       "      <th>state</th>\n",
       "      <th>criterios_priorizacion</th>\n",
       "      <th>created_at</th>\n",
       "      <th>updated_at</th>\n",
       "      <th>es_duplicado</th>\n",
       "      <th>fecha_solicitud</th>\n",
       "      <th>estado_priorizacion</th>\n",
       "      <th>criterios_aceptacion</th>\n",
       "      <th>...</th>\n",
       "      <th>q_sorteo</th>\n",
       "      <th>etapa_inscripcion</th>\n",
       "      <th>fuente_financiamiento</th>\n",
       "      <th>nro_documentacion_ee</th>\n",
       "      <th>nro_adjudicacion_ee</th>\n",
       "      <th>nro_resolucion_adjudicacion</th>\n",
       "      <th>etapa_cupo_procesamiento</th>\n",
       "      <th>etapa_cupo_liquidacion</th>\n",
       "      <th>external_service_state</th>\n",
       "      <th>nro_respuesta</th>\n",
       "    </tr>\n",
       "  </thead>\n",
       "  <tbody>\n",
       "    <tr>\n",
       "      <th>0</th>\n",
       "      <td>207513</td>\n",
       "      <td>False</td>\n",
       "      <td>desestimado</td>\n",
       "      <td>NaN</td>\n",
       "      <td>2022-10-11 15:32:47</td>\n",
       "      <td>2022-11-04 14:46:50</td>\n",
       "      <td>True</td>\n",
       "      <td>NaN</td>\n",
       "      <td>0</td>\n",
       "      <td>NaN</td>\n",
       "      <td>...</td>\n",
       "      <td>0</td>\n",
       "      <td>2</td>\n",
       "      <td>NaN</td>\n",
       "      <td>NaN</td>\n",
       "      <td>NaN</td>\n",
       "      <td>NaN</td>\n",
       "      <td>0.0</td>\n",
       "      <td>0</td>\n",
       "      <td>0</td>\n",
       "      <td>503280</td>\n",
       "    </tr>\n",
       "    <tr>\n",
       "      <th>1</th>\n",
       "      <td>207649</td>\n",
       "      <td>False</td>\n",
       "      <td>desestimado</td>\n",
       "      <td>NaN</td>\n",
       "      <td>2022-10-11 15:32:51</td>\n",
       "      <td>2022-11-04 14:46:50</td>\n",
       "      <td>True</td>\n",
       "      <td>NaN</td>\n",
       "      <td>0</td>\n",
       "      <td>NaN</td>\n",
       "      <td>...</td>\n",
       "      <td>0</td>\n",
       "      <td>2</td>\n",
       "      <td>NaN</td>\n",
       "      <td>NaN</td>\n",
       "      <td>NaN</td>\n",
       "      <td>NaN</td>\n",
       "      <td>0.0</td>\n",
       "      <td>0</td>\n",
       "      <td>0</td>\n",
       "      <td>501340</td>\n",
       "    </tr>\n",
       "    <tr>\n",
       "      <th>2</th>\n",
       "      <td>208175</td>\n",
       "      <td>False</td>\n",
       "      <td>desestimado</td>\n",
       "      <td>NaN</td>\n",
       "      <td>2022-10-11 15:33:07</td>\n",
       "      <td>2022-11-04 14:46:50</td>\n",
       "      <td>True</td>\n",
       "      <td>NaN</td>\n",
       "      <td>0</td>\n",
       "      <td>NaN</td>\n",
       "      <td>...</td>\n",
       "      <td>0</td>\n",
       "      <td>2</td>\n",
       "      <td>NaN</td>\n",
       "      <td>NaN</td>\n",
       "      <td>NaN</td>\n",
       "      <td>NaN</td>\n",
       "      <td>0.0</td>\n",
       "      <td>0</td>\n",
       "      <td>0</td>\n",
       "      <td>496204</td>\n",
       "    </tr>\n",
       "    <tr>\n",
       "      <th>3</th>\n",
       "      <td>5372</td>\n",
       "      <td>True</td>\n",
       "      <td>no_admisible</td>\n",
       "      <td>NaN</td>\n",
       "      <td>2022-08-31 16:28:43</td>\n",
       "      <td>2023-07-19 10:28:14</td>\n",
       "      <td>False</td>\n",
       "      <td>NaN</td>\n",
       "      <td>0</td>\n",
       "      <td>--- '[{\"valor\":true,\"clave\":\"Empleado o funcio...</td>\n",
       "      <td>...</td>\n",
       "      <td>0</td>\n",
       "      <td>1</td>\n",
       "      <td>NaN</td>\n",
       "      <td>NaN</td>\n",
       "      <td>NaN</td>\n",
       "      <td>NaN</td>\n",
       "      <td>0.0</td>\n",
       "      <td>0</td>\n",
       "      <td>0</td>\n",
       "      <td>482049</td>\n",
       "    </tr>\n",
       "    <tr>\n",
       "      <th>4</th>\n",
       "      <td>5352</td>\n",
       "      <td>True</td>\n",
       "      <td>no_admisible</td>\n",
       "      <td>NaN</td>\n",
       "      <td>2022-08-31 16:28:43</td>\n",
       "      <td>2023-07-19 10:28:14</td>\n",
       "      <td>False</td>\n",
       "      <td>NaN</td>\n",
       "      <td>0</td>\n",
       "      <td>--- '[{\"valor\":true,\"clave\":\"Empleado o funcio...</td>\n",
       "      <td>...</td>\n",
       "      <td>0</td>\n",
       "      <td>1</td>\n",
       "      <td>NaN</td>\n",
       "      <td>NaN</td>\n",
       "      <td>NaN</td>\n",
       "      <td>NaN</td>\n",
       "      <td>0.0</td>\n",
       "      <td>0</td>\n",
       "      <td>0</td>\n",
       "      <td>482432</td>\n",
       "    </tr>\n",
       "  </tbody>\n",
       "</table>\n",
       "<p>5 rows × 28 columns</p>\n",
       "</div>"
      ],
      "text/plain": [
       "       id  activo         state criterios_priorizacion           created_at  \\\n",
       "0  207513   False   desestimado                    NaN  2022-10-11 15:32:47   \n",
       "1  207649   False   desestimado                    NaN  2022-10-11 15:32:51   \n",
       "2  208175   False   desestimado                    NaN  2022-10-11 15:33:07   \n",
       "3    5372    True  no_admisible                    NaN  2022-08-31 16:28:43   \n",
       "4    5352    True  no_admisible                    NaN  2022-08-31 16:28:43   \n",
       "\n",
       "            updated_at  es_duplicado fecha_solicitud  estado_priorizacion  \\\n",
       "0  2022-11-04 14:46:50          True             NaN                    0   \n",
       "1  2022-11-04 14:46:50          True             NaN                    0   \n",
       "2  2022-11-04 14:46:50          True             NaN                    0   \n",
       "3  2023-07-19 10:28:14         False             NaN                    0   \n",
       "4  2023-07-19 10:28:14         False             NaN                    0   \n",
       "\n",
       "                                criterios_aceptacion  ...  q_sorteo  \\\n",
       "0                                                NaN  ...         0   \n",
       "1                                                NaN  ...         0   \n",
       "2                                                NaN  ...         0   \n",
       "3  --- '[{\"valor\":true,\"clave\":\"Empleado o funcio...  ...         0   \n",
       "4  --- '[{\"valor\":true,\"clave\":\"Empleado o funcio...  ...         0   \n",
       "\n",
       "   etapa_inscripcion fuente_financiamiento  nro_documentacion_ee  \\\n",
       "0                  2                   NaN                   NaN   \n",
       "1                  2                   NaN                   NaN   \n",
       "2                  2                   NaN                   NaN   \n",
       "3                  1                   NaN                   NaN   \n",
       "4                  1                   NaN                   NaN   \n",
       "\n",
       "   nro_adjudicacion_ee nro_resolucion_adjudicacion  etapa_cupo_procesamiento  \\\n",
       "0                  NaN                         NaN                       0.0   \n",
       "1                  NaN                         NaN                       0.0   \n",
       "2                  NaN                         NaN                       0.0   \n",
       "3                  NaN                         NaN                       0.0   \n",
       "4                  NaN                         NaN                       0.0   \n",
       "\n",
       "   etapa_cupo_liquidacion  external_service_state  nro_respuesta  \n",
       "0                       0                       0         503280  \n",
       "1                       0                       0         501340  \n",
       "2                       0                       0         496204  \n",
       "3                       0                       0         482049  \n",
       "4                       0                       0         482432  \n",
       "\n",
       "[5 rows x 28 columns]"
      ]
     },
     "execution_count": 4,
     "metadata": {},
     "output_type": "execute_result"
    }
   ],
   "source": [
    "# Descargamos el dataframe con información de los inscriptos al programa\n",
    "df_insc = pd.read_excel(\"ficha_inscriptos.xlsx\")\n",
    "df_insc.head(5)"
   ]
  },
  {
   "cell_type": "code",
   "execution_count": 5,
   "id": "71c17d9a",
   "metadata": {},
   "outputs": [
    {
     "data": {
      "text/plain": [
       "Index(['id', 'activo', 'state', 'criterios_priorizacion', 'created_at',\n",
       "       'updated_at', 'es_duplicado', 'fecha_solicitud', 'estado_priorizacion',\n",
       "       'criterios_aceptacion', 'control_municipio', 'control_dcryaiv',\n",
       "       'fecha_adjudicacion', 'valor_uvis_adjudicacion', 'monto_otorgado',\n",
       "       'fecha_procesamiento', 'valor_uvis_procesamiento',\n",
       "       'monto_procesamiento', 'q_sorteo', 'etapa_inscripcion',\n",
       "       'fuente_financiamiento', 'nro_documentacion_ee', 'nro_adjudicacion_ee',\n",
       "       'nro_resolucion_adjudicacion', 'etapa_cupo_procesamiento',\n",
       "       'etapa_cupo_liquidacion', 'external_service_state', 'nro_respuesta'],\n",
       "      dtype='object')"
      ]
     },
     "execution_count": 5,
     "metadata": {},
     "output_type": "execute_result"
    }
   ],
   "source": [
    "df_insc.columns"
   ]
  },
  {
   "cell_type": "code",
   "execution_count": 6,
   "id": "a5b37674",
   "metadata": {},
   "outputs": [
    {
     "data": {
      "text/plain": [
       "7017948"
      ]
     },
     "execution_count": 6,
     "metadata": {},
     "output_type": "execute_result"
    }
   ],
   "source": [
    "df_insc.size"
   ]
  },
  {
   "cell_type": "code",
   "execution_count": 7,
   "id": "4c2585dd",
   "metadata": {},
   "outputs": [
    {
     "data": {
      "text/html": [
       "<div>\n",
       "<style scoped>\n",
       "    .dataframe tbody tr th:only-of-type {\n",
       "        vertical-align: middle;\n",
       "    }\n",
       "\n",
       "    .dataframe tbody tr th {\n",
       "        vertical-align: top;\n",
       "    }\n",
       "\n",
       "    .dataframe thead th {\n",
       "        text-align: right;\n",
       "    }\n",
       "</style>\n",
       "<table border=\"1\" class=\"dataframe\">\n",
       "  <thead>\n",
       "    <tr style=\"text-align: right;\">\n",
       "      <th></th>\n",
       "      <th>fecha_carga</th>\n",
       "      <th>nro_respuesta</th>\n",
       "      <th>version_formulario</th>\n",
       "      <th>sexo_dni</th>\n",
       "      <th>genero</th>\n",
       "      <th>fecha_de_nacimiento</th>\n",
       "      <th>empleado_ivba</th>\n",
       "      <th>beneficiario_procrear</th>\n",
       "      <th>relacion_de_parentezco_con_jefe_del_hogar</th>\n",
       "      <th>municipio</th>\n",
       "      <th>...</th>\n",
       "      <th>obra_a_realizar</th>\n",
       "      <th>trabara_en_la_obra</th>\n",
       "      <th>tenes_ingresos</th>\n",
       "      <th>principal_fuente_ingresos</th>\n",
       "      <th>ingreso_anual</th>\n",
       "      <th>linea_optada</th>\n",
       "      <th>created_at</th>\n",
       "      <th>updated_at</th>\n",
       "      <th>ingreso_anual_hogar</th>\n",
       "      <th>personas_por_ambiente</th>\n",
       "    </tr>\n",
       "  </thead>\n",
       "  <tbody>\n",
       "    <tr>\n",
       "      <th>0</th>\n",
       "      <td>2022-08-15</td>\n",
       "      <td>473438</td>\n",
       "      <td>Propietarios/as sin cotitulares</td>\n",
       "      <td>F</td>\n",
       "      <td>Mujer</td>\n",
       "      <td>1966-10-30 00:00:00</td>\n",
       "      <td>False</td>\n",
       "      <td>False</td>\n",
       "      <td>Soy jefa(e)</td>\n",
       "      <td>Moreno</td>\n",
       "      <td>...</td>\n",
       "      <td>Construcción de habitación adicional, Construc...</td>\n",
       "      <td>True</td>\n",
       "      <td>False</td>\n",
       "      <td>Otro</td>\n",
       "      <td>50</td>\n",
       "      <td>Ampliaciones  -  6.240 UVIs  -  $ 740.813</td>\n",
       "      <td>2022-08-31 16:56:32</td>\n",
       "      <td>2022-08-31 16:56:32</td>\n",
       "      <td>50</td>\n",
       "      <td>2.0</td>\n",
       "    </tr>\n",
       "    <tr>\n",
       "      <th>1</th>\n",
       "      <td>2022-08-15</td>\n",
       "      <td>473436</td>\n",
       "      <td>Propietarios/as sin cotitulares</td>\n",
       "      <td>F</td>\n",
       "      <td>Mujer</td>\n",
       "      <td>1982-02-27 00:00:00</td>\n",
       "      <td>False</td>\n",
       "      <td>False</td>\n",
       "      <td>Hija(o)</td>\n",
       "      <td>Lanús</td>\n",
       "      <td>...</td>\n",
       "      <td>Reforma de baño, Construcción y/o reemplazo ab...</td>\n",
       "      <td>False</td>\n",
       "      <td>False</td>\n",
       "      <td>Trabajo independiente</td>\n",
       "      <td>60</td>\n",
       "      <td>Refacciones Mayores  -  2.730 UVIs  -  $ 324.106</td>\n",
       "      <td>2022-08-31 16:56:32</td>\n",
       "      <td>2022-08-31 16:56:32</td>\n",
       "      <td>60</td>\n",
       "      <td>32.0</td>\n",
       "    </tr>\n",
       "    <tr>\n",
       "      <th>2</th>\n",
       "      <td>2022-08-15</td>\n",
       "      <td>473435</td>\n",
       "      <td>Propietarios/as sin cotitulares</td>\n",
       "      <td>F</td>\n",
       "      <td>Mujer</td>\n",
       "      <td>1987-08-19 00:00:00</td>\n",
       "      <td>False</td>\n",
       "      <td>False</td>\n",
       "      <td>Hija(o)</td>\n",
       "      <td>Alte. Brown</td>\n",
       "      <td>...</td>\n",
       "      <td>Construcción y/o reforma de cocina, Construcci...</td>\n",
       "      <td>False</td>\n",
       "      <td>False</td>\n",
       "      <td>Otro</td>\n",
       "      <td>25</td>\n",
       "      <td>Ampliaciones  -  6.240 UVIs  -  $ 740.813</td>\n",
       "      <td>2022-08-31 16:56:32</td>\n",
       "      <td>2022-08-31 16:56:32</td>\n",
       "      <td>25</td>\n",
       "      <td>1.5</td>\n",
       "    </tr>\n",
       "    <tr>\n",
       "      <th>3</th>\n",
       "      <td>2022-08-15</td>\n",
       "      <td>473434</td>\n",
       "      <td>Propietarios/as sin cotitulares</td>\n",
       "      <td>F</td>\n",
       "      <td>Mujer</td>\n",
       "      <td>1986-03-20 00:00:00</td>\n",
       "      <td>False</td>\n",
       "      <td>False</td>\n",
       "      <td>Soy jefa(e)</td>\n",
       "      <td>San Pedro</td>\n",
       "      <td>...</td>\n",
       "      <td>Reforma de baño, Mejoramiento y/o terminacione...</td>\n",
       "      <td>False</td>\n",
       "      <td>True</td>\n",
       "      <td>Otro</td>\n",
       "      <td>80000</td>\n",
       "      <td>Ampliaciones  -  6.240 UVIs  -  $ 740.813</td>\n",
       "      <td>2022-08-31 16:56:32</td>\n",
       "      <td>2022-08-31 16:56:32</td>\n",
       "      <td>80000</td>\n",
       "      <td>3.5</td>\n",
       "    </tr>\n",
       "    <tr>\n",
       "      <th>4</th>\n",
       "      <td>2022-08-15</td>\n",
       "      <td>473433</td>\n",
       "      <td>Propietarios/as sin cotitulares</td>\n",
       "      <td>F</td>\n",
       "      <td>Mujer</td>\n",
       "      <td>1992-09-01 00:00:00</td>\n",
       "      <td>False</td>\n",
       "      <td>False</td>\n",
       "      <td>Soy jefa(e)</td>\n",
       "      <td>Gral. Alvarado</td>\n",
       "      <td>...</td>\n",
       "      <td>Mejoramiento y/o terminaciones en piso, Mejora...</td>\n",
       "      <td>True</td>\n",
       "      <td>True</td>\n",
       "      <td>Trabajo independiente</td>\n",
       "      <td>500000</td>\n",
       "      <td>Refacciones Menores  -  1.560 UVIs  -  $ 185.203</td>\n",
       "      <td>2022-08-31 16:56:32</td>\n",
       "      <td>2022-08-31 16:56:32</td>\n",
       "      <td>500000</td>\n",
       "      <td>3.0</td>\n",
       "    </tr>\n",
       "  </tbody>\n",
       "</table>\n",
       "<p>5 rows × 28 columns</p>\n",
       "</div>"
      ],
      "text/plain": [
       "  fecha_carga  nro_respuesta               version_formulario sexo_dni genero  \\\n",
       "0  2022-08-15         473438  Propietarios/as sin cotitulares        F  Mujer   \n",
       "1  2022-08-15         473436  Propietarios/as sin cotitulares        F  Mujer   \n",
       "2  2022-08-15         473435  Propietarios/as sin cotitulares        F  Mujer   \n",
       "3  2022-08-15         473434  Propietarios/as sin cotitulares        F  Mujer   \n",
       "4  2022-08-15         473433  Propietarios/as sin cotitulares        F  Mujer   \n",
       "\n",
       "   fecha_de_nacimiento  empleado_ivba  beneficiario_procrear  \\\n",
       "0  1966-10-30 00:00:00          False                  False   \n",
       "1  1982-02-27 00:00:00          False                  False   \n",
       "2  1987-08-19 00:00:00          False                  False   \n",
       "3  1986-03-20 00:00:00          False                  False   \n",
       "4  1992-09-01 00:00:00          False                  False   \n",
       "\n",
       "  relacion_de_parentezco_con_jefe_del_hogar       municipio  ...  \\\n",
       "0                               Soy jefa(e)          Moreno  ...   \n",
       "1                                  Hija(o)            Lanús  ...   \n",
       "2                                  Hija(o)      Alte. Brown  ...   \n",
       "3                               Soy jefa(e)       San Pedro  ...   \n",
       "4                               Soy jefa(e)  Gral. Alvarado  ...   \n",
       "\n",
       "                                     obra_a_realizar  trabara_en_la_obra  \\\n",
       "0  Construcción de habitación adicional, Construc...                True   \n",
       "1  Reforma de baño, Construcción y/o reemplazo ab...               False   \n",
       "2  Construcción y/o reforma de cocina, Construcci...               False   \n",
       "3  Reforma de baño, Mejoramiento y/o terminacione...               False   \n",
       "4  Mejoramiento y/o terminaciones en piso, Mejora...                True   \n",
       "\n",
       "   tenes_ingresos  principal_fuente_ingresos ingreso_anual  \\\n",
       "0           False                       Otro            50   \n",
       "1           False      Trabajo independiente            60   \n",
       "2           False                       Otro            25   \n",
       "3            True                       Otro         80000   \n",
       "4            True      Trabajo independiente        500000   \n",
       "\n",
       "                                       linea_optada           created_at  \\\n",
       "0         Ampliaciones  -  6.240 UVIs  -  $ 740.813  2022-08-31 16:56:32   \n",
       "1  Refacciones Mayores  -  2.730 UVIs  -  $ 324.106  2022-08-31 16:56:32   \n",
       "2         Ampliaciones  -  6.240 UVIs  -  $ 740.813  2022-08-31 16:56:32   \n",
       "3         Ampliaciones  -  6.240 UVIs  -  $ 740.813  2022-08-31 16:56:32   \n",
       "4  Refacciones Menores  -  1.560 UVIs  -  $ 185.203  2022-08-31 16:56:32   \n",
       "\n",
       "            updated_at ingreso_anual_hogar  personas_por_ambiente  \n",
       "0  2022-08-31 16:56:32                  50                    2.0  \n",
       "1  2022-08-31 16:56:32                  60                   32.0  \n",
       "2  2022-08-31 16:56:32                  25                    1.5  \n",
       "3  2022-08-31 16:56:32               80000                    3.5  \n",
       "4  2022-08-31 16:56:32              500000                    3.0  \n",
       "\n",
       "[5 rows x 28 columns]"
      ]
     },
     "execution_count": 7,
     "metadata": {},
     "output_type": "execute_result"
    }
   ],
   "source": [
    "# Descargamos el dataframe con información de los formularios completados por los inscriptos\n",
    "df_form = pd.read_excel(\"formularios_curso.xlsx\")\n",
    "df_form.head(5)"
   ]
  },
  {
   "cell_type": "code",
   "execution_count": 8,
   "id": "a0854253",
   "metadata": {},
   "outputs": [
    {
     "data": {
      "text/plain": [
       "Index(['fecha_carga', 'nro_respuesta', 'version_formulario', 'sexo_dni',\n",
       "       'genero', 'fecha_de_nacimiento', 'empleado_ivba',\n",
       "       'beneficiario_procrear', 'relacion_de_parentezco_con_jefe_del_hogar',\n",
       "       'municipio', 'personas_incluidas', 'persona_con_discapacidad',\n",
       "       'escenario_violencia_de_genero', 'escenario_vulnerabilidad_social',\n",
       "       'tipo_vivienda', 'ambientes', 'paredes_ext_revocadas',\n",
       "       'documentacion_acreditacion_propiedad', 'obra_a_realizar',\n",
       "       'trabara_en_la_obra', 'tenes_ingresos', 'principal_fuente_ingresos',\n",
       "       'ingreso_anual', 'linea_optada', 'created_at', 'updated_at',\n",
       "       'ingreso_anual_hogar', 'personas_por_ambiente'],\n",
       "      dtype='object')"
      ]
     },
     "execution_count": 8,
     "metadata": {},
     "output_type": "execute_result"
    }
   ],
   "source": [
    "df_form.columns"
   ]
  },
  {
   "cell_type": "code",
   "execution_count": 9,
   "id": "c66ebbda",
   "metadata": {},
   "outputs": [
    {
     "data": {
      "text/plain": [
       "7017948"
      ]
     },
     "execution_count": 9,
     "metadata": {},
     "output_type": "execute_result"
    }
   ],
   "source": [
    "df_form.size"
   ]
  },
  {
   "cell_type": "code",
   "execution_count": 10,
   "id": "cdff41f4",
   "metadata": {},
   "outputs": [],
   "source": [
    "# Concatenamos dataframes por columna\n",
    "df_evaluate = pd.concat([df_muni, df_insc, df_form], axis=1)"
   ]
  },
  {
   "cell_type": "code",
   "execution_count": 11,
   "id": "b07d80cd",
   "metadata": {},
   "outputs": [
    {
     "data": {
      "text/plain": [
       "['codigo_municipio',\n",
       " 'municipio',\n",
       " 'codigo_region',\n",
       " 'nombre_region',\n",
       " 'codigo_area',\n",
       " 'nombre_area',\n",
       " 'conurbano_interior',\n",
       " 'seccion_electoral',\n",
       " 'superficie(km2)',\n",
       " 'intendente',\n",
       " 'partido_politico_actual',\n",
       " 'poblacion_censo_2010',\n",
       " 'poblacion_censo_2022',\n",
       " 'id',\n",
       " 'activo',\n",
       " 'state',\n",
       " 'criterios_priorizacion',\n",
       " 'created_at',\n",
       " 'updated_at',\n",
       " 'es_duplicado',\n",
       " 'fecha_solicitud',\n",
       " 'estado_priorizacion',\n",
       " 'criterios_aceptacion',\n",
       " 'control_municipio',\n",
       " 'control_dcryaiv',\n",
       " 'fecha_adjudicacion',\n",
       " 'valor_uvis_adjudicacion',\n",
       " 'monto_otorgado',\n",
       " 'fecha_procesamiento',\n",
       " 'valor_uvis_procesamiento',\n",
       " 'monto_procesamiento',\n",
       " 'q_sorteo',\n",
       " 'etapa_inscripcion',\n",
       " 'fuente_financiamiento',\n",
       " 'nro_documentacion_ee',\n",
       " 'nro_adjudicacion_ee',\n",
       " 'nro_resolucion_adjudicacion',\n",
       " 'etapa_cupo_procesamiento',\n",
       " 'etapa_cupo_liquidacion',\n",
       " 'external_service_state',\n",
       " 'nro_respuesta',\n",
       " 'fecha_carga',\n",
       " 'nro_respuesta',\n",
       " 'version_formulario',\n",
       " 'sexo_dni',\n",
       " 'genero',\n",
       " 'fecha_de_nacimiento',\n",
       " 'empleado_ivba',\n",
       " 'beneficiario_procrear',\n",
       " 'relacion_de_parentezco_con_jefe_del_hogar',\n",
       " 'municipio',\n",
       " 'personas_incluidas',\n",
       " 'persona_con_discapacidad',\n",
       " 'escenario_violencia_de_genero',\n",
       " 'escenario_vulnerabilidad_social',\n",
       " 'tipo_vivienda',\n",
       " 'ambientes',\n",
       " 'paredes_ext_revocadas',\n",
       " 'documentacion_acreditacion_propiedad',\n",
       " 'obra_a_realizar',\n",
       " 'trabara_en_la_obra',\n",
       " 'tenes_ingresos',\n",
       " 'principal_fuente_ingresos',\n",
       " 'ingreso_anual',\n",
       " 'linea_optada',\n",
       " 'created_at',\n",
       " 'updated_at',\n",
       " 'ingreso_anual_hogar',\n",
       " 'personas_por_ambiente']"
      ]
     },
     "execution_count": 11,
     "metadata": {},
     "output_type": "execute_result"
    }
   ],
   "source": [
    "# Chequeamos los nombres de todas las columnas del dataframe concatenado\n",
    "df_evaluate.columns.tolist()"
   ]
  },
  {
   "cell_type": "code",
   "execution_count": 12,
   "id": "b0f66959",
   "metadata": {},
   "outputs": [],
   "source": [
    "# Eliminamos columnas prescindibles, como 'municipio'\n",
    "df_evaluate.drop(['municipio'], axis=1, inplace=True)"
   ]
  },
  {
   "cell_type": "markdown",
   "id": "06b9e579",
   "metadata": {},
   "source": [
    "## ETAPA 2 : Criterio de selección inicial"
   ]
  },
  {
   "cell_type": "code",
   "execution_count": 13,
   "id": "b1feb1ed",
   "metadata": {},
   "outputs": [
    {
     "data": {
      "text/plain": [
       "array([2, 1, 3, 4, 5, 6])"
      ]
     },
     "execution_count": 13,
     "metadata": {},
     "output_type": "execute_result"
    }
   ],
   "source": [
    "# Chequeamos los valores únicos que clasifica etapas de inscripción\n",
    "df_evaluate['etapa_inscripcion'].unique()"
   ]
  },
  {
   "cell_type": "code",
   "execution_count": 14,
   "id": "3fb74272",
   "metadata": {},
   "outputs": [
    {
     "data": {
      "text/plain": [
       "array(['desestimado', 'no_admisible', 'admisible_fuera_de_cupo',\n",
       "       'para_enviar_a_use', 'presentado',\n",
       "       'solicitud_rechazada_por_falta_de_elegibilidad', 'enviada_a_use',\n",
       "       'admisible', 'solicitud_adjudicada',\n",
       "       'solicitud_elegible_rechazada_por_excedente',\n",
       "       'solicitud_con_adjudicacion_iniciada', 'solicitud_elegible',\n",
       "       'solicitud_elegible_rechazadas_por_excedente'], dtype=object)"
      ]
     },
     "execution_count": 14,
     "metadata": {},
     "output_type": "execute_result"
    }
   ],
   "source": [
    "# Chequeamos los valores únicos que clasifica estado de la solicitud \n",
    "df_evaluate['state'].unique()"
   ]
  },
  {
   "cell_type": "code",
   "execution_count": 15,
   "id": "0af16af9",
   "metadata": {},
   "outputs": [],
   "source": [
    "# Filtramos solo los inscriptos en etapa 1\n",
    "formularios_estudio = df_evaluate[df_evaluate['etapa_inscripcion'] == 1 ]"
   ]
  },
  {
   "cell_type": "code",
   "execution_count": 16,
   "id": "5f9702d7",
   "metadata": {},
   "outputs": [
    {
     "data": {
      "text/html": [
       "<div>\n",
       "<style scoped>\n",
       "    .dataframe tbody tr th:only-of-type {\n",
       "        vertical-align: middle;\n",
       "    }\n",
       "\n",
       "    .dataframe tbody tr th {\n",
       "        vertical-align: top;\n",
       "    }\n",
       "\n",
       "    .dataframe thead th {\n",
       "        text-align: right;\n",
       "    }\n",
       "</style>\n",
       "<table border=\"1\" class=\"dataframe\">\n",
       "  <thead>\n",
       "    <tr style=\"text-align: right;\">\n",
       "      <th></th>\n",
       "      <th>codigo_municipio</th>\n",
       "      <th>codigo_region</th>\n",
       "      <th>nombre_region</th>\n",
       "      <th>codigo_area</th>\n",
       "      <th>nombre_area</th>\n",
       "      <th>conurbano_interior</th>\n",
       "      <th>seccion_electoral</th>\n",
       "      <th>superficie(km2)</th>\n",
       "      <th>intendente</th>\n",
       "      <th>partido_politico_actual</th>\n",
       "      <th>...</th>\n",
       "      <th>obra_a_realizar</th>\n",
       "      <th>trabara_en_la_obra</th>\n",
       "      <th>tenes_ingresos</th>\n",
       "      <th>principal_fuente_ingresos</th>\n",
       "      <th>ingreso_anual</th>\n",
       "      <th>linea_optada</th>\n",
       "      <th>created_at</th>\n",
       "      <th>updated_at</th>\n",
       "      <th>ingreso_anual_hogar</th>\n",
       "      <th>personas_por_ambiente</th>\n",
       "    </tr>\n",
       "  </thead>\n",
       "  <tbody>\n",
       "    <tr>\n",
       "      <th>249169</th>\n",
       "      <td>NaN</td>\n",
       "      <td>NaN</td>\n",
       "      <td>NaN</td>\n",
       "      <td>NaN</td>\n",
       "      <td>NaN</td>\n",
       "      <td>NaN</td>\n",
       "      <td>NaN</td>\n",
       "      <td>NaN</td>\n",
       "      <td>NaN</td>\n",
       "      <td>NaN</td>\n",
       "      <td>...</td>\n",
       "      <td>Construcción de baño adicional, Construcción d...</td>\n",
       "      <td>True</td>\n",
       "      <td>True</td>\n",
       "      <td>Otro</td>\n",
       "      <td>1000000</td>\n",
       "      <td>Ampliaciones  -  6.240 UVIs  -     $ 1.851.033...</td>\n",
       "      <td>2023-11-21 12:59:08</td>\n",
       "      <td>2023-11-21 12:59:08</td>\n",
       "      <td>1000000</td>\n",
       "      <td>6.000000</td>\n",
       "    </tr>\n",
       "    <tr>\n",
       "      <th>249170</th>\n",
       "      <td>NaN</td>\n",
       "      <td>NaN</td>\n",
       "      <td>NaN</td>\n",
       "      <td>NaN</td>\n",
       "      <td>NaN</td>\n",
       "      <td>NaN</td>\n",
       "      <td>NaN</td>\n",
       "      <td>NaN</td>\n",
       "      <td>NaN</td>\n",
       "      <td>NaN</td>\n",
       "      <td>...</td>\n",
       "      <td>Refacción menor de plomería o electricidad, Me...</td>\n",
       "      <td>True</td>\n",
       "      <td>True</td>\n",
       "      <td>Jubilación / Pensión</td>\n",
       "      <td>600</td>\n",
       "      <td>Ampliaciones  -  6.240 UVIs  -     $ 1.851.033...</td>\n",
       "      <td>2023-11-21 12:59:08</td>\n",
       "      <td>2023-11-21 12:59:08</td>\n",
       "      <td>600</td>\n",
       "      <td>2.500000</td>\n",
       "    </tr>\n",
       "    <tr>\n",
       "      <th>249171</th>\n",
       "      <td>NaN</td>\n",
       "      <td>NaN</td>\n",
       "      <td>NaN</td>\n",
       "      <td>NaN</td>\n",
       "      <td>NaN</td>\n",
       "      <td>NaN</td>\n",
       "      <td>NaN</td>\n",
       "      <td>NaN</td>\n",
       "      <td>NaN</td>\n",
       "      <td>NaN</td>\n",
       "      <td>...</td>\n",
       "      <td>Rampas y/o aberturas para mejoramiento de acce...</td>\n",
       "      <td>True</td>\n",
       "      <td>True</td>\n",
       "      <td>Trabajo en relación de dependencia</td>\n",
       "      <td>2850000</td>\n",
       "      <td>Refacciones Mayores  -  3.120 UVIs  -     $ 92...</td>\n",
       "      <td>2023-11-21 12:59:08</td>\n",
       "      <td>2023-11-21 12:59:08</td>\n",
       "      <td>2850000</td>\n",
       "      <td>2.000000</td>\n",
       "    </tr>\n",
       "    <tr>\n",
       "      <th>249172</th>\n",
       "      <td>NaN</td>\n",
       "      <td>NaN</td>\n",
       "      <td>NaN</td>\n",
       "      <td>NaN</td>\n",
       "      <td>NaN</td>\n",
       "      <td>NaN</td>\n",
       "      <td>NaN</td>\n",
       "      <td>NaN</td>\n",
       "      <td>NaN</td>\n",
       "      <td>NaN</td>\n",
       "      <td>...</td>\n",
       "      <td>Construcción de baño adicional, Construcción d...</td>\n",
       "      <td>False</td>\n",
       "      <td>True</td>\n",
       "      <td>Trabajo independiente</td>\n",
       "      <td>2112000</td>\n",
       "      <td>Ampliaciones  -  3.510 UVIs  -     $ 1.041.206...</td>\n",
       "      <td>2023-11-21 12:59:08</td>\n",
       "      <td>2023-11-21 12:59:08</td>\n",
       "      <td>2112000</td>\n",
       "      <td>2.500000</td>\n",
       "    </tr>\n",
       "    <tr>\n",
       "      <th>249173</th>\n",
       "      <td>NaN</td>\n",
       "      <td>NaN</td>\n",
       "      <td>NaN</td>\n",
       "      <td>NaN</td>\n",
       "      <td>NaN</td>\n",
       "      <td>NaN</td>\n",
       "      <td>NaN</td>\n",
       "      <td>NaN</td>\n",
       "      <td>NaN</td>\n",
       "      <td>NaN</td>\n",
       "      <td>...</td>\n",
       "      <td>Mejoramiento y/o terminaciones en piso, Mejora...</td>\n",
       "      <td>False</td>\n",
       "      <td>True</td>\n",
       "      <td>Trabajo independiente</td>\n",
       "      <td>6000000</td>\n",
       "      <td>Ampliaciones  -  6.240 UVIs  -     $ 1.851.033,60</td>\n",
       "      <td>2023-11-22 13:52:59</td>\n",
       "      <td>2023-11-22 13:52:59</td>\n",
       "      <td>6000000</td>\n",
       "      <td>1.333333</td>\n",
       "    </tr>\n",
       "    <tr>\n",
       "      <th>...</th>\n",
       "      <td>...</td>\n",
       "      <td>...</td>\n",
       "      <td>...</td>\n",
       "      <td>...</td>\n",
       "      <td>...</td>\n",
       "      <td>...</td>\n",
       "      <td>...</td>\n",
       "      <td>...</td>\n",
       "      <td>...</td>\n",
       "      <td>...</td>\n",
       "      <td>...</td>\n",
       "      <td>...</td>\n",
       "      <td>...</td>\n",
       "      <td>...</td>\n",
       "      <td>...</td>\n",
       "      <td>...</td>\n",
       "      <td>...</td>\n",
       "      <td>...</td>\n",
       "      <td>...</td>\n",
       "      <td>...</td>\n",
       "      <td>...</td>\n",
       "    </tr>\n",
       "    <tr>\n",
       "      <th>250636</th>\n",
       "      <td>NaN</td>\n",
       "      <td>NaN</td>\n",
       "      <td>NaN</td>\n",
       "      <td>NaN</td>\n",
       "      <td>NaN</td>\n",
       "      <td>NaN</td>\n",
       "      <td>NaN</td>\n",
       "      <td>NaN</td>\n",
       "      <td>NaN</td>\n",
       "      <td>NaN</td>\n",
       "      <td>...</td>\n",
       "      <td>Garage, Construcción de habitación adicional</td>\n",
       "      <td>False</td>\n",
       "      <td>True</td>\n",
       "      <td>Trabajo en relación de dependencia</td>\n",
       "      <td>2400000</td>\n",
       "      <td>Ampliaciones  -  6.240 UVIs  -  $ 947.793</td>\n",
       "      <td>2022-12-28 11:14:36</td>\n",
       "      <td>2025-01-07 10:28:02</td>\n",
       "      <td>2400000</td>\n",
       "      <td>0.666667</td>\n",
       "    </tr>\n",
       "    <tr>\n",
       "      <th>250637</th>\n",
       "      <td>NaN</td>\n",
       "      <td>NaN</td>\n",
       "      <td>NaN</td>\n",
       "      <td>NaN</td>\n",
       "      <td>NaN</td>\n",
       "      <td>NaN</td>\n",
       "      <td>NaN</td>\n",
       "      <td>NaN</td>\n",
       "      <td>NaN</td>\n",
       "      <td>NaN</td>\n",
       "      <td>...</td>\n",
       "      <td>Construcción y/o reforma de cocina, Construcci...</td>\n",
       "      <td>True</td>\n",
       "      <td>True</td>\n",
       "      <td>Trabajo en relación de dependencia</td>\n",
       "      <td>1650000</td>\n",
       "      <td>Ampliaciones  -  6.240 UVIs  -  $ 835.286</td>\n",
       "      <td>2022-10-11 15:36:06</td>\n",
       "      <td>2025-01-23 15:23:04</td>\n",
       "      <td>2076000</td>\n",
       "      <td>1.000000</td>\n",
       "    </tr>\n",
       "    <tr>\n",
       "      <th>250638</th>\n",
       "      <td>NaN</td>\n",
       "      <td>NaN</td>\n",
       "      <td>NaN</td>\n",
       "      <td>NaN</td>\n",
       "      <td>NaN</td>\n",
       "      <td>NaN</td>\n",
       "      <td>NaN</td>\n",
       "      <td>NaN</td>\n",
       "      <td>NaN</td>\n",
       "      <td>NaN</td>\n",
       "      <td>...</td>\n",
       "      <td>Construcción y/o reforma de cocina, Construcci...</td>\n",
       "      <td>True</td>\n",
       "      <td>True</td>\n",
       "      <td>Trabajo en relación de dependencia</td>\n",
       "      <td>800000</td>\n",
       "      <td>Ampliaciones  -  6.240 UVIs  -  $ 740.813</td>\n",
       "      <td>2022-08-31 17:31:00</td>\n",
       "      <td>2025-02-11 09:20:09</td>\n",
       "      <td>800000</td>\n",
       "      <td>2.000000</td>\n",
       "    </tr>\n",
       "    <tr>\n",
       "      <th>250639</th>\n",
       "      <td>NaN</td>\n",
       "      <td>NaN</td>\n",
       "      <td>NaN</td>\n",
       "      <td>NaN</td>\n",
       "      <td>NaN</td>\n",
       "      <td>NaN</td>\n",
       "      <td>NaN</td>\n",
       "      <td>NaN</td>\n",
       "      <td>NaN</td>\n",
       "      <td>NaN</td>\n",
       "      <td>...</td>\n",
       "      <td>Construcción de losa para futura ampliación, R...</td>\n",
       "      <td>True</td>\n",
       "      <td>True</td>\n",
       "      <td>Trabajo en relación de dependencia</td>\n",
       "      <td>800000</td>\n",
       "      <td>Ampliaciones  -  6.240 UVIs  -  $ 835.286</td>\n",
       "      <td>2022-10-11 15:06:23</td>\n",
       "      <td>2025-02-12 12:17:35</td>\n",
       "      <td>800000</td>\n",
       "      <td>3.000000</td>\n",
       "    </tr>\n",
       "    <tr>\n",
       "      <th>250640</th>\n",
       "      <td>NaN</td>\n",
       "      <td>NaN</td>\n",
       "      <td>NaN</td>\n",
       "      <td>NaN</td>\n",
       "      <td>NaN</td>\n",
       "      <td>NaN</td>\n",
       "      <td>NaN</td>\n",
       "      <td>NaN</td>\n",
       "      <td>NaN</td>\n",
       "      <td>NaN</td>\n",
       "      <td>...</td>\n",
       "      <td>Construcción de habitación adicional</td>\n",
       "      <td>True</td>\n",
       "      <td>True</td>\n",
       "      <td>Trabajo en relación de dependencia</td>\n",
       "      <td>1900000</td>\n",
       "      <td>Ampliaciones  -  6.240 UVIs  -  $ 835.286</td>\n",
       "      <td>2022-10-18 13:35:06</td>\n",
       "      <td>2025-02-24 10:42:28</td>\n",
       "      <td>1900000</td>\n",
       "      <td>3.000000</td>\n",
       "    </tr>\n",
       "  </tbody>\n",
       "</table>\n",
       "<p>1472 rows × 67 columns</p>\n",
       "</div>"
      ],
      "text/plain": [
       "        codigo_municipio  codigo_region nombre_region  codigo_area  \\\n",
       "249169               NaN            NaN           NaN          NaN   \n",
       "249170               NaN            NaN           NaN          NaN   \n",
       "249171               NaN            NaN           NaN          NaN   \n",
       "249172               NaN            NaN           NaN          NaN   \n",
       "249173               NaN            NaN           NaN          NaN   \n",
       "...                  ...            ...           ...          ...   \n",
       "250636               NaN            NaN           NaN          NaN   \n",
       "250637               NaN            NaN           NaN          NaN   \n",
       "250638               NaN            NaN           NaN          NaN   \n",
       "250639               NaN            NaN           NaN          NaN   \n",
       "250640               NaN            NaN           NaN          NaN   \n",
       "\n",
       "       nombre_area conurbano_interior  seccion_electoral  superficie(km2)  \\\n",
       "249169         NaN                NaN                NaN              NaN   \n",
       "249170         NaN                NaN                NaN              NaN   \n",
       "249171         NaN                NaN                NaN              NaN   \n",
       "249172         NaN                NaN                NaN              NaN   \n",
       "249173         NaN                NaN                NaN              NaN   \n",
       "...            ...                ...                ...              ...   \n",
       "250636         NaN                NaN                NaN              NaN   \n",
       "250637         NaN                NaN                NaN              NaN   \n",
       "250638         NaN                NaN                NaN              NaN   \n",
       "250639         NaN                NaN                NaN              NaN   \n",
       "250640         NaN                NaN                NaN              NaN   \n",
       "\n",
       "       intendente partido_politico_actual  ...  \\\n",
       "249169        NaN                     NaN  ...   \n",
       "249170        NaN                     NaN  ...   \n",
       "249171        NaN                     NaN  ...   \n",
       "249172        NaN                     NaN  ...   \n",
       "249173        NaN                     NaN  ...   \n",
       "...           ...                     ...  ...   \n",
       "250636        NaN                     NaN  ...   \n",
       "250637        NaN                     NaN  ...   \n",
       "250638        NaN                     NaN  ...   \n",
       "250639        NaN                     NaN  ...   \n",
       "250640        NaN                     NaN  ...   \n",
       "\n",
       "                                          obra_a_realizar  trabara_en_la_obra  \\\n",
       "249169  Construcción de baño adicional, Construcción d...                True   \n",
       "249170  Refacción menor de plomería o electricidad, Me...                True   \n",
       "249171  Rampas y/o aberturas para mejoramiento de acce...                True   \n",
       "249172  Construcción de baño adicional, Construcción d...               False   \n",
       "249173  Mejoramiento y/o terminaciones en piso, Mejora...               False   \n",
       "...                                                   ...                 ...   \n",
       "250636       Garage, Construcción de habitación adicional               False   \n",
       "250637  Construcción y/o reforma de cocina, Construcci...                True   \n",
       "250638  Construcción y/o reforma de cocina, Construcci...                True   \n",
       "250639  Construcción de losa para futura ampliación, R...                True   \n",
       "250640               Construcción de habitación adicional                True   \n",
       "\n",
       "        tenes_ingresos           principal_fuente_ingresos ingreso_anual  \\\n",
       "249169            True                                Otro       1000000   \n",
       "249170            True                Jubilación / Pensión           600   \n",
       "249171            True  Trabajo en relación de dependencia       2850000   \n",
       "249172            True               Trabajo independiente       2112000   \n",
       "249173            True               Trabajo independiente       6000000   \n",
       "...                ...                                 ...           ...   \n",
       "250636            True  Trabajo en relación de dependencia       2400000   \n",
       "250637            True  Trabajo en relación de dependencia       1650000   \n",
       "250638            True  Trabajo en relación de dependencia        800000   \n",
       "250639            True  Trabajo en relación de dependencia        800000   \n",
       "250640            True  Trabajo en relación de dependencia       1900000   \n",
       "\n",
       "                                             linea_optada  \\\n",
       "249169  Ampliaciones  -  6.240 UVIs  -     $ 1.851.033...   \n",
       "249170  Ampliaciones  -  6.240 UVIs  -     $ 1.851.033...   \n",
       "249171  Refacciones Mayores  -  3.120 UVIs  -     $ 92...   \n",
       "249172  Ampliaciones  -  3.510 UVIs  -     $ 1.041.206...   \n",
       "249173  Ampliaciones  -  6.240 UVIs  -     $ 1.851.033,60   \n",
       "...                                                   ...   \n",
       "250636          Ampliaciones  -  6.240 UVIs  -  $ 947.793   \n",
       "250637          Ampliaciones  -  6.240 UVIs  -  $ 835.286   \n",
       "250638          Ampliaciones  -  6.240 UVIs  -  $ 740.813   \n",
       "250639          Ampliaciones  -  6.240 UVIs  -  $ 835.286   \n",
       "250640          Ampliaciones  -  6.240 UVIs  -  $ 835.286   \n",
       "\n",
       "                 created_at           updated_at  ingreso_anual_hogar  \\\n",
       "249169  2023-11-21 12:59:08  2023-11-21 12:59:08              1000000   \n",
       "249170  2023-11-21 12:59:08  2023-11-21 12:59:08                  600   \n",
       "249171  2023-11-21 12:59:08  2023-11-21 12:59:08              2850000   \n",
       "249172  2023-11-21 12:59:08  2023-11-21 12:59:08              2112000   \n",
       "249173  2023-11-22 13:52:59  2023-11-22 13:52:59              6000000   \n",
       "...                     ...                  ...                  ...   \n",
       "250636  2022-12-28 11:14:36  2025-01-07 10:28:02              2400000   \n",
       "250637  2022-10-11 15:36:06  2025-01-23 15:23:04              2076000   \n",
       "250638  2022-08-31 17:31:00  2025-02-11 09:20:09               800000   \n",
       "250639  2022-10-11 15:06:23  2025-02-12 12:17:35               800000   \n",
       "250640  2022-10-18 13:35:06  2025-02-24 10:42:28              1900000   \n",
       "\n",
       "       personas_por_ambiente  \n",
       "249169              6.000000  \n",
       "249170              2.500000  \n",
       "249171              2.000000  \n",
       "249172              2.500000  \n",
       "249173              1.333333  \n",
       "...                      ...  \n",
       "250636              0.666667  \n",
       "250637              1.000000  \n",
       "250638              2.000000  \n",
       "250639              3.000000  \n",
       "250640              3.000000  \n",
       "\n",
       "[1472 rows x 67 columns]"
      ]
     },
     "execution_count": 16,
     "metadata": {},
     "output_type": "execute_result"
    }
   ],
   "source": [
    "#Filtramos solo los inscriptos en estado solicitud_adjudicada ó solicitud_elegible_rechazadas_por_excedente \n",
    "formularios_estudio[formularios_estudio['state'] == 'solicitud_adjudicada']\n",
    "formularios_estudio[formularios_estudio['state'] =='solicitud_elegible_rechazadas_por_excedente']"
   ]
  },
  {
   "cell_type": "code",
   "execution_count": 17,
   "id": "a3fac3bc",
   "metadata": {},
   "outputs": [],
   "source": [
    "# Asignamos variable al filtro de los inscriptos en estado solicitud_adjudicada ó solicitud_elegible_rechazadas_por_excedente\n",
    "filtro = (formularios_estudio['state'] == 'solicitud_adjudicada') | \\\n",
    "         (formularios_estudio['state'] == 'solicitud_elegible_rechazadas_por_excedente')\n",
    "\n",
    "# Creamos el nuevo dataframe aplicando el filtro\n",
    "formularios_estudio = formularios_estudio[filtro]"
   ]
  },
  {
   "cell_type": "code",
   "execution_count": 18,
   "id": "f70da429",
   "metadata": {},
   "outputs": [
    {
     "data": {
      "text/html": [
       "<div>\n",
       "<style scoped>\n",
       "    .dataframe tbody tr th:only-of-type {\n",
       "        vertical-align: middle;\n",
       "    }\n",
       "\n",
       "    .dataframe tbody tr th {\n",
       "        vertical-align: top;\n",
       "    }\n",
       "\n",
       "    .dataframe thead th {\n",
       "        text-align: right;\n",
       "    }\n",
       "</style>\n",
       "<table border=\"1\" class=\"dataframe\">\n",
       "  <thead>\n",
       "    <tr style=\"text-align: right;\">\n",
       "      <th></th>\n",
       "      <th>codigo_municipio</th>\n",
       "      <th>codigo_region</th>\n",
       "      <th>nombre_region</th>\n",
       "      <th>codigo_area</th>\n",
       "      <th>nombre_area</th>\n",
       "      <th>conurbano_interior</th>\n",
       "      <th>seccion_electoral</th>\n",
       "      <th>superficie(km2)</th>\n",
       "      <th>intendente</th>\n",
       "      <th>partido_politico_actual</th>\n",
       "      <th>...</th>\n",
       "      <th>obra_a_realizar</th>\n",
       "      <th>trabara_en_la_obra</th>\n",
       "      <th>tenes_ingresos</th>\n",
       "      <th>principal_fuente_ingresos</th>\n",
       "      <th>ingreso_anual</th>\n",
       "      <th>linea_optada</th>\n",
       "      <th>created_at</th>\n",
       "      <th>updated_at</th>\n",
       "      <th>ingreso_anual_hogar</th>\n",
       "      <th>personas_por_ambiente</th>\n",
       "    </tr>\n",
       "  </thead>\n",
       "  <tbody>\n",
       "    <tr>\n",
       "      <th>58583</th>\n",
       "      <td>NaN</td>\n",
       "      <td>NaN</td>\n",
       "      <td>NaN</td>\n",
       "      <td>NaN</td>\n",
       "      <td>NaN</td>\n",
       "      <td>NaN</td>\n",
       "      <td>NaN</td>\n",
       "      <td>NaN</td>\n",
       "      <td>NaN</td>\n",
       "      <td>NaN</td>\n",
       "      <td>...</td>\n",
       "      <td>Construcción de habitación adicional, Construc...</td>\n",
       "      <td>False</td>\n",
       "      <td>True</td>\n",
       "      <td>Trabajo en relación de dependencia</td>\n",
       "      <td>1610000</td>\n",
       "      <td>Ampliaciones  -  6.240 UVIs  -  $ 740.813</td>\n",
       "      <td>2022-08-31 17:23:44</td>\n",
       "      <td>2022-08-31 17:23:44</td>\n",
       "      <td>1610000</td>\n",
       "      <td>2.000000</td>\n",
       "    </tr>\n",
       "    <tr>\n",
       "      <th>77090</th>\n",
       "      <td>NaN</td>\n",
       "      <td>NaN</td>\n",
       "      <td>NaN</td>\n",
       "      <td>NaN</td>\n",
       "      <td>NaN</td>\n",
       "      <td>NaN</td>\n",
       "      <td>NaN</td>\n",
       "      <td>NaN</td>\n",
       "      <td>NaN</td>\n",
       "      <td>NaN</td>\n",
       "      <td>...</td>\n",
       "      <td>Construcción de losa para futura ampliación, C...</td>\n",
       "      <td>True</td>\n",
       "      <td>False</td>\n",
       "      <td>Otro</td>\n",
       "      <td>45000</td>\n",
       "      <td>Ampliaciones  -  5.460 UVIs  -  $ 648.211</td>\n",
       "      <td>2022-08-31 17:30:59</td>\n",
       "      <td>2022-08-31 17:30:59</td>\n",
       "      <td>45000</td>\n",
       "      <td>1.000000</td>\n",
       "    </tr>\n",
       "    <tr>\n",
       "      <th>81009</th>\n",
       "      <td>NaN</td>\n",
       "      <td>NaN</td>\n",
       "      <td>NaN</td>\n",
       "      <td>NaN</td>\n",
       "      <td>NaN</td>\n",
       "      <td>NaN</td>\n",
       "      <td>NaN</td>\n",
       "      <td>NaN</td>\n",
       "      <td>NaN</td>\n",
       "      <td>NaN</td>\n",
       "      <td>...</td>\n",
       "      <td>Adaptación de instalaciones sanitarias para me...</td>\n",
       "      <td>True</td>\n",
       "      <td>False</td>\n",
       "      <td>Otro</td>\n",
       "      <td>50</td>\n",
       "      <td>Ampliaciones  -  6.240 UVIs  -  $ 740.813</td>\n",
       "      <td>2022-08-31 17:32:22</td>\n",
       "      <td>2022-08-31 17:32:22</td>\n",
       "      <td>50</td>\n",
       "      <td>3.000000</td>\n",
       "    </tr>\n",
       "    <tr>\n",
       "      <th>110671</th>\n",
       "      <td>NaN</td>\n",
       "      <td>NaN</td>\n",
       "      <td>NaN</td>\n",
       "      <td>NaN</td>\n",
       "      <td>NaN</td>\n",
       "      <td>NaN</td>\n",
       "      <td>NaN</td>\n",
       "      <td>NaN</td>\n",
       "      <td>NaN</td>\n",
       "      <td>NaN</td>\n",
       "      <td>...</td>\n",
       "      <td>Reforma de baño, Construcción de habitación ad...</td>\n",
       "      <td>True</td>\n",
       "      <td>True</td>\n",
       "      <td>Otro</td>\n",
       "      <td>55000</td>\n",
       "      <td>Refacciones Mayores  -  3.120 UVIs  -  $ 417.643</td>\n",
       "      <td>2022-10-11 15:09:29</td>\n",
       "      <td>2022-10-11 15:09:29</td>\n",
       "      <td>55000</td>\n",
       "      <td>4.000000</td>\n",
       "    </tr>\n",
       "    <tr>\n",
       "      <th>130628</th>\n",
       "      <td>NaN</td>\n",
       "      <td>NaN</td>\n",
       "      <td>NaN</td>\n",
       "      <td>NaN</td>\n",
       "      <td>NaN</td>\n",
       "      <td>NaN</td>\n",
       "      <td>NaN</td>\n",
       "      <td>NaN</td>\n",
       "      <td>NaN</td>\n",
       "      <td>NaN</td>\n",
       "      <td>...</td>\n",
       "      <td>Construcción de divisiones interiores</td>\n",
       "      <td>False</td>\n",
       "      <td>True</td>\n",
       "      <td>Trabajo en relación de dependencia</td>\n",
       "      <td>1200000</td>\n",
       "      <td>Ampliaciones  -  6.240 UVIs  -  $ 835.286</td>\n",
       "      <td>2022-10-12 19:28:11</td>\n",
       "      <td>2022-10-12 19:28:11</td>\n",
       "      <td>1200000</td>\n",
       "      <td>1.500000</td>\n",
       "    </tr>\n",
       "    <tr>\n",
       "      <th>...</th>\n",
       "      <td>...</td>\n",
       "      <td>...</td>\n",
       "      <td>...</td>\n",
       "      <td>...</td>\n",
       "      <td>...</td>\n",
       "      <td>...</td>\n",
       "      <td>...</td>\n",
       "      <td>...</td>\n",
       "      <td>...</td>\n",
       "      <td>...</td>\n",
       "      <td>...</td>\n",
       "      <td>...</td>\n",
       "      <td>...</td>\n",
       "      <td>...</td>\n",
       "      <td>...</td>\n",
       "      <td>...</td>\n",
       "      <td>...</td>\n",
       "      <td>...</td>\n",
       "      <td>...</td>\n",
       "      <td>...</td>\n",
       "      <td>...</td>\n",
       "    </tr>\n",
       "    <tr>\n",
       "      <th>250636</th>\n",
       "      <td>NaN</td>\n",
       "      <td>NaN</td>\n",
       "      <td>NaN</td>\n",
       "      <td>NaN</td>\n",
       "      <td>NaN</td>\n",
       "      <td>NaN</td>\n",
       "      <td>NaN</td>\n",
       "      <td>NaN</td>\n",
       "      <td>NaN</td>\n",
       "      <td>NaN</td>\n",
       "      <td>...</td>\n",
       "      <td>Garage, Construcción de habitación adicional</td>\n",
       "      <td>False</td>\n",
       "      <td>True</td>\n",
       "      <td>Trabajo en relación de dependencia</td>\n",
       "      <td>2400000</td>\n",
       "      <td>Ampliaciones  -  6.240 UVIs  -  $ 947.793</td>\n",
       "      <td>2022-12-28 11:14:36</td>\n",
       "      <td>2025-01-07 10:28:02</td>\n",
       "      <td>2400000</td>\n",
       "      <td>0.666667</td>\n",
       "    </tr>\n",
       "    <tr>\n",
       "      <th>250637</th>\n",
       "      <td>NaN</td>\n",
       "      <td>NaN</td>\n",
       "      <td>NaN</td>\n",
       "      <td>NaN</td>\n",
       "      <td>NaN</td>\n",
       "      <td>NaN</td>\n",
       "      <td>NaN</td>\n",
       "      <td>NaN</td>\n",
       "      <td>NaN</td>\n",
       "      <td>NaN</td>\n",
       "      <td>...</td>\n",
       "      <td>Construcción y/o reforma de cocina, Construcci...</td>\n",
       "      <td>True</td>\n",
       "      <td>True</td>\n",
       "      <td>Trabajo en relación de dependencia</td>\n",
       "      <td>1650000</td>\n",
       "      <td>Ampliaciones  -  6.240 UVIs  -  $ 835.286</td>\n",
       "      <td>2022-10-11 15:36:06</td>\n",
       "      <td>2025-01-23 15:23:04</td>\n",
       "      <td>2076000</td>\n",
       "      <td>1.000000</td>\n",
       "    </tr>\n",
       "    <tr>\n",
       "      <th>250638</th>\n",
       "      <td>NaN</td>\n",
       "      <td>NaN</td>\n",
       "      <td>NaN</td>\n",
       "      <td>NaN</td>\n",
       "      <td>NaN</td>\n",
       "      <td>NaN</td>\n",
       "      <td>NaN</td>\n",
       "      <td>NaN</td>\n",
       "      <td>NaN</td>\n",
       "      <td>NaN</td>\n",
       "      <td>...</td>\n",
       "      <td>Construcción y/o reforma de cocina, Construcci...</td>\n",
       "      <td>True</td>\n",
       "      <td>True</td>\n",
       "      <td>Trabajo en relación de dependencia</td>\n",
       "      <td>800000</td>\n",
       "      <td>Ampliaciones  -  6.240 UVIs  -  $ 740.813</td>\n",
       "      <td>2022-08-31 17:31:00</td>\n",
       "      <td>2025-02-11 09:20:09</td>\n",
       "      <td>800000</td>\n",
       "      <td>2.000000</td>\n",
       "    </tr>\n",
       "    <tr>\n",
       "      <th>250639</th>\n",
       "      <td>NaN</td>\n",
       "      <td>NaN</td>\n",
       "      <td>NaN</td>\n",
       "      <td>NaN</td>\n",
       "      <td>NaN</td>\n",
       "      <td>NaN</td>\n",
       "      <td>NaN</td>\n",
       "      <td>NaN</td>\n",
       "      <td>NaN</td>\n",
       "      <td>NaN</td>\n",
       "      <td>...</td>\n",
       "      <td>Construcción de losa para futura ampliación, R...</td>\n",
       "      <td>True</td>\n",
       "      <td>True</td>\n",
       "      <td>Trabajo en relación de dependencia</td>\n",
       "      <td>800000</td>\n",
       "      <td>Ampliaciones  -  6.240 UVIs  -  $ 835.286</td>\n",
       "      <td>2022-10-11 15:06:23</td>\n",
       "      <td>2025-02-12 12:17:35</td>\n",
       "      <td>800000</td>\n",
       "      <td>3.000000</td>\n",
       "    </tr>\n",
       "    <tr>\n",
       "      <th>250640</th>\n",
       "      <td>NaN</td>\n",
       "      <td>NaN</td>\n",
       "      <td>NaN</td>\n",
       "      <td>NaN</td>\n",
       "      <td>NaN</td>\n",
       "      <td>NaN</td>\n",
       "      <td>NaN</td>\n",
       "      <td>NaN</td>\n",
       "      <td>NaN</td>\n",
       "      <td>NaN</td>\n",
       "      <td>...</td>\n",
       "      <td>Construcción de habitación adicional</td>\n",
       "      <td>True</td>\n",
       "      <td>True</td>\n",
       "      <td>Trabajo en relación de dependencia</td>\n",
       "      <td>1900000</td>\n",
       "      <td>Ampliaciones  -  6.240 UVIs  -  $ 835.286</td>\n",
       "      <td>2022-10-18 13:35:06</td>\n",
       "      <td>2025-02-24 10:42:28</td>\n",
       "      <td>1900000</td>\n",
       "      <td>3.000000</td>\n",
       "    </tr>\n",
       "  </tbody>\n",
       "</table>\n",
       "<p>3014 rows × 67 columns</p>\n",
       "</div>"
      ],
      "text/plain": [
       "        codigo_municipio  codigo_region nombre_region  codigo_area  \\\n",
       "58583                NaN            NaN           NaN          NaN   \n",
       "77090                NaN            NaN           NaN          NaN   \n",
       "81009                NaN            NaN           NaN          NaN   \n",
       "110671               NaN            NaN           NaN          NaN   \n",
       "130628               NaN            NaN           NaN          NaN   \n",
       "...                  ...            ...           ...          ...   \n",
       "250636               NaN            NaN           NaN          NaN   \n",
       "250637               NaN            NaN           NaN          NaN   \n",
       "250638               NaN            NaN           NaN          NaN   \n",
       "250639               NaN            NaN           NaN          NaN   \n",
       "250640               NaN            NaN           NaN          NaN   \n",
       "\n",
       "       nombre_area conurbano_interior  seccion_electoral  superficie(km2)  \\\n",
       "58583          NaN                NaN                NaN              NaN   \n",
       "77090          NaN                NaN                NaN              NaN   \n",
       "81009          NaN                NaN                NaN              NaN   \n",
       "110671         NaN                NaN                NaN              NaN   \n",
       "130628         NaN                NaN                NaN              NaN   \n",
       "...            ...                ...                ...              ...   \n",
       "250636         NaN                NaN                NaN              NaN   \n",
       "250637         NaN                NaN                NaN              NaN   \n",
       "250638         NaN                NaN                NaN              NaN   \n",
       "250639         NaN                NaN                NaN              NaN   \n",
       "250640         NaN                NaN                NaN              NaN   \n",
       "\n",
       "       intendente partido_politico_actual  ...  \\\n",
       "58583         NaN                     NaN  ...   \n",
       "77090         NaN                     NaN  ...   \n",
       "81009         NaN                     NaN  ...   \n",
       "110671        NaN                     NaN  ...   \n",
       "130628        NaN                     NaN  ...   \n",
       "...           ...                     ...  ...   \n",
       "250636        NaN                     NaN  ...   \n",
       "250637        NaN                     NaN  ...   \n",
       "250638        NaN                     NaN  ...   \n",
       "250639        NaN                     NaN  ...   \n",
       "250640        NaN                     NaN  ...   \n",
       "\n",
       "                                          obra_a_realizar  trabara_en_la_obra  \\\n",
       "58583   Construcción de habitación adicional, Construc...               False   \n",
       "77090   Construcción de losa para futura ampliación, C...                True   \n",
       "81009   Adaptación de instalaciones sanitarias para me...                True   \n",
       "110671  Reforma de baño, Construcción de habitación ad...                True   \n",
       "130628              Construcción de divisiones interiores               False   \n",
       "...                                                   ...                 ...   \n",
       "250636       Garage, Construcción de habitación adicional               False   \n",
       "250637  Construcción y/o reforma de cocina, Construcci...                True   \n",
       "250638  Construcción y/o reforma de cocina, Construcci...                True   \n",
       "250639  Construcción de losa para futura ampliación, R...                True   \n",
       "250640               Construcción de habitación adicional                True   \n",
       "\n",
       "        tenes_ingresos           principal_fuente_ingresos ingreso_anual  \\\n",
       "58583             True  Trabajo en relación de dependencia       1610000   \n",
       "77090            False                                Otro         45000   \n",
       "81009            False                                Otro            50   \n",
       "110671            True                                Otro         55000   \n",
       "130628            True  Trabajo en relación de dependencia       1200000   \n",
       "...                ...                                 ...           ...   \n",
       "250636            True  Trabajo en relación de dependencia       2400000   \n",
       "250637            True  Trabajo en relación de dependencia       1650000   \n",
       "250638            True  Trabajo en relación de dependencia        800000   \n",
       "250639            True  Trabajo en relación de dependencia        800000   \n",
       "250640            True  Trabajo en relación de dependencia       1900000   \n",
       "\n",
       "                                            linea_optada           created_at  \\\n",
       "58583          Ampliaciones  -  6.240 UVIs  -  $ 740.813  2022-08-31 17:23:44   \n",
       "77090          Ampliaciones  -  5.460 UVIs  -  $ 648.211  2022-08-31 17:30:59   \n",
       "81009          Ampliaciones  -  6.240 UVIs  -  $ 740.813  2022-08-31 17:32:22   \n",
       "110671  Refacciones Mayores  -  3.120 UVIs  -  $ 417.643  2022-10-11 15:09:29   \n",
       "130628         Ampliaciones  -  6.240 UVIs  -  $ 835.286  2022-10-12 19:28:11   \n",
       "...                                                  ...                  ...   \n",
       "250636         Ampliaciones  -  6.240 UVIs  -  $ 947.793  2022-12-28 11:14:36   \n",
       "250637         Ampliaciones  -  6.240 UVIs  -  $ 835.286  2022-10-11 15:36:06   \n",
       "250638         Ampliaciones  -  6.240 UVIs  -  $ 740.813  2022-08-31 17:31:00   \n",
       "250639         Ampliaciones  -  6.240 UVIs  -  $ 835.286  2022-10-11 15:06:23   \n",
       "250640         Ampliaciones  -  6.240 UVIs  -  $ 835.286  2022-10-18 13:35:06   \n",
       "\n",
       "                 updated_at  ingreso_anual_hogar personas_por_ambiente  \n",
       "58583   2022-08-31 17:23:44              1610000              2.000000  \n",
       "77090   2022-08-31 17:30:59                45000              1.000000  \n",
       "81009   2022-08-31 17:32:22                   50              3.000000  \n",
       "110671  2022-10-11 15:09:29                55000              4.000000  \n",
       "130628  2022-10-12 19:28:11              1200000              1.500000  \n",
       "...                     ...                  ...                   ...  \n",
       "250636  2025-01-07 10:28:02              2400000              0.666667  \n",
       "250637  2025-01-23 15:23:04              2076000              1.000000  \n",
       "250638  2025-02-11 09:20:09               800000              2.000000  \n",
       "250639  2025-02-12 12:17:35               800000              3.000000  \n",
       "250640  2025-02-24 10:42:28              1900000              3.000000  \n",
       "\n",
       "[3014 rows x 67 columns]"
      ]
     },
     "execution_count": 18,
     "metadata": {},
     "output_type": "execute_result"
    }
   ],
   "source": [
    "formularios_estudio"
   ]
  },
  {
   "cell_type": "markdown",
   "id": "bb1fe29c",
   "metadata": {},
   "source": [
    "## ETAPA 3: Cálculo de atributos faltantes (edad)"
   ]
  },
  {
   "cell_type": "code",
   "execution_count": 19,
   "id": "c0c8efc7",
   "metadata": {},
   "outputs": [
    {
     "data": {
      "text/plain": [
       "58583    2022-07-25\n",
       "77090    2022-07-21\n",
       "81009    2022-07-20\n",
       "110671   2022-09-23\n",
       "130628   2022-10-03\n",
       "            ...    \n",
       "250636   2022-12-05\n",
       "250637   2022-09-29\n",
       "250638   2022-07-21\n",
       "250639   2022-09-25\n",
       "250640   2022-10-17\n",
       "Name: fecha_carga, Length: 3014, dtype: datetime64[ns]"
      ]
     },
     "execution_count": 19,
     "metadata": {},
     "output_type": "execute_result"
    }
   ],
   "source": [
    "# Cálculo de edad\n",
    "\n",
    "# Chequeamos la columna 'fecha_carga'\n",
    "formularios_estudio['fecha_carga']"
   ]
  },
  {
   "cell_type": "code",
   "execution_count": 20,
   "id": "ba7687cc",
   "metadata": {},
   "outputs": [
    {
     "data": {
      "text/plain": [
       "58583     1977-09-19 00:00:00\n",
       "77090     1996-07-28 00:00:00\n",
       "81009     2003-04-01 00:00:00\n",
       "110671    1997-09-11 00:00:00\n",
       "130628    1979-11-16 00:00:00\n",
       "                 ...         \n",
       "250636    1980-04-07 00:00:00\n",
       "250637    1975-03-14 00:00:00\n",
       "250638    1976-08-11 00:00:00\n",
       "250639    1987-01-24 00:00:00\n",
       "250640    1990-12-12 00:00:00\n",
       "Name: fecha_de_nacimiento, Length: 3014, dtype: object"
      ]
     },
     "execution_count": 20,
     "metadata": {},
     "output_type": "execute_result"
    }
   ],
   "source": [
    "#Chequeamos la columna 'fecha_de_nacimiento'\n",
    "formularios_estudio['fecha_de_nacimiento']"
   ]
  },
  {
   "cell_type": "code",
   "execution_count": 21,
   "id": "3a6d7947",
   "metadata": {},
   "outputs": [],
   "source": [
    "# Como los valores de cada columna son de distinto tipo de dato, transformamos 'fecha_de_nacimiento' y 'fecha de_carga'\n",
    "formularios_estudio.loc['fecha_de_nacimiento'] = pd.to_datetime(\n",
    "    formularios_estudio['fecha_de_nacimiento'],\n",
    "    errors='coerce'\n",
    ")"
   ]
  },
  {
   "cell_type": "code",
   "execution_count": 22,
   "id": "8b51e993",
   "metadata": {},
   "outputs": [],
   "source": [
    "formularios_estudio.loc['fecha_carga'] = pd.to_datetime(\n",
    "    formularios_estudio['fecha_carga'],\n",
    "    errors='coerce'\n",
    ")"
   ]
  },
  {
   "cell_type": "code",
   "execution_count": 23,
   "id": "38c949c7",
   "metadata": {},
   "outputs": [],
   "source": [
    "#TODO:ver función lambda\n",
    "# Calcular edad aplicando relativedelta fila a fila\n",
    "formularios_estudio['edad'] = formularios_estudio.apply(\n",
    "    lambda row: relativedelta(row['fecha_carga'], row['fecha_de_nacimiento']).years \n",
    "                if pd.notnull(row['fecha_de_nacimiento']) else pd.NA,\n",
    "    axis=1\n",
    ")"
   ]
  },
  {
   "cell_type": "code",
   "execution_count": 24,
   "id": "a83ea901",
   "metadata": {},
   "outputs": [
    {
     "data": {
      "text/plain": [
       "58583                    44\n",
       "77090                    25\n",
       "81009                    19\n",
       "110671                   25\n",
       "130628                   42\n",
       "                       ... \n",
       "250638                   45\n",
       "250639                   35\n",
       "250640                   31\n",
       "fecha_de_nacimiento    <NA>\n",
       "fecha_carga            <NA>\n",
       "Name: edad, Length: 3016, dtype: object"
      ]
     },
     "execution_count": 24,
     "metadata": {},
     "output_type": "execute_result"
    }
   ],
   "source": [
    "formularios_estudio['edad']"
   ]
  },
  {
   "cell_type": "markdown",
   "id": "37ee681e",
   "metadata": {},
   "source": [
    "####  -----------------------------Ejercicios de agrupaciones y estadísticas-------------------------------------------"
   ]
  },
  {
   "cell_type": "code",
   "execution_count": 25,
   "id": "d6c749bd",
   "metadata": {},
   "outputs": [],
   "source": [
    "# Hacemos cálculos estadísticos básicos sobre la columna 'ingreso_anual_hogar'\n",
    "ejemplo_agrupaciones_2 = formularios_estudio['ingreso_anual_hogar'].agg(\n",
    "    cantidad='count',\n",
    "    media_ing='mean',\n",
    "    max_ing='max',\n",
    "    min_ing='min',\n",
    "    desvio_ing='std'\n",
    ").to_frame().T"
   ]
  },
  {
   "cell_type": "code",
   "execution_count": 26,
   "id": "9036d961",
   "metadata": {},
   "outputs": [
    {
     "data": {
      "text/html": [
       "<div>\n",
       "<style scoped>\n",
       "    .dataframe tbody tr th:only-of-type {\n",
       "        vertical-align: middle;\n",
       "    }\n",
       "\n",
       "    .dataframe tbody tr th {\n",
       "        vertical-align: top;\n",
       "    }\n",
       "\n",
       "    .dataframe thead th {\n",
       "        text-align: right;\n",
       "    }\n",
       "</style>\n",
       "<table border=\"1\" class=\"dataframe\">\n",
       "  <thead>\n",
       "    <tr style=\"text-align: right;\">\n",
       "      <th></th>\n",
       "      <th>cantidad</th>\n",
       "      <th>media_ing</th>\n",
       "      <th>max_ing</th>\n",
       "      <th>min_ing</th>\n",
       "      <th>desvio_ing</th>\n",
       "    </tr>\n",
       "  </thead>\n",
       "  <tbody>\n",
       "    <tr>\n",
       "      <th>ingreso_anual_hogar</th>\n",
       "      <td>3014.0</td>\n",
       "      <td>2.649338e+06</td>\n",
       "      <td>243687983.0</td>\n",
       "      <td>1.0</td>\n",
       "      <td>5.179040e+06</td>\n",
       "    </tr>\n",
       "  </tbody>\n",
       "</table>\n",
       "</div>"
      ],
      "text/plain": [
       "                     cantidad     media_ing      max_ing  min_ing  \\\n",
       "ingreso_anual_hogar    3014.0  2.649338e+06  243687983.0      1.0   \n",
       "\n",
       "                       desvio_ing  \n",
       "ingreso_anual_hogar  5.179040e+06  "
      ]
     },
     "execution_count": 26,
     "metadata": {},
     "output_type": "execute_result"
    }
   ],
   "source": [
    "ejemplo_agrupaciones_2"
   ]
  },
  {
   "cell_type": "code",
   "execution_count": 27,
   "id": "24a88dda",
   "metadata": {},
   "outputs": [],
   "source": [
    "# Calculamos el coeficiente de variación\n",
    "ejemplo_agrupaciones_3 = formularios_estudio['ingreso_anual_hogar'].agg(\n",
    "    cantidad='count',\n",
    "    media_ing='mean',\n",
    "    desvio_ing='std',\n",
    ").to_frame().T"
   ]
  },
  {
   "cell_type": "code",
   "execution_count": 28,
   "id": "0d09a644",
   "metadata": {},
   "outputs": [],
   "source": [
    "ejemplo_agrupaciones_3['%desv_ing'] = (ejemplo_agrupaciones_3['desvio_ing'] / ejemplo_agrupaciones_3['media_ing'] * 100).round(1)"
   ]
  },
  {
   "cell_type": "code",
   "execution_count": 29,
   "id": "620dab76",
   "metadata": {},
   "outputs": [
    {
     "data": {
      "text/html": [
       "<div>\n",
       "<style scoped>\n",
       "    .dataframe tbody tr th:only-of-type {\n",
       "        vertical-align: middle;\n",
       "    }\n",
       "\n",
       "    .dataframe tbody tr th {\n",
       "        vertical-align: top;\n",
       "    }\n",
       "\n",
       "    .dataframe thead th {\n",
       "        text-align: right;\n",
       "    }\n",
       "</style>\n",
       "<table border=\"1\" class=\"dataframe\">\n",
       "  <thead>\n",
       "    <tr style=\"text-align: right;\">\n",
       "      <th></th>\n",
       "      <th>cantidad</th>\n",
       "      <th>media_ing</th>\n",
       "      <th>desvio_ing</th>\n",
       "      <th>%desv_ing</th>\n",
       "    </tr>\n",
       "  </thead>\n",
       "  <tbody>\n",
       "    <tr>\n",
       "      <th>ingreso_anual_hogar</th>\n",
       "      <td>3014.0</td>\n",
       "      <td>2.649338e+06</td>\n",
       "      <td>5.179040e+06</td>\n",
       "      <td>195.5</td>\n",
       "    </tr>\n",
       "  </tbody>\n",
       "</table>\n",
       "</div>"
      ],
      "text/plain": [
       "                     cantidad     media_ing    desvio_ing  %desv_ing\n",
       "ingreso_anual_hogar    3014.0  2.649338e+06  5.179040e+06      195.5"
      ]
     },
     "execution_count": 29,
     "metadata": {},
     "output_type": "execute_result"
    }
   ],
   "source": [
    "ejemplo_agrupaciones_3"
   ]
  },
  {
   "cell_type": "code",
   "execution_count": 30,
   "id": "7a35376e",
   "metadata": {},
   "outputs": [],
   "source": [
    "# el desvío estándar es mucho mayor que la media."
   ]
  },
  {
   "cell_type": "code",
   "execution_count": 31,
   "id": "a4a932b0",
   "metadata": {},
   "outputs": [],
   "source": [
    "# Calcula la proporción de género femenino\n",
    "ejemplo_agrupaciones_4 = pd.DataFrame({\n",
    "    '%sexo_f': [(formularios_estudio['sexo_dni'] == 'F').mean()]\n",
    "})"
   ]
  },
  {
   "cell_type": "code",
   "execution_count": 32,
   "id": "9ff24c78",
   "metadata": {},
   "outputs": [
    {
     "data": {
      "text/html": [
       "<div>\n",
       "<style scoped>\n",
       "    .dataframe tbody tr th:only-of-type {\n",
       "        vertical-align: middle;\n",
       "    }\n",
       "\n",
       "    .dataframe tbody tr th {\n",
       "        vertical-align: top;\n",
       "    }\n",
       "\n",
       "    .dataframe thead th {\n",
       "        text-align: right;\n",
       "    }\n",
       "</style>\n",
       "<table border=\"1\" class=\"dataframe\">\n",
       "  <thead>\n",
       "    <tr style=\"text-align: right;\">\n",
       "      <th></th>\n",
       "      <th>%sexo_f</th>\n",
       "    </tr>\n",
       "  </thead>\n",
       "  <tbody>\n",
       "    <tr>\n",
       "      <th>0</th>\n",
       "      <td>0.589191</td>\n",
       "    </tr>\n",
       "  </tbody>\n",
       "</table>\n",
       "</div>"
      ],
      "text/plain": [
       "    %sexo_f\n",
       "0  0.589191"
      ]
     },
     "execution_count": 32,
     "metadata": {},
     "output_type": "execute_result"
    }
   ],
   "source": [
    "ejemplo_agrupaciones_4"
   ]
  },
  {
   "cell_type": "markdown",
   "id": "00c62692",
   "metadata": {},
   "source": [
    "## ETAPA 4 : Renombramiento "
   ]
  },
  {
   "cell_type": "code",
   "execution_count": 33,
   "id": "878aaf12",
   "metadata": {},
   "outputs": [],
   "source": [
    "#Análisis total\n",
    "\n",
    "# Implementamos una función para el cálculo de media y desviación estándar\n",
    "def calcular_media_std(df:pd.DataFrame, columna:str):\n",
    "    return (\n",
    "        f'La media de {columna} es {float(round(df[columna].mean(skipna=True), 1))} ', #pasarlo a un parámetro\n",
    "        f'La desviación estándar de {columna} es {float(round((df[columna].std(skipna=True)), 1))}' #pasarlo a un parámetro\n",
    "    )"
   ]
  },
  {
   "cell_type": "code",
   "execution_count": 34,
   "id": "7c02cb82",
   "metadata": {},
   "outputs": [
    {
     "data": {
      "text/plain": [
       "('La media de ingreso_anual_hogar es 2649338.4 ',\n",
       " 'La desviación estándar de ingreso_anual_hogar es 5179040.3')"
      ]
     },
     "execution_count": 34,
     "metadata": {},
     "output_type": "execute_result"
    }
   ],
   "source": [
    "calcular_media_std(formularios_estudio, 'ingreso_anual_hogar')"
   ]
  },
  {
   "cell_type": "code",
   "execution_count": 35,
   "id": "6960d755",
   "metadata": {},
   "outputs": [
    {
     "data": {
      "text/plain": [
       "('La media de edad es 39.2 ', 'La desviación estándar de edad es 21.2')"
      ]
     },
     "execution_count": 35,
     "metadata": {},
     "output_type": "execute_result"
    }
   ],
   "source": [
    "calcular_media_std(formularios_estudio, 'edad')"
   ]
  },
  {
   "cell_type": "code",
   "execution_count": 36,
   "id": "4d810c16",
   "metadata": {},
   "outputs": [
    {
     "data": {
      "text/plain": [
       "('La media de personas_por_ambiente es 2.4 ',\n",
       " 'La desviación estándar de personas_por_ambiente es 2.8')"
      ]
     },
     "execution_count": 36,
     "metadata": {},
     "output_type": "execute_result"
    }
   ],
   "source": [
    "calcular_media_std(formularios_estudio, 'personas_por_ambiente')"
   ]
  },
  {
   "cell_type": "code",
   "execution_count": 37,
   "id": "452ffc59",
   "metadata": {},
   "outputs": [],
   "source": [
    "# Implementamos una función para el cálculo de media bajo una condición\n",
    "\n",
    "def calcular_media_condicion(df: pd.DataFrame, columna: str, condicion: str):\n",
    "    proporcion = (df[columna] == condicion).mean(skipna=True)\n",
    "    print(f\" La proporción de la media de {condicion} en {columna} es {round(proporcion, 1)}\")\n",
    "    return round(float(proporcion), 1)"
   ]
  },
  {
   "cell_type": "code",
   "execution_count": 38,
   "id": "305ad20b",
   "metadata": {},
   "outputs": [
    {
     "name": "stdout",
     "output_type": "stream",
     "text": [
      " La proporción de la media de F en sexo_dni es 0.6\n",
      " La proporción de la media de M en sexo_dni es 0.4\n",
      " La proporción de la media de Soy jefa(e) en relacion_de_parentezco_con_jefe_del_hogar es 0.6\n",
      " La proporción de la media de Conurbano en conurbano_interior es 0.0\n"
     ]
    },
    {
     "data": {
      "text/plain": [
       "0.0"
      ]
     },
     "execution_count": 38,
     "metadata": {},
     "output_type": "execute_result"
    }
   ],
   "source": [
    "calcular_media_condicion(formularios_estudio,'sexo_dni', 'F')\n",
    "calcular_media_condicion(formularios_estudio, 'sexo_dni', 'M')\n",
    "calcular_media_condicion(formularios_estudio, 'relacion_de_parentezco_con_jefe_del_hogar', 'Soy jefa(e)')\n",
    "calcular_media_condicion(formularios_estudio, 'conurbano_interior', 'Conurbano')"
   ]
  },
  {
   "cell_type": "code",
   "execution_count": 39,
   "id": "881ace3d",
   "metadata": {},
   "outputs": [
    {
     "data": {
      "text/plain": [
       "conurbano_interior\n",
       "False    3016\n",
       "Name: count, dtype: int64"
      ]
     },
     "execution_count": 39,
     "metadata": {},
     "output_type": "execute_result"
    }
   ],
   "source": [
    "#TODO : Ver por qué la proporción de la media da 0.0\n",
    "#Chequeamos el motivo que de la proporción de la media en 'conurbano_interior'es 0.0\n",
    "(formularios_estudio['conurbano_interior'] == 'Conurbano').value_counts()\n"
   ]
  },
  {
   "cell_type": "code",
   "execution_count": 40,
   "id": "9bd82439",
   "metadata": {},
   "outputs": [
    {
     "data": {
      "text/plain": [
       "0.2"
      ]
     },
     "execution_count": 40,
     "metadata": {},
     "output_type": "execute_result"
    }
   ],
   "source": [
    "vuln = float(round(formularios_estudio['escenario_vulnerabilidad_social'].mean(skipna=True), 1))\n",
    "vuln"
   ]
  },
  {
   "cell_type": "code",
   "execution_count": 41,
   "id": "32daaa79",
   "metadata": {},
   "outputs": [
    {
     "data": {
      "text/plain": [
       "0.6"
      ]
     },
     "execution_count": 41,
     "metadata": {},
     "output_type": "execute_result"
    }
   ],
   "source": [
    "paredes_ext_rev = float(round(formularios_estudio['paredes_ext_revocadas'].mean(skipna=True), 1))\n",
    "paredes_ext_rev"
   ]
  },
  {
   "cell_type": "code",
   "execution_count": 42,
   "id": "c3ab38b6",
   "metadata": {},
   "outputs": [
    {
     "data": {
      "text/plain": [
       "np.float64(0.6)"
      ]
     },
     "execution_count": 42,
     "metadata": {},
     "output_type": "execute_result"
    }
   ],
   "source": [
    "paredes_ext_rev = round(formularios_estudio['paredes_ext_revocadas'].mean(skipna=True), 1)\n",
    "paredes_ext_rev"
   ]
  },
  {
   "cell_type": "markdown",
   "id": "89cc4eeb",
   "metadata": {},
   "source": [
    "## Etapa 5: filtro inicial de candidatos por grupo"
   ]
  },
  {
   "cell_type": "markdown",
   "id": "28d7f8e1",
   "metadata": {},
   "source": [
    "##### Crear una fila nueva cuyos elementos organice la columna 'state' en dos condiciones: si el valor es 'solicitud_adjudicada', se llamará \"Tratamiento\", de lo contrario, se llamará \"Control\" (es decir, los valores 'desestimado', 'no_admisible', 'admisible_fuera_de_cupo''para_enviar_a_use', 'presentado','solicitud_rechazada_por_falta_de_elegibilidad', 'enviada_a_use','admisible' 'solicitud_elegible_rechazada_por_excedente','solicitud_con_adjudicacion_iniciada' 'solicitud_elegible''solicitud_elegible_rechazadas_por_excedente', estarán en este último grupo)."
   ]
  },
  {
   "cell_type": "code",
   "execution_count": 43,
   "id": "58a330f4",
   "metadata": {},
   "outputs": [
    {
     "data": {
      "text/plain": [
       "58583                  Tratamiento\n",
       "77090                  Tratamiento\n",
       "81009                  Tratamiento\n",
       "110671                 Tratamiento\n",
       "130628                 Tratamiento\n",
       "                          ...     \n",
       "250638                     Control\n",
       "250639                     Control\n",
       "250640                     Control\n",
       "fecha_de_nacimiento        Control\n",
       "fecha_carga                Control\n",
       "Name: grupo, Length: 3016, dtype: object"
      ]
     },
     "execution_count": 43,
     "metadata": {},
     "output_type": "execute_result"
    }
   ],
   "source": [
    "# Se agrupa en 'Tratamiento' si se cumple 'solicitud_adjudicada', y 'control', en caso contrario\n",
    "formularios_estudio['grupo'] = np.where( formularios_estudio['state'] == 'solicitud_adjudicada','Tratamiento', 'Control')\n",
    "\n",
    "formularios_estudio['grupo']"
   ]
  },
  {
   "cell_type": "code",
   "execution_count": 44,
   "id": "5baa929c",
   "metadata": {},
   "outputs": [],
   "source": [
    "# Guardar extracción de datos en \"Control\" o \"Tratamiento\"\n",
    "grupo_control = (formularios_estudio['grupo']) == 'Control' # es una serie que devuelve booleanos\n",
    "grupo_tratamiento = (formularios_estudio['grupo']) == 'Tratamiento' # idem"
   ]
  },
  {
   "cell_type": "code",
   "execution_count": 45,
   "id": "09627d01",
   "metadata": {},
   "outputs": [],
   "source": [
    "# A cada grupo le damos estructura de dataframe nuevo\n",
    "df_control = formularios_estudio[grupo_control]\n",
    "df_tratamiento = formularios_estudio[grupo_tratamiento]"
   ]
  },
  {
   "cell_type": "code",
   "execution_count": 46,
   "id": "5804f3a7",
   "metadata": {},
   "outputs": [],
   "source": [
    "# Se eliminan columnas innecesarias en ambos dataframes\n",
    "df_control_clean = df_control.drop(columns=[\n",
    "    'codigo_municipio', 'codigo_region', 'nombre_region', 'codigo_area',\n",
    "    'nombre_area', 'seccion_electoral',\n",
    "    'superficie(km2)', 'intendente', 'partido_politico_actual', \n",
    "    'poblacion_censo_2010', 'poblacion_censo_2022'\n",
    "])\n"
   ]
  },
  {
   "cell_type": "code",
   "execution_count": 47,
   "id": "c1188115",
   "metadata": {},
   "outputs": [],
   "source": [
    "df_tratamiento_clean = df_tratamiento.drop(columns=[\n",
    "    'codigo_municipio', 'codigo_region', 'nombre_region', 'codigo_area',\n",
    "    'nombre_area', 'seccion_electoral',\n",
    "    'superficie(km2)', 'intendente', 'partido_politico_actual', \n",
    "    'poblacion_censo_2010', 'poblacion_censo_2022'\n",
    "])"
   ]
  },
  {
   "cell_type": "markdown",
   "id": "094bc39f",
   "metadata": {},
   "source": [
    "## Etapa 6:  Muestreo y analisis de grupos de control y de tratamiento\n"
   ]
  },
  {
   "cell_type": "code",
   "execution_count": 48,
   "id": "b224543c",
   "metadata": {},
   "outputs": [],
   "source": [
    "# Crear una función para calcular muestra\n",
    "def muestra_aleatoria_simple(df: pd.DataFrame, n:int, seed=42 ):\n",
    "    return df.sample(n=n,random_state=seed)"
   ]
  },
  {
   "cell_type": "code",
   "execution_count": 49,
   "id": "473d80fe",
   "metadata": {},
   "outputs": [],
   "source": [
    "# Generar muestras aleatorias del grupo control y tratamiento \n",
    "mas_control = muestra_aleatoria_simple(df_control_clean, 1000)\n",
    "mas_tratamiento = muestra_aleatoria_simple (df_tratamiento_clean,1000)"
   ]
  },
  {
   "cell_type": "markdown",
   "id": "13e86cd2",
   "metadata": {},
   "source": [
    "### *Crear funciones para obtener resumenes estadísticos de los datos categóricos relevantes en cada grupo*"
   ]
  },
  {
   "cell_type": "code",
   "execution_count": 50,
   "id": "641ee930",
   "metadata": {},
   "outputs": [],
   "source": [
    "# Creamos nueva función que calcula media y desviación estándar\n",
    "\n",
    "def calcular_media_std_1(df: pd.DataFrame, columna:str):\n",
    "    media = round(df[columna].mean(skipna=True),1)\n",
    "    std = round(df[columna].std(skipna=True),1)\n",
    "    return media, std"
   ]
  },
  {
   "cell_type": "code",
   "execution_count": 51,
   "id": "efa355d7",
   "metadata": {},
   "outputs": [],
   "source": [
    "# Creamos una función que utiliza el cálculo anterior, y transformaciones a dataframe\n",
    "def calcular_media_std_lista(df: pd.DataFrame, lista: list):\n",
    "    resultados = {}\n",
    "    for columna in lista:\n",
    "        media, std = calcular_media_std_1(df, columna)\n",
    "        resultados[f'media_{columna}'] = media\n",
    "        resultados[f'desv_{columna}'] = std\n",
    "    return pd.DataFrame([resultados]) # pandas necesita lista de diccionarios\n"
   ]
  },
  {
   "cell_type": "code",
   "execution_count": 52,
   "id": "828be0db",
   "metadata": {},
   "outputs": [],
   "source": [
    "# Crear una función que calcula la media del dato categórico que tiene una condición\n",
    "def calcular_media_condicion(df: pd.DataFrame, dict_condiciones: dict):\n",
    "    resultado = {}\n",
    "    for columna, lista_condiciones in dict_condiciones.items():\n",
    "        for condicion in lista_condiciones:\n",
    "            proporcion = (df[columna] == condicion).mean(skipna=True)\n",
    "            resultado[f'media_{columna}_{condicion}'] = round(proporcion,1)\n",
    "    return pd.DataFrame([resultado])"
   ]
  },
  {
   "cell_type": "markdown",
   "id": "d8038de0",
   "metadata": {},
   "source": [
    "### *Resumen estadístico del Grupo Control (muestra)*"
   ]
  },
  {
   "cell_type": "code",
   "execution_count": 53,
   "id": "2363470b",
   "metadata": {},
   "outputs": [
    {
     "data": {
      "text/html": [
       "<div>\n",
       "<style scoped>\n",
       "    .dataframe tbody tr th:only-of-type {\n",
       "        vertical-align: middle;\n",
       "    }\n",
       "\n",
       "    .dataframe tbody tr th {\n",
       "        vertical-align: top;\n",
       "    }\n",
       "\n",
       "    .dataframe thead th {\n",
       "        text-align: right;\n",
       "    }\n",
       "</style>\n",
       "<table border=\"1\" class=\"dataframe\">\n",
       "  <thead>\n",
       "    <tr style=\"text-align: right;\">\n",
       "      <th></th>\n",
       "      <th>media_ingreso_anual_hogar</th>\n",
       "      <th>desv_ingreso_anual_hogar</th>\n",
       "      <th>media_edad</th>\n",
       "      <th>desv_edad</th>\n",
       "      <th>media_personas_por_ambiente</th>\n",
       "      <th>desv_personas_por_ambiente</th>\n",
       "    </tr>\n",
       "  </thead>\n",
       "  <tbody>\n",
       "    <tr>\n",
       "      <th>0</th>\n",
       "      <td>2904365.4</td>\n",
       "      <td>2891959.6</td>\n",
       "      <td>38.2</td>\n",
       "      <td>10.0</td>\n",
       "      <td>2.5</td>\n",
       "      <td>3.2</td>\n",
       "    </tr>\n",
       "  </tbody>\n",
       "</table>\n",
       "</div>"
      ],
      "text/plain": [
       "   media_ingreso_anual_hogar  desv_ingreso_anual_hogar  media_edad  desv_edad  \\\n",
       "0                  2904365.4                 2891959.6        38.2       10.0   \n",
       "\n",
       "   media_personas_por_ambiente  desv_personas_por_ambiente  \n",
       "0                          2.5                         3.2  "
      ]
     },
     "execution_count": 53,
     "metadata": {},
     "output_type": "execute_result"
    }
   ],
   "source": [
    "lista_c = ['ingreso_anual_hogar', 'edad', 'personas_por_ambiente']\n",
    "calcular_media_std_lista(mas_control, lista_c)"
   ]
  },
  {
   "cell_type": "code",
   "execution_count": 54,
   "id": "175cbc55",
   "metadata": {},
   "outputs": [
    {
     "data": {
      "text/html": [
       "<div>\n",
       "<style scoped>\n",
       "    .dataframe tbody tr th:only-of-type {\n",
       "        vertical-align: middle;\n",
       "    }\n",
       "\n",
       "    .dataframe tbody tr th {\n",
       "        vertical-align: top;\n",
       "    }\n",
       "\n",
       "    .dataframe thead th {\n",
       "        text-align: right;\n",
       "    }\n",
       "</style>\n",
       "<table border=\"1\" class=\"dataframe\">\n",
       "  <thead>\n",
       "    <tr style=\"text-align: right;\">\n",
       "      <th></th>\n",
       "      <th>media_sexo_dni_F</th>\n",
       "      <th>media_sexo_dni_M</th>\n",
       "      <th>media_relacion_de_parentezco_con_jefe_del_hogar_Soy jefa(e)</th>\n",
       "      <th>media_conurbano_interior_Conurbano</th>\n",
       "    </tr>\n",
       "  </thead>\n",
       "  <tbody>\n",
       "    <tr>\n",
       "      <th>0</th>\n",
       "      <td>0.6</td>\n",
       "      <td>0.4</td>\n",
       "      <td>0.5</td>\n",
       "      <td>0.0</td>\n",
       "    </tr>\n",
       "  </tbody>\n",
       "</table>\n",
       "</div>"
      ],
      "text/plain": [
       "   media_sexo_dni_F  media_sexo_dni_M  \\\n",
       "0               0.6               0.4   \n",
       "\n",
       "   media_relacion_de_parentezco_con_jefe_del_hogar_Soy jefa(e)  \\\n",
       "0                                                0.5             \n",
       "\n",
       "   media_conurbano_interior_Conurbano  \n",
       "0                                 0.0  "
      ]
     },
     "execution_count": 54,
     "metadata": {},
     "output_type": "execute_result"
    }
   ],
   "source": [
    "dict_condiciones = {\n",
    "    'sexo_dni': ['F','M'],\n",
    "    'relacion_de_parentezco_con_jefe_del_hogar': ['Soy jefa(e)'],\n",
    "    'conurbano_interior': ['Conurbano']\n",
    "}\n",
    "\n",
    "calcular_media_condicion(mas_control, dict_condiciones)"
   ]
  },
  {
   "cell_type": "code",
   "execution_count": 55,
   "id": "467c7d0e",
   "metadata": {},
   "outputs": [
    {
     "data": {
      "text/plain": [
       "0.1"
      ]
     },
     "execution_count": 55,
     "metadata": {},
     "output_type": "execute_result"
    }
   ],
   "source": [
    "vuln_control = float(round(mas_control['escenario_vulnerabilidad_social'].mean(skipna=True), 1))\n",
    "vuln_control"
   ]
  },
  {
   "cell_type": "code",
   "execution_count": 56,
   "id": "ebeb0f71",
   "metadata": {},
   "outputs": [],
   "source": [
    "fila_vuln_c = pd.DataFrame({'escenario_vulnerabilidad_social': [vuln_control]}, index= [1])\n"
   ]
  },
  {
   "cell_type": "code",
   "execution_count": 57,
   "id": "cd3bcb4a",
   "metadata": {},
   "outputs": [
    {
     "data": {
      "text/plain": [
       "0.6"
      ]
     },
     "execution_count": 57,
     "metadata": {},
     "output_type": "execute_result"
    }
   ],
   "source": [
    "paredes_ext_rev_control= float(round(mas_control['paredes_ext_revocadas'].mean(skipna=True), 1))\n",
    "paredes_ext_rev_control"
   ]
  },
  {
   "cell_type": "code",
   "execution_count": 58,
   "id": "90825632",
   "metadata": {},
   "outputs": [],
   "source": [
    "fila_per_c = pd.DataFrame({'paredes_ext_revocadas': [paredes_ext_rev_control]}, index= [1])"
   ]
  },
  {
   "cell_type": "code",
   "execution_count": 59,
   "id": "b03345d4",
   "metadata": {},
   "outputs": [],
   "source": [
    "# Crear un dataframe resumen del grupo control\n",
    "df_media_condición_control = calcular_media_condicion(df_control_clean, dict_condiciones)\n",
    "df_media_std_control = calcular_media_std_lista(df_control_clean, lista_c)\n",
    "df_mean_control = pd.concat([fila_vuln_c, fila_per_c], axis= 1)\n"
   ]
  },
  {
   "cell_type": "code",
   "execution_count": 60,
   "id": "4570f516",
   "metadata": {},
   "outputs": [],
   "source": [
    "# Resetear índices de los dataframes para concatenarlos\n",
    "df1 = df_media_condición_control.reset_index(drop=True)\n",
    "df2 = df_media_std_control.reset_index(drop=True)\n",
    "df3 = df_mean_control.reset_index(drop=True)"
   ]
  },
  {
   "cell_type": "code",
   "execution_count": 61,
   "id": "3117b82d",
   "metadata": {},
   "outputs": [],
   "source": [
    "# Concatenar los dataframes para obtener el resumen estadístico del grupo control\n",
    "df_control_resumen = pd.concat([df1, df2, df3], axis=1)"
   ]
  },
  {
   "cell_type": "code",
   "execution_count": 62,
   "id": "ed2618e1",
   "metadata": {},
   "outputs": [
    {
     "data": {
      "text/html": [
       "<div>\n",
       "<style scoped>\n",
       "    .dataframe tbody tr th:only-of-type {\n",
       "        vertical-align: middle;\n",
       "    }\n",
       "\n",
       "    .dataframe tbody tr th {\n",
       "        vertical-align: top;\n",
       "    }\n",
       "\n",
       "    .dataframe thead th {\n",
       "        text-align: right;\n",
       "    }\n",
       "</style>\n",
       "<table border=\"1\" class=\"dataframe\">\n",
       "  <thead>\n",
       "    <tr style=\"text-align: right;\">\n",
       "      <th></th>\n",
       "      <th>media_sexo_dni_F</th>\n",
       "      <th>media_sexo_dni_M</th>\n",
       "      <th>media_relacion_de_parentezco_con_jefe_del_hogar_Soy jefa(e)</th>\n",
       "      <th>media_conurbano_interior_Conurbano</th>\n",
       "      <th>media_ingreso_anual_hogar</th>\n",
       "      <th>desv_ingreso_anual_hogar</th>\n",
       "      <th>media_edad</th>\n",
       "      <th>desv_edad</th>\n",
       "      <th>media_personas_por_ambiente</th>\n",
       "      <th>desv_personas_por_ambiente</th>\n",
       "      <th>escenario_vulnerabilidad_social</th>\n",
       "      <th>paredes_ext_revocadas</th>\n",
       "    </tr>\n",
       "  </thead>\n",
       "  <tbody>\n",
       "    <tr>\n",
       "      <th>0</th>\n",
       "      <td>0.6</td>\n",
       "      <td>0.4</td>\n",
       "      <td>0.5</td>\n",
       "      <td>0.0</td>\n",
       "      <td>2943501.1</td>\n",
       "      <td>3019208.7</td>\n",
       "      <td>38.4</td>\n",
       "      <td>10.1</td>\n",
       "      <td>2.5</td>\n",
       "      <td>3.0</td>\n",
       "      <td>0.1</td>\n",
       "      <td>0.6</td>\n",
       "    </tr>\n",
       "  </tbody>\n",
       "</table>\n",
       "</div>"
      ],
      "text/plain": [
       "   media_sexo_dni_F  media_sexo_dni_M  \\\n",
       "0               0.6               0.4   \n",
       "\n",
       "   media_relacion_de_parentezco_con_jefe_del_hogar_Soy jefa(e)  \\\n",
       "0                                                0.5             \n",
       "\n",
       "   media_conurbano_interior_Conurbano  media_ingreso_anual_hogar  \\\n",
       "0                                 0.0                  2943501.1   \n",
       "\n",
       "   desv_ingreso_anual_hogar  media_edad  desv_edad  \\\n",
       "0                 3019208.7        38.4       10.1   \n",
       "\n",
       "   media_personas_por_ambiente  desv_personas_por_ambiente  \\\n",
       "0                          2.5                         3.0   \n",
       "\n",
       "   escenario_vulnerabilidad_social  paredes_ext_revocadas  \n",
       "0                              0.1                    0.6  "
      ]
     },
     "execution_count": 62,
     "metadata": {},
     "output_type": "execute_result"
    }
   ],
   "source": [
    "df_control_resumen"
   ]
  },
  {
   "cell_type": "markdown",
   "id": "7148a42f",
   "metadata": {},
   "source": [
    "### *Resumen estadístico del Grupo Tratamiento (muestra)*"
   ]
  },
  {
   "cell_type": "code",
   "execution_count": 63,
   "id": "a4c41fcc",
   "metadata": {},
   "outputs": [
    {
     "data": {
      "text/html": [
       "<div>\n",
       "<style scoped>\n",
       "    .dataframe tbody tr th:only-of-type {\n",
       "        vertical-align: middle;\n",
       "    }\n",
       "\n",
       "    .dataframe tbody tr th {\n",
       "        vertical-align: top;\n",
       "    }\n",
       "\n",
       "    .dataframe thead th {\n",
       "        text-align: right;\n",
       "    }\n",
       "</style>\n",
       "<table border=\"1\" class=\"dataframe\">\n",
       "  <thead>\n",
       "    <tr style=\"text-align: right;\">\n",
       "      <th></th>\n",
       "      <th>media_ingreso_anual_hogar</th>\n",
       "      <th>desv_ingreso_anual_hogar</th>\n",
       "      <th>media_edad</th>\n",
       "      <th>desv_edad</th>\n",
       "      <th>media_personas_por_ambiente</th>\n",
       "      <th>desv_personas_por_ambiente</th>\n",
       "    </tr>\n",
       "  </thead>\n",
       "  <tbody>\n",
       "    <tr>\n",
       "      <th>0</th>\n",
       "      <td>2172886.1</td>\n",
       "      <td>2412012.2</td>\n",
       "      <td>40.2</td>\n",
       "      <td>33.3</td>\n",
       "      <td>2.4</td>\n",
       "      <td>2.7</td>\n",
       "    </tr>\n",
       "  </tbody>\n",
       "</table>\n",
       "</div>"
      ],
      "text/plain": [
       "   media_ingreso_anual_hogar  desv_ingreso_anual_hogar  media_edad  desv_edad  \\\n",
       "0                  2172886.1                 2412012.2        40.2       33.3   \n",
       "\n",
       "   media_personas_por_ambiente  desv_personas_por_ambiente  \n",
       "0                          2.4                         2.7  "
      ]
     },
     "execution_count": 63,
     "metadata": {},
     "output_type": "execute_result"
    }
   ],
   "source": [
    "lista_t = ['ingreso_anual_hogar', 'edad', 'personas_por_ambiente']\n",
    "calcular_media_std_lista(mas_tratamiento, lista_t)"
   ]
  },
  {
   "cell_type": "code",
   "execution_count": 64,
   "id": "a296fddf",
   "metadata": {},
   "outputs": [
    {
     "data": {
      "text/html": [
       "<div>\n",
       "<style scoped>\n",
       "    .dataframe tbody tr th:only-of-type {\n",
       "        vertical-align: middle;\n",
       "    }\n",
       "\n",
       "    .dataframe tbody tr th {\n",
       "        vertical-align: top;\n",
       "    }\n",
       "\n",
       "    .dataframe thead th {\n",
       "        text-align: right;\n",
       "    }\n",
       "</style>\n",
       "<table border=\"1\" class=\"dataframe\">\n",
       "  <thead>\n",
       "    <tr style=\"text-align: right;\">\n",
       "      <th></th>\n",
       "      <th>media_sexo_dni_F</th>\n",
       "      <th>media_sexo_dni_M</th>\n",
       "      <th>media_relacion_de_parentezco_con_jefe_del_hogar_Soy jefa(e)</th>\n",
       "      <th>media_conurbano_interior_Conurbano</th>\n",
       "    </tr>\n",
       "  </thead>\n",
       "  <tbody>\n",
       "    <tr>\n",
       "      <th>0</th>\n",
       "      <td>0.6</td>\n",
       "      <td>0.4</td>\n",
       "      <td>0.7</td>\n",
       "      <td>0.0</td>\n",
       "    </tr>\n",
       "  </tbody>\n",
       "</table>\n",
       "</div>"
      ],
      "text/plain": [
       "   media_sexo_dni_F  media_sexo_dni_M  \\\n",
       "0               0.6               0.4   \n",
       "\n",
       "   media_relacion_de_parentezco_con_jefe_del_hogar_Soy jefa(e)  \\\n",
       "0                                                0.7             \n",
       "\n",
       "   media_conurbano_interior_Conurbano  \n",
       "0                                 0.0  "
      ]
     },
     "execution_count": 64,
     "metadata": {},
     "output_type": "execute_result"
    }
   ],
   "source": [
    "calcular_media_condicion(mas_tratamiento, dict_condiciones)"
   ]
  },
  {
   "cell_type": "code",
   "execution_count": 65,
   "id": "91a0c332",
   "metadata": {},
   "outputs": [],
   "source": [
    "vuln_tratamiento = float(round(mas_tratamiento['escenario_vulnerabilidad_social'].mean(skipna=True), 1))\n"
   ]
  },
  {
   "cell_type": "code",
   "execution_count": 66,
   "id": "b9c33900",
   "metadata": {},
   "outputs": [],
   "source": [
    "paredes_ext_rev_tratamiento= float(round(mas_tratamiento['paredes_ext_revocadas'].mean(skipna=True), 1))\n"
   ]
  },
  {
   "cell_type": "code",
   "execution_count": 67,
   "id": "93c6c48b",
   "metadata": {},
   "outputs": [
    {
     "data": {
      "text/html": [
       "<div>\n",
       "<style scoped>\n",
       "    .dataframe tbody tr th:only-of-type {\n",
       "        vertical-align: middle;\n",
       "    }\n",
       "\n",
       "    .dataframe tbody tr th {\n",
       "        vertical-align: top;\n",
       "    }\n",
       "\n",
       "    .dataframe thead th {\n",
       "        text-align: right;\n",
       "    }\n",
       "</style>\n",
       "<table border=\"1\" class=\"dataframe\">\n",
       "  <thead>\n",
       "    <tr style=\"text-align: right;\">\n",
       "      <th></th>\n",
       "      <th>escenario_vulnerabilidad_social</th>\n",
       "    </tr>\n",
       "  </thead>\n",
       "  <tbody>\n",
       "    <tr>\n",
       "      <th>1</th>\n",
       "      <td>0.2</td>\n",
       "    </tr>\n",
       "  </tbody>\n",
       "</table>\n",
       "</div>"
      ],
      "text/plain": [
       "   escenario_vulnerabilidad_social\n",
       "1                              0.2"
      ]
     },
     "execution_count": 67,
     "metadata": {},
     "output_type": "execute_result"
    }
   ],
   "source": [
    "fila_vuln_t = pd.DataFrame({'escenario_vulnerabilidad_social': [vuln_tratamiento]}, index= [1])\n",
    "fila_vuln_t "
   ]
  },
  {
   "cell_type": "code",
   "execution_count": 68,
   "id": "43b35a63",
   "metadata": {},
   "outputs": [
    {
     "data": {
      "text/html": [
       "<div>\n",
       "<style scoped>\n",
       "    .dataframe tbody tr th:only-of-type {\n",
       "        vertical-align: middle;\n",
       "    }\n",
       "\n",
       "    .dataframe tbody tr th {\n",
       "        vertical-align: top;\n",
       "    }\n",
       "\n",
       "    .dataframe thead th {\n",
       "        text-align: right;\n",
       "    }\n",
       "</style>\n",
       "<table border=\"1\" class=\"dataframe\">\n",
       "  <thead>\n",
       "    <tr style=\"text-align: right;\">\n",
       "      <th></th>\n",
       "      <th>paredes_ext_revocadas</th>\n",
       "    </tr>\n",
       "  </thead>\n",
       "  <tbody>\n",
       "    <tr>\n",
       "      <th>1</th>\n",
       "      <td>0.6</td>\n",
       "    </tr>\n",
       "  </tbody>\n",
       "</table>\n",
       "</div>"
      ],
      "text/plain": [
       "   paredes_ext_revocadas\n",
       "1                    0.6"
      ]
     },
     "execution_count": 68,
     "metadata": {},
     "output_type": "execute_result"
    }
   ],
   "source": [
    "fila_per_t = pd.DataFrame({'paredes_ext_revocadas': [paredes_ext_rev_tratamiento]}, index= [1])\n",
    "fila_per_t"
   ]
  },
  {
   "cell_type": "code",
   "execution_count": 69,
   "id": "23e99bc2",
   "metadata": {},
   "outputs": [],
   "source": [
    "# Crear un dataframe resumen del grupo tratamiento\n",
    "df_media_tratamiento = calcular_media_condicion(df_tratamiento_clean, dict_condiciones)\n",
    "df_media_std_tratamiento = calcular_media_std_lista(df_tratamiento_clean,lista_t)\n",
    "df_mean_tratamiento = pd.concat([fila_vuln_t, fila_per_t], axis= 1)\n"
   ]
  },
  {
   "cell_type": "code",
   "execution_count": 70,
   "id": "56907d3e",
   "metadata": {},
   "outputs": [],
   "source": [
    "#Resetear índices de los dataframes del grupo tratamiento para concatenarlos\n",
    "df4 = df_media_tratamiento.reset_index(drop=True)\n",
    "df5 = df_media_std_tratamiento.reset_index(drop=True)\n",
    "df6 = df_mean_tratamiento.reset_index(drop=True)\n"
   ]
  },
  {
   "cell_type": "code",
   "execution_count": 71,
   "id": "635d9bd2",
   "metadata": {},
   "outputs": [],
   "source": [
    "# Concatenar los dataframes para obtener el resumen estadístico del grupo tratamiento\n",
    "df_tratamiento_resumen = pd.concat([df4, df5, df6], axis=1)"
   ]
  },
  {
   "cell_type": "code",
   "execution_count": 72,
   "id": "43db88f5",
   "metadata": {},
   "outputs": [],
   "source": [
    "df_resumen_total = pd.concat([df_control_resumen, df_tratamiento_resumen], axis=0)"
   ]
  },
  {
   "cell_type": "code",
   "execution_count": 73,
   "id": "8430eb0e",
   "metadata": {},
   "outputs": [],
   "source": [
    "# Agregamos una columna nueva para aclarar las muestras\n",
    "df_resumen_total.insert(loc=0, column='Grupo', value=['Control', 'Tratamiento'])"
   ]
  },
  {
   "cell_type": "code",
   "execution_count": 74,
   "id": "c23ba6fd",
   "metadata": {},
   "outputs": [
    {
     "data": {
      "text/html": [
       "<div>\n",
       "<style scoped>\n",
       "    .dataframe tbody tr th:only-of-type {\n",
       "        vertical-align: middle;\n",
       "    }\n",
       "\n",
       "    .dataframe tbody tr th {\n",
       "        vertical-align: top;\n",
       "    }\n",
       "\n",
       "    .dataframe thead th {\n",
       "        text-align: right;\n",
       "    }\n",
       "</style>\n",
       "<table border=\"1\" class=\"dataframe\">\n",
       "  <thead>\n",
       "    <tr style=\"text-align: right;\">\n",
       "      <th></th>\n",
       "      <th>Grupo</th>\n",
       "      <th>media_sexo_dni_F</th>\n",
       "      <th>media_sexo_dni_M</th>\n",
       "      <th>media_relacion_de_parentezco_con_jefe_del_hogar_Soy jefa(e)</th>\n",
       "      <th>media_conurbano_interior_Conurbano</th>\n",
       "      <th>media_ingreso_anual_hogar</th>\n",
       "      <th>desv_ingreso_anual_hogar</th>\n",
       "      <th>media_edad</th>\n",
       "      <th>desv_edad</th>\n",
       "      <th>media_personas_por_ambiente</th>\n",
       "      <th>desv_personas_por_ambiente</th>\n",
       "      <th>escenario_vulnerabilidad_social</th>\n",
       "      <th>paredes_ext_revocadas</th>\n",
       "    </tr>\n",
       "  </thead>\n",
       "  <tbody>\n",
       "    <tr>\n",
       "      <th>0</th>\n",
       "      <td>Control</td>\n",
       "      <td>0.6</td>\n",
       "      <td>0.4</td>\n",
       "      <td>0.5</td>\n",
       "      <td>0.0</td>\n",
       "      <td>2943501.1</td>\n",
       "      <td>3019208.7</td>\n",
       "      <td>38.4</td>\n",
       "      <td>10.1</td>\n",
       "      <td>2.5</td>\n",
       "      <td>3.0</td>\n",
       "      <td>0.1</td>\n",
       "      <td>0.6</td>\n",
       "    </tr>\n",
       "    <tr>\n",
       "      <th>0</th>\n",
       "      <td>Tratamiento</td>\n",
       "      <td>0.6</td>\n",
       "      <td>0.4</td>\n",
       "      <td>0.7</td>\n",
       "      <td>0.0</td>\n",
       "      <td>2368529.3</td>\n",
       "      <td>6601576.0</td>\n",
       "      <td>39.9</td>\n",
       "      <td>27.9</td>\n",
       "      <td>2.4</td>\n",
       "      <td>2.5</td>\n",
       "      <td>0.2</td>\n",
       "      <td>0.6</td>\n",
       "    </tr>\n",
       "  </tbody>\n",
       "</table>\n",
       "</div>"
      ],
      "text/plain": [
       "         Grupo  media_sexo_dni_F  media_sexo_dni_M  \\\n",
       "0      Control               0.6               0.4   \n",
       "0  Tratamiento               0.6               0.4   \n",
       "\n",
       "   media_relacion_de_parentezco_con_jefe_del_hogar_Soy jefa(e)  \\\n",
       "0                                                0.5             \n",
       "0                                                0.7             \n",
       "\n",
       "   media_conurbano_interior_Conurbano  media_ingreso_anual_hogar  \\\n",
       "0                                 0.0                  2943501.1   \n",
       "0                                 0.0                  2368529.3   \n",
       "\n",
       "   desv_ingreso_anual_hogar  media_edad  desv_edad  \\\n",
       "0                 3019208.7        38.4       10.1   \n",
       "0                 6601576.0        39.9       27.9   \n",
       "\n",
       "   media_personas_por_ambiente  desv_personas_por_ambiente  \\\n",
       "0                          2.5                         3.0   \n",
       "0                          2.4                         2.5   \n",
       "\n",
       "   escenario_vulnerabilidad_social  paredes_ext_revocadas  \n",
       "0                              0.1                    0.6  \n",
       "0                              0.2                    0.6  "
      ]
     },
     "execution_count": 74,
     "metadata": {},
     "output_type": "execute_result"
    }
   ],
   "source": [
    "df_resumen_total"
   ]
  },
  {
   "cell_type": "markdown",
   "id": "aad89047",
   "metadata": {},
   "source": [
    "#### --------------------------------------------ACÁ TERMINA EL RESUMEN ESTADÍSTICO POR CADA GRUPO USANDO MUESTRA---------------------------------------"
   ]
  },
  {
   "cell_type": "code",
   "execution_count": 75,
   "id": "0e846d8c",
   "metadata": {},
   "outputs": [],
   "source": [
    "# Crear vector de identificadores\n"
   ]
  },
  {
   "cell_type": "markdown",
   "id": "fce29640",
   "metadata": {},
   "source": [
    "## ETAPA 5: PLOT de Distribución de edad por estado"
   ]
  },
  {
   "cell_type": "code",
   "execution_count": 76,
   "id": "745f90c0",
   "metadata": {},
   "outputs": [
    {
     "data": {
      "image/png": "[encoded data removed]",
      "text/plain": [
       "<Figure size 1400x600 with 2 Axes>"
      ]
     },
     "metadata": {},
     "output_type": "display_data"
    }
   ],
   "source": [
    "# Configurar bins\n",
    "bins = np.arange(0, 95, 5)\n",
    "bin_labels = [f'{i}-{i+5}' for i in bins[:-1]]\n",
    "\n",
    "# Paleta categórica apta para daltónicos\n",
    "palette = sns.color_palette(\"colorblind\", len(bins) - 1)\n",
    "\n",
    "# Crear figura\n",
    "fig, axes = plt.subplots(1, 2, figsize=(14, 6), sharey=True)\n",
    "grupos = ['Control', 'Tratamiento']\n",
    "\n",
    "# Limpiar valores fuera del rango lógico (0 a 100)\n",
    "formularios_estudio = formularios_estudio[(formularios_estudio['edad'] >= 0) & (formularios_estudio['edad'] <= 100)]\n",
    "\n",
    "for i, grupo in enumerate(grupos):\n",
    "    ax = axes[i]\n",
    "    subset = formularios_estudio[formularios_estudio['grupo'] == grupo]\n",
    "    edades = subset['edad']\n",
    "\n",
    "    # Asignar edades a bins\n",
    "    bin_indices = np.digitize(edades, bins) - 1\n",
    "    bin_indices = np.clip(bin_indices, 0, len(palette) - 1)  # Evitar out of range\n",
    "    \n",
    "    # Contar frecuencias por bin\n",
    "    counts = np.zeros(len(bins) - 1)\n",
    "    for idx in bin_indices:\n",
    "        counts[idx] += 1\n",
    "    \n",
    "    # Dibujar barras para asignar color categórico\n",
    "    for j, count in enumerate(counts):\n",
    "        ax.bar(bins[j], count, width=5, align='edge',\n",
    "               color=palette[j], edgecolor='white', linewidth=1.2)\n",
    "    \n",
    "    # mediana\n",
    "    mediana = np.median(edades)\n",
    "    ax.axvline(mediana, color='black', linestyle='--', linewidth=2, label=f'Mediana: {mediana:.1f}')\n",
    "    \n",
    "    # Estética\n",
    "    ax.set_title(f'Distribución de Edad - {grupo}', fontsize=14)\n",
    "    ax.set_xlabel('Edad', fontsize=12)\n",
    "    ax.set_xlim(0, 90)\n",
    "    ax.set_xticks(np.arange(0, 95, 10))\n",
    "    ax.grid(axis='y', linestyle='--', alpha=0.6)\n",
    "    if i == 0:\n",
    "        ax.set_ylabel('Frecuencia', fontsize=12)\n",
    "    ax.legend(frameon=True)\n",
    "\n",
    "# Crear leyenda de colores por bin\n",
    "handles = [plt.Rectangle((0,0),1,1, color=palette[i]) for i in range(len(bin_labels))]\n",
    "fig.legend(handles, bin_labels, title='Rango Etario', bbox_to_anchor=(1.05, 0.5), loc='center left')\n",
    "\n",
    "# Título\n",
    "plt.suptitle('Distribución de Edad por Grupo', fontsize=16, y=1.03)\n",
    "plt.tight_layout()\n",
    "plt.subplots_adjust(right=0.85)\n",
    "\n",
    "plt.show()"
   ]
  },
  {
   "cell_type": "code",
   "execution_count": 77,
   "id": "9c2c7a54",
   "metadata": {},
   "outputs": [
    {
     "data": {
      "image/png": "[encoded data removed]",
      "text/plain": [
       "<Figure size 1400x600 with 2 Axes>"
      ]
     },
     "metadata": {},
     "output_type": "display_data"
    }
   ],
   "source": [
    "# Configurar bins\n",
    "bins = np.arange(0, 95, 5)\n",
    "bin_labels = [f'{i}-{i+5}' for i in bins[:-1]]\n",
    "\n",
    "# Paleta categórica apta para daltónicos\n",
    "palette = sns.color_palette(\"colorblind\", len(bins) - 1)\n",
    "\n",
    "# Crear figura\n",
    "fig, axes = plt.subplots(1, 2, figsize=(14, 6), sharey=True)\n",
    "grupos = ['Control', 'Tratamiento']\n",
    "\n",
    "# Limpiar valores fuera del rango lógico (0 a 100)\n",
    "formularios_estudio = formularios_estudio[(formularios_estudio['edad'] >= 0) & (formularios_estudio['edad'] <= 100)]\n",
    "\n",
    "for i, grupo in enumerate(grupos):\n",
    "    ax = axes[i]\n",
    "    subset = formularios_estudio[formularios_estudio['grupo'] == grupo]\n",
    "    edades = subset['edad'].dropna().astype(float).values\n",
    "\n",
    "    \n",
    "    # Asignar edades a bins\n",
    "    bin_indices = np.digitize(edades, bins) - 1\n",
    "    bin_indices = np.clip(bin_indices, 0, len(palette) - 1)  # Evitar out of range\n",
    "    \n",
    "    # Contar frecuencias por bin\n",
    "    counts = np.zeros(len(bins) - 1)\n",
    "    for idx in bin_indices:\n",
    "        counts[idx] += 1\n",
    "    \n",
    "\n",
    "    # Dibujar barras para asignar color categórico\n",
    "    for j, count in enumerate(counts):\n",
    "        ax.bar(bins[j], count, width=5, align='edge',\n",
    "               color=palette[j], edgecolor='white', linewidth=1.2)\n",
    "\n",
    "\n",
    "\n",
    "    # KDE suavizada \n",
    "    kde = gaussian_kde(edades, bw_method='scott')  \n",
    "    x_vals = np.linspace(min(edades), max(edades), 200)\n",
    "    y_vals = kde(x_vals)\n",
    "\n",
    "    # Escalar la KDE a frecuencia absoluta\n",
    "    bin_width = bins[1] - bins[0]\n",
    "    y_vals *= len(edades) * bin_width\n",
    "\n",
    "    ax.plot(x_vals, y_vals, color='deeppink', linewidth=2, label='KDE')\n",
    "\n",
    "\n",
    "    # mediana\n",
    "    mediana = np.median(edades)\n",
    "    ax.axvline(mediana, color='black', linestyle='--', linewidth=2, label=f'Mediana: {mediana:.1f}')\n",
    "    \n",
    "    # Estética\n",
    "    ax.set_title(f'Distribución de Edad - {grupo}', fontsize=14)\n",
    "    ax.set_xlabel('Edad', fontsize=12)\n",
    "    ax.set_xlim(0, 90)\n",
    "    ax.set_xticks(np.arange(0, 95, 10))\n",
    "    ax.grid(axis='y', linestyle='--', alpha=0.6)\n",
    "    if i == 0:\n",
    "        ax.set_ylabel('Frecuencia', fontsize=12)\n",
    "    ax.legend(frameon=True)\n",
    "\n",
    "# Crear leyenda de colores por bin\n",
    "handles = [plt.Rectangle((0,0),1,1, color=palette[i]) for i in range(len(bin_labels))]\n",
    "fig.legend(handles, bin_labels, title='Rango Etario', bbox_to_anchor=(1.05, 0.5), loc='center left')\n",
    "\n",
    "# Título\n",
    "plt.suptitle('Distribución de Edad por Grupo', fontsize=16, y=1.03)\n",
    "plt.tight_layout()\n",
    "plt.subplots_adjust(right=0.85)\n",
    "\n",
    "plt.show()"
   ]
  },
  {
   "cell_type": "code",
   "execution_count": 78,
   "id": "810037f2",
   "metadata": {},
   "outputs": [
    {
     "data": {
      "image/png": "[encoded data removed]",
      "text/plain": [
       "<Figure size 1400x600 with 2 Axes>"
      ]
     },
     "metadata": {},
     "output_type": "display_data"
    }
   ],
   "source": [
    "# Configurar bins\n",
    "bins = np.arange(0, 95, 5)\n",
    "bin_labels = [f'{i}-{i+5}' for i in bins[:-1]]\n",
    "\n",
    "# Paleta categórica apta para daltónicos\n",
    "palette = sns.color_palette(\"colorblind\", len(bins) - 1)\n",
    "\n",
    "# Crear figura\n",
    "fig, axes = plt.subplots(1, 2, figsize=(14, 6), sharey=True)\n",
    "grupos = ['Control', 'Tratamiento']\n",
    "\n",
    "# Limpiar valores fuera del rango lógico (0 a 100)\n",
    "formularios_estudio = formularios_estudio[(formularios_estudio['edad'] >= 0) & (formularios_estudio['edad'] <= 100)]\n",
    "\n",
    "colores_kde = ['#FF7F50', '#6A5ACD']\n",
    "\n",
    "for i, grupo in enumerate(grupos):\n",
    "    ax = axes[i]\n",
    "    subset = formularios_estudio[formularios_estudio['grupo'] == grupo]\n",
    "    edades = subset['edad'].dropna().astype(float).values\n",
    "\n",
    "         \n",
    "    # Asignar edades a bins\n",
    "    bin_indices = np.digitize(edades, bins) - 1\n",
    "    bin_indices = np.clip(bin_indices, 0, len(palette) - 1)  # Evitar out of range\n",
    "    \n",
    "    # Contar frecuencias por bin\n",
    "    counts = np.zeros(len(bins) - 1)\n",
    "    for idx in bin_indices:\n",
    "        counts[idx] += 1\n",
    "    \n",
    "    # Dibujar barras para asignar color categórico\n",
    "    for j, count in enumerate(counts):\n",
    "        ax.bar(bins[j], count, width=5, align='edge',\n",
    "               color=palette[j], edgecolor='white', linewidth=1.2)\n",
    "\n",
    "\n",
    "    # KDE suavizada \n",
    "    kde = gaussian_kde(edades, bw_method='scott')  \n",
    "    x_vals = np.linspace(min(edades), max(edades), 200)\n",
    "    y_vals = kde(x_vals)\n",
    "\n",
    "    # Escalar la KDE a frecuencia absoluta\n",
    "    bin_width = bins[1] - bins[0]\n",
    "    y_vals *= len(edades) * bin_width\n",
    "\n",
    "    ax.plot(x_vals, y_vals, color='deeppink', linewidth=2, label='KDE')\n",
    "\n",
    "    #KDE área\n",
    "    ax.fill_between(x_vals, y_vals, color=colores_kde[i], alpha=0.8, label='Área KDE')\n",
    "\n",
    "\n",
    "    # mediana\n",
    "    mediana = np.median(edades)\n",
    "    ax.axvline(mediana, color='black', linestyle='--', linewidth=2, label=f'Mediana: {mediana:.1f}')\n",
    "    \n",
    "    # Estética\n",
    "    ax.set_title(f'Distribución de Edad - {grupo}', fontsize=14)\n",
    "    ax.set_xlabel('Edad', fontsize=12)\n",
    "    ax.set_xlim(0, 90)\n",
    "    ax.set_xticks(np.arange(0, 95, 10))\n",
    "    ax.grid(axis='y', linestyle='--', alpha=0.6)\n",
    "    if i == 0:\n",
    "        ax.set_ylabel('Frecuencia', fontsize=12)\n",
    "    ax.legend(frameon=True)\n",
    "\n",
    "# Crear leyenda de colores por bin\n",
    "handles = [plt.Rectangle((0,0),1,1, color=palette[i]) for i in range(len(bin_labels))]\n",
    "fig.legend(handles, bin_labels, title='Rango Etario', bbox_to_anchor=(1.05, 0.5), loc='center left')\n",
    "\n",
    "# Título\n",
    "plt.suptitle('Distribución de Edad por Grupo', fontsize=16, y=1.03)\n",
    "plt.tight_layout()\n",
    "plt.subplots_adjust(right=0.85)\n",
    "\n",
    "plt.show()"
   ]
  },
  {
   "cell_type": "code",
   "execution_count": 79,
   "id": "e8dab11d",
   "metadata": {},
   "outputs": [],
   "source": [
    "# mostrar plot de áreas KDE superpuestas"
   ]
  },
  {
   "cell_type": "markdown",
   "id": "358e246d",
   "metadata": {},
   "source": [
    "## ETAPA 6 : MUESTRAS ALEATORIAS SIMPLES (ingreso anual hogar)"
   ]
  },
  {
   "cell_type": "code",
   "execution_count": 80,
   "id": "9ebba207",
   "metadata": {},
   "outputs": [
    {
     "data": {
      "text/plain": [
       "250021    9000000\n",
       "249353    2750000\n",
       "250430    2500000\n",
       "249236    2090000\n",
       "249389    4082953\n",
       "           ...   \n",
       "249831    3000000\n",
       "250465    1500000\n",
       "250497    4345011\n",
       "250146    2158000\n",
       "249716    2670000\n",
       "Name: ingreso_anual_hogar, Length: 1000, dtype: object"
      ]
     },
     "execution_count": 80,
     "metadata": {},
     "output_type": "execute_result"
    }
   ],
   "source": [
    "mas_control['ingreso_anual_hogar']"
   ]
  },
  {
   "cell_type": "code",
   "execution_count": 81,
   "id": "1ef91d98",
   "metadata": {},
   "outputs": [],
   "source": [
    "# Función para obtener una muestra bootstrap\n",
    "def obtener_muestra_bootstrap(df_sample: pd.DataFrame, column_df_sample: str, random_state: int = 42) -> np.ndarray:\n",
    "    np.random.seed(random_state)\n",
    "    return np.random.choice(df_sample[column_df_sample], size=len(df_sample), replace=True)\n"
   ]
  },
  {
   "cell_type": "code",
   "execution_count": 82,
   "id": "4d13b76a",
   "metadata": {},
   "outputs": [],
   "source": [
    "muestra_boots_c = obtener_muestra_bootstrap(mas_control, 'ingreso_anual_hogar')"
   ]
  },
  {
   "cell_type": "code",
   "execution_count": 83,
   "id": "8dde5ace",
   "metadata": {},
   "outputs": [],
   "source": [
    "muestra_boots_t = obtener_muestra_bootstrap(mas_tratamiento, 'ingreso_anual_hogar')"
   ]
  },
  {
   "cell_type": "code",
   "execution_count": 84,
   "id": "e002e056",
   "metadata": {},
   "outputs": [],
   "source": [
    "# Función que calcula la media de una lista de datos obtenido por bootstrapping\n",
    "def calcular_media_bootstrap(bootstrap_samples: np.ndarray) -> float:\n",
    "    return np.mean(bootstrap_samples, axis=0)"
   ]
  },
  {
   "cell_type": "code",
   "execution_count": 85,
   "id": "956a5cd4",
   "metadata": {},
   "outputs": [],
   "source": [
    "# Calcular la media de las muestras bootstrap del grupo control\n",
    "media_control_iah = calcular_media_bootstrap(muestra_boots_c)"
   ]
  },
  {
   "cell_type": "code",
   "execution_count": 86,
   "id": "689471a1",
   "metadata": {},
   "outputs": [],
   "source": [
    "# Calcular la media de las muestras bootstrap del grupo tratamiento\n",
    "media_tratamiento_iah = calcular_media_bootstrap(muestra_boots_t)"
   ]
  },
  {
   "cell_type": "code",
   "execution_count": 87,
   "id": "55cf7340",
   "metadata": {},
   "outputs": [],
   "source": [
    "#Evaluar qué tan representativa es cada muestra usando bootstrapping \n",
    "# en la variable ingreso_anual_hogar calculando la media de cada muestra de grupo\n",
    "\n",
    "# Grupo Control\n",
    "#bootstrap_meds_c = []\n",
    "#for i in range(10000):\n",
    "#    sample = df_control_clean.sample(n=len(mas_control), replace=True)\n",
    "#    bootstrap_meds_c.append(sample['ingreso_anual_hogar'].mean())\n",
    "#    "
   ]
  },
  {
   "cell_type": "code",
   "execution_count": 88,
   "id": "7e201bc9",
   "metadata": {},
   "outputs": [],
   "source": [
    " # Grupo Tratamiento\n",
    "#bootstrap_meds_t = []\n",
    "#for i in range(10000):\n",
    "#    sample = df_tratamiento_clean.sample(n=len(mas_tratamiento), replace=True)\n",
    "#    bootstrap_meds_t.append(sample['ingreso_anual_hogar'].mean())"
   ]
  },
  {
   "cell_type": "code",
   "execution_count": 89,
   "id": "5fd6482c",
   "metadata": {},
   "outputs": [
    {
     "data": {
      "text/plain": [
       "np.float64(2648588.3485049834)"
      ]
     },
     "execution_count": 89,
     "metadata": {},
     "output_type": "execute_result"
    }
   ],
   "source": [
    "#Calcular la media poblacional del ingreso anual del hogar del dataset original\n",
    "media_poblacional_iah = formularios_estudio['ingreso_anual_hogar'].mean()\n",
    "media_poblacional_iah  "
   ]
  },
  {
   "cell_type": "markdown",
   "id": "3d5c21df",
   "metadata": {},
   "source": [
    "### *Coeficiente de representatividad de la muestra en grupo control y en grupo tratamiento*"
   ]
  },
  {
   "cell_type": "code",
   "execution_count": 90,
   "id": "36ba0161",
   "metadata": {},
   "outputs": [],
   "source": [
    "# Error absoluto de la media del grupo control y la población\n",
    "error_absoluto_c = abs(media_control_iah - media_poblacional_iah)"
   ]
  },
  {
   "cell_type": "code",
   "execution_count": 91,
   "id": "4bb51148",
   "metadata": {},
   "outputs": [
    {
     "data": {
      "text/plain": [
       "np.float64(0.10173286635769921)"
      ]
     },
     "execution_count": 91,
     "metadata": {},
     "output_type": "execute_result"
    }
   ],
   "source": [
    "# Error relativo de la media del grupo control y la población\n",
    "error_relativo_c = error_absoluto_c / media_poblacional_iah\n",
    "error_relativo_c"
   ]
  },
  {
   "cell_type": "code",
   "execution_count": 92,
   "id": "dd830b56",
   "metadata": {},
   "outputs": [],
   "source": [
    "# Error absoluto de la media del grupo tratamiento y la población\n",
    "error_absoluto_t = abs(media_tratamiento_iah - media_poblacional_iah)"
   ]
  },
  {
   "cell_type": "code",
   "execution_count": 93,
   "id": "9dd7b067",
   "metadata": {},
   "outputs": [
    {
     "data": {
      "text/plain": [
       "np.float64(0.15570561719708753)"
      ]
     },
     "execution_count": 93,
     "metadata": {},
     "output_type": "execute_result"
    }
   ],
   "source": [
    "# Error relativo de la media del grupo tratamiento y la población\n",
    "error_relativo_t = error_absoluto_t / media_poblacional_iah\n",
    "error_relativo_t"
   ]
  },
  {
   "cell_type": "code",
   "execution_count": 122,
   "id": "7d45af67",
   "metadata": {},
   "outputs": [
    {
     "data": {
      "text/html": [
       "<div>\n",
       "<style scoped>\n",
       "    .dataframe tbody tr th:only-of-type {\n",
       "        vertical-align: middle;\n",
       "    }\n",
       "\n",
       "    .dataframe tbody tr th {\n",
       "        vertical-align: top;\n",
       "    }\n",
       "\n",
       "    .dataframe thead th {\n",
       "        text-align: right;\n",
       "    }\n",
       "</style>\n",
       "<table border=\"1\" class=\"dataframe\">\n",
       "  <thead>\n",
       "    <tr style=\"text-align: right;\">\n",
       "      <th></th>\n",
       "      <th>Coeficiente de representatividad por grupo(iah)</th>\n",
       "    </tr>\n",
       "  </thead>\n",
       "  <tbody>\n",
       "    <tr>\n",
       "      <th>0</th>\n",
       "      <td>2918036.833</td>\n",
       "    </tr>\n",
       "    <tr>\n",
       "      <th>1</th>\n",
       "      <td>2236188.265</td>\n",
       "    </tr>\n",
       "  </tbody>\n",
       "</table>\n",
       "</div>"
      ],
      "text/plain": [
       "   Coeficiente de representatividad por grupo(iah)\n",
       "0                                      2918036.833\n",
       "1                                      2236188.265"
      ]
     },
     "execution_count": 122,
     "metadata": {},
     "output_type": "execute_result"
    }
   ],
   "source": [
    "df_coef_repr_iah = pd.DataFrame([media_control_iah, media_tratamiento_iah])\n",
    "df_coef_repr_iah.columns = ['Coeficiente de representatividad por grupo(iah)']\n",
    "df_coef_repr_iah"
   ]
  },
  {
   "cell_type": "markdown",
   "id": "c6d4f5cf",
   "metadata": {},
   "source": [
    "### *Visualizar la distribución muestral de las medias de ambos grupos respecto a la variable ingreso_anual_hogar*\n"
   ]
  },
  {
   "cell_type": "code",
   "execution_count": 95,
   "id": "126ebb23",
   "metadata": {},
   "outputs": [],
   "source": [
    "# Asignar nombres a los grupos de muestreo\n",
    "df_resultados_totales.index = ['Control', 'Tratamiento']"
   ]
  },
  {
   "cell_type": "code",
   "execution_count": 96,
   "id": "ef46bb21",
   "metadata": {},
   "outputs": [],
   "source": [
    "# Renombrar la columna para mayor claridad\n",
    "df_resultados_totales.columns = ['Media Ingreso Anual Hogar']"
   ]
  },
  {
   "cell_type": "code",
   "execution_count": 97,
   "id": "4c253dd3",
   "metadata": {},
   "outputs": [
    {
     "data": {
      "text/html": [
       "<div>\n",
       "<style scoped>\n",
       "    .dataframe tbody tr th:only-of-type {\n",
       "        vertical-align: middle;\n",
       "    }\n",
       "\n",
       "    .dataframe tbody tr th {\n",
       "        vertical-align: top;\n",
       "    }\n",
       "\n",
       "    .dataframe thead th {\n",
       "        text-align: right;\n",
       "    }\n",
       "</style>\n",
       "<table border=\"1\" class=\"dataframe\">\n",
       "  <thead>\n",
       "    <tr style=\"text-align: right;\">\n",
       "      <th></th>\n",
       "      <th>Media Ingreso Anual Hogar</th>\n",
       "    </tr>\n",
       "  </thead>\n",
       "  <tbody>\n",
       "    <tr>\n",
       "      <th>Control</th>\n",
       "      <td>2918036.833</td>\n",
       "    </tr>\n",
       "    <tr>\n",
       "      <th>Tratamiento</th>\n",
       "      <td>2236188.265</td>\n",
       "    </tr>\n",
       "  </tbody>\n",
       "</table>\n",
       "</div>"
      ],
      "text/plain": [
       "             Media Ingreso Anual Hogar\n",
       "Control                    2918036.833\n",
       "Tratamiento                2236188.265"
      ]
     },
     "execution_count": 97,
     "metadata": {},
     "output_type": "execute_result"
    }
   ],
   "source": [
    "df_resultados_totales"
   ]
  },
  {
   "cell_type": "code",
   "execution_count": 98,
   "id": "57ff70fd",
   "metadata": {},
   "outputs": [],
   "source": [
    "# Guardar extracción de datos respecto al ingreso anual del hogar por grupo\n",
    "grupo_control_iah = formularios_estudio[formularios_estudio['grupo'] == 'Control']['ingreso_anual_hogar'] \n",
    "grupo_tratamiento_iah = formularios_estudio[formularios_estudio['grupo'] == 'Tratamiento']['ingreso_anual_hogar']"
   ]
  },
  {
   "cell_type": "code",
   "execution_count": 99,
   "id": "d1148499",
   "metadata": {},
   "outputs": [
    {
     "data": {
      "image/png": "[encoded data removed]",
      "text/plain": [
       "<Figure size 1000x600 with 1 Axes>"
      ]
     },
     "metadata": {},
     "output_type": "display_data"
    }
   ],
   "source": [
    "#Visualizar la distribución muestral de cada grupo \n",
    "plt.figure(figsize=(10, 6))\n",
    "sns.kdeplot(grupo_control_iah, \n",
    "           label='Control', fill=True, alpha=0.6)\n",
    "sns.kdeplot(grupo_tratamiento_iah, \n",
    "           label='Tratamiento', fill=True, alpha=0.6)\n",
    "plt.title('Distribución muestral de grupo control vs grupo tratamiento')\n",
    "plt.xlabel('Valor de la métrica')\n",
    "plt.ylabel('Densidad')\n",
    "plt.legend()\n",
    "plt.grid(True)\n",
    "plt.tight_layout()\n",
    "plt.show()"
   ]
  },
  {
   "cell_type": "code",
   "execution_count": 100,
   "id": "d131c01a",
   "metadata": {},
   "outputs": [],
   "source": [
    "# Calcular percentiles del ingreso anual del hogar para cada grupo\n",
    "ic_control = np.percentile(grupo_control_iah, [2.5, 97.5])\n",
    "ic_tratamiento = np.percentile(grupo_tratamiento_iah, [2.5, 97.5])\n",
    "\n",
    "# TODO: ver lo del sigma"
   ]
  },
  {
   "cell_type": "code",
   "execution_count": 101,
   "id": "cf5d6e90",
   "metadata": {},
   "outputs": [
    {
     "data": {
      "text/plain": [
       "(array([14549.999999999996, 10000000.0], dtype=object),\n",
       " array([708.5000000000001, 10000000.0], dtype=object))"
      ]
     },
     "execution_count": 101,
     "metadata": {},
     "output_type": "execute_result"
    }
   ],
   "source": [
    "ic_control, ic_tratamiento"
   ]
  },
  {
   "cell_type": "code",
   "execution_count": 102,
   "metadata": {},
   "outputs": [
    {
     "data": {
      "image/png": "[encoded data removed]",
      "text/plain": [
       "<Figure size 1000x600 with 1 Axes>"
      ]
     },
     "metadata": {},
     "output_type": "display_data"
    }
   ],
   "source": [
    "#visualizar el Intervalo de confianza del 95%\n",
    "plt.figure(figsize=(10, 6))\n",
    "\n",
    "# Densidades\n",
    "sns.kdeplot(grupo_control_iah, label='Control', fill=True, alpha=0.4, color='blue')\n",
    "sns.kdeplot(grupo_tratamiento_iah, label='Tratamiento', fill=True, alpha=0.4, color='orange')\n",
    "\n",
    "# Intervalos de confianza\n",
    "plt.axvline(ic_control[0], color='blue', linestyle='--', label='IC 95% Control')\n",
    "plt.axvline(ic_control[1], color='blue', linestyle='--')\n",
    "\n",
    "plt.axvline(ic_tratamiento[0], color='orange', linestyle='--', label='IC 95% Tratamiento')\n",
    "plt.axvline(ic_tratamiento[1], color='orange', linestyle='--')\n",
    "\n",
    "# Opcional: medias\n",
    "plt.axvline(grupo_control_iah.mean(), color='red', linestyle='-', linewidth=1, label='Media Control')\n",
    "plt.axvline(grupo_tratamiento_iah.mean(), color='red', linestyle='-', linewidth=1, label='Media Tratamiento')\n",
    "\n",
    "plt.title('Distribuciones con Intervalos de Confianza del 95%')\n",
    "plt.xlabel('Ingreso Anual del Hogar')\n",
    "plt.ylabel('Densidad')\n",
    "plt.legend()\n",
    "plt.grid(True)\n",
    "plt.tight_layout()\n",
    "plt.show()\n"
   ]
  },
  {
   "cell_type": "code",
   "execution_count": 103,
   "id": "bcd434a1",
   "metadata": {},
   "outputs": [
    {
     "data": {
      "image/png": "[encoded data removed]",
      "text/plain": [
       "<Figure size 1200x800 with 1 Axes>"
      ]
     },
     "metadata": {},
     "output_type": "display_data"
    }
   ],
   "source": [
    "plt.figure(figsize=(12, 8))\n",
    "sns.kdeplot(grupo_control_iah, label='Control', fill=True, alpha=0.4, color='blue')\n",
    "sns.kdeplot(grupo_tratamiento_iah, label='Tratamiento', fill=True, alpha=0.4, color='orange')\n",
    "\n",
    "# Ajustar límites del eje x para hacer zoom\n",
    "percentil_5 = np.percentile(list(grupo_control_iah) + list(grupo_tratamiento_iah), 5)\n",
    "percentil_95 = np.percentile(list(grupo_control_iah) + list(grupo_tratamiento_iah), 95)\n",
    "plt.xlim(percentil_5, percentil_95)\n",
    "\n",
    "plt.axvline(grupo_control_iah.mean(), color='blue', linestyle='--', label='Media Control')\n",
    "plt.axvline(grupo_tratamiento_iah.mean(), color='orange', linestyle='--', label='Media Tratamiento')\n",
    "plt.title('Distribuciones (Zoom al 90% central de los datos)')\n",
    "plt.legend()\n",
    "plt.show()"
   ]
  },
  {
   "cell_type": "markdown",
   "id": "61120b71",
   "metadata": {},
   "source": [
    "### ¿El IC incluye el '0'?\n",
    "\n",
    "Recordar que si el IC: [2.5, 7.8] es significativo, hay diferencia.\n",
    "\n",
    "El análisis de bootstrap de 10,000 muestras reveló una diferencia de medianas entre tratamiento y control con un intervalo de confianza del 95% entre 2.5 y 7.8. Como el IC no incluye al 0, concluimos que el tratamiento tuvo un efecto estadísticamente significativo (porque los IC no se solapan) y positivo (porque movió la métrica en la dirección deseada). Esta diferencia sugiere que la intervención fue efectiva para mejorar el resultado medido. "
   ]
  },
  {
   "cell_type": "markdown",
   "id": "b31d9fb0",
   "metadata": {},
   "source": [
    "### *Calcular el Intervalo de Confianza de la Diferencia de Medias sobre ingreso anual hogar*"
   ]
  },
  {
   "cell_type": "code",
   "execution_count": 104,
   "id": "a3479b7d",
   "metadata": {},
   "outputs": [],
   "source": [
    "# Crear las muestras bootstrap\n",
    "n_bootstrap = 10000\n",
    "dif_bootstrap = []"
   ]
  },
  {
   "cell_type": "code",
   "execution_count": 117,
   "id": "f5d6cd68",
   "metadata": {},
   "outputs": [],
   "source": [
    "# Realizar el bootstrap sobre el parámetro ingreso anual hogar de cada grupo\n",
    "for i in range(n_bootstrap):\n",
    "    # Muestra bootstrap del grupo control\n",
    "    muestra_control_iah = np.random.choice(grupo_control_iah, size=len(grupo_control_iah), replace=True)\n",
    "    # Muestra bootstrap del grupo tratamiento\n",
    "    muestra_tratamiento_iah = np.random.choice(grupo_tratamiento_iah, size=len(grupo_tratamiento_iah), replace=True)\n",
    "\n",
    "    # Calcular diferencia de medias para esta muestra\n",
    "    diferencia = np.mean(muestra_tratamiento_iah) - np.mean(muestra_control_iah)\n",
    "    dif_bootstrap.append(diferencia)"
   ]
  },
  {
   "cell_type": "code",
   "execution_count": 118,
   "id": "46232f46",
   "metadata": {},
   "outputs": [
    {
     "name": "stdout",
     "output_type": "stream",
     "text": [
      "IC 95% para la diferencia de medias: (-878371.31, -158914.79)\n"
     ]
    }
   ],
   "source": [
    "# Calcular intervalo de confianza\n",
    "ci_lower = np.percentile(dif_bootstrap, 2.5)\n",
    "ci_upper = np.percentile(dif_bootstrap, 97.5)\n",
    "\n",
    "print(f\"IC 95% para la diferencia de medias: ({ci_lower:.2f}, {ci_upper:.2f})\")"
   ]
  },
  {
   "cell_type": "code",
   "execution_count": null,
   "id": "5e0ee937",
   "metadata": {},
   "outputs": [],
   "source": []
  },
  {
   "cell_type": "code",
   "execution_count": null,
   "id": "d8843a07",
   "metadata": {},
   "outputs": [],
   "source": []
  },
  {
   "cell_type": "code",
   "execution_count": null,
   "id": "b8f444d1",
   "metadata": {},
   "outputs": [],
   "source": []
  },
  {
   "cell_type": "code",
   "execution_count": null,
   "id": "67e1ca46",
   "metadata": {},
   "outputs": [],
   "source": []
  },
  {
   "cell_type": "code",
   "execution_count": null,
   "metadata": {},
   "outputs": [],
   "source": []
  },
  {
   "cell_type": "code",
   "execution_count": null,
   "id": "5389ee88",
   "metadata": {},
   "outputs": [],
   "source": []
  },
  {
   "cell_type": "code",
   "execution_count": null,
   "id": "7f2f4b6c",
   "metadata": {},
   "outputs": [],
   "source": []
  },
  {
   "cell_type": "code",
   "execution_count": 119,
   "id": "f9793991",
   "metadata": {},
   "outputs": [
    {
     "name": "stdout",
     "output_type": "stream",
     "text": [
      "Control - valores faltantes:\n",
      "2\n",
      "Tratamiento - valores faltantes:\n",
      "0\n"
     ]
    }
   ],
   "source": [
    "print(\"Control - valores faltantes:\")\n",
    "print(df_control_clean['ingreso_anual_hogar'].isna().sum())\n",
    "\n",
    "print(\"Tratamiento - valores faltantes:\")\n",
    "print(df_tratamiento_clean['ingreso_anual_hogar'].isna().sum())\n"
   ]
  },
  {
   "cell_type": "code",
   "execution_count": 120,
   "id": "46cb6784",
   "metadata": {},
   "outputs": [
    {
     "name": "stdout",
     "output_type": "stream",
     "text": [
      "Control - resumen estadístico:\n",
      "count        1472\n",
      "unique        599\n",
      "top       3000000\n",
      "freq           66\n",
      "Name: ingreso_anual_hogar, dtype: int64\n",
      "\n",
      "Tratamiento - resumen estadístico:\n",
      "count         1542\n",
      "unique         578\n",
      "top       10000000\n",
      "freq            63\n",
      "Name: ingreso_anual_hogar, dtype: int64\n"
     ]
    }
   ],
   "source": [
    "print(\"Control - resumen estadístico:\")\n",
    "print(df_control_clean['ingreso_anual_hogar'].describe())\n",
    "\n",
    "print(\"\\nTratamiento - resumen estadístico:\")\n",
    "print(df_tratamiento_clean['ingreso_anual_hogar'].describe())\n"
   ]
  },
  {
   "cell_type": "code",
   "execution_count": null,
   "id": "0d8b95f9",
   "metadata": {},
   "outputs": [],
   "source": [
    "print(f\"N control: {len(df_control_clean)}\")\n",
    "print(f\"N tratamiento: {len(df_tratamiento_clean)}\")\n"
   ]
  },
  {
   "cell_type": "code",
   "execution_count": null,
   "id": "31ae735e",
   "metadata": {},
   "outputs": [],
   "source": [
    "# Unir al análisis total para comparar\n",
    "\n",
    "#analisis_total[\"grupo\"] = \"Total\"\n",
    "\n",
    "#total_optimizado = pd.concat([analisis_total, mejores_resultados], ignore_index=True)\n",
    "#total_optimizado = total_optimizado[[\"grupo\", \"cantidad\", \"med_ing\", \"ev_med_ingreso\"]]"
   ]
  },
  {
   "cell_type": "code",
   "execution_count": null,
   "id": "59cd0fe2",
   "metadata": {},
   "outputs": [],
   "source": [
    "# Mostrar tabla resumida\n",
    "\n",
    "#print(total_optimizado.round(6).to_markdown(index=False))"
   ]
  },
  {
   "cell_type": "code",
   "execution_count": null,
   "id": "9877736c",
   "metadata": {},
   "outputs": [],
   "source": [
    "# Convertir la lista de identificadores en texto plano"
   ]
  },
  {
   "cell_type": "code",
   "execution_count": null,
   "id": "a87013cd",
   "metadata": {},
   "outputs": [],
   "source": [
    "# Descargamos el dataframe con información de los mejores resultados\n",
    "#df_mejores_resultados = pd.read_excel(\"mejores_resultados.xlsx\")\n",
    "#df_mejores_resultados.head(5)"
   ]
  },
  {
   "cell_type": "code",
   "execution_count": null,
   "id": "3085aa83",
   "metadata": {},
   "outputs": [],
   "source": [
    "# Descargamos el archivo de la nueva encuesta a hogares\n",
    "#df_nueva_encuesta = pd.read_excel(\"nueva_encuesta_situacion_hogar.xlsx\")\n",
    "#df_nueva_encuesta.head(5)"
   ]
  }
 ],
 "metadata": {
  "kernelspec": {
   "display_name": "env",
   "language": "python",
   "name": "python3"
  },
  "language_info": {
   "codemirror_mode": {
    "name": "ipython",
    "version": 3
   },
   "file_extension": ".py",
   "mimetype": "text/x-python",
   "name": "python",
   "nbconvert_exporter": "python",
   "pygments_lexer": "ipython3",
   "version": "3.10.12"
  }
 },
 "nbformat": 4,
 "nbformat_minor": 5
}
